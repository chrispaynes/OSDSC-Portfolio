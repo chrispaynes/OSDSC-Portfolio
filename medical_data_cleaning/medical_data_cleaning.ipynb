{
 "cells": [
  {
   "cell_type": "markdown",
   "id": "181c51b5-f31a-452f-a515-294cf1e188b9",
   "metadata": {},
   "source": [
    "# Environment Setup"
   ]
  },
  {
   "cell_type": "code",
   "execution_count": null,
   "id": "77eda3fa-474a-46c8-a2c2-835fad9750e1",
   "metadata": {
    "tags": []
   },
   "outputs": [],
   "source": [
    "%pip install missingno matplotlib"
   ]
  },
  {
   "cell_type": "code",
   "execution_count": null,
   "id": "2352d72c-7f4f-4e1d-abff-ce6d2ecad42c",
   "metadata": {
    "tags": []
   },
   "outputs": [],
   "source": [
    "import numpy as np\n",
    "import pandas as pd\n",
    "import matplotlib.pyplot as plt\n",
    "import seaborn as sns\n",
    "import missingno as msno\n",
    "from IPython.core.interactiveshell import InteractiveShell\n",
    "from scipy import stats\n",
    "from sklearn.metrics import accuracy_score\n",
    "from sklearn.model_selection import train_test_split\n",
    "from sklearn.svm import SVC\n",
    "from sklearn.feature_selection import VarianceThreshold\n",
    "from sklearn.feature_selection import RFE\n",
    "from sklearn.ensemble import RandomForestRegressor\n",
    "from sklearn.pipeline import Pipeline\n",
    "from sklearn.preprocessing import StandardScaler\n",
    "from sklearn.preprocessing import LabelEncoder\n",
    "from sklearn.decomposition import PCA\n",
    "\n",
    "pd.set_option(\"display.max_columns\", 100)\n",
    "pd.set_option(\"display.max_rows\", 100)\n",
    "# display scientific notation as a float\n",
    "pd.set_option(\"display.float_format\", lambda x: \"%.3f\" % x)\n",
    "custom_params = {\"axes.spines.right\": False, \"axes.spines.top\": False}\n",
    "sns.set_theme(style=\"white\", rc=custom_params, palette=\"Set2\")\n",
    "\n",
    "encodings = {}\n"
   ]
  },
  {
   "cell_type": "code",
   "execution_count": null,
   "id": "4437f87e-dbd1-4d20-92b5-f05c09dec465",
   "metadata": {},
   "outputs": [],
   "source": [
    "import data_cleaning_lib as lib\n"
   ]
  },
  {
   "cell_type": "markdown",
   "id": "2fbd1e50-6be0-432c-af78-7a3408872f91",
   "metadata": {
    "tags": []
   },
   "source": [
    "# Part III: Data Cleaning\n",
    "---"
   ]
  },
  {
   "cell_type": "markdown",
   "id": "133732b9-ee42-4d28-9623-6ab70a1ff2dd",
   "metadata": {},
   "source": [
    "## D1: Cleaning Findings"
   ]
  },
  {
   "cell_type": "code",
   "execution_count": null,
   "id": "f33c9104-26b7-4b66-8cfb-645e281fdf1d",
   "metadata": {},
   "outputs": [],
   "source": [
    "filename = \"./src/Medical Data/medical_raw_data.csv\"\n",
    "df = pd.read_csv(filename)\n",
    "treated_df = df.copy()\n"
   ]
  },
  {
   "cell_type": "markdown",
   "id": "0da0c41f-a115-457c-8a2f-53f37d337e0b",
   "metadata": {},
   "source": [
    "### Duplicate Treatment"
   ]
  },
  {
   "cell_type": "code",
   "execution_count": null,
   "id": "9387667d-0b46-48d0-a85e-887506b8a3cf",
   "metadata": {},
   "outputs": [],
   "source": [
    "treated_df = treated_df.drop_duplicates(subset=[\"Customer_id\", \"Interaction\", \"UID\"])\n",
    "assert treated_df.duplicated(subset=[\"Customer_id\", \"Interaction\", \"UID\"]).sum() == 0\n"
   ]
  },
  {
   "cell_type": "markdown",
   "id": "0b6f53a4-4251-4f2c-b7b9-380d5d458453",
   "metadata": {},
   "source": [
    "### Missing Value Treatment"
   ]
  },
  {
   "cell_type": "code",
   "execution_count": null,
   "id": "75ad74be-b840-48ae-8f92-448ca7cd495e",
   "metadata": {},
   "outputs": [],
   "source": [
    "null_df = treated_df.isnull().sum()\n",
    "null_counts_df = null_df[null_df > 0].sort_values(ascending=False)\n",
    "\n",
    "# store the list of column names with missing values\n",
    "missing_cols = null_counts_df.index\n",
    "\n",
    "null_counts_df\n"
   ]
  },
  {
   "cell_type": "markdown",
   "id": "514401a4-d8db-48d4-8d5c-f14f09e58262",
   "metadata": {},
   "source": [
    "#### Children Imputation Comps"
   ]
  },
  {
   "cell_type": "code",
   "execution_count": null,
   "id": "b578b47d-4321-4c5e-aafa-6ff05865b64c",
   "metadata": {},
   "outputs": [],
   "source": [
    "n = 100\n",
    "col = \"Children\"\n",
    "imp_df = df[col].head(n)\n",
    "\n",
    "imputations = {\n",
    "    f\"Untreated {col}\": imp_df,\n",
    "    # f\"BFILL (next observed value) {col} Imputation\": imp_df.fillna(method=\"bfill\"),\n",
    "    # f\"FFILL (last observed value) {col} Imputation\": imp_df.fillna(method=\"ffill\"),\n",
    "    f\"MODE {col} Imputation\": imp_df.fillna(df[col].mode()[0]),\n",
    "    f\"MEAN {col} Imputation\": imp_df.fillna(df[col].mean()),\n",
    "    f\"MEDIAN {col} Imputation\": imp_df.fillna(df[col].median()),\n",
    "    f\"CONSTANT (0) {col} Imputation\": imp_df.fillna(0),\n",
    "    # f\"Nearest Observable Value Imputation\": imp_df.interpolate(method=\"nearest\"),\n",
    "    # f\"Quadratic Imputation\": imp_df.interpolate(method=\"quadratic\"),\n",
    "    # f\"Linear Imputation\": imp_df.interpolate(method=\"linear\"),\n",
    "}\n",
    "\n",
    "fig, axes = plt.subplots(len(imputations), 1, figsize=(30, 40))\n",
    "\n",
    "for ax, (k, v) in zip(axes, imputations.items()):\n",
    "    _ = v.plot(title=k, color=\"red\", marker=\"o\", linestyle=\"dotted\", ax=ax)\n",
    "    _ = df[col].head(n).plot(marker=\"o\", ax=ax)\n"
   ]
  },
  {
   "cell_type": "markdown",
   "id": "d9e45e1f-9a33-4b9c-9570-cc5b33d82889",
   "metadata": {
    "tags": []
   },
   "source": [
    "#### Age Imputation Comps"
   ]
  },
  {
   "cell_type": "code",
   "execution_count": null,
   "id": "65926c50-f3f4-4b2a-a141-d02d505cb561",
   "metadata": {},
   "outputs": [],
   "source": [
    "n = 1000\n",
    "col = \"Age\"\n",
    "imp_df = df[col].head(n)\n",
    "\n",
    "imputations = {\n",
    "    f\"Untreated {col}\": imp_df,\n",
    "    f\"MEAN {col} Imputation\": imp_df.fillna(df[col].mean()),\n",
    "    f\"MEDIAN {col} Imputation\": imp_df.fillna(df[col].median()),\n",
    "}\n",
    "\n",
    "fig, axes = plt.subplots(len(imputations), 1, figsize=(30, 40))\n",
    "\n",
    "for ax, (k, v) in zip(axes, imputations.items()):\n",
    "    _ = v.plot(title=k, color=\"red\", marker=\".\", linestyle=\"dotted\", ax=ax)\n",
    "    _ = df[col].head(n).plot(marker=\".\", ax=ax)\n"
   ]
  },
  {
   "cell_type": "markdown",
   "id": "11ef7d90-9f6f-447d-9fe5-4e52830df643",
   "metadata": {
    "tags": []
   },
   "source": [
    "#### Initial_days Imputation Comps"
   ]
  },
  {
   "cell_type": "code",
   "execution_count": null,
   "id": "ea0c118d-4127-40fa-9ead-49e23483f150",
   "metadata": {
    "tags": []
   },
   "outputs": [],
   "source": [
    "col = \"Initial_days\"\n",
    "rows = range(4800, 5200)\n",
    "imp_df = df[col].loc[rows]\n",
    "\n",
    "imputations = {\n",
    "    f\"Untreated {col}\": imp_df,\n",
    "    f\"MODE {col} Imputation\": imp_df.fillna(df[col].mode()[0]),\n",
    "    f\"MEAN {col} Imputation\": imp_df.fillna(df[col].mean()),\n",
    "    f\"MEDIAN {col} Imputation\": imp_df.fillna(df[col].median()),\n",
    "}\n",
    "\n",
    "fig, axes = plt.subplots(len(imputations), 1, figsize=(30, 70))\n",
    "\n",
    "for ax, (k, v) in zip(axes, imputations.items()):\n",
    "    _ = v.plot(title=k, color=\"red\", marker=\"o\", linestyle=\"dotted\", ax=ax)\n",
    "    _ = df[col].loc[rows].plot(marker=\"o\", ax=ax)\n"
   ]
  },
  {
   "cell_type": "markdown",
   "id": "2a076d2d-cee2-4053-a630-717f06f4e274",
   "metadata": {
    "tags": []
   },
   "source": [
    "#### Imputations"
   ]
  },
  {
   "cell_type": "code",
   "execution_count": null,
   "id": "6cfefd13-0bed-4ab2-b498-d5eebaa53efd",
   "metadata": {},
   "outputs": [],
   "source": [
    "# uniform and multimodal distributions (mean)\n",
    "for col in [\"Age\", \"Initial_days\"]:\n",
    "    treated_df[col] = df[col].fillna(df[col].mean())\n",
    "\n",
    "# skewed distributions (median)\n",
    "for col in [\"Income\"]:\n",
    "    treated_df[col] = df[col].fillna(df[col].median())\n",
    "\n",
    "# binomial distributions (mode)\n",
    "for col in [\"Anxiety\", \"Overweight\"]:\n",
    "    treated_df[col] = df[col].fillna(df[col].mode()[0])\n",
    "\n",
    "# Use Constant Value\n",
    "treated_df.loc[treated_df[\"Soft_drink\"].isnull(), [\"Soft_drink\"]] = \"No\"\n",
    "treated_df.loc[treated_df[\"Children\"].isnull(), [\"Children\"]] = 0\n"
   ]
  },
  {
   "cell_type": "markdown",
   "id": "a9c79f82-468a-48a0-aa0e-9d1699afc019",
   "metadata": {},
   "source": [
    "### Verify Missing Value Imputation"
   ]
  },
  {
   "cell_type": "code",
   "execution_count": null,
   "id": "dfe96e7c-3c32-40be-b5b5-a145ecda9259",
   "metadata": {},
   "outputs": [],
   "source": [
    "nan_df = treated_df.isnull().sum()\n",
    "\n",
    "if nan_df.sum() != 0:\n",
    "    raise AssertionError(f\"NaN values still exist in the dataset\\n{nan_df[nan_df > 0]}\")\n",
    "else:\n",
    "    print(\"No remaining missing values\")\n"
   ]
  },
  {
   "cell_type": "markdown",
   "id": "3e0bd7ee-7270-406c-9f51-35ce2ab70679",
   "metadata": {},
   "source": [
    "### Compare Treated and Untreated Data Summaries"
   ]
  },
  {
   "cell_type": "code",
   "execution_count": null,
   "id": "bd27fddf-6e71-4f0f-bae7-fec58a47a366",
   "metadata": {},
   "outputs": [],
   "source": [
    "fig, axes = plt.subplots(len(missing_cols), 1, figsize=(30, 15))\n",
    "rows = range(4900, 5100)\n",
    "\n",
    "for ax, col in zip(axes, missing_cols):\n",
    "    try:\n",
    "        _ = data = df[col].loc[rows].plot(title=f\"Untreated {col}\", color=\"blue\", ax=ax)\n",
    "        _ = sns.lineplot(\n",
    "            data=treated_df[col].loc[rows],\n",
    "            color=\"red\",\n",
    "            marker=\"o\",\n",
    "            linestyle=\"dotted\",\n",
    "            ax=ax,\n",
    "        )\n",
    "    except TypeError:\n",
    "        # display non-numeric data in a bar chart\n",
    "        _ = (\n",
    "            treated_df[col]\n",
    "            .loc[rows]\n",
    "            .value_counts()\n",
    "            .plot(\n",
    "                title=f\"Treated {col}\",\n",
    "                kind=\"bar\",\n",
    "                color=\"red\",\n",
    "                linestyle=\"dotted\",\n",
    "                ax=ax,\n",
    "            )\n",
    "        )\n",
    "        _ = df[col].loc[rows].value_counts().plot(color=\"blue\", kind=\"bar\", ax=ax)\n",
    "        pass\n",
    "\n",
    "    # compare Treated and Untreated data descriptions\n",
    "    pd.DataFrame(\n",
    "        {\n",
    "            f\"Untreated {col}\": df[col].describe(),\n",
    "            f\"Treated {col}\": treated_df[col].describe(),\n",
    "        }\n",
    "    )\n",
    "\n",
    "fig.tight_layout(pad=0.3)\n"
   ]
  },
  {
   "cell_type": "code",
   "execution_count": null,
   "id": "a7881438-1fcf-4451-8aba-132955235d08",
   "metadata": {},
   "outputs": [],
   "source": [
    "lib.create_boxplots(treated_df)\n"
   ]
  },
  {
   "cell_type": "markdown",
   "id": "6022dd43-cc22-450a-862e-c82fd9b8c99c",
   "metadata": {},
   "source": [
    "### Outlier Treatment"
   ]
  },
  {
   "cell_type": "code",
   "execution_count": null,
   "id": "7ac7cd10-9804-4f33-a738-335ba09d5b96",
   "metadata": {
    "tags": []
   },
   "outputs": [],
   "source": [
    "# numerical columns with notable outliers outliers are allowed on columns not listed here\n",
    "z_score_cols = [\n",
    "    \"Children\",\n",
    "    \"VitD_levels\",\n",
    "    \"Full_meals_eaten\",\n",
    "    \"VitD_supp\",\n",
    "    \"TotalCharge\",\n",
    "    \"Additional_charges\",\n",
    "]\n",
    "\n",
    "treated_df[\"Children\"].value_counts()\n"
   ]
  },
  {
   "cell_type": "code",
   "execution_count": null,
   "id": "ead05b7e-96cd-437d-b00d-540a92190904",
   "metadata": {
    "tags": []
   },
   "outputs": [],
   "source": [
    "lib.create_boxplots(treated_df)\n"
   ]
  },
  {
   "cell_type": "markdown",
   "id": "2048bb8c-e74b-4a76-a2bb-a857c7cb576a",
   "metadata": {
    "tags": []
   },
   "source": [
    "#### VitD_levels Outlier Exploration"
   ]
  },
  {
   "cell_type": "code",
   "execution_count": null,
   "id": "817701c6-2b77-470c-98f5-09ca43c1c92c",
   "metadata": {},
   "outputs": [],
   "source": [
    "# pd.set_option('display.max_rows', None)\n",
    "# determine what correlation exists between Gender and VitD_levels\n",
    "pd.DataFrame(\n",
    "    treated_df[treated_df[\"Gender\"] == \"Prefer not to answer\"][\n",
    "        [\"VitD_levels\", \"Gender\", \"Age\"]\n",
    "    ]\n",
    "    .round()\n",
    "    .sort_values(ascending=False, by=[\"VitD_levels\", \"Age\"])\n",
    ").head(10)\n",
    "\n",
    "# determine what the average VitD_levels are by Gender and Age\n",
    "treated_df[[\"VitD_levels\", \"Gender\", \"Age\"]].round().groupby([\"Gender\", \"Age\"]).agg(\n",
    "    {\"VitD_levels\": \"mean\"}\n",
    ").sort_values(\"VitD_levels\")\n",
    "\n",
    "# determine what correlation exists between Gender and VitD_levels\n",
    "vitd_df = df.copy()\n",
    "vitd_df[\"Gender\"] = df[\"Gender\"].map(\n",
    "    {\"Prefer not to answer\": 0, \"Male\": 1, \"Female\": 2}\n",
    ")\n",
    "vitd_df.corr()[\"VitD_levels\"].sort_values(ascending=False)\n"
   ]
  },
  {
   "cell_type": "markdown",
   "id": "c139c97e-a30f-4e5f-8a9f-066f297bf5ed",
   "metadata": {},
   "source": [
    "#### VitD_levels Outlier Treatment"
   ]
  },
  {
   "cell_type": "code",
   "execution_count": null,
   "id": "a0e2562c-04cb-4078-a5f8-aad2f7c4b86a",
   "metadata": {},
   "outputs": [],
   "source": [
    "# no treatment - retaining existing values\n"
   ]
  },
  {
   "cell_type": "markdown",
   "id": "fa2e4d2b-4e1a-4a4d-b9a0-f48e236c33ef",
   "metadata": {},
   "source": [
    "#### Children Outlier Exploration"
   ]
  },
  {
   "cell_type": "code",
   "execution_count": null,
   "id": "183fb791-af2f-4149-a952-614a21414487",
   "metadata": {},
   "outputs": [],
   "source": [
    "lib.create_hist_and_boxplots(df, \"Children\")\n"
   ]
  },
  {
   "cell_type": "markdown",
   "id": "9ebc69c7-c90f-4ab5-a8cb-b2bd4c9b7ea9",
   "metadata": {},
   "source": [
    "#### Children Outlier Treatment"
   ]
  },
  {
   "cell_type": "code",
   "execution_count": null,
   "id": "086cb08d-a77e-4833-9438-4743d24497e3",
   "metadata": {},
   "outputs": [],
   "source": [
    "col = \"Children\"\n",
    "\n",
    "children_z_df = abs(stats.zscore(df[col], nan_policy=\"omit\"))\n",
    "pd.DataFrame(df[children_z_df > 3][col].value_counts())\n",
    "\n",
    "treated_df[col] = treated_df[col].astype(\"int\")\n",
    "\n",
    "# store maximum number of children that is a nonoutlier\n",
    "max_num_children = df[children_z_df < 3][col].max()\n",
    "\n",
    "# set the Children outliers to the max nonoutlier\n",
    "treated_df.loc[treated_df[col] > max_num_children, col] = max_num_children\n",
    "\n",
    "assert treated_df[col].max() == max_num_children\n",
    "\n",
    "lib.create_hist_and_boxplots(df, col)\n",
    "lib.create_hist_and_boxplots(treated_df, col)\n"
   ]
  },
  {
   "cell_type": "markdown",
   "id": "3943e8c7-ba1b-4c72-8717-bc0b8a91f643",
   "metadata": {},
   "source": [
    "#### Full_meals_eaten Outlier Exploration"
   ]
  },
  {
   "cell_type": "code",
   "execution_count": null,
   "id": "98985906-7e70-4797-9e39-07d0f5133272",
   "metadata": {},
   "outputs": [],
   "source": [
    "lib.create_hist_and_boxplots(df, \"Full_meals_eaten\")\n"
   ]
  },
  {
   "cell_type": "markdown",
   "id": "5d2cd21a-046c-497e-a096-97dc01bf5bfb",
   "metadata": {},
   "source": [
    "#### Full_meals_eaten Outlier Treatment"
   ]
  },
  {
   "cell_type": "code",
   "execution_count": null,
   "id": "f6607816-06ca-4384-b42b-a4ef241aa4f6",
   "metadata": {},
   "outputs": [],
   "source": [
    "col = \"Full_meals_eaten\"\n",
    "\n",
    "meals_z_df = abs(stats.zscore(df[col], nan_policy=\"omit\"))\n",
    "pd.DataFrame(df[meals_z_df > 3][col].value_counts())\n",
    "\n",
    "treated_df[col] = treated_df[col].astype(\"int\")\n",
    "\n",
    "# store maximum number of children that is a nonoutlier\n",
    "max_num_meals = df[children_z_df < 3][col].max()\n",
    "med_num_meals = df[col].median()\n",
    "\n",
    "# set the meals eaten outliers to the median value\n",
    "treated_df.loc[meals_z_df > 3, col] = med_num_meals\n",
    "\n",
    "assert treated_df[col].max() <= max_num_meals\n"
   ]
  },
  {
   "cell_type": "code",
   "execution_count": null,
   "id": "b90560a7-66a4-4036-beae-1f9bf49b6b80",
   "metadata": {},
   "outputs": [],
   "source": [
    "lib.create_hist_and_boxplots(df, \"Full_meals_eaten\")\n",
    "lib.create_hist_and_boxplots(treated_df, \"Full_meals_eaten\")\n"
   ]
  },
  {
   "cell_type": "markdown",
   "id": "f2973782-c945-4057-b0d9-4994afc48e12",
   "metadata": {},
   "source": [
    "### Re-Expression Categories Treatment"
   ]
  },
  {
   "cell_type": "code",
   "execution_count": null,
   "id": "40abe96e-9e7c-42fe-8408-b9cac3f2e5ac",
   "metadata": {},
   "outputs": [],
   "source": [
    "# convert categorical string values to category data type\n",
    "\n",
    "# convert \"Soft_drink\" nan's to 'No'\n",
    "treated_df.loc[df[\"Soft_drink\"].isna(), \"Soft_drink\"] = \"No\"\n",
    "\n",
    "# convert \"Overweight\" float64's to Yes/No bools\n",
    "treated_df[\"Overweight\"] = treated_df[\"Overweight\"].map(\n",
    "    {np.nan: \"No\", 0: \"No\", \"No\": \"No\", 1: \"Yes\", \"Yes\": \"Yes\"}\n",
    ")\n",
    "\n",
    "treated_df[\"Anxiety\"] = treated_df[\"Anxiety\"].map(\n",
    "    {np.nan: \"No\", 0: \"No\", \"No\": \"No\", 1: \"Yes\", \"Yes\": \"Yes\"}\n",
    ")\n",
    "\n",
    "# validate a value exists for each row\n",
    "assert len(treated_df[\"Soft_drink\"].isna().index) == len(treated_df.index)\n",
    "\n",
    "# categorical columns and potential categorical columns\n",
    "ctg_cols = [\n",
    "    \"Anxiety\",\n",
    "    \"Area\",\n",
    "    \"Timezone\",\n",
    "    \"Employment\",\n",
    "    \"Education\",\n",
    "    \"Marital\",\n",
    "    \"Gender\",\n",
    "    \"ReAdmis\",\n",
    "    \"Soft_drink\",\n",
    "    \"Initial_admin\",\n",
    "    \"HighBlood\",\n",
    "    \"Stroke\",\n",
    "    \"Complication_risk\",\n",
    "    \"Overweight\",\n",
    "    \"Arthritis\",\n",
    "    \"Diabetes\",\n",
    "    \"Hyperlipidemia\",\n",
    "    \"BackPain\",\n",
    "    \"Allergic_rhinitis\",\n",
    "    \"Reflux_esophagitis\",\n",
    "    \"Asthma\",\n",
    "    \"Services\",\n",
    "]\n",
    "\n",
    "for col in ctg_cols:\n",
    "    # print(treated_df[col].unique())\n",
    "    print(f\"--- COLUMN: '{col}' ---\")\n",
    "    # sort the unique values and print 1 value per line\n",
    "    # print(*np.sort(df[col].unique()), sep='\\n', end=\"\\n\\n\")\n",
    "\n",
    "    # convert column to a category\n",
    "    treated_df[col] = treated_df[col].astype(\"category\")\n",
    "\n",
    "    # confirm the values successfully converted\n",
    "    assert treated_df[col].dtype == \"category\"\n",
    "\n",
    "    # report categorical counts\n",
    "    print(treated_df[col].value_counts())\n",
    "\n",
    "ctg_cols = treated_df.select_dtypes(\"category\").columns\n"
   ]
  },
  {
   "cell_type": "code",
   "execution_count": null,
   "id": "aaa30d1c",
   "metadata": {},
   "outputs": [],
   "source": [
    "lib.plot_categorical_counts(treated_df, ctg_cols)\n"
   ]
  },
  {
   "cell_type": "code",
   "execution_count": null,
   "id": "8fb0cf84-8bfc-4690-8bd6-da2d6cf8bea6",
   "metadata": {},
   "outputs": [],
   "source": [
    "if treated_df.columns[treated_df.dtypes == \"category\"].any():\n",
    "    category_df = treated_df.copy()\n",
    "    encodings, encoded_df, ctg_cols = lib.create_category_encodings(category_df)\n",
    "    treated_df = encoded_df\n",
    "else:\n",
    "    print(\"categories are already encoded\")\n",
    "\n",
    "# ctg_cols\n",
    "lib.plot_categorical_counts(\n",
    "    treated_df,\n",
    "    [\n",
    "        \"Area\",\n",
    "        \"Timezone\",\n",
    "        \"Education\",\n",
    "        \"Employment\",\n",
    "        \"Marital\",\n",
    "        \"Gender\",\n",
    "        \"ReAdmis\",\n",
    "        \"Soft_drink\",\n",
    "        \"Initial_admin\",\n",
    "        \"HighBlood\",\n",
    "        \"Stroke\",\n",
    "        \"Complication_risk\",\n",
    "        \"Overweight\",\n",
    "        \"Arthritis\",\n",
    "        \"Diabetes\",\n",
    "        \"Hyperlipidemia\",\n",
    "        \"BackPain\",\n",
    "        \"Anxiety\",\n",
    "        \"Allergic_rhinitis\",\n",
    "        \"Reflux_esophagitis\",\n",
    "        \"Asthma\",\n",
    "        \"Services\",\n",
    "    ],\n",
    ")\n"
   ]
  },
  {
   "cell_type": "markdown",
   "id": "0c15c656-95e4-43d8-8234-b72ff5a6bb94",
   "metadata": {
    "tags": []
   },
   "source": [
    "### Other Data Cleaning Treatment"
   ]
  },
  {
   "cell_type": "markdown",
   "id": "e9036991",
   "metadata": {},
   "source": [
    "#### Drop 'Unnamed: 0' column"
   ]
  },
  {
   "cell_type": "code",
   "execution_count": null,
   "id": "973e5842-cddd-41c4-b5e7-9449c88e1ead",
   "metadata": {},
   "outputs": [],
   "source": [
    "# trimwhite space from string columns\n",
    "str_cols = treated_df.select_dtypes(\"object\")\n",
    "treated_df[str_cols.columns] = str_cols.apply(lambda s: s.str.strip())\n"
   ]
  },
  {
   "cell_type": "code",
   "execution_count": null,
   "id": "f625c38d-2bba-4cf5-baf4-20616960c997",
   "metadata": {},
   "outputs": [],
   "source": [
    "# Verify these columns are the same, if so drop the \"Unnamed: 0\" column\n",
    "if \"Unnamed: 0\" in treated_df.columns and treated_df[\"Unnamed: 0\"].equals(\n",
    "    treated_df[\"CaseOrder\"]\n",
    "):\n",
    "    print(\"Dropping 'Unnamed: 0' column\")\n",
    "    treated_df = treated_df.drop(columns=\"Unnamed: 0\", axis=1)\n"
   ]
  },
  {
   "cell_type": "markdown",
   "id": "a531b5cf",
   "metadata": {},
   "source": [
    "#### Round Age and Children Values"
   ]
  },
  {
   "cell_type": "code",
   "execution_count": null,
   "id": "0c88cae4",
   "metadata": {},
   "outputs": [],
   "source": [
    "treated_df[\"Age\"] = treated_df[\"Age\"].astype(\"int\")\n",
    "assert treated_df[\"Age\"].dtype == \"int\"\n"
   ]
  },
  {
   "cell_type": "code",
   "execution_count": null,
   "id": "0f63ded1-012e-4623-a8ea-522bdf589520",
   "metadata": {},
   "outputs": [],
   "source": [
    "treated_df[\"Children\"] = treated_df[\"Children\"].astype(\"int\")\n",
    "assert treated_df[\"Children\"].dtype == \"int\"\n"
   ]
  },
  {
   "cell_type": "markdown",
   "id": "665a217e-73f4-4e6e-ae33-c98fca972e0b",
   "metadata": {},
   "source": [
    "## D2: Justification of Mitigation Methods"
   ]
  },
  {
   "cell_type": "markdown",
   "id": "26961cab-1b15-4fd0-9c2b-b809041e5baa",
   "metadata": {},
   "source": [
    "## D3: Summary of the Outcomes"
   ]
  },
  {
   "cell_type": "code",
   "execution_count": null,
   "id": "6e435e0f-6c57-4654-848e-f62a979b2dac",
   "metadata": {},
   "outputs": [],
   "source": [
    "_ = treated_df.hist(figsize=(25, 25))\n"
   ]
  },
  {
   "cell_type": "markdown",
   "id": "295343c8-6f48-4ab7-a106-98e059238311",
   "metadata": {},
   "source": [
    "## D4: Mitigation Code "
   ]
  },
  {
   "cell_type": "code",
   "execution_count": null,
   "id": "1e9c1b48-3bf7-40a8-9640-ea287e8614e5",
   "metadata": {},
   "outputs": [],
   "source": [
    "treated_df.to_csv(\"clean_data.csv\", index=False)\n",
    "lib.write_encodings_csv(encodings)\n"
   ]
  },
  {
   "cell_type": "code",
   "execution_count": null,
   "id": "31607b4b-6ce1-4e71-ad57-1ea22bbbfd0f",
   "metadata": {},
   "outputs": [],
   "source": [
    "# example decode an encoded value by feature name and encoded value\n",
    "encodings[\"Complication_risk\"].inverse_transform([2])\n"
   ]
  },
  {
   "cell_type": "markdown",
   "id": "238217fe-2281-4876-8e3b-08a55c1e6a61",
   "metadata": {},
   "source": [
    "## D5: Clean Data"
   ]
  },
  {
   "cell_type": "markdown",
   "id": "a68ff114-c4e9-4bc7-a7b9-b2296eaf7174",
   "metadata": {},
   "source": [
    "## D6: Limitations"
   ]
  },
  {
   "cell_type": "markdown",
   "id": "507976a5-b124-48c8-82a3-3fb4e84acc90",
   "metadata": {},
   "source": [
    "## D7: Impact of the Limitations"
   ]
  },
  {
   "cell_type": "markdown",
   "id": "c31c23ec-4278-4c6b-a618-4cc388fe4971",
   "metadata": {},
   "source": [
    "## E1. Principal Components"
   ]
  },
  {
   "cell_type": "code",
   "execution_count": null,
   "id": "8383ea18-ec0f-4bb6-8f06-a5e0a6560f12",
   "metadata": {},
   "outputs": [],
   "source": [
    "pca_df = treated_df.copy()\n",
    "treated_pca_df = treated_df.copy()\n",
    "pca_df.describe(exclude=\"number\")\n",
    "pca_df.shape\n"
   ]
  },
  {
   "cell_type": "markdown",
   "id": "3ffe5a5e-de08-436e-b6d4-ea1a3771cca9",
   "metadata": {},
   "source": [
    "### Correlation Heatmap"
   ]
  },
  {
   "cell_type": "code",
   "execution_count": null,
   "id": "9783eef3-a932-4fdf-8090-39b2fc969263",
   "metadata": {},
   "outputs": [],
   "source": [
    "cmap = sns.diverging_palette(h_neg=10, h_pos=240, as_cmap=True)\n",
    "fig, ax = plt.subplots(figsize=(25, 10))\n",
    "corr_df = pca_df.corr()\n",
    "\n",
    "# mask part of the matrix\n",
    "mask = np.zeros_like(corr_df)\n",
    "mask[np.triu_indices_from(mask)] = True\n",
    "\n",
    "_ = sns.heatmap(\n",
    "    corr_df,\n",
    "    center=0,\n",
    "    cmap=cmap,\n",
    "    annot=True,\n",
    "    fmt=\".1f\",\n",
    "    vmin=-1.0,\n",
    "    vmax=1.0,\n",
    "    mask=mask,\n",
    "    linewidths=0.5,\n",
    "    ax=ax,\n",
    ")\n"
   ]
  },
  {
   "cell_type": "code",
   "execution_count": null,
   "id": "d265be06-2bde-4baa-b767-5b91c0d7c79a",
   "metadata": {},
   "outputs": [],
   "source": [
    "# store the string columns in a separate dataframe\n",
    "str_cols = treated_df.select_dtypes(\"object\")\n",
    "str_cols.columns\n",
    "\n",
    "# drop the string columns\n",
    "treated_pca_df = treated_pca_df.drop(str_cols.columns, axis=1, errors=\"ignore\")\n",
    "treated_pca_df.shape\n"
   ]
  },
  {
   "cell_type": "code",
   "execution_count": null,
   "id": "a1937f4a-0cdd-46f0-b765-122902418f24",
   "metadata": {},
   "outputs": [],
   "source": [
    "treated_pca_df.var().sort_values(ascending=False).head(15)\n"
   ]
  },
  {
   "cell_type": "code",
   "execution_count": null,
   "id": "5dc5ff3f-186a-4e9e-99a6-85299781c2f7",
   "metadata": {},
   "outputs": [],
   "source": [
    "patient_features = [\n",
    "    \"Additional_charges\",\n",
    "    \"Full_meals_eaten\",\n",
    "    \"Complication_risk\",\n",
    "    \"Children\",\n",
    "    \"Education\",\n",
    "    \"Doc_visits\",\n",
    "    \"Zip\",\n",
    "    \"Lng\",\n",
    "    \"Lat\",\n",
    "    \"Population\",\n",
    "    \"Timezone\",\n",
    "    \"Services\",\n",
    "    \"ReAdmis\",\n",
    "    \"Initial_admin\",\n",
    "    \"Initial_days\",\n",
    "    \"TotalCharge\",\n",
    "    \"Age\",\n",
    "    \"VitD_levels\",\n",
    "    \"HighBlood\",\n",
    "    \"Item1\",\n",
    "    \"Item2\",\n",
    "    \"Item3\",\n",
    "    \"Item4\",\n",
    "    \"Item5\",\n",
    "    \"Item6\",\n",
    "    \"Item7\",\n",
    "    \"Item8\",\n",
    "]\n",
    "\n",
    "treated_pca_df[patient_features].var()\n"
   ]
  },
  {
   "cell_type": "code",
   "execution_count": null,
   "id": "8e650a19-db61-4e01-a971-184c3bef945b",
   "metadata": {},
   "outputs": [],
   "source": [
    "# create a dataframe using a subset of numerical features\n",
    "treated_pca_feats_df = treated_pca_df[patient_features].copy()\n"
   ]
  },
  {
   "cell_type": "code",
   "execution_count": null,
   "id": "dd4be13b-f719-4cf6-922d-37f29f9aa384",
   "metadata": {},
   "outputs": [],
   "source": [
    "from sklearn.feature_selection import VarianceThreshold\n",
    "\n",
    "vt_df = treated_pca_feats_df.copy()\n",
    "\n",
    "# Feature selector that removes all low-variance features based on a variance threshold.\n",
    "sel = VarianceThreshold(threshold=0.75)\n",
    "\n",
    "sel.fit_transform(vt_df)\n",
    "# sel.fit_transform(vt_df / vt_df.mean())\n",
    "# boolean array of shape [# input features], where an element is True if its corresponding feature is selected for retention.\n",
    "mask = sel.get_support()\n",
    "\n",
    "# retained columns\n",
    "retain_cols = vt_df.loc[:, mask].columns\n",
    "\n",
    "# dropped columns\n",
    "drop_cols = vt_df.loc[:, ~mask].columns\n",
    "\n",
    "pd.DataFrame({\"retained\": retain_cols})\n",
    "pd.DataFrame({\"dropped fields\": drop_cols})\n"
   ]
  },
  {
   "cell_type": "markdown",
   "id": "e841398e-7574-4d90-9b04-5802c9a07311",
   "metadata": {},
   "source": [
    "#### An optimal number of components"
   ]
  },
  {
   "cell_type": "code",
   "execution_count": null,
   "id": "588049bc-1ad7-44e8-9cd0-7402a2f12675",
   "metadata": {},
   "outputs": [],
   "source": [
    "pipe = Pipeline([(\"scaler\", StandardScaler()), (\"reducer\", PCA())])\n",
    "\n",
    "pipe.fit(treated_pca_feats_df)\n",
    "pca = pipe.steps[1][1]\n",
    "num_components = len(pca.components_)\n",
    "var = pipe.steps[1][1].explained_variance_ratio_\n",
    "\n",
    "fig, axs = plt.subplots(1, 1, figsize=(15, 5))\n",
    "axs.set_title(\"scree plot graph\")\n",
    "sns.lineplot(data=var, ax=axs)\n",
    "\n",
    "plt.xlabel(\"Principal component\")\n",
    "plt.ylabel(\"Explained variance ratio\")\n",
    "plt.xticks(np.arange(0, num_components, 1))\n",
    "\n",
    "plt.show()\n"
   ]
  },
  {
   "cell_type": "code",
   "execution_count": null,
   "id": "cef8477b-09f1-4a70-b223-4d443b4a581a",
   "metadata": {},
   "outputs": [],
   "source": [
    "print(pca.explained_variance_ratio_.cumsum())\n"
   ]
  },
  {
   "cell_type": "markdown",
   "id": "756f5db7-d5e6-4c39-8a91-5866f4194182",
   "metadata": {},
   "source": [
    "#### Loadings Table"
   ]
  },
  {
   "cell_type": "code",
   "execution_count": null,
   "id": "a25f229f-fa75-4327-9bf7-6903d565c8c8",
   "metadata": {},
   "outputs": [],
   "source": [
    "# create dataframe from principal components\n",
    "# correlation coefficients between the features and the principal components\n",
    "loadings = pd.DataFrame(\n",
    "    pca.components_.T,\n",
    "    columns=[f\"PC{i}\" for i in range(1, num_components + 1)],\n",
    "    index=treated_pca_feats_df.columns,\n",
    ")\n",
    "loadings\n"
   ]
  },
  {
   "cell_type": "markdown",
   "id": "d50f9165-635b-4783-b18b-175e7d413d19",
   "metadata": {},
   "source": [
    "## E2. Criteria Used"
   ]
  },
  {
   "cell_type": "code",
   "execution_count": null,
   "id": "3c6ea3e3-c72b-4fbb-8cc7-b6ad0e463a9f",
   "metadata": {},
   "outputs": [],
   "source": [
    "test_pca_normalized = StandardScaler().fit_transform(treated_pca_feats_df)\n",
    "\n",
    "cov_matrix = np.dot(\n",
    "    test_pca_normalized.T, test_pca_normalized / treated_pca_feats_df.shape[0]\n",
    ")\n",
    "\n",
    "eigenvalues = [\n",
    "    np.dot(eigenvector.T, np.dot(cov_matrix, eigenvector))\n",
    "    for eigenvector in pca.components_\n",
    "]\n",
    "\n",
    "plt.figure(figsize=(15, 5))\n",
    "\n",
    "plt.plot(eigenvalues, linewidth=2)\n",
    "plt.xticks(np.arange(0, treated_pca_feats_df.shape[1], 1))\n",
    "plt.axhline(y=1, color=\"gray\", linestyle=\"--\")\n",
    "plt.xlabel(\"Principal component index\")\n",
    "plt.ylabel(\"Explained variance ratio\")\n",
    "\n",
    "treated_pca_feats_df.shape[1]\n",
    "cs = pca.explained_variance_ratio_.cumsum()\n",
    "evs = np.array(eigenvalues)\n",
    "num_pcs_to_use = len(evs[evs >= 1])\n",
    "\n",
    "# The Kaiser rule: drop all components with eigenvalues < 1.0\n",
    "print(f\"Based on the Kaiser Rule, we'll keep the first {num_pcs_to_use} PCs\")\n"
   ]
  },
  {
   "cell_type": "markdown",
   "id": "1661a401-bdcd-4522-8af6-1033fc1758a4",
   "metadata": {},
   "source": [
    "## E3. Benefits"
   ]
  },
  {
   "cell_type": "markdown",
   "id": "54e94716-3e46-4bbf-a875-498597978d36",
   "metadata": {
    "toc-hr-collapsed": true
   },
   "source": [
    "# Part IV. Supporting Documents\n",
    "---"
   ]
  },
  {
   "cell_type": "markdown",
   "id": "d648965b-3a9b-4d1e-b577-2e316fd3f367",
   "metadata": {},
   "source": [
    "## F. Video"
   ]
  },
  {
   "cell_type": "markdown",
   "id": "57872abd-6c95-493c-8829-3a515cba1a67",
   "metadata": {},
   "source": [
    "## G. Web Sources"
   ]
  },
  {
   "cell_type": "markdown",
   "id": "e21bcf7b-709a-4e17-acc5-587e37862ced",
   "metadata": {},
   "source": [
    "## H. Sources/References"
   ]
  }
 ],
 "metadata": {
  "kernelspec": {
   "display_name": "Python 3 (ipykernel)",
   "language": "python",
   "name": "python3"
  },
  "language_info": {
   "codemirror_mode": {
    "name": "ipython",
    "version": 3
   },
   "file_extension": ".py",
   "mimetype": "text/x-python",
   "name": "python",
   "nbconvert_exporter": "python",
   "pygments_lexer": "ipython3",
   "version": "3.9.7"
  },
  "toc-autonumbering": false,
  "toc-showcode": false,
  "toc-showmarkdowntxt": false,
  "toc-showtags": false
 },
 "nbformat": 4,
 "nbformat_minor": 5
}
