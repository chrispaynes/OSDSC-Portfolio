{
 "cells": [
  {
   "cell_type": "code",
   "execution_count": null,
   "id": "77eda3fa-474a-46c8-a2c2-835fad9750e1",
   "metadata": {
    "tags": []
   },
   "outputs": [],
   "source": [
    "!pip install missingno"
   ]
  },
  {
   "cell_type": "code",
   "execution_count": null,
   "id": "2352d72c-7f4f-4e1d-abff-ce6d2ecad42c",
   "metadata": {
    "tags": []
   },
   "outputs": [],
   "source": [
    "import numpy as np\n",
    "import pandas as pd\n",
    "import matplotlib.pyplot as plt\n",
    "import seaborn as sns\n",
    "import missingno as msno\n",
    "from IPython.core.interactiveshell import InteractiveShell\n",
    "from scipy import stats\n",
    "from sklearn.metrics import accuracy_score\n",
    "from sklearn.model_selection import train_test_split\n",
    "from sklearn.svm import SVC\n",
    "from sklearn.feature_selection import VarianceThreshold\n",
    "from sklearn.feature_selection import RFE\n",
    "from sklearn.ensemble import RandomForestRegressor\n",
    "from sklearn.pipeline import Pipeline\n",
    "from sklearn.preprocessing import StandardScaler\n",
    "from sklearn.preprocessing import LabelEncoder\n",
    "from sklearn.decomposition import PCA    \n",
    "\n",
    "pd.set_option('display.max_columns', 100)\n",
    "pd.set_option('display.max_rows', 100)\n",
    "# display scientific notation as a float\n",
    "pd.set_option('display.float_format', lambda x: '%.3f' % x)\n",
    "\n",
    "custom_params = {\"axes.spines.right\": False, \"axes.spines.top\": False}\n",
    "sns.set_theme(style=\"white\", rc=custom_params, palette=\"Set2\")\n",
    "\n",
    "encodings = {}"
   ]
  },
  {
   "cell_type": "code",
   "execution_count": 2,
   "id": "9eff11bf-0a20-4889-9104-cecb5bf98d9d",
   "metadata": {},
   "outputs": [],
   "source": [
    "from data_cleaning_lib import (\n",
    "    create_boxplots,\n",
    "    create_hist_and_boxplots,\n",
    "    plot_categorical_counts,\n",
    "    create_category_encodings,\n",
    "    write_encodings_csv,\n",
    "    create_na_mask,\n",
    ")"
   ]
  },
  {
   "cell_type": "markdown",
   "id": "4bd8c4f4-e7af-44f0-ad36-20b5185fd408",
   "metadata": {},
   "source": [
    "# Part 0: Data Exploration"
   ]
  },
  {
   "cell_type": "code",
   "execution_count": null,
   "id": "7570f8b2-162c-4af1-a195-7c0d6f5abc10",
   "metadata": {},
   "outputs": [],
   "source": [
    "filename = \"./src/Medical Data/medical_raw_data.csv\"\n",
    "df = pd.read_csv(filename)"
   ]
  },
  {
   "cell_type": "code",
   "execution_count": null,
   "id": "e1727b21-1ad7-4fe5-b392-cb56399dc709",
   "metadata": {},
   "outputs": [],
   "source": [
    "df.dtypes\n",
    "print(df.shape, end=\"\\n\\n\")\n",
    "print(df.columns, end=\"\\n\\n\")\n",
    "print(df.index, end=\"\\n\\n\")\n",
    "df.info()"
   ]
  },
  {
   "cell_type": "code",
   "execution_count": null,
   "id": "376270d3-4332-4a3d-973b-5b73bb83783a",
   "metadata": {},
   "outputs": [],
   "source": [
    "df.head() "
   ]
  },
  {
   "cell_type": "code",
   "execution_count": null,
   "id": "df6bb3cd-fd09-40d1-8354-3427ab6dcc2b",
   "metadata": {},
   "outputs": [],
   "source": [
    "df.describe()"
   ]
  },
  {
   "cell_type": "markdown",
   "id": "4da503b4-884c-4984-a99e-dc543009ce5e",
   "metadata": {},
   "source": [
    "### Missing Values"
   ]
  },
  {
   "cell_type": "code",
   "execution_count": null,
   "id": "e9e9f477-4c31-40d4-8445-d90c38f4487f",
   "metadata": {},
   "outputs": [],
   "source": [
    "(df.isna().sum()/len(df) * 100).sort_values(ascending=False)"
   ]
  },
  {
   "cell_type": "markdown",
   "id": "dc428ad2-9db8-4dcc-8782-34adcaf603ab",
   "metadata": {},
   "source": [
    "# Part I: Research Question\n",
    "---"
   ]
  },
  {
   "cell_type": "markdown",
   "id": "79a8d3c9-a6d0-476e-861b-84c02fc7aff4",
   "metadata": {
    "tags": []
   },
   "source": [
    "## A. Question or Decision ✅"
   ]
  },
  {
   "cell_type": "markdown",
   "id": "6e768b69-2e20-4308-b266-c516e277f964",
   "metadata": {},
   "source": [
    "**Describe one question or decision that you will address using the data set you chose. The summarized question or decision must be relevant to a realistic organizational need or situation.**\n",
    "\n",
    "To understand where to focus readmission reduction efforts for the Acme Hospital Chain. The Analyst team is tasked with researching what relationship(s) exists between readmitted patients and their Geographical Area type (rural, urban, suburban)?"
   ]
  },
  {
   "cell_type": "markdown",
   "id": "0d83656b-2405-4927-b60f-018d142a3ce1",
   "metadata": {},
   "source": [
    "## B. Required Variables ✅\n",
    "Describe the variables in the data set and indicate the specific type of data being described. Use examples from the data set that support your claims.**"
   ]
  },
  {
   "cell_type": "code",
   "execution_count": null,
   "id": "7f04e3ac-d481-42e2-a3e6-ade7135256fd",
   "metadata": {
    "tags": []
   },
   "outputs": [],
   "source": [
    "# merges datatypes with sample data\n",
    "# see \"D206 Data Cleaning_ Medical Data Considerations and Dictionary\" for feature descriptions\n",
    "df_tp = df.head(1).transpose()\n",
    "\n",
    "# store the value's python data type\n",
    "df_tp[\"Python Data Type\"] = df_tp[0].apply(type)\n",
    "\n",
    "# store the value's pandas data type\n",
    "df_tp[\"Pandas Data Type\"] = df.dtypes\n",
    "\n",
    "# rename cols\n",
    "df_tp = df_tp.reset_index().rename(columns={'index':'Feature', 0: \"Sample Value\"})\n",
    "\n",
    "# reorder columns\n",
    "df_tp.reindex(columns=[\"Feature\", \"Pandas Data Type\", \"Python Data Type\", \"Sample Value\"])"
   ]
  },
  {
   "cell_type": "markdown",
   "id": "8d5f5d40-c407-48be-a747-0904c7ecf86e",
   "metadata": {
    "tags": []
   },
   "source": [
    "# Part II: Data-Cleaning Plan\n",
    "---"
   ]
  },
  {
   "cell_type": "markdown",
   "id": "6ed86249-96c9-490a-957a-36df49e50d4c",
   "metadata": {},
   "source": [
    "Explain the plan for cleaning the data by doing the following:\n",
    " 1. Examine the entire dataset (regardless of your research question).\n",
    " 2. Detection and Treatment of Duplicates, Missing Values and Outlier (check for outliers for all numeric variables).\n",
    " 3. Re express Categorical Variables, if possible (this is optional, but suggested)\n",
    " 4. Perform PCA (with numerical variables only)"
   ]
  },
  {
   "cell_type": "markdown",
   "id": "c83104d1-2e85-4cfb-a827-381ed0d426cc",
   "metadata": {
    "tags": []
   },
   "source": [
    "## C1: Plan to Find Anomalies\n",
    "Propose a plan that includes the relevant techniques and specific steps needed to identify anomalies in the data set."
   ]
  },
  {
   "cell_type": "markdown",
   "id": "0224ea70-bac0-48ce-b1bd-287ac4f4776a",
   "metadata": {},
   "source": [
    "### Understanding the dataset"
   ]
  },
  {
   "cell_type": "code",
   "execution_count": null,
   "id": "0032f9dc-444d-4d55-b5f4-db211b407399",
   "metadata": {},
   "outputs": [],
   "source": [
    "df.shape\n",
    "df.info()"
   ]
  },
  {
   "cell_type": "code",
   "execution_count": null,
   "id": "baf48f24-04f5-4bdd-ab02-c8175863b67d",
   "metadata": {},
   "outputs": [],
   "source": [
    "display(df.columns)\n",
    "display(df.describe())\n",
    "df.head()"
   ]
  },
  {
   "cell_type": "code",
   "execution_count": null,
   "id": "fde0bc38-b506-409c-845d-ce9dd9a2517f",
   "metadata": {},
   "outputs": [],
   "source": [
    "pd.DataFrame(df.isnull().sum().sort_values(ascending=False))"
   ]
  },
  {
   "cell_type": "markdown",
   "id": "4184cd74-8a89-4532-9cd0-0d784db149c9",
   "metadata": {},
   "source": [
    "### Detect Duplicates"
   ]
  },
  {
   "cell_type": "code",
   "execution_count": null,
   "id": "436bd188-6a82-48f9-b81d-d626e3b43950",
   "metadata": {},
   "outputs": [],
   "source": [
    "df[df.duplicated()]"
   ]
  },
  {
   "cell_type": "code",
   "execution_count": null,
   "id": "da207c16-883d-43e9-a53a-8d898b92c1f4",
   "metadata": {
    "tags": []
   },
   "outputs": [],
   "source": [
    "df[df.duplicated(subset=['Customer_id', 'Interaction', 'UID'])]"
   ]
  },
  {
   "cell_type": "code",
   "execution_count": null,
   "id": "b3966d05-deed-455a-ba06-f0f7577705c0",
   "metadata": {},
   "outputs": [],
   "source": [
    "# determine if 'Unnamed: 0' and 'CaseOrder' columns have the same values\n",
    "(df['Unnamed: 0'] == df['CaseOrder']).all()"
   ]
  },
  {
   "cell_type": "markdown",
   "id": "93b19915-a5e7-4b17-88aa-9934ed245df8",
   "metadata": {},
   "source": [
    "### Detect Missing Values"
   ]
  },
  {
   "cell_type": "code",
   "execution_count": null,
   "id": "d3bd5d50-81cb-44b2-adf0-608682059165",
   "metadata": {},
   "outputs": [],
   "source": [
    "# get column names for any columns with missing values\n",
    "missing_cols = df.columns[df.isnull().any()]\n",
    "\n",
    "# create a dataframe of columns with missing values\n",
    "missing_df = df[missing_cols]\n",
    "pct_missing_df = pd.DataFrame()\n",
    "\n",
    "# calculate % missing for columns with missing data\n",
    "pct_missing_df['missing cnt'] = missing_df.isnull().sum()\n",
    "pct_missing_df['missing %'] = ((pct_missing_df['missing cnt'] / len(df.index)) * 100)\n",
    "\n",
    "# sort % missing in descending order\n",
    "pct_missing_df.sort_values(by='missing cnt', ascending=False, axis=0)"
   ]
  },
  {
   "cell_type": "markdown",
   "id": "5fbd8a29-cd6c-4020-9425-6132d12905d8",
   "metadata": {},
   "source": [
    "#### Missing Matrix"
   ]
  },
  {
   "cell_type": "code",
   "execution_count": null,
   "id": "fad8ad0e-aa8b-4ddf-bba2-56506dc103f0",
   "metadata": {},
   "outputs": [],
   "source": [
    "# visualize the dataframe's nullity\n",
    "_ = msno.matrix(missing_df, figsize=(35, 10)) "
   ]
  },
  {
   "cell_type": "markdown",
   "id": "34270584-f7bd-4613-b3ea-946c883f8b23",
   "metadata": {},
   "source": [
    "#### Missing Bar Chart"
   ]
  },
  {
   "cell_type": "code",
   "execution_count": null,
   "id": "e62ec429-19db-4f8d-888e-3b10aa1e4c2b",
   "metadata": {},
   "outputs": [],
   "source": [
    "# bar chart visualization of the dataframe's nullity\n",
    "_ = msno.bar(df, figsize=(25,20), color=\"gray\")"
   ]
  },
  {
   "cell_type": "markdown",
   "id": "028f1e9f-1ebe-43a3-b698-96a09807976b",
   "metadata": {},
   "source": [
    "#### Missing Heatmap"
   ]
  },
  {
   "cell_type": "code",
   "execution_count": null,
   "id": "7b5fc600-445c-4bd1-afe6-721a5426d037",
   "metadata": {},
   "outputs": [],
   "source": [
    "# heatmap visualization of nullity correlation within the DataFrame (displaying 250 records).\n",
    "# -1 indicates if one variable appears then the other variable is very likely to be missing.\n",
    "# 0 indicates there is no dependence between the occurrence of missing values of two variables.\n",
    "# 1 indicates that when one variable appears then the other variable is likely to be present.\n",
    "_ = msno.heatmap(missing_df.loc[:250], figsize=(25,10))"
   ]
  },
  {
   "cell_type": "markdown",
   "id": "ff11555a-5533-4623-abf3-76e248a5e450",
   "metadata": {},
   "source": [
    "#### Missing Dendrogram"
   ]
  },
  {
   "cell_type": "code",
   "execution_count": null,
   "id": "6c980db7-e016-46dc-a275-c49ac2ebdcda",
   "metadata": {},
   "outputs": [],
   "source": [
    "# shows the hierarchical relationship between objects\n",
    "_ = msno.dendrogram(missing_df, orientation='bottom', figsize=(25,5))"
   ]
  },
  {
   "cell_type": "markdown",
   "id": "76f3368b-19ee-4e48-bca9-5f2a41032a58",
   "metadata": {},
   "source": [
    "### Detect Outliers"
   ]
  },
  {
   "cell_type": "markdown",
   "id": "05b346a7-699f-4655-ae15-db5831f5aa39",
   "metadata": {
    "tags": []
   },
   "source": [
    "#### Z-Scores\n",
    "find columns with addressable outliers"
   ]
  },
  {
   "cell_type": "code",
   "execution_count": null,
   "id": "c01d95d9-b752-4b68-94d4-25dedb493a06",
   "metadata": {},
   "outputs": [],
   "source": [
    "def get_zscore_cols(df):\n",
    "    numeric_df = df.select_dtypes(include=['int64', 'float64']).apply(pd.to_numeric)\n",
    "    z_score_df = np.abs(stats.zscore(numeric_df, nan_policy='omit')) > 3\n",
    "    \n",
    "    col_outlier_counts = z_score_df.sum()\n",
    "    # create a dataframe using columns with at least 1 outlier     \n",
    "    outlier_counts_df = col_outlier_counts[col_outlier_counts > 0]\n",
    "\n",
    "    # outlier column names     \n",
    "    return outlier_counts_df.index\n",
    "\n",
    "# numerical columns with notable outliers that we're choosing to ignore\n",
    "ignored_outlier_cols = ['Lat', 'Lng', 'Population', 'Age', 'Income', 'TotalCharge', 'Additional_charges', 'Doc_visits']\n",
    "\n",
    "# store the relevant zscore columns that are important to address\n",
    "z_score_cols = list(set(get_zscore_cols(df)) - set(ignored_outlier_cols))\n",
    "# columns \n",
    "z_score_cols"
   ]
  },
  {
   "cell_type": "markdown",
   "id": "ea2dcc04-9731-4342-b861-743893125e4e",
   "metadata": {},
   "source": [
    "#### store z-score values for addressable columns"
   ]
  },
  {
   "cell_type": "code",
   "execution_count": null,
   "id": "97605af0-4369-4ac6-83c6-3a5cac1bcf64",
   "metadata": {},
   "outputs": [],
   "source": [
    "zscore_df = df[z_score_cols].copy()\n",
    "\n",
    "for col in z_score_cols:\n",
    "    zscore_df[f\"{col}_zscore\"] = stats.zscore(df[col], nan_policy='omit')\n",
    "    # store values where their absolute values exceeds a z-score of > 3\n",
    "    zscore_df.loc[abs(zscore_df[f\"{col}_zscore\"]) > 3, [col, f\"{col}_zscore\"]]\n",
    "    \n",
    "# display zscore values    \n",
    "zscore_df.iloc[:, zscore_df.columns.str.contains(\"zscore\")]"
   ]
  },
  {
   "cell_type": "markdown",
   "id": "fe1ee423-265f-4e20-be85-83720e216fed",
   "metadata": {
    "tags": []
   },
   "source": [
    "#### Boxplots"
   ]
  },
  {
   "cell_type": "code",
   "execution_count": null,
   "id": "9a44a4cb-f660-40ba-868f-c01f2a14d2c9",
   "metadata": {},
   "outputs": [],
   "source": [
    "# create_boxplots(df.loc[:, ~df.columns.isin(['Unnamed: 0', 'CaseOrder'])])        \n",
    "\n",
    "# display boxplots with known and relevant outliers\n",
    "create_boxplots(df[z_score_cols])"
   ]
  },
  {
   "cell_type": "markdown",
   "id": "82aebdb8-ac22-43e2-a021-0e48eeeb6a52",
   "metadata": {},
   "source": [
    "#### Histograms"
   ]
  },
  {
   "cell_type": "code",
   "execution_count": null,
   "id": "98819302-f448-4b14-b2b6-5aa818aa082c",
   "metadata": {},
   "outputs": [],
   "source": [
    "create_histograms(df.loc[:, ~df.columns.isin(['Unnamed: 0', 'CaseOrder'])])"
   ]
  },
  {
   "cell_type": "code",
   "execution_count": null,
   "id": "d59be11c-ab34-4aa8-88a6-4623d7ea2a63",
   "metadata": {},
   "outputs": [],
   "source": [
    "_ = df.hist(layout=(6,5), figsize = (25,15))"
   ]
  },
  {
   "cell_type": "markdown",
   "id": "33a5eb43-6a5d-468d-b7f2-c5cb7caefd82",
   "metadata": {},
   "source": [
    "### Re-Expression Categories\n",
    "convert categorical string values to category data type"
   ]
  },
  {
   "cell_type": "code",
   "execution_count": null,
   "id": "cad7bd9a-85ef-499c-840d-e3dbbffa93dc",
   "metadata": {},
   "outputs": [],
   "source": [
    "# convert \"Soft_drink\" nan's to 'No'\n",
    "df.loc[df[\"Soft_drink\"].isna(), \"Soft_drink\"] = \"No\"\n",
    "\n",
    "# convert \"Overweight\" float64's to Yes/No bools\n",
    "df[\"Overweight\"] = df[\"Overweight\"].map({np.nan: \"No\", 0: \"No\", 1: \"Yes\"})\n",
    "\n",
    "# validate a soft drink value exists for each record\n",
    "assert len(df[\"Soft_drink\"].isna().index) == len(df.index)\n",
    "\n",
    "# categorical columns and potential categorical columns\n",
    "ctg_cols = [\n",
    "    \"Allergic_rhinitis\",\n",
    "    \"Area\",\n",
    "    \"Arthritis\",\n",
    "    \"Asthma\",\n",
    "    \"BackPain\",\n",
    "    \"Complication_risk\",\n",
    "    \"Diabetes\",\n",
    "    \"Education\",\n",
    "    \"Employment\",\n",
    "    \"Gender\",\n",
    "    \"HighBlood\",\n",
    "    \"Hyperlipidemia\",\n",
    "    \"Initial_admin\",\n",
    "    \"Marital\",\n",
    "    \"Overweight\",\n",
    "    \"ReAdmis\",\n",
    "    \"Reflux_esophagitis\",\n",
    "    \"Services\",\n",
    "    \"Soft_drink\",\n",
    "    \"Stroke\",\n",
    "    \"Timezone\",\n",
    "]\n",
    "\n",
    "for col in ctg_cols:\n",
    "    # print(df[col].unique())\n",
    "    print(f\"--- CONVERTING COLUMN: '{col}' to category ---\")\n",
    "\n",
    "    # convert column to a category\n",
    "    df = df.astype({col: \"category\"})\n",
    "\n",
    "    # confirm the values successfully converted\n",
    "    assert df[col].dtype == \"category\"\n",
    "\n",
    "    # report categorical counts\n",
    "    print(df[col].value_counts(), end=\"\\n\\n\")"
   ]
  },
  {
   "cell_type": "markdown",
   "id": "6c6512b2-f78b-40c3-8a01-ce68b276f2ff",
   "metadata": {},
   "source": [
    "### Cleaning text data\n",
    "\n"
   ]
  },
  {
   "cell_type": "code",
   "execution_count": null,
   "id": "b6d598e5-fab2-47fe-8871-bf4a4bea235c",
   "metadata": {},
   "outputs": [],
   "source": [
    "str_cols = df.select_dtypes('object')\n",
    "df[str_cols.columns] = str_cols.apply(lambda s: s.str.strip())\n",
    "\n",
    "# validate all state abbreviations are 2 characters \n",
    "assert (df['State'].str.len() == 2).all()\n",
    "\n",
    "# validate zip codes are 3, 4 or 5 digits\n",
    "assert df['Zip'].astype('str').str.len().between(3,5).all()\n",
    "\n",
    "# cross field validation: validate 3 digit zip codes are Puerto Rican addresses\n",
    "assert (df.loc[df['Zip'].astype('str').str.len() == 3, ['State', 'Zip']][\"State\"] == 'PR').all()\n",
    "\n",
    "# Customer_id, Interaction, UID, State,  and Zip \n",
    "\n",
    "# validate all Customer_id values are 6 or 7 characters \n",
    "pd.DataFrame(df[\"Customer_id\"].str.len()).value_counts()\n",
    "assert df['Customer_id'].str.len().between(6,7).all()\n",
    "\n",
    "# validate all Interaction values are 36 characters \n",
    "pd.DataFrame(df[\"Interaction\"].str.len()).value_counts()\n",
    "assert (df['Interaction'].str.len() == 36).all()\n",
    "\n",
    "# validate all Interaction values are 32 characters \n",
    "pd.DataFrame(df[\"UID\"].str.len()).value_counts()\n",
    "assert (df['UID'].str.len() == 32).all()"
   ]
  },
  {
   "cell_type": "markdown",
   "id": "802dbd14-d33e-4a9b-9d55-a717c4b8533b",
   "metadata": {},
   "source": [
    "### Other Data Cleaning"
   ]
  },
  {
   "cell_type": "code",
   "execution_count": null,
   "id": "88fbd34a-d827-4f63-9fe0-cc3205fc9c72",
   "metadata": {},
   "outputs": [],
   "source": [
    "# Verify these columns are the same, if so drop the \"Unnamed: 0\" column\n",
    "# drop \"Unnamed: 0\" if dupes\n",
    "assert df[\"Unnamed: 0\"].ne(df[\"CaseOrder\"]).all()"
   ]
  },
  {
   "cell_type": "code",
   "execution_count": null,
   "id": "78ff21bf-58a3-45b6-9452-b3cfa1419ddf",
   "metadata": {},
   "outputs": [],
   "source": [
    "# cast to int if this fails\n",
    "assert df['Age'].dtype == 'int'"
   ]
  },
  {
   "cell_type": "code",
   "execution_count": null,
   "id": "2487614d-497d-4241-9a27-6cd792ac75bb",
   "metadata": {},
   "outputs": [],
   "source": [
    "# cast to int if this fails\n",
    "assert df['Children'].dtype == 'int'"
   ]
  },
  {
   "cell_type": "markdown",
   "id": "41738bce-45cd-4e81-81bd-8f40bbd8c314",
   "metadata": {},
   "source": [
    "## C2: Justification of Approach"
   ]
  },
  {
   "cell_type": "markdown",
   "id": "31762cb6-e1f4-4fe6-bcab-d2e81d36fd94",
   "metadata": {},
   "source": [
    "## C3: Justification of Tools"
   ]
  },
  {
   "cell_type": "code",
   "execution_count": null,
   "id": "5bb67b33-0c19-4d5e-b30d-6c4a5f0bd29f",
   "metadata": {},
   "outputs": [],
   "source": []
  }
 ],
 "metadata": {
  "kernelspec": {
   "display_name": "Python 3 (ipykernel)",
   "language": "python",
   "name": "python3"
  },
  "language_info": {
   "codemirror_mode": {
    "name": "ipython",
    "version": 3
   },
   "file_extension": ".py",
   "mimetype": "text/x-python",
   "name": "python",
   "nbconvert_exporter": "python",
   "pygments_lexer": "ipython3",
   "version": "3.9.7"
  },
  "toc-autonumbering": false,
  "toc-showcode": false,
  "toc-showmarkdowntxt": false,
  "toc-showtags": false
 },
 "nbformat": 4,
 "nbformat_minor": 5
}
