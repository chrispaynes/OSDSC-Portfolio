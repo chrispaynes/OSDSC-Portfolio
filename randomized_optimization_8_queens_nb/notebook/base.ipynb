{
 "cells": [
  {
   "cell_type": "markdown",
   "metadata": {},
   "source": [
    "# Solving 8-Queens Optimization Problem With mlrose"
   ]
  },
  {
   "cell_type": "markdown",
   "metadata": {},
   "source": [
    "In chess, a queen can attack any piece in the same row, column or diagonal. In the 8-Queens problem, given an 8 x 8 chessboard with only eight queens, place the queens on the board so that none of them can attack each other. There will be exactly one queen in each chessboard column. So determine the row position of each queen using a state vector. The bottom left corner of the chessboard is assumed to be in column 0 and row 0.\n",
    "\n",
    "*Implemented based on \"Getting Started with Randomized Optimization in Python\" blog post from Genevieve Hayes seen at\n",
    "https://towardsdatascience.com/solving-travelling-salesperson-problems-with-python-5de7e883d847*"
   ]
  },
  {
   "cell_type": "code",
   "execution_count": 1,
   "metadata": {},
   "outputs": [],
   "source": [
    "import mlrose  # provides Machine Learning, Randomized Optimization and Search algorithms\n",
    "import numpy as np"
   ]
  },
  {
   "cell_type": "markdown",
   "metadata": {},
   "source": [
    "## Define a fitness function object\n",
    "The first step in solving any optimization problem is to define the fitness function. This is the function we would ultimately like to maximize or minimize, and which can be used to evaluate the fitness of a given state vector, x\n",
    "\n",
    "In the context of the 8-Queens problem, our goal is to find a state vector for which no pairs of attacking queens exist. Therefore, we could define our fitness function as evaluating the number of pairs of attacking queens for a given state and try to minimize this function."
   ]
  },
  {
   "cell_type": "code",
   "execution_count": 2,
   "metadata": {},
   "outputs": [],
   "source": [
    "# custom fitness function for calculating fitness\n",
    "def queens_fitness(state):\n",
    "    fitness = 0\n",
    "\n",
    "    for i in range(len(state) - 1):\n",
    "        for j in range(i + 1, len(state)):\n",
    "            if (\n",
    "                (state[j] != state[i])\n",
    "                and (state[j] != state[i] + (j - i))\n",
    "                and (state[j] != state[i] - (j - i))\n",
    "            ):\n",
    "\n",
    "                fitness += 1\n",
    "\n",
    "    return fitness\n",
    "\n",
    "\n",
    "# utilized customized fitness function\n",
    "fitness_cust = mlrose.CustomFitness(queens_fitness)"
   ]
  },
  {
   "cell_type": "markdown",
   "metadata": {},
   "source": [
    "## Define An Optimization Problem Object\n",
    "A discrete-state optimization problem is one where each element of the state vector can only take on a discrete set of values. 8-Queens problem is a discrete-state optimization problem, since each state vector element must be an integer value in the range 0 to 7."
   ]
  },
  {
   "cell_type": "code",
   "execution_count": 3,
   "metadata": {},
   "outputs": [],
   "source": [
    "state_vector_length = 8\n",
    "unique_element_states = 8\n",
    "\n",
    "problem = mlrose.DiscreteOpt(\n",
    "    length=state_vector_length,\n",
    "    fitness_fn=fitness_cust,\n",
    "    maximize=False,\n",
    "    max_val=unique_element_states,\n",
    ")"
   ]
  },
  {
   "cell_type": "markdown",
   "metadata": {},
   "source": [
    "## Select and Run a Randomized Optimization Algorithm"
   ]
  },
  {
   "cell_type": "code",
   "execution_count": 4,
   "metadata": {},
   "outputs": [
    {
     "name": "stdout",
     "output_type": "stream",
     "text": [
      "Found Best State of: [0 1 2 3 4 5 6 7] at fitness: 0.0\n"
     ]
    }
   ],
   "source": [
    "init_temp = 1.0  # initial value of temperature parameter T.\n",
    "exp_const = 0.005  # exponential constant parameter, r.\n",
    "min_temp = 0.001  # minimum value of temperature parameter.\n",
    "\n",
    "schedule = mlrose.ExpDecay(init_temp=init_temp, exp_const=exp_const, min_temp=min_temp)\n",
    "\n",
    "init_state = np.array([0, 1, 2, 3, 4, 5, 6, 7])  # starting state for algorithm\n",
    "max_attempts = 25  # maximum number of attempts to find a better neighbor at each step\n",
    "max_iters = 1000  # maximum number of iterations of the algorithm\n",
    "\n",
    "np.random.seed(1)\n",
    "\n",
    "# evaluate the fitness of a state vector using Simulated Annealing (SA) to find the optimum.\n",
    "# for each iteration, simulated annealing randomly selects a solution similar to the current state vector\n",
    "# measures its quality, and then decides to move the state vector to it or to stay with the current state vector\n",
    "# based on one of two probabilities between chosen based on if the new state vector is better than the current one.\n",
    "# During the iteration, the temperature is decreased from an initial positive value\n",
    "# to zero and affects the two probabilities: at each step, the probability of moving to a better\n",
    "# state is either kept to 1 or is changed towards a positive value instead. the probability\n",
    "# of moving to a worse state is progressively changed towards zero.\n",
    "best_state, best_fitness = mlrose.simulated_annealing(\n",
    "    problem,\n",
    "    schedule=schedule,\n",
    "    max_attempts=max_attempts,\n",
    "    max_iters=max_iters,\n",
    "    init_state=init_state,\n",
    ")\n",
    "\n",
    "# best_state:    array containing state that optimizes the fitness function\n",
    "# best_fitness:  fitness function value at best state\n",
    "print(f\"Found Best State of: {best_state} at fitness: {best_fitness}\")"
   ]
  },
  {
   "cell_type": "code",
   "execution_count": null,
   "metadata": {},
   "outputs": [],
   "source": []
  }
 ],
 "metadata": {
  "kernelspec": {
   "display_name": "Python 3",
   "language": "python",
   "name": "python3"
  },
  "language_info": {
   "codemirror_mode": {
    "name": "ipython",
    "version": 3
   },
   "file_extension": ".py",
   "mimetype": "text/x-python",
   "name": "python",
   "nbconvert_exporter": "python",
   "pygments_lexer": "ipython3",
   "version": "3.7.2"
  }
 },
 "nbformat": 4,
 "nbformat_minor": 1
}
