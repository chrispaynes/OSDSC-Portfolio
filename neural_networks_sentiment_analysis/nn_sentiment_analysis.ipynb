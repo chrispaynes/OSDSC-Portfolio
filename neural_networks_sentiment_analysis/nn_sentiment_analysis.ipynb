{
 "cells": [
  {
   "cell_type": "markdown",
   "id": "75dc29a7-d9cd-452f-bb0d-08a3bb57db94",
   "metadata": {
    "tags": []
   },
   "source": [
    "# ENVIRONMENT"
   ]
  },
  {
   "cell_type": "code",
   "execution_count": 45,
   "id": "69534511-9d11-4389-8816-af4520cd5f2d",
   "metadata": {},
   "outputs": [
    {
     "name": "stdout",
     "output_type": "stream",
     "text": [
      "Version:  2.10.0\n",
      "Eager mode:  True\n",
      "GPU is NOT AVAILABLE\n",
      "Defaulting to user installation because normal site-packages is not writeable\n",
      "Requirement already satisfied: nltk in /home/chris/.local/lib/python3.10/site-packages (3.7)\n",
      "Requirement already satisfied: tqdm in /home/chris/.local/lib/python3.10/site-packages (from nltk) (4.64.1)\n",
      "Requirement already satisfied: click in /usr/lib/python3/dist-packages (from nltk) (8.0.3)\n",
      "Requirement already satisfied: joblib in /home/chris/.local/lib/python3.10/site-packages (from nltk) (1.2.0)\n",
      "Requirement already satisfied: regex>=2021.8.3 in /home/chris/.local/lib/python3.10/site-packages (from nltk) (2022.9.13)\n"
     ]
    },
    {
     "name": "stderr",
     "output_type": "stream",
     "text": [
      "[nltk_data] Downloading package stopwords to /home/chris/nltk_data...\n",
      "[nltk_data]   Package stopwords is already up-to-date!\n"
     ]
    },
    {
     "data": {
      "text/plain": [
       "True"
      ]
     },
     "execution_count": 45,
     "metadata": {},
     "output_type": "execute_result"
    },
    {
     "name": "stderr",
     "output_type": "stream",
     "text": [
      "[nltk_data] Downloading package punkt to /home/chris/nltk_data...\n",
      "[nltk_data]   Package punkt is already up-to-date!\n"
     ]
    },
    {
     "data": {
      "text/plain": [
       "True"
      ]
     },
     "execution_count": 45,
     "metadata": {},
     "output_type": "execute_result"
    },
    {
     "name": "stderr",
     "output_type": "stream",
     "text": [
      "[nltk_data] Downloading package wordnet to /home/chris/nltk_data...\n",
      "[nltk_data]   Package wordnet is already up-to-date!\n"
     ]
    },
    {
     "data": {
      "text/plain": [
       "True"
      ]
     },
     "execution_count": 45,
     "metadata": {},
     "output_type": "execute_result"
    },
    {
     "name": "stderr",
     "output_type": "stream",
     "text": [
      "[nltk_data] Downloading package omw-1.4 to /home/chris/nltk_data...\n",
      "[nltk_data]   Package omw-1.4 is already up-to-date!\n"
     ]
    },
    {
     "data": {
      "text/plain": [
       "True"
      ]
     },
     "execution_count": 45,
     "metadata": {},
     "output_type": "execute_result"
    }
   ],
   "source": [
    "import tensorflow as tf\n",
    "\n",
    "print(\"Version: \", tf.__version__)\n",
    "print(\"Eager mode: \", tf.executing_eagerly())\n",
    "print(\"GPU is\", \"available\" if tf.config.list_physical_devices(\"GPU\") else \"NOT AVAILABLE\")\n",
    "\n",
    "! pip install nltk\n",
    "\n",
    "nltk.download('stopwords')\n",
    "nltk.download('punkt')\n",
    "nltk.download('wordnet')\n",
    "nltk.download('omw-1.4')"
   ]
  },
  {
   "cell_type": "code",
   "execution_count": 54,
   "id": "ad4080ef-7bb5-45b3-b8de-e5b2a0480f39",
   "metadata": {},
   "outputs": [],
   "source": [
    "import matplotlib.pyplot as plt\n",
    "import numpy as np\n",
    "import pandas as pd\n",
    "import seaborn as sns\n",
    "from tensorflow import keras\n",
    "\n",
    "# from tensorflow.keras import Tokenizer\n",
    "from tensorflow.keras.preprocessing.sequence import pad_sequences\n",
    "from tensorflow.keras.preprocessing.text import Tokenizer\n",
    "\n",
    "import re\n",
    "import string \n",
    "\n",
    "\n",
    "import nltk\n",
    "from nltk.corpus import stopwords\n",
    "from nltk.tokenize import word_tokenize\n",
    "\n",
    "\n",
    "from nltk.tokenize import RegexpTokenizer\n",
    "LEMMA = nltk.WordNetLemmatizer()\n",
    "STOP_WORDS = stopwords.words('english')\n",
    "\n",
    "\n",
    "\n",
    "from IPython.core.interactiveshell import InteractiveShell\n",
    "\n",
    "InteractiveShell.ast_node_interactivity = \"all\"\n",
    "\n",
    "# suppress scientific notation in Pandas\n",
    "pd.options.display.float_format = \"{:.2f}\".format\n",
    "pd.set_option(\"display.max_colwidth\", 5000)\n",
    "pd.set_option(\"display.max_columns\", 100)\n",
    "pd.set_option(\"display.max_rows\", 100)\n",
    "# pd.set_option(\"precision\", 3)\n",
    "pd.set_option(\"display.max_colwidth\", None)\n",
    "\n",
    "plt.rcParams[\"figure.figsize\"] = [12, 10]\n",
    "plt.rcParams[\"figure.dpi\"] = 150\n",
    "\n",
    "sns.set()\n",
    "sns.set_context(\"notebook\", rc={\"lines.linewidth\": 2.5})\n",
    "sns.set_style(\"whitegrid\")\n",
    "\n",
    "import warnings\n",
    "\n",
    "warnings.filterwarnings(\"ignore\")\n",
    "\n",
    "RANDOM_STATE = 1"
   ]
  },
  {
   "cell_type": "code",
   "execution_count": 7,
   "id": "1df44029-4043-4212-aa5a-4dcbdbd37834",
   "metadata": {},
   "outputs": [],
   "source": [
    "original_df = pd.read_json(\"./src/amazon/reviews_Digital_Music_5.json\", lines=True)\n",
    "# df = original_df.copy()"
   ]
  },
  {
   "cell_type": "code",
   "execution_count": 8,
   "id": "8341dade-70bf-4c62-946f-a33683b511d0",
   "metadata": {},
   "outputs": [],
   "source": [
    "def clean_text(s:str) -> str:\n",
    "    # remove whitespace\n",
    "    s = s.strip()\n",
    "    \n",
    "    # lowercase\n",
    "    s = s.lower()\n",
    "\n",
    "    # create tokenize to tokenize on word characters\n",
    "    tokenizer = RegexpTokenizer('\\w+')    \n",
    "    # tokenize on word characters\n",
    "    tokens = tokenizer.tokenize(text=s)\n",
    "    \n",
    "    # lemmatize work\n",
    "    tokens = [LEMMA.lemmatize(word=word) for word in tokens]\n",
    "\n",
    "    # remove stop words     \n",
    "    tokens = [word for word in tokens if word not in STOP_WORDS]\n",
    "\n",
    "    # rejoin tokens into a string\n",
    "    return \" \".join(tokens)\n",
    "\n",
    "\n",
    "def get_index(data, reverse=True, n=25):\n",
    "    t = tf.keras.preprocessing.text.Tokenizer(oov_token = '[UNK]', lower=True)\n",
    "    t.fit_on_texts(data)\n",
    "    index = t.word_index\n",
    "    \n",
    "    sorted_index = dict(sorted(index.items(), key= lambda kv:(kv[1], kv[0]), reverse=reverse)[0:n])\n",
    "    return len(index), sorted_index\n",
    "\n",
    "# get_index([\"This class allows to vectorize a text corpus, by turning each text into either a sequence of integers (each integer being the index of a token in a dictionary) or into a vector where the coefficient for each token could be binary, based on word count, based on tf-idf...\"])"
   ]
  },
  {
   "cell_type": "code",
   "execution_count": 9,
   "id": "a7c38927-ba81-407e-ba22-12c35bf29cae",
   "metadata": {},
   "outputs": [
    {
     "data": {
      "text/html": [
       "<div>\n",
       "<style scoped>\n",
       "    .dataframe tbody tr th:only-of-type {\n",
       "        vertical-align: middle;\n",
       "    }\n",
       "\n",
       "    .dataframe tbody tr th {\n",
       "        vertical-align: top;\n",
       "    }\n",
       "\n",
       "    .dataframe thead th {\n",
       "        text-align: right;\n",
       "    }\n",
       "</style>\n",
       "<table border=\"1\" class=\"dataframe\">\n",
       "  <thead>\n",
       "    <tr style=\"text-align: right;\">\n",
       "      <th></th>\n",
       "      <th>reviewerID</th>\n",
       "      <th>asin</th>\n",
       "      <th>reviewerName</th>\n",
       "      <th>helpful</th>\n",
       "      <th>reviewText</th>\n",
       "      <th>overall</th>\n",
       "      <th>summary</th>\n",
       "      <th>unixReviewTime</th>\n",
       "      <th>reviewTime</th>\n",
       "    </tr>\n",
       "  </thead>\n",
       "  <tbody>\n",
       "    <tr>\n",
       "      <th>0</th>\n",
       "      <td>A3EBHHCZO6V2A4</td>\n",
       "      <td>5555991584</td>\n",
       "      <td>Amaranth \"music fan\"</td>\n",
       "      <td>[3, 3]</td>\n",
       "      <td>It's hard to believe \"Memory of Trees\" came out 11 years ago;it has held up well over the passage of time.It's Enya's last great album before the New Age/pop of \"Amarantine\" and \"Day without rain.\" Back in 1995,Enya still had her creative spark,her own voice.I agree with the reviewer who said that this is her saddest album;it is melancholy,bittersweet,from the opening title song.\"Memory of Trees\" is elegaic&amp;majestic.;\"Pax Deorum\" sounds like it is from a Requiem Mass,it is a dark threnody.Unlike the reviewer who said that this has a \"disconcerting\" blend of spirituality&amp;sensuality;,I don't find it disconcerting at all.\"Anywhere is\" is a hopeful song,looking to possibilities.\"Hope has a place\" is about love,but it is up to the listener to decide if it is romantic,platonic,etc.I've always had a soft spot for this song.\"On my way home\" is a triumphant ending about return.This is truly a masterpiece of New Age music,a must for any Enya fan!</td>\n",
       "      <td>5</td>\n",
       "      <td>Enya's last great album</td>\n",
       "      <td>1158019200</td>\n",
       "      <td>09 12, 2006</td>\n",
       "    </tr>\n",
       "  </tbody>\n",
       "</table>\n",
       "</div>"
      ],
      "text/plain": [
       "       reviewerID        asin          reviewerName helpful  \\\n",
       "0  A3EBHHCZO6V2A4  5555991584  Amaranth \"music fan\"  [3, 3]   \n",
       "\n",
       "                                                                                                                                                                                                                                                                                                                                                                                                                                                                                                                                                                                                                                                                                                                                                                                                                                                                                                                                                                               reviewText  \\\n",
       "0  It's hard to believe \"Memory of Trees\" came out 11 years ago;it has held up well over the passage of time.It's Enya's last great album before the New Age/pop of \"Amarantine\" and \"Day without rain.\" Back in 1995,Enya still had her creative spark,her own voice.I agree with the reviewer who said that this is her saddest album;it is melancholy,bittersweet,from the opening title song.\"Memory of Trees\" is elegaic&majestic.;\"Pax Deorum\" sounds like it is from a Requiem Mass,it is a dark threnody.Unlike the reviewer who said that this has a \"disconcerting\" blend of spirituality&sensuality;,I don't find it disconcerting at all.\"Anywhere is\" is a hopeful song,looking to possibilities.\"Hope has a place\" is about love,but it is up to the listener to decide if it is romantic,platonic,etc.I've always had a soft spot for this song.\"On my way home\" is a triumphant ending about return.This is truly a masterpiece of New Age music,a must for any Enya fan!   \n",
       "\n",
       "   overall                  summary  unixReviewTime   reviewTime  \n",
       "0        5  Enya's last great album      1158019200  09 12, 2006  "
      ]
     },
     "execution_count": 9,
     "metadata": {},
     "output_type": "execute_result"
    },
    {
     "name": "stdout",
     "output_type": "stream",
     "text": [
      "<class 'pandas.core.frame.DataFrame'>\n",
      "RangeIndex: 64706 entries, 0 to 64705\n",
      "Data columns (total 9 columns):\n",
      " #   Column          Non-Null Count  Dtype \n",
      "---  ------          --------------  ----- \n",
      " 0   reviewerID      64706 non-null  object\n",
      " 1   asin            64706 non-null  object\n",
      " 2   reviewerName    64529 non-null  object\n",
      " 3   helpful         64706 non-null  object\n",
      " 4   reviewText      64706 non-null  object\n",
      " 5   overall         64706 non-null  int64 \n",
      " 6   summary         64706 non-null  object\n",
      " 7   unixReviewTime  64706 non-null  int64 \n",
      " 8   reviewTime      64706 non-null  object\n",
      "dtypes: int64(2), object(7)\n",
      "memory usage: 4.4+ MB\n"
     ]
    },
    {
     "data": {
      "text/plain": [
       "(64706, 9)"
      ]
     },
     "execution_count": 9,
     "metadata": {},
     "output_type": "execute_result"
    },
    {
     "data": {
      "text/html": [
       "<div>\n",
       "<style scoped>\n",
       "    .dataframe tbody tr th:only-of-type {\n",
       "        vertical-align: middle;\n",
       "    }\n",
       "\n",
       "    .dataframe tbody tr th {\n",
       "        vertical-align: top;\n",
       "    }\n",
       "\n",
       "    .dataframe thead th {\n",
       "        text-align: right;\n",
       "    }\n",
       "</style>\n",
       "<table border=\"1\" class=\"dataframe\">\n",
       "  <thead>\n",
       "    <tr style=\"text-align: right;\">\n",
       "      <th></th>\n",
       "      <th>reviewerID</th>\n",
       "      <th>asin</th>\n",
       "      <th>reviewerName</th>\n",
       "      <th>helpful</th>\n",
       "      <th>reviewText</th>\n",
       "      <th>overall</th>\n",
       "      <th>summary</th>\n",
       "      <th>unixReviewTime</th>\n",
       "      <th>reviewTime</th>\n",
       "      <th>words</th>\n",
       "      <th>wordCount</th>\n",
       "    </tr>\n",
       "  </thead>\n",
       "  <tbody>\n",
       "    <tr>\n",
       "      <th>0</th>\n",
       "      <td>A3EBHHCZO6V2A4</td>\n",
       "      <td>5555991584</td>\n",
       "      <td>Amaranth \"music fan\"</td>\n",
       "      <td>[3, 3]</td>\n",
       "      <td>It's hard to believe \"Memory of Trees\" came out 11 years ago;it has held up well over the passage of time.It's Enya's last great album before the New Age/pop of \"Amarantine\" and \"Day without rain.\" Back in 1995,Enya still had her creative spark,her own voice.I agree with the reviewer who said that this is her saddest album;it is melancholy,bittersweet,from the opening title song.\"Memory of Trees\" is elegaic&amp;majestic.;\"Pax Deorum\" sounds like it is from a Requiem Mass,it is a dark threnody.Unlike the reviewer who said that this has a \"disconcerting\" blend of spirituality&amp;sensuality;,I don't find it disconcerting at all.\"Anywhere is\" is a hopeful song,looking to possibilities.\"Hope has a place\" is about love,but it is up to the listener to decide if it is romantic,platonic,etc.I've always had a soft spot for this song.\"On my way home\" is a triumphant ending about return.This is truly a masterpiece of New Age music,a must for any Enya fan!</td>\n",
       "      <td>5</td>\n",
       "      <td>Enya's last great album</td>\n",
       "      <td>1158019200</td>\n",
       "      <td>09 12, 2006</td>\n",
       "      <td>hard believe memory tree came 11 year ago ha held well passage time enya last great album new age pop amarantine day without rain back 1995 enya still creative spark voice agree reviewer said saddest album melancholy bittersweet opening title song memory tree elegaic majestic pax deorum sound like requiem mass dark threnody unlike reviewer said ha disconcerting blend spirituality sensuality find disconcerting anywhere hopeful song looking possibility hope ha place love listener decide romantic platonic etc always soft spot song way home triumphant ending return truly masterpiece new age music must enya fan</td>\n",
       "      <td>153</td>\n",
       "    </tr>\n",
       "  </tbody>\n",
       "</table>\n",
       "</div>"
      ],
      "text/plain": [
       "       reviewerID        asin          reviewerName helpful  \\\n",
       "0  A3EBHHCZO6V2A4  5555991584  Amaranth \"music fan\"  [3, 3]   \n",
       "\n",
       "                                                                                                                                                                                                                                                                                                                                                                                                                                                                                                                                                                                                                                                                                                                                                                                                                                                                                                                                                                               reviewText  \\\n",
       "0  It's hard to believe \"Memory of Trees\" came out 11 years ago;it has held up well over the passage of time.It's Enya's last great album before the New Age/pop of \"Amarantine\" and \"Day without rain.\" Back in 1995,Enya still had her creative spark,her own voice.I agree with the reviewer who said that this is her saddest album;it is melancholy,bittersweet,from the opening title song.\"Memory of Trees\" is elegaic&majestic.;\"Pax Deorum\" sounds like it is from a Requiem Mass,it is a dark threnody.Unlike the reviewer who said that this has a \"disconcerting\" blend of spirituality&sensuality;,I don't find it disconcerting at all.\"Anywhere is\" is a hopeful song,looking to possibilities.\"Hope has a place\" is about love,but it is up to the listener to decide if it is romantic,platonic,etc.I've always had a soft spot for this song.\"On my way home\" is a triumphant ending about return.This is truly a masterpiece of New Age music,a must for any Enya fan!   \n",
       "\n",
       "   overall                  summary  unixReviewTime   reviewTime  \\\n",
       "0        5  Enya's last great album      1158019200  09 12, 2006   \n",
       "\n",
       "                                                                                                                                                                                                                                                                                                                                                                                                                                                                                                                                                                                                                                   words  \\\n",
       "0  hard believe memory tree came 11 year ago ha held well passage time enya last great album new age pop amarantine day without rain back 1995 enya still creative spark voice agree reviewer said saddest album melancholy bittersweet opening title song memory tree elegaic majestic pax deorum sound like requiem mass dark threnody unlike reviewer said ha disconcerting blend spirituality sensuality find disconcerting anywhere hopeful song looking possibility hope ha place love listener decide romantic platonic etc always soft spot song way home triumphant ending return truly masterpiece new age music must enya fan   \n",
       "\n",
       "   wordCount  \n",
       "0        153  "
      ]
     },
     "execution_count": 9,
     "metadata": {},
     "output_type": "execute_result"
    }
   ],
   "source": [
    "# DATA PREPATION STEPS\n",
    "# 1. Import data set as a data frame.\n",
    "prep_df = original_df.copy()\n",
    "\n",
    "# 2. Load packages for TensorFlow, Keras, and other libraries.\n",
    "\n",
    "# 3. EDA – to better understand the data structure.\n",
    "original_df.head(1)\n",
    "original_df.info()\n",
    "original_df.shape\n",
    "\n",
    "# 4. Remove unusual characters: uppercase letters, punctuation marks, emoticons, and non-English characters.\n",
    "prep_df[\"words\"] = prep_df.reviewText.apply(lambda x: clean_text(s=x))\n",
    "prep_df[\"wordCount\"] = prep_df.reviewText.apply(lambda x: len(x.split(\" \")))\n",
    "\n",
    "\n",
    "prep_df.head(1)\n",
    "\n",
    "\n",
    "# pd.DataFrame(words)\n",
    "# words = re.split(r'\\W+', words.reviewText)\n",
    "# prep_df[\"words\"] = prep_df.words.str.split()\n",
    "# prep_df[\"words\"] = prep_df.words.str.split(r'\\W+')\n",
    "# prep_df[\"words\"]\n",
    "\n",
    "# prep_df.head(1)\n",
    "\n",
    "# 5. Measure the vocabulary size using (bags of words, etc.).\n",
    "\n",
    "\n",
    "# 6. Explore N-Gram (unigram, bigram, and trigram) structures for usefulness in text analysis as applicable.\n",
    "\n",
    "# 7. Determine the word embedding and explore embedded words based on target inputs.\n",
    "\n",
    "# 8. Set the maximum sequence length based on the length of the longest sentence in the data set.\n",
    "\n",
    "# 9. Tokenize sentences into a list of tokens and remove stop words.\n",
    "\n",
    "# 10. Pad cleaned sentences to fit the maximum sequence length after each text sequence.\n",
    "\n",
    "# 11. Create an activation function filled with dense layers of the neural network.\n",
    "\n",
    "# 12. Split the data set into training and test sets or into training/test/validation sets.\n"
   ]
  },
  {
   "cell_type": "code",
   "execution_count": 28,
   "id": "a58bedb0-46b4-434c-81d9-6df7b2259fbd",
   "metadata": {},
   "outputs": [
    {
     "data": {
      "text/html": [
       "<div>\n",
       "<style scoped>\n",
       "    .dataframe tbody tr th:only-of-type {\n",
       "        vertical-align: middle;\n",
       "    }\n",
       "\n",
       "    .dataframe tbody tr th {\n",
       "        vertical-align: top;\n",
       "    }\n",
       "\n",
       "    .dataframe thead th {\n",
       "        text-align: right;\n",
       "    }\n",
       "</style>\n",
       "<table border=\"1\" class=\"dataframe\">\n",
       "  <thead>\n",
       "    <tr style=\"text-align: right;\">\n",
       "      <th></th>\n",
       "      <th>reviewerID</th>\n",
       "      <th>asin</th>\n",
       "      <th>reviewerName</th>\n",
       "      <th>helpful</th>\n",
       "      <th>reviewText</th>\n",
       "      <th>overall</th>\n",
       "      <th>summary</th>\n",
       "      <th>unixReviewTime</th>\n",
       "      <th>reviewTime</th>\n",
       "    </tr>\n",
       "  </thead>\n",
       "  <tbody>\n",
       "    <tr>\n",
       "      <th>0</th>\n",
       "      <td>A3EBHHCZO6V2A4</td>\n",
       "      <td>5555991584</td>\n",
       "      <td>Amaranth \"music fan\"</td>\n",
       "      <td>[3, 3]</td>\n",
       "      <td>It's hard to believe \"Memory of Trees\" came out 11 years ago;it has held up well over the passage of time.It's Enya's last great album before the New Age/pop of \"Amarantine\" and \"Day without rain.\" Back in 1995,Enya still had her creative spark,her own voice.I agree with the reviewer who said that this is her saddest album;it is melancholy,bittersweet,from the opening title song.\"Memory of Trees\" is elegaic&amp;majestic.;\"Pax Deorum\" sounds like it is from a Requiem Mass,it is a dark threnody.Unlike the reviewer who said that this has a \"disconcerting\" blend of spirituality&amp;sensuality;,I don't find it disconcerting at all.\"Anywhere is\" is a hopeful song,looking to possibilities.\"Hope has a place\" is about love,but it is up to the listener to decide if it is romantic,platonic,etc.I've always had a soft spot for this song.\"On my way home\" is a triumphant ending about return.This is truly a masterpiece of New Age music,a must for any Enya fan!</td>\n",
       "      <td>5</td>\n",
       "      <td>Enya's last great album</td>\n",
       "      <td>1158019200</td>\n",
       "      <td>09 12, 2006</td>\n",
       "    </tr>\n",
       "    <tr>\n",
       "      <th>1</th>\n",
       "      <td>AZPWAXJG9OJXV</td>\n",
       "      <td>5555991584</td>\n",
       "      <td>bethtexas</td>\n",
       "      <td>[0, 0]</td>\n",
       "      <td>A clasically-styled and introverted album, Memory of Trees is a masterpiece of subtlety.  Many of the songs have an endearing shyness to them - soft piano and a lovely, quiet voice.  But within every introvert is an inferno, and Enya lets that fire explode on a couple of songs that absolutely burst with an expected raw power.If you've never heard Enya before, you might want to start with one of her more popularized works, like Watermark, just to play it safe.  But if you're already a fan, then your collection is not complete without this beautiful work of musical art.</td>\n",
       "      <td>5</td>\n",
       "      <td>Enya at her most elegant</td>\n",
       "      <td>991526400</td>\n",
       "      <td>06 3, 2001</td>\n",
       "    </tr>\n",
       "  </tbody>\n",
       "</table>\n",
       "</div>"
      ],
      "text/plain": [
       "       reviewerID        asin          reviewerName helpful  \\\n",
       "0  A3EBHHCZO6V2A4  5555991584  Amaranth \"music fan\"  [3, 3]   \n",
       "1   AZPWAXJG9OJXV  5555991584             bethtexas  [0, 0]   \n",
       "\n",
       "                                                                                                                                                                                                                                                                                                                                                                                                                                                                                                                                                                                                                                                                                                                                                                                                                                                                                                                                                                               reviewText  \\\n",
       "0  It's hard to believe \"Memory of Trees\" came out 11 years ago;it has held up well over the passage of time.It's Enya's last great album before the New Age/pop of \"Amarantine\" and \"Day without rain.\" Back in 1995,Enya still had her creative spark,her own voice.I agree with the reviewer who said that this is her saddest album;it is melancholy,bittersweet,from the opening title song.\"Memory of Trees\" is elegaic&majestic.;\"Pax Deorum\" sounds like it is from a Requiem Mass,it is a dark threnody.Unlike the reviewer who said that this has a \"disconcerting\" blend of spirituality&sensuality;,I don't find it disconcerting at all.\"Anywhere is\" is a hopeful song,looking to possibilities.\"Hope has a place\" is about love,but it is up to the listener to decide if it is romantic,platonic,etc.I've always had a soft spot for this song.\"On my way home\" is a triumphant ending about return.This is truly a masterpiece of New Age music,a must for any Enya fan!   \n",
       "1                                                                                                                                                                                                                                                                                                                                                                                          A clasically-styled and introverted album, Memory of Trees is a masterpiece of subtlety.  Many of the songs have an endearing shyness to them - soft piano and a lovely, quiet voice.  But within every introvert is an inferno, and Enya lets that fire explode on a couple of songs that absolutely burst with an expected raw power.If you've never heard Enya before, you might want to start with one of her more popularized works, like Watermark, just to play it safe.  But if you're already a fan, then your collection is not complete without this beautiful work of musical art.   \n",
       "\n",
       "   overall                   summary  unixReviewTime   reviewTime  \n",
       "0        5   Enya's last great album      1158019200  09 12, 2006  \n",
       "1        5  Enya at her most elegant       991526400   06 3, 2001  "
      ]
     },
     "execution_count": 28,
     "metadata": {},
     "output_type": "execute_result"
    },
    {
     "name": "stdout",
     "output_type": "stream",
     "text": [
      "<class 'pandas.core.frame.DataFrame'>\n",
      "RangeIndex: 64706 entries, 0 to 64705\n",
      "Data columns (total 9 columns):\n",
      " #   Column          Non-Null Count  Dtype \n",
      "---  ------          --------------  ----- \n",
      " 0   reviewerID      64706 non-null  object\n",
      " 1   asin            64706 non-null  object\n",
      " 2   reviewerName    64529 non-null  object\n",
      " 3   helpful         64706 non-null  object\n",
      " 4   reviewText      64706 non-null  object\n",
      " 5   overall         64706 non-null  int64 \n",
      " 6   summary         64706 non-null  object\n",
      " 7   unixReviewTime  64706 non-null  int64 \n",
      " 8   reviewTime      64706 non-null  object\n",
      "dtypes: int64(2), object(7)\n",
      "memory usage: 4.4+ MB\n"
     ]
    },
    {
     "data": {
      "text/plain": [
       "(64706, 9)"
      ]
     },
     "execution_count": 28,
     "metadata": {},
     "output_type": "execute_result"
    }
   ],
   "source": [
    "# 1.\tAnalyzing the data and review length.\n",
    "\n",
    "original_df.head(2)\n",
    "original_df.info()\n",
    "original_df.shape\n",
    "\n",
    "# 2.\tCreating a dictionary and applying it to remove extraneous characters.\n",
    "# 3.\tDeciding on a typical review length.\n",
    "# 4.\tTokenization.\n",
    "# 5.\tApplying Tensorflow’s keras and layers methods\n",
    "# 6.\tSplitting the dataset into train and test\n",
    "# 7.\tFitting the model\n",
    "# 8.\tModel evaluation and reporting.\n"
   ]
  },
  {
   "cell_type": "code",
   "execution_count": null,
   "id": "610a0ff8-95c6-49d0-8752-2981bef9bed6",
   "metadata": {},
   "outputs": [],
   "source": [
    "# For Task Two: Actually, it is pretty simple.  There are three text files, Amazon, IMDB, and Yelp.  You want to do a neural net to find the Sentiment index among the reviews.  These are the high-level ten basic steps:\n",
    "\n",
    "# 1.\tIf you run a couple of FOR loops to translate characters (essentially “cleaning up”).   There will be 52 unique characters remaining.\n",
    "# 2.\tPlot a histogram to find the length of the reviews. Most of the 500 reviews will be under 150 characters in length.\n",
    "# 3.\tCreate a dictionary for characters and tokens.\n",
    "# 4.\tUse arrays to hold each review and assign to it a list of one-hot-encoded characters.\n",
    "# 5.\tCode the output array to represent the review as positive (1) or negative (0).  The target value is binary.\n",
    "# 6.\tAdd terminators to the end of the data to fill the fixed length strings.\n",
    "# 7.\tUsing sklearn, numpy, and keras train a neural net.  Split data prior to training into test and validation.\n",
    "# 8.\tBy reading through the data in the network, weights are adjusted until errors are minimized.  Each period or cycle is referred to as an epoch.\n",
    "# 9.\tThen, you run a sequential neural net using keras.Sequential()\n",
    "# 10.\tAfter using the training process iteratively, the model.evaluate(x, y) will confirm the reliability. \n"
   ]
  },
  {
   "cell_type": "markdown",
   "id": "6cd6d3f2-efc3-4498-8cad-5d0abb32237a",
   "metadata": {},
   "source": [
    "# Introduction\n",
    "\n",
    "You have seen the power of using data analytical techniques to help organizations make data-driven decisions and now want to extend these models into areas of machine learning and artificial intelligence. In this task, you will explore the use of neural networks and natural language processing (NLP).\n",
    "\n",
    "In this task, you will choose a data file from the Web Links section. The available data sets are as follows:\n",
    "- [Amazon Product Data set](http://jmcauley.ucsd.edu/data/amazon/)\n",
    "- [UCSD Recommender Systems Data sets](https://cseweb.ucsd.edu/~jmcauley/datasets.html)\n",
    "- UCI Sentiment Labeled Sentences Data set\n",
    "\n",
    "For this task, you will build a neural network designed to learn word usage and context using NLP techniques. You will provide visualizations and a report, as well as build your network in an interactive development environment.\n",
    "\n",
    "In the telecom munications industry, customers can choose from multiple service providers and actively switch from one provider to another. Customer churn is defined as the percentage of customers who stopped using a provider’s product or service during a certain time frame. In this highly competitive market, some telecommunications industries can experience average annual churn rates as high as 25 Given that it costs 10 times more to acquire a new customer than to retain an existing one, customer retention has now become even more important than customer acquisition.\n",
    "\n",
    "For many providers retaining highly profitable customers is the number one business goal. To reduce customer churn, telecom munications companies need to predict which customers are at high risk of churn.\n",
    "\n",
    "As part of the “churn” project, executives would like to see consider a time series on revenue from the first years of operation. Once they understand any patterns in that data, they feel confident in understanding the impact of churn in current times. The given time series data records the daily revenue, in million dollars, during the first two years of operation.\n",
    "\n",
    "**Data File being used:**\n",
    "teleco_time_series.csv\n",
    "\n",
    "**Data Dictionary:**\n",
    "- The data set consists of 731 rows and two columns:\n",
    "    - Day Day during first two years of operation\n",
    "    - Revenue Revenue in million dollars\n",
    "    \n",
    "Review the data dictionary and considerations related to the raw data file you have chosen and prepare the data for time series modeling. You will then analyze that data set using time series modeling, create visualizations, generate forecasts, and deliver the results of your analysis."
   ]
  },
  {
   "cell_type": "markdown",
   "id": "e9841393-d7d9-4ae2-b604-80af93c1a091",
   "metadata": {},
   "source": [
    "# Part 0: Data Exploration"
   ]
  },
  {
   "cell_type": "code",
   "execution_count": null,
   "id": "faf34752-167d-4c21-b0b6-37a4bad4d8b2",
   "metadata": {},
   "outputs": [],
   "source": [
    "df.head()\n"
   ]
  },
  {
   "cell_type": "code",
   "execution_count": null,
   "id": "41c3feed-01e1-45b2-9504-6dce3d32a384",
   "metadata": {},
   "outputs": [],
   "source": [
    "df.shape\n"
   ]
  },
  {
   "cell_type": "code",
   "execution_count": null,
   "id": "5dbc80cb-6c1a-4c4d-ac76-34da4494fe10",
   "metadata": {},
   "outputs": [],
   "source": [
    "df.info()\n"
   ]
  },
  {
   "cell_type": "code",
   "execution_count": null,
   "id": "62d39046-995c-4065-bb60-ea190db9e44b",
   "metadata": {},
   "outputs": [],
   "source": [
    "pd.DataFrame(df.isnull().sum(), columns=[\"# NaNs\"])\n"
   ]
  },
  {
   "cell_type": "code",
   "execution_count": null,
   "id": "fa98c8ce-c3df-400a-b8c1-575939e3bebb",
   "metadata": {},
   "outputs": [],
   "source": [
    "f\"{df.isnull().sum().sum():,} Total NaN Cells\"\n"
   ]
  },
  {
   "cell_type": "markdown",
   "id": "911d145f-87a1-4c68-a267-94d7a096017b",
   "metadata": {},
   "source": [
    "# Part I:  Research Question"
   ]
  },
  {
   "cell_type": "markdown",
   "id": "ba3b9d7f-6923-4a2a-b459-7b4e37631564",
   "metadata": {},
   "source": [
    "## A.  Describe the purpose of this data analysis by doing the following:\n",
    "\n"
   ]
  },
  {
   "cell_type": "markdown",
   "id": "69f1dbff-4f9d-4ef9-988f-4d7e71c1f01d",
   "metadata": {},
   "source": [
    "### 1.  Summarize one research question that you will answer using neural network models and NLP techniques. Be sure the research question is relevant to a real-world organizational situation and sentiment analysis captured in your chosen dataset.\n",
    "\n"
   ]
  },
  {
   "cell_type": "markdown",
   "id": "ea1d9260-01ed-4024-84dc-da128aa1f924",
   "metadata": {},
   "source": [
    "### 2.  Define the objectives or goals of the data analysis. Be sure the objectives or goals are reasonable within the scope of the research question and are represented in the available data.\n",
    "\n"
   ]
  },
  {
   "cell_type": "markdown",
   "id": "061f1418-c2f2-46b5-958d-84e8ec214f09",
   "metadata": {},
   "source": [
    "### 3.  Identify a type of neural network capable of performing a text classification task that can be trained to produce useful predictions on text sequences on the selected data set.\n"
   ]
  },
  {
   "cell_type": "markdown",
   "id": "39f14718-7f23-44a3-b40d-809f3fd0980f",
   "metadata": {},
   "source": [
    "# Part II:  Data Preparation\n"
   ]
  },
  {
   "cell_type": "markdown",
   "id": "c0eceba8-6baa-49f8-9aa4-2726ae8ca5fc",
   "metadata": {},
   "source": [
    "## B.  Summarize the data cleaning process by doing the following:\n",
    "\n"
   ]
  },
  {
   "cell_type": "markdown",
   "id": "78df2325-4525-4669-b0f7-900749b75479",
   "metadata": {
    "jupyter": {
     "source_hidden": true
    },
    "tags": []
   },
   "source": [
    "### 1.  Perform exploratory data analysis on the chosen dataset, and include an explanation of each of the following elements:\n"
   ]
  },
  {
   "cell_type": "markdown",
   "id": "37e6d5d4-3345-46df-968c-191a6beb8850",
   "metadata": {
    "jupyter": {
     "source_hidden": true
    },
    "tags": []
   },
   "source": []
  },
  {
   "cell_type": "markdown",
   "id": "e821fcc0-da0d-4249-a352-26704087690c",
   "metadata": {},
   "source": [
    "#### a. presence of unusual characters (e.g., emojis, non-English characters, etc.)\n",
    "> Unusual or non-word characters do exist within review texts\n"
   ]
  },
  {
   "cell_type": "code",
   "execution_count": 125,
   "id": "2cb43667-e5a4-4a2f-b3c7-c377947375ae",
   "metadata": {},
   "outputs": [
    {
     "data": {
      "text/plain": [
       "0                 {\", ,, /, ;, !, ', ., &}\n",
       "1                             {', -, ., ,}\n",
       "2                                {', ., ,}\n",
       "3                    {), -, ,, (, !, ', .}\n",
       "4        {), :, \", ,, -, (, /, ;, ?, ', .}\n",
       "                       ...                \n",
       "64701                                  {.}\n",
       "64702                         {', -, ., !}\n",
       "64703                               {,, .}\n",
       "64704          {), ,, (, ;, !, #, ', ., &}\n",
       "64705          {), ,, (, ;, !, #, ', ., &}\n",
       "Name: reviewText, Length: 64706, dtype: object"
      ]
     },
     "execution_count": 125,
     "metadata": {},
     "output_type": "execute_result"
    }
   ],
   "source": [
    "def get_non_words(data):\n",
    "    non_word_tokenizer = RegexpTokenizer('[^\\w\\s]')    \n",
    "\n",
    "    # tokenize on non-word and non-space characters\n",
    "    return non_word_tokenizer.tokenize(text=data)\n",
    "\n",
    "tokens_df = original_df.reviewText.apply(lambda x: set(get_non_words(data=x)))\n",
    "tokens_df"
   ]
  },
  {
   "cell_type": "code",
   "execution_count": 129,
   "id": "e472b4ae-98f1-40ff-a26c-6f340a9e596f",
   "metadata": {},
   "outputs": [
    {
     "name": "stdout",
     "output_type": "stream",
     "text": [
      "Non-Word Tokens\n",
      "['\\x03', '\\x16', '!', '\"', '#', '$', '%', '&', \"'\", '(', ')', '*', '+', ',', '-', '.', '/', ':', ';', '=', '>', '?', '@', '[', '\\\\', ']', '^', '`', '{', '|', '}', '~']\n"
     ]
    }
   ],
   "source": [
    "token_set = set()\n",
    "\n",
    "for tokens in tokens_df:\n",
    "    for token in tokens:\n",
    "        token_set.add(token)\n",
    "\n",
    "print(\"Non-Word Tokens Exist\")\n",
    "print(sorted(list(token_set)))"
   ]
  },
  {
   "cell_type": "markdown",
   "id": "d410971c-e178-437c-b304-f5ce515b7cf8",
   "metadata": {
    "tags": []
   },
   "source": [
    "#### b. vocabulary size\n",
    "> the vocabulary size is"
   ]
  },
  {
   "cell_type": "code",
   "execution_count": 110,
   "id": "b20ccecc-e016-4dd2-b620-d2f00b42da66",
   "metadata": {},
   "outputs": [
    {
     "data": {
      "image/png": "[encoded data removed]",
      "text/plain": [
       "<Figure size 1800x1500 with 1 Axes>"
      ]
     },
     "metadata": {},
     "output_type": "display_data"
    },
    {
     "data": {
      "image/png": "[encoded data removed]",
      "text/plain": [
       "<Figure size 1800x1500 with 1 Axes>"
      ]
     },
     "metadata": {},
     "output_type": "display_data"
    },
    {
     "data": {
      "image/png": "[encoded data removed]",
      "text/plain": [
       "<Figure size 1800x1500 with 1 Axes>"
      ]
     },
     "metadata": {},
     "output_type": "display_data"
    },
    {
     "data": {
      "image/png": "[encoded data removed]",
      "text/plain": [
       "<Figure size 1800x1500 with 1 Axes>"
      ]
     },
     "metadata": {},
     "output_type": "display_data"
    }
   ],
   "source": [
    "ax = sns.histplot(prep_df.wordCount, kde=True)\n",
    "plt.show()\n",
    "\n",
    "ax = sns.histplot(prep_df[prep_df.wordCount <= 500].wordCount)\n",
    "plt.show()\n",
    "\n",
    "ax = sns.boxplot(x=prep_df.wordCount)\n",
    "plt.show()\n",
    "\n",
    "ax = sns.countplot(x=round(prep_df[prep_df.wordCount <= 500].wordCount//20)*20)\n",
    "plt.show()\n",
    "\n",
    "\n"
   ]
  },
  {
   "cell_type": "code",
   "execution_count": 37,
   "id": "702890e5-835c-4058-9cb5-6a02bd9a18ff",
   "metadata": {},
   "outputs": [
    {
     "name": "stdout",
     "output_type": "stream",
     "text": [
      "Vocab Size: 108,495\n"
     ]
    },
    {
     "data": {
      "text/plain": [
       "{'atweh': 108494,\n",
       " 'nasri': 108493,\n",
       " 'instigate': 108492,\n",
       " 'segu': 108491,\n",
       " 'grazer': 108490,\n",
       " '10m': 108489,\n",
       " 'chiropractor': 108488,\n",
       " 'sunsdoesn': 108487,\n",
       " 'presencerakim': 108486,\n",
       " 'songtom': 108485,\n",
       " 'sandcons': 108484,\n",
       " 'thingsbest': 108483,\n",
       " 'solosenergybetter': 108482,\n",
       " 'lengthepic': 108481,\n",
       " 'conceptalbum': 108480,\n",
       " 'masterpiececonclusion': 108479,\n",
       " 'beautiful12': 108478,\n",
       " 'moody11': 108477,\n",
       " 'ps3': 108476,\n",
       " 'experimental10': 108475,\n",
       " 'untraveled': 108474,\n",
       " 'offbalanced': 108473,\n",
       " 'catchy9': 108472,\n",
       " 'throwback8': 108471,\n",
       " 'exhilarating7': 108470}"
      ]
     },
     "execution_count": 37,
     "metadata": {},
     "output_type": "execute_result"
    }
   ],
   "source": [
    "vocab_size, counts = get_index(data=prep_df.words)\n",
    "\n",
    "vocab_size += 1\n",
    "print(f\"Vocab Size: {vocab_size:,}\")\n",
    "counts"
   ]
  },
  {
   "cell_type": "markdown",
   "id": "ffbfbe24-d0d1-4b21-9093-aededebf11d5",
   "metadata": {},
   "source": [
    "#### c. proposed word embedding length"
   ]
  },
  {
   "cell_type": "code",
   "execution_count": 41,
   "id": "016708bc-40f2-4dbd-bef6-cdd55533b962",
   "metadata": {},
   "outputs": [
    {
     "data": {
      "text/plain": [
       "18"
      ]
     },
     "execution_count": 41,
     "metadata": {},
     "output_type": "execute_result"
    }
   ],
   "source": [
    "max_sequence_embedding = round(vocab_size ** (1/4))\n",
    "max_sequence_embedding"
   ]
  },
  {
   "cell_type": "code",
   "execution_count": 43,
   "id": "20d57e15-2bc5-4d08-85cf-9b120e942d40",
   "metadata": {},
   "outputs": [
    {
     "data": {
      "text/plain": [
       "<keras.layers.core.embedding.Embedding at 0x7f59fd29d660>"
      ]
     },
     "execution_count": 43,
     "metadata": {},
     "output_type": "execute_result"
    }
   ],
   "source": [
    "# tf.keras.layers.Embedding(NUM_WORDS, EMBEDDING_SIZE)\n",
    "tf.keras.layers.Embedding(vocab_size, max_sequence_embedding)\n"
   ]
  },
  {
   "cell_type": "markdown",
   "id": "2a0032a5-70a5-4ec4-878a-40ddac51b8dc",
   "metadata": {},
   "source": [
    "#### d. statistical justification for the chosen maximum sequence length"
   ]
  },
  {
   "cell_type": "code",
   "execution_count": 205,
   "id": "c2efb1b8-bd2d-470d-9750-970703a2a56d",
   "metadata": {},
   "outputs": [
    {
     "data": {
      "text/html": [
       "<div>\n",
       "<style scoped>\n",
       "    .dataframe tbody tr th:only-of-type {\n",
       "        vertical-align: middle;\n",
       "    }\n",
       "\n",
       "    .dataframe tbody tr th {\n",
       "        vertical-align: top;\n",
       "    }\n",
       "\n",
       "    .dataframe thead th {\n",
       "        text-align: right;\n",
       "    }\n",
       "</style>\n",
       "<table border=\"1\" class=\"dataframe\">\n",
       "  <thead>\n",
       "    <tr style=\"text-align: right;\">\n",
       "      <th></th>\n",
       "      <th>Review Length</th>\n",
       "    </tr>\n",
       "  </thead>\n",
       "  <tbody>\n",
       "    <tr>\n",
       "      <th>mix</th>\n",
       "      <td>1.00</td>\n",
       "    </tr>\n",
       "    <tr>\n",
       "      <th>med</th>\n",
       "      <td>78.00</td>\n",
       "    </tr>\n",
       "    <tr>\n",
       "      <th>avg</th>\n",
       "      <td>111.43</td>\n",
       "    </tr>\n",
       "    <tr>\n",
       "      <th>max</th>\n",
       "      <td>2571.00</td>\n",
       "    </tr>\n",
       "  </tbody>\n",
       "</table>\n",
       "</div>"
      ],
      "text/plain": [
       "     Review Length\n",
       "mix           1.00\n",
       "med          78.00\n",
       "avg         111.43\n",
       "max        2571.00"
      ]
     },
     "execution_count": 205,
     "metadata": {},
     "output_type": "execute_result"
    },
    {
     "name": "stdout",
     "output_type": "stream",
     "text": [
      "Based on the average review length, the max review length should be: 111\n"
     ]
    }
   ],
   "source": [
    "r_len = []\n",
    "\n",
    "for r in prep_df.words:\n",
    "    r_len.append(len(r.split(\" \")))\n",
    "\n",
    "max_len = round(np.mean(r_len))\n",
    "\n",
    "pd.DataFrame(dict(\n",
    "    mix= np.min(r_len),\n",
    "    med=np.median(r_len),\n",
    "    avg=np.mean(r_len),    \n",
    "    max= np.max(r_len)\n",
    "                 ), index=[\"Review Length\"]).T\n",
    "\n",
    "print(f\"Based on the average review length, the max review length should be: {max_len}\")"
   ]
  },
  {
   "cell_type": "markdown",
   "id": "95e6e817-eaaa-46fd-839c-b1a0cb00563d",
   "metadata": {
    "tags": []
   },
   "source": [
    "### 2.  Describe the goals of the tokenization process, including any code generated and packages that are used to normalize text during the tokenization process.\n",
    "\n",
    "The tokenization process is to separate the text into smaller chunks or tokens. The chunks can be words, characters, or sub-word. A unique index called \"word_index\" is assigned to each word in the text which helps the model during the training process (TensorFlow, n.d; MLK, 2021).\n",
    "\n",
    "Other goals that the tokenization process can achieve  include: \n",
    "- Replacing any abnormal character, formatting, and standardizing texts,\n",
    "- Lemmatizing words and transforming the text into sequences, and\n",
    "- Preparing the transformed sequences to a maximum sequence length by padding. \n"
   ]
  },
  {
   "cell_type": "code",
   "execution_count": 69,
   "id": "7b55a0bf-56f6-49a8-906e-de6d9152bcc6",
   "metadata": {},
   "outputs": [
    {
     "data": {
      "text/plain": [
       "[('<UNK>', 1),\n",
       " ('album', 2),\n",
       " ('song', 3),\n",
       " ('quot', 4),\n",
       " ('wa', 5),\n",
       " ('one', 6),\n",
       " ('like', 7),\n",
       " ('track', 8),\n",
       " ('ha', 9),\n",
       " ('music', 10)]"
      ]
     },
     "execution_count": 69,
     "metadata": {},
     "output_type": "execute_result"
    }
   ],
   "source": [
    "t = Tokenizer(num_words=vocab_size, oov_token=\"<UNK>\" )\n",
    "t.fit_on_texts(prep_df.words)\n",
    "\n",
    "list(t.word_index.items())[:10]"
   ]
  },
  {
   "cell_type": "code",
   "execution_count": 66,
   "id": "9552251f-74e7-4b33-8441-e2e5d6287915",
   "metadata": {
    "collapsed": true,
    "jupyter": {
     "outputs_hidden": true
    },
    "tags": []
   },
   "outputs": [
    {
     "data": {
      "text/plain": [
       "[[90,\n",
       "  294,\n",
       "  802,\n",
       "  1446,\n",
       "  163,\n",
       "  570,\n",
       "  31,\n",
       "  452,\n",
       "  9,\n",
       "  1936,\n",
       "  22,\n",
       "  2825,\n",
       "  15,\n",
       "  4963,\n",
       "  84,\n",
       "  13,\n",
       "  2,\n",
       "  33,\n",
       "  484,\n",
       "  51,\n",
       "  39489,\n",
       "  65,\n",
       "  150,\n",
       "  701,\n",
       "  37,\n",
       "  1749,\n",
       "  4963,\n",
       "  24,\n",
       "  593,\n",
       "  1630,\n",
       "  58,\n",
       "  1016,\n",
       "  671,\n",
       "  201,\n",
       "  7736,\n",
       "  2,\n",
       "  1460,\n",
       "  3415,\n",
       "  425,\n",
       "  111,\n",
       "  3,\n",
       "  802,\n",
       "  1446,\n",
       "  33790,\n",
       "  3868,\n",
       "  18212,\n",
       "  18213,\n",
       "  14,\n",
       "  7,\n",
       "  11884,\n",
       "  1723,\n",
       "  311,\n",
       "  51212,\n",
       "  717,\n",
       "  671,\n",
       "  201,\n",
       "  9,\n",
       "  13405,\n",
       "  849,\n",
       "  5161,\n",
       "  6545,\n",
       "  116,\n",
       "  13405,\n",
       "  1653,\n",
       "  4110,\n",
       "  3,\n",
       "  378,\n",
       "  3972,\n",
       "  374,\n",
       "  9,\n",
       "  219,\n",
       "  16,\n",
       "  305,\n",
       "  2354,\n",
       "  1024,\n",
       "  23911,\n",
       "  529,\n",
       "  99,\n",
       "  565,\n",
       "  989,\n",
       "  3,\n",
       "  35,\n",
       "  315,\n",
       "  5636,\n",
       "  1081,\n",
       "  590,\n",
       "  249,\n",
       "  345,\n",
       "  33,\n",
       "  484,\n",
       "  10,\n",
       "  164,\n",
       "  4963,\n",
       "  32],\n",
       " [51213,\n",
       "  3145,\n",
       "  19606,\n",
       "  2,\n",
       "  802,\n",
       "  1446,\n",
       "  345,\n",
       "  4729,\n",
       "  45,\n",
       "  3,\n",
       "  4417,\n",
       "  25482,\n",
       "  565,\n",
       "  195,\n",
       "  788,\n",
       "  998,\n",
       "  58,\n",
       "  860,\n",
       "  71,\n",
       "  30148,\n",
       "  6497,\n",
       "  4963,\n",
       "  127,\n",
       "  359,\n",
       "  4909,\n",
       "  333,\n",
       "  3,\n",
       "  513,\n",
       "  2784,\n",
       "  1101,\n",
       "  633,\n",
       "  318,\n",
       "  61,\n",
       "  62,\n",
       "  4963,\n",
       "  211,\n",
       "  88,\n",
       "  124,\n",
       "  6,\n",
       "  10703,\n",
       "  54,\n",
       "  7,\n",
       "  13406,\n",
       "  148,\n",
       "  1714,\n",
       "  275,\n",
       "  32,\n",
       "  114,\n",
       "  563,\n",
       "  150,\n",
       "  130,\n",
       "  54,\n",
       "  146,\n",
       "  508],\n",
       " [61,\n",
       "  182,\n",
       "  4963,\n",
       "  25,\n",
       "  1146,\n",
       "  2138,\n",
       "  1884,\n",
       "  39490,\n",
       "  15705,\n",
       "  1424,\n",
       "  7010,\n",
       "  939,\n",
       "  17615,\n",
       "  13406,\n",
       "  65,\n",
       "  1328,\n",
       "  5703,\n",
       "  423,\n",
       "  224,\n",
       "  2607,\n",
       "  568,\n",
       "  533,\n",
       "  374,\n",
       "  9,\n",
       "  219,\n",
       "  802,\n",
       "  1146,\n",
       "  1884,\n",
       "  743,\n",
       "  4963,\n",
       "  3154,\n",
       "  6143,\n",
       "  159,\n",
       "  811,\n",
       "  3,\n",
       "  18,\n",
       "  11497,\n",
       "  35,\n",
       "  15,\n",
       "  26,\n",
       "  28,\n",
       "  466,\n",
       "  2],\n",
       " [462,\n",
       "  173,\n",
       "  4936,\n",
       "  2,\n",
       "  573,\n",
       "  242,\n",
       "  256,\n",
       "  11693,\n",
       "  178,\n",
       "  8616,\n",
       "  6,\n",
       "  222,\n",
       "  1640,\n",
       "  17,\n",
       "  10,\n",
       "  95,\n",
       "  458,\n",
       "  51,\n",
       "  10,\n",
       "  3360,\n",
       "  157,\n",
       "  35,\n",
       "  726,\n",
       "  515,\n",
       "  49,\n",
       "  82,\n",
       "  4936,\n",
       "  10,\n",
       "  127,\n",
       "  49,\n",
       "  82,\n",
       "  2,\n",
       "  13,\n",
       "  130,\n",
       "  11,\n",
       "  404,\n",
       "  371,\n",
       "  10,\n",
       "  7,\n",
       "  4963,\n",
       "  88,\n",
       "  404,\n",
       "  371,\n",
       "  1742,\n",
       "  10,\n",
       "  2,\n",
       "  132],\n",
       " [4963,\n",
       "  505,\n",
       "  782,\n",
       "  175,\n",
       "  78,\n",
       "  4495,\n",
       "  834,\n",
       "  78,\n",
       "  6,\n",
       "  260,\n",
       "  211,\n",
       "  171,\n",
       "  10,\n",
       "  51,\n",
       "  1152,\n",
       "  1223,\n",
       "  53,\n",
       "  260,\n",
       "  60,\n",
       "  69,\n",
       "  44,\n",
       "  9226,\n",
       "  10,\n",
       "  26,\n",
       "  69,\n",
       "  383,\n",
       "  207,\n",
       "  60,\n",
       "  116,\n",
       "  130,\n",
       "  186,\n",
       "  558,\n",
       "  22,\n",
       "  3570,\n",
       "  547,\n",
       "  134,\n",
       "  991,\n",
       "  106,\n",
       "  116,\n",
       "  802,\n",
       "  1446,\n",
       "  6,\n",
       "  1217,\n",
       "  2,\n",
       "  587,\n",
       "  375,\n",
       "  9,\n",
       "  140,\n",
       "  6,\n",
       "  118,\n",
       "  36,\n",
       "  57,\n",
       "  3,\n",
       "  59,\n",
       "  802,\n",
       "  1446,\n",
       "  7,\n",
       "  46,\n",
       "  681,\n",
       "  830,\n",
       "  39489,\n",
       "  2,\n",
       "  383,\n",
       "  7939,\n",
       "  438,\n",
       "  2,\n",
       "  111,\n",
       "  8,\n",
       "  140,\n",
       "  57,\n",
       "  1218,\n",
       "  195,\n",
       "  9227,\n",
       "  130,\n",
       "  39,\n",
       "  8,\n",
       "  99,\n",
       "  7,\n",
       "  2727,\n",
       "  431,\n",
       "  1079,\n",
       "  221,\n",
       "  51214,\n",
       "  3570,\n",
       "  48,\n",
       "  159,\n",
       "  11,\n",
       "  314,\n",
       "  183,\n",
       "  6601,\n",
       "  38,\n",
       "  13,\n",
       "  203,\n",
       "  29,\n",
       "  193,\n",
       "  1018,\n",
       "  110,\n",
       "  101,\n",
       "  197,\n",
       "  2435,\n",
       "  51,\n",
       "  3,\n",
       "  1830,\n",
       "  1812,\n",
       "  6,\n",
       "  262,\n",
       "  127,\n",
       "  52,\n",
       "  1369,\n",
       "  1553,\n",
       "  221,\n",
       "  51215,\n",
       "  18213,\n",
       "  53,\n",
       "  2,\n",
       "  53,\n",
       "  3973,\n",
       "  1554,\n",
       "  848,\n",
       "  295,\n",
       "  10,\n",
       "  14,\n",
       "  7,\n",
       "  82,\n",
       "  100,\n",
       "  2034,\n",
       "  1752,\n",
       "  323,\n",
       "  213,\n",
       "  4963,\n",
       "  83,\n",
       "  660,\n",
       "  58,\n",
       "  136,\n",
       "  5249,\n",
       "  337,\n",
       "  10,\n",
       "  657,\n",
       "  1277,\n",
       "  1118,\n",
       "  1305,\n",
       "  58,\n",
       "  43,\n",
       "  295,\n",
       "  34,\n",
       "  5146,\n",
       "  3545,\n",
       "  899,\n",
       "  886,\n",
       "  206,\n",
       "  51216,\n",
       "  8617,\n",
       "  39491,\n",
       "  3,\n",
       "  77,\n",
       "  3,\n",
       "  299,\n",
       "  1927,\n",
       "  181,\n",
       "  208,\n",
       "  648,\n",
       "  15,\n",
       "  3,\n",
       "  479,\n",
       "  53,\n",
       "  126,\n",
       "  17,\n",
       "  199,\n",
       "  660,\n",
       "  497,\n",
       "  8,\n",
       "  29,\n",
       "  6,\n",
       "  2,\n",
       "  335,\n",
       "  206,\n",
       "  36,\n",
       "  33791,\n",
       "  53,\n",
       "  438,\n",
       "  6,\n",
       "  195,\n",
       "  712,\n",
       "  295,\n",
       "  25,\n",
       "  105,\n",
       "  3,\n",
       "  1900,\n",
       "  3598,\n",
       "  110,\n",
       "  3955,\n",
       "  1069,\n",
       "  477,\n",
       "  1328,\n",
       "  56,\n",
       "  272,\n",
       "  36,\n",
       "  39492,\n",
       "  1115,\n",
       "  2322,\n",
       "  3,\n",
       "  60,\n",
       "  1383,\n",
       "  61,\n",
       "  18,\n",
       "  1094,\n",
       "  6,\n",
       "  223,\n",
       "  39,\n",
       "  539,\n",
       "  948,\n",
       "  30,\n",
       "  740,\n",
       "  6,\n",
       "  1742,\n",
       "  136,\n",
       "  9518,\n",
       "  1081,\n",
       "  5018,\n",
       "  59,\n",
       "  62,\n",
       "  1390,\n",
       "  57,\n",
       "  3,\n",
       "  587,\n",
       "  158,\n",
       "  237,\n",
       "  27,\n",
       "  771,\n",
       "  39493,\n",
       "  9,\n",
       "  219,\n",
       "  3,\n",
       "  4796,\n",
       "  1115,\n",
       "  140,\n",
       "  3441,\n",
       "  3003,\n",
       "  3,\n",
       "  28,\n",
       "  2472,\n",
       "  39,\n",
       "  13,\n",
       "  99,\n",
       "  3,\n",
       "  9,\n",
       "  105,\n",
       "  1742,\n",
       "  509,\n",
       "  310,\n",
       "  171,\n",
       "  8,\n",
       "  780,\n",
       "  171,\n",
       "  19607,\n",
       "  142,\n",
       "  68,\n",
       "  550,\n",
       "  272,\n",
       "  51217,\n",
       "  519,\n",
       "  939,\n",
       "  10340,\n",
       "  528,\n",
       "  53,\n",
       "  7939,\n",
       "  3,\n",
       "  172,\n",
       "  631,\n",
       "  1412,\n",
       "  186,\n",
       "  550,\n",
       "  115,\n",
       "  3,\n",
       "  1525,\n",
       "  119,\n",
       "  3370,\n",
       "  6546,\n",
       "  206,\n",
       "  39494,\n",
       "  992,\n",
       "  302,\n",
       "  2,\n",
       "  684,\n",
       "  2234,\n",
       "  418,\n",
       "  6,\n",
       "  5108,\n",
       "  1452,\n",
       "  67,\n",
       "  2,\n",
       "  136,\n",
       "  6688,\n",
       "  4963,\n",
       "  1305,\n",
       "  39,\n",
       "  260,\n",
       "  1248,\n",
       "  2812,\n",
       "  234,\n",
       "  1671,\n",
       "  53,\n",
       "  130,\n",
       "  8,\n",
       "  29,\n",
       "  115,\n",
       "  206,\n",
       "  51218,\n",
       "  22581,\n",
       "  1593,\n",
       "  30,\n",
       "  53,\n",
       "  1076,\n",
       "  1524,\n",
       "  8,\n",
       "  563,\n",
       "  19608,\n",
       "  539,\n",
       "  39,\n",
       "  1672,\n",
       "  2,\n",
       "  60,\n",
       "  9032,\n",
       "  39495,\n",
       "  8,\n",
       "  7,\n",
       "  77,\n",
       "  3545,\n",
       "  170,\n",
       "  83,\n",
       "  8,\n",
       "  63,\n",
       "  6337,\n",
       "  272,\n",
       "  36,\n",
       "  51219,\n",
       "  35,\n",
       "  315,\n",
       "  2229,\n",
       "  1143,\n",
       "  383,\n",
       "  8,\n",
       "  1715,\n",
       "  908,\n",
       "  44,\n",
       "  5,\n",
       "  115,\n",
       "  547,\n",
       "  3570,\n",
       "  39,\n",
       "  1653,\n",
       "  77,\n",
       "  83,\n",
       "  2,\n",
       "  115,\n",
       "  550,\n",
       "  718,\n",
       "  226,\n",
       "  203,\n",
       "  43,\n",
       "  8,\n",
       "  18,\n",
       "  5903,\n",
       "  360,\n",
       "  221,\n",
       "  39496,\n",
       "  65,\n",
       "  150,\n",
       "  701,\n",
       "  13406,\n",
       "  751,\n",
       "  2975,\n",
       "  6,\n",
       "  17,\n",
       "  140,\n",
       "  97,\n",
       "  34,\n",
       "  15,\n",
       "  25483,\n",
       "  301,\n",
       "  116,\n",
       "  802,\n",
       "  1446,\n",
       "  6546,\n",
       "  2,\n",
       "  505,\n",
       "  578,\n",
       "  547,\n",
       "  8,\n",
       "  24,\n",
       "  6,\n",
       "  728,\n",
       "  2813]]"
      ]
     },
     "execution_count": 66,
     "metadata": {},
     "output_type": "execute_result"
    }
   ],
   "source": [
    "t.texts_to_sequences(prep_df.words.values[:5])\n"
   ]
  },
  {
   "cell_type": "markdown",
   "id": "ebbd1686-20f5-486d-82eb-36900ba0f7e3",
   "metadata": {},
   "source": [
    "### 3.  Explain the padding process used to standardize the length of sequences, including the following in your explanation:\n",
    "\n",
    "\n",
    "\n",
    "\n",
    "\n",
    "\n",
    "\n",
    "\n",
    "\n"
   ]
  },
  {
   "cell_type": "code",
   "execution_count": 72,
   "id": "4409d8cf-3f24-4826-ae36-508dbf52acbe",
   "metadata": {},
   "outputs": [
    {
     "data": {
      "text/plain": [
       "array([[   90,   294,   802, ...,    14,     7, 11884],\n",
       "       [51213,  3145, 19606, ...,   114,   563,   150],\n",
       "       [   61,   182,  4963, ...,     0,     0,     0],\n",
       "       ...,\n",
       "       [  513,    16,     3, ...,     0,     0,     0],\n",
       "       [ 1420,  1403,    38, ...,  3460,  1090,   407],\n",
       "       [  858,  3504,    21, ...,  7572,   239,     7]], dtype=int32)"
      ]
     },
     "execution_count": 72,
     "metadata": {},
     "output_type": "execute_result"
    }
   ],
   "source": [
    "\n",
    "\n",
    "# t = tf.keras.preprocessing.text.Tokenizer(oov_token = '[UNK]', lower=True)\n",
    "seq_train = t.texts_to_sequences(prep_df.words.values)\n",
    "# seq_train\n",
    "pad_train = pad_sequences(sequences=seq_train, maxlen=50, padding=\"post\", truncating=\"post\")\n",
    "pad_train"
   ]
  },
  {
   "cell_type": "markdown",
   "id": "c6c08a48-a990-4daa-b857-5a7a76f1109a",
   "metadata": {},
   "source": [
    "#### a. if the padding occurs before or after the text sequence"
   ]
  },
  {
   "cell_type": "markdown",
   "id": "4b91fcce-d35c-4674-926c-c7b949b595c3",
   "metadata": {},
   "source": [
    "#### b. a screenshot of a single padded sequence"
   ]
  },
  {
   "cell_type": "markdown",
   "id": "b764cff8-c762-4e92-849d-207add8190c7",
   "metadata": {},
   "source": [
    "### 4.  Identify how many categories of sentiment will be used and an activation function for the final dense layer of the network."
   ]
  },
  {
   "cell_type": "markdown",
   "id": "efaf3fa2-ce68-4c02-b2db-d41483b2e3b1",
   "metadata": {},
   "source": [
    "### 5.  Explain the steps used to prepare the data for analysis, including the size of the training, validation, and test set split."
   ]
  },
  {
   "cell_type": "code",
   "execution_count": 165,
   "id": "9bbac9c0-d1c7-4381-8eb8-9fbabc6927f2",
   "metadata": {},
   "outputs": [
    {
     "data": {
      "text/html": [
       "<div>\n",
       "<style scoped>\n",
       "    .dataframe tbody tr th:only-of-type {\n",
       "        vertical-align: middle;\n",
       "    }\n",
       "\n",
       "    .dataframe tbody tr th {\n",
       "        vertical-align: top;\n",
       "    }\n",
       "\n",
       "    .dataframe thead th {\n",
       "        text-align: right;\n",
       "    }\n",
       "</style>\n",
       "<table border=\"1\" class=\"dataframe\">\n",
       "  <thead>\n",
       "    <tr style=\"text-align: right;\">\n",
       "      <th></th>\n",
       "      <th>words</th>\n",
       "      <th>overall_pos_neg</th>\n",
       "    </tr>\n",
       "  </thead>\n",
       "  <tbody>\n",
       "    <tr>\n",
       "      <th>0</th>\n",
       "      <td>favorite ohio player lp mainly 7 terrific song great writing terrific playing lovliest quirkiest vocal ever put wax title track open album sport one prettiest melody gent ever come doo wop flavored ballad set calming soothing mood permeates almost every track exception heavy rock funk track quot fopp quot ever wonder gun n rose copped riff quot paradise city quot answer number 1 hit quot love rollercoaster quot centerpiece album masterpiece quot sweet sticky thing quot one longest track special note band display overt jazz sound sax playing color chorus astounding drumming jimmy quot diamond quot williams notice great footwork cymbal roll crash close song track alone make lp worth owning closing ballad quot alone quot another stunner featuring sugarfoot guitar rising falling synth background sugarfoot plaintive voice singing lyric loneliness desperation wanna alone anymore someone pick floor quot alone quot end classic album melancholy hopeful note u hopeless romantic surprisingly quot honey quot never sound dated fact influence heard music artist last 2 decade music soul rock case point red hot chili pepper cover quot rollercoaster quot 1996 winning album ha stood rest time</td>\n",
       "      <td>1</td>\n",
       "    </tr>\n",
       "  </tbody>\n",
       "</table>\n",
       "</div>"
      ],
      "text/plain": [
       "                                                                                                                                                                                                                                                                                                                                                                                                                                                                                                                                                                                                                                                                                                                                                                                                                                                                                                                                                                                                                                                                                                                                                                                                                                       words  \\\n",
       "0  favorite ohio player lp mainly 7 terrific song great writing terrific playing lovliest quirkiest vocal ever put wax title track open album sport one prettiest melody gent ever come doo wop flavored ballad set calming soothing mood permeates almost every track exception heavy rock funk track quot fopp quot ever wonder gun n rose copped riff quot paradise city quot answer number 1 hit quot love rollercoaster quot centerpiece album masterpiece quot sweet sticky thing quot one longest track special note band display overt jazz sound sax playing color chorus astounding drumming jimmy quot diamond quot williams notice great footwork cymbal roll crash close song track alone make lp worth owning closing ballad quot alone quot another stunner featuring sugarfoot guitar rising falling synth background sugarfoot plaintive voice singing lyric loneliness desperation wanna alone anymore someone pick floor quot alone quot end classic album melancholy hopeful note u hopeless romantic surprisingly quot honey quot never sound dated fact influence heard music artist last 2 decade music soul rock case point red hot chili pepper cover quot rollercoaster quot 1996 winning album ha stood rest time   \n",
       "\n",
       "   overall_pos_neg  \n",
       "0                1  "
      ]
     },
     "execution_count": 165,
     "metadata": {},
     "output_type": "execute_result"
    },
    {
     "data": {
      "text/plain": [
       " 1    41692\n",
       "-1    10072\n",
       "Name: overall_pos_neg, dtype: int64"
      ]
     },
     "execution_count": 165,
     "metadata": {},
     "output_type": "execute_result"
    },
    {
     "data": {
      "text/html": [
       "<div>\n",
       "<style scoped>\n",
       "    .dataframe tbody tr th:only-of-type {\n",
       "        vertical-align: middle;\n",
       "    }\n",
       "\n",
       "    .dataframe tbody tr th {\n",
       "        vertical-align: top;\n",
       "    }\n",
       "\n",
       "    .dataframe thead th {\n",
       "        text-align: right;\n",
       "    }\n",
       "</style>\n",
       "<table border=\"1\" class=\"dataframe\">\n",
       "  <thead>\n",
       "    <tr style=\"text-align: right;\">\n",
       "      <th></th>\n",
       "      <th>words</th>\n",
       "      <th>overall_pos_neg</th>\n",
       "    </tr>\n",
       "  </thead>\n",
       "  <tbody>\n",
       "    <tr>\n",
       "      <th>0</th>\n",
       "      <td>start addicted jazz love record could provide valuable information justify buying record say something great fluidity note silence happens stop listening wa also thinking bridge round midnight kind blue mistake way</td>\n",
       "      <td>1</td>\n",
       "    </tr>\n",
       "  </tbody>\n",
       "</table>\n",
       "</div>"
      ],
      "text/plain": [
       "                                                                                                                                                                                                                    words  \\\n",
       "0  start addicted jazz love record could provide valuable information justify buying record say something great fluidity note silence happens stop listening wa also thinking bridge round midnight kind blue mistake way   \n",
       "\n",
       "   overall_pos_neg  \n",
       "0                1  "
      ]
     },
     "execution_count": 165,
     "metadata": {},
     "output_type": "execute_result"
    },
    {
     "data": {
      "text/plain": [
       " 1    10424\n",
       "-1     2518\n",
       "Name: overall_pos_neg, dtype: int64"
      ]
     },
     "execution_count": 165,
     "metadata": {},
     "output_type": "execute_result"
    }
   ],
   "source": [
    "from sklearn.model_selection import train_test_split\n",
    "\n",
    "prep_df[\"overall_pos_neg\"] = prep_df.overall.map(lambda x: 1 if x > 3 else -1 )\n",
    "\n",
    "# x should be padded seqs\n",
    "X, y = prep_df[\"words\"], prep_df[\"overall_pos_neg\"]\n",
    "\n",
    "# y\n",
    "\n",
    "# # # prep_df.head()\n",
    "# # # X = StandardScaler().fit_transform(X)\n",
    "X_train, X_test, y_train, y_test = train_test_split(\n",
    "    X, y, test_size=0.2, random_state=RANDOM_STATE, stratify=y\n",
    ")\n",
    "\n",
    "cols = [\"words\", \"overall_pos_neg\"]\n",
    "train_df= pd.DataFrame(zip(X_train, y_train), columns=cols)\n",
    "train_df.head(1)\n",
    "train_df.overall_pos_neg.value_counts()\n",
    "\n",
    "\n",
    "test_df= pd.DataFrame(zip(X_test, y_test), columns=cols)\n",
    "test_df.head(1)\n",
    "test_df.overall_pos_neg.value_counts()\n"
   ]
  },
  {
   "cell_type": "markdown",
   "id": "ad84a30d-eeea-4f77-80d9-6903dec764fe",
   "metadata": {},
   "source": [
    "### 6.  Provide a copy of the prepared dataset."
   ]
  },
  {
   "cell_type": "markdown",
   "id": "9d4c8a61-5107-474b-a2ff-fdb3146e74dd",
   "metadata": {},
   "source": [
    "# Part III:  Network Architecture\n",
    "\n"
   ]
  },
  {
   "cell_type": "markdown",
   "id": "3de7275f-87b2-45f8-8dc6-0c6424738d68",
   "metadata": {},
   "source": [
    "## C.  Describe the type of network used by doing the following:\n",
    "\n"
   ]
  },
  {
   "cell_type": "code",
   "execution_count": 172,
   "id": "62bd9e0e-73ce-47b2-a197-191b70fe5ea8",
   "metadata": {},
   "outputs": [
    {
     "data": {
      "text/plain": [
       "'2.10.0'"
      ]
     },
     "execution_count": 172,
     "metadata": {},
     "output_type": "execute_result"
    },
    {
     "data": {
      "text/plain": [
       "(array([list([1, 14, 22, 16, 43, 530, 973, 1622, 1385, 65, 458, 4468, 66, 3941, 4, 173, 36, 256, 5, 25, 100, 43, 838, 112, 50, 670, 2, 9, 35, 480, 284, 5, 150, 4, 172, 112, 167, 2, 336, 385, 39, 4, 172, 4536, 1111, 17, 546, 38, 13, 447, 4, 192, 50, 16, 6, 147, 2025, 19, 14, 22, 4, 1920, 4613, 469, 4, 22, 71, 87, 12, 16, 43, 530, 38, 76, 15, 13, 1247, 4, 22, 17, 515, 17, 12, 16, 626, 18, 19193, 5, 62, 386, 12, 8, 316, 8, 106, 5, 4, 2223, 5244, 16, 480, 66, 3785, 33, 4, 130, 12, 16, 38, 619, 5, 25, 124, 51, 36, 135, 48, 25, 1415, 33, 6, 22, 12, 215, 28, 77, 52, 5, 14, 407, 16, 82, 10311, 8, 4, 107, 117, 5952, 15, 256, 4, 2, 7, 3766, 5, 723, 36, 71, 43, 530, 476, 26, 400, 317, 46, 7, 4, 12118, 1029, 13, 104, 88, 4, 381, 15, 297, 98, 32, 2071, 56, 26, 141, 6, 194, 7486, 18, 4, 226, 22, 21, 134, 476, 26, 480, 5, 144, 30, 5535, 18, 51, 36, 28, 224, 92, 25, 104, 4, 226, 65, 16, 38, 1334, 88, 12, 16, 283, 5, 16, 4472, 113, 103, 32, 15, 16, 5345, 19, 178, 32]),\n",
       "        list([1, 194, 1153, 194, 8255, 78, 228, 5, 6, 1463, 4369, 5012, 134, 26, 4, 715, 8, 118, 1634, 14, 394, 20, 13, 119, 954, 189, 102, 5, 207, 110, 3103, 21, 14, 69, 188, 8, 30, 23, 7, 4, 249, 126, 93, 4, 114, 9, 2300, 1523, 5, 647, 4, 116, 9, 35, 8163, 4, 229, 9, 340, 1322, 4, 118, 9, 4, 130, 4901, 19, 4, 1002, 5, 89, 29, 952, 46, 37, 4, 455, 9, 45, 43, 38, 1543, 1905, 398, 4, 1649, 26, 6853, 5, 163, 11, 3215, 10156, 4, 1153, 9, 194, 775, 7, 8255, 11596, 349, 2637, 148, 605, 15358, 8003, 15, 123, 125, 68, 2, 6853, 15, 349, 165, 4362, 98, 5, 4, 228, 9, 43, 2, 1157, 15, 299, 120, 5, 120, 174, 11, 220, 175, 136, 50, 9, 4373, 228, 8255, 5, 2, 656, 245, 2350, 5, 4, 9837, 131, 152, 491, 18, 2, 32, 7464, 1212, 14, 9, 6, 371, 78, 22, 625, 64, 1382, 9, 8, 168, 145, 23, 4, 1690, 15, 16, 4, 1355, 5, 28, 6, 52, 154, 462, 33, 89, 78, 285, 16, 145, 95]),\n",
       "        list([1, 14, 47, 8, 30, 31, 7, 4, 249, 108, 7, 4, 5974, 54, 61, 369, 13, 71, 149, 14, 22, 112, 4, 2401, 311, 12, 16, 3711, 33, 75, 43, 1829, 296, 4, 86, 320, 35, 534, 19, 263, 4821, 1301, 4, 1873, 33, 89, 78, 12, 66, 16, 4, 360, 7, 4, 58, 316, 334, 11, 4, 1716, 43, 645, 662, 8, 257, 85, 1200, 42, 1228, 2578, 83, 68, 3912, 15, 36, 165, 1539, 278, 36, 69, 2, 780, 8, 106, 14, 6905, 1338, 18, 6, 22, 12, 215, 28, 610, 40, 6, 87, 326, 23, 2300, 21, 23, 22, 12, 272, 40, 57, 31, 11, 4, 22, 47, 6, 2307, 51, 9, 170, 23, 595, 116, 595, 1352, 13, 191, 79, 638, 89, 2, 14, 9, 8, 106, 607, 624, 35, 534, 6, 227, 7, 129, 113]),\n",
       "        ...,\n",
       "        list([1, 11, 6, 230, 245, 6401, 9, 6, 1225, 446, 2, 45, 2174, 84, 8322, 4007, 21, 4, 912, 84, 14532, 325, 725, 134, 15271, 1715, 84, 5, 36, 28, 57, 1099, 21, 8, 140, 8, 703, 5, 11656, 84, 56, 18, 1644, 14, 9, 31, 7, 4, 9406, 1209, 2295, 2, 1008, 18, 6, 20, 207, 110, 563, 12, 8, 2901, 17793, 8, 97, 6, 20, 53, 4767, 74, 4, 460, 364, 1273, 29, 270, 11, 960, 108, 45, 40, 29, 2961, 395, 11, 6, 4065, 500, 7, 14492, 89, 364, 70, 29, 140, 4, 64, 4780, 11, 4, 2678, 26, 178, 4, 529, 443, 17793, 5, 27, 710, 117, 2, 8123, 165, 47, 84, 37, 131, 818, 14, 595, 10, 10, 61, 1242, 1209, 10, 10, 288, 2260, 1702, 34, 2901, 17793, 4, 65, 496, 4, 231, 7, 790, 5, 6, 320, 234, 2766, 234, 1119, 1574, 7, 496, 4, 139, 929, 2901, 17793, 7750, 5, 4241, 18, 4, 8497, 13164, 250, 11, 1818, 7561, 4, 4217, 5408, 747, 1115, 372, 1890, 1006, 541, 9303, 7, 4, 59, 11027, 4, 3586, 2]),\n",
       "        list([1, 1446, 7079, 69, 72, 3305, 13, 610, 930, 8, 12, 582, 23, 5, 16, 484, 685, 54, 349, 11, 4120, 2959, 45, 58, 1466, 13, 197, 12, 16, 43, 23, 2, 5, 62, 30, 145, 402, 11, 4131, 51, 575, 32, 61, 369, 71, 66, 770, 12, 1054, 75, 100, 2198, 8, 4, 105, 37, 69, 147, 712, 75, 3543, 44, 257, 390, 5, 69, 263, 514, 105, 50, 286, 1814, 23, 4, 123, 13, 161, 40, 5, 421, 4, 116, 16, 897, 13, 2, 40, 319, 5872, 112, 6700, 11, 4803, 121, 25, 70, 3468, 4, 719, 3798, 13, 18, 31, 62, 40, 8, 7200, 4, 2, 7, 14, 123, 5, 942, 25, 8, 721, 12, 145, 5, 202, 12, 160, 580, 202, 12, 6, 52, 58, 11418, 92, 401, 728, 12, 39, 14, 251, 8, 15, 251, 5, 2, 12, 38, 84, 80, 124, 12, 9, 23]),\n",
       "        list([1, 17, 6, 194, 337, 7, 4, 204, 22, 45, 254, 8, 106, 14, 123, 4, 12815, 270, 14437, 5, 16923, 12255, 732, 2098, 101, 405, 39, 14, 1034, 4, 1310, 9, 115, 50, 305, 12, 47, 4, 168, 5, 235, 7, 38, 111, 699, 102, 7, 4, 4039, 9245, 9, 24, 6, 78, 1099, 17, 2345, 16553, 21, 27, 9685, 6139, 5, 2, 1603, 92, 1183, 4, 1310, 7, 4, 204, 42, 97, 90, 35, 221, 109, 29, 127, 27, 118, 8, 97, 12, 157, 21, 6789, 2, 9, 6, 66, 78, 1099, 4, 631, 1191, 5, 2642, 272, 191, 1070, 6, 7585, 8, 2197, 2, 10755, 544, 5, 383, 1271, 848, 1468, 12183, 497, 16876, 8, 1597, 8778, 19280, 21, 60, 27, 239, 9, 43, 8368, 209, 405, 10, 10, 12, 764, 40, 4, 248, 20, 12, 16, 5, 174, 1791, 72, 7, 51, 6, 1739, 22, 4, 204, 131, 9])],\n",
       "       dtype=object),\n",
       " array([1, 0, 0, ..., 0, 1, 0]),\n",
       " array([list([1, 591, 202, 14, 31, 6, 717, 10, 10, 18142, 10698, 5, 4, 360, 7, 4, 177, 5760, 394, 354, 4, 123, 9, 1035, 1035, 1035, 10, 10, 13, 92, 124, 89, 488, 7944, 100, 28, 1668, 14, 31, 23, 27, 7479, 29, 220, 468, 8, 124, 14, 286, 170, 8, 157, 46, 5, 27, 239, 16, 179, 15387, 38, 32, 25, 7944, 451, 202, 14, 6, 717]),\n",
       "        list([1, 14, 22, 3443, 6, 176, 7, 5063, 88, 12, 2679, 23, 1310, 5, 109, 943, 4, 114, 9, 55, 606, 5, 111, 7, 4, 139, 193, 273, 23, 4, 172, 270, 11, 7216, 10626, 4, 8463, 2801, 109, 1603, 21, 4, 22, 3861, 8, 6, 1193, 1330, 10, 10, 4, 105, 987, 35, 841, 16873, 19, 861, 1074, 5, 1987, 17975, 45, 55, 221, 15, 670, 5304, 526, 14, 1069, 4, 405, 5, 2438, 7, 27, 85, 108, 131, 4, 5045, 5304, 3884, 405, 9, 3523, 133, 5, 50, 13, 104, 51, 66, 166, 14, 22, 157, 9, 4, 530, 239, 34, 8463, 2801, 45, 407, 31, 7, 41, 3778, 105, 21, 59, 299, 12, 38, 950, 5, 4521, 15, 45, 629, 488, 2733, 127, 6, 52, 292, 17, 4, 6936, 185, 132, 1988, 5304, 1799, 488, 2693, 47, 6, 392, 173, 4, 2, 4378, 270, 2352, 4, 1500, 7, 4, 65, 55, 73, 11, 346, 14, 20, 9, 6, 976, 2078, 7, 5293, 861, 12746, 5, 4182, 30, 3127, 2, 56, 4, 841, 5, 990, 692, 8, 4, 1669, 398, 229, 10, 10, 13, 2822, 670, 5304, 14, 9, 31, 7, 27, 111, 108, 15, 2033, 19, 7836, 1429, 875, 551, 14, 22, 9, 1193, 21, 45, 4829, 5, 45, 252, 8, 12508, 6, 565, 921, 3639, 39, 4, 529, 48, 25, 181, 8, 67, 35, 1732, 22, 49, 238, 60, 135, 1162, 14, 9, 290, 4, 58, 10, 10, 472, 45, 55, 878, 8, 169, 11, 374, 5687, 25, 203, 28, 8, 818, 12, 125, 4, 3077]),\n",
       "        list([1, 111, 748, 4368, 1133, 2, 2, 4, 87, 1551, 1262, 7, 31, 318, 9459, 7, 4, 498, 5076, 748, 63, 29, 5161, 220, 686, 10941, 5, 17, 12, 575, 220, 2507, 17, 6, 185, 132, 2, 16, 53, 928, 11, 2, 74, 4, 438, 21, 27, 10044, 589, 8, 22, 107, 2, 19550, 997, 1638, 8, 35, 2076, 9019, 11, 22, 231, 54, 29, 1706, 29, 100, 18995, 2425, 34, 12998, 8738, 2, 5, 19353, 98, 31, 2122, 33, 6, 58, 14, 3808, 1638, 8, 4, 365, 7, 2789, 3761, 356, 346, 4, 2, 1060, 63, 29, 93, 11, 5421, 11, 15236, 33, 6, 58, 54, 1270, 431, 748, 7, 32, 2580, 16, 11, 94, 19469, 10, 10, 4, 993, 2, 7, 4, 1766, 2634, 2164, 2, 8, 847, 8, 1450, 121, 31, 7, 27, 86, 2663, 10760, 16, 6, 465, 993, 2006, 2, 573, 17, 2, 42, 4, 17345, 37, 473, 6, 711, 6, 8869, 7, 328, 212, 70, 30, 258, 11, 220, 32, 7, 108, 21, 133, 12, 9, 55, 465, 849, 3711, 53, 33, 2071, 1969, 37, 70, 1144, 4, 5940, 1409, 74, 476, 37, 62, 91, 1329, 169, 4, 1330, 10104, 146, 655, 2212, 5, 258, 12, 184, 10104, 546, 5, 849, 10333, 7, 4, 22, 1436, 18, 631, 1386, 797, 7, 4, 8712, 71, 348, 425, 4320, 1061, 19, 10288, 5, 12141, 11, 661, 8, 339, 17863, 4, 2455, 11434, 7, 4, 1962, 10, 10, 263, 787, 9, 270, 11, 6, 9466, 4, 2, 2, 121, 4, 5437, 26, 4434, 19, 68, 1372, 5, 28, 446, 6, 318, 7149, 8, 67, 51, 36, 70, 81, 8, 4392, 2294, 36, 1197, 8, 2, 2, 18, 6, 711, 4, 9909, 26, 10296, 1125, 11, 14, 636, 720, 12, 426, 28, 77, 776, 8, 97, 38, 111, 7489, 6175, 168, 1239, 5189, 137, 2, 18, 27, 173, 9, 2399, 17, 6, 12397, 428, 14657, 232, 11, 4, 8014, 37, 272, 40, 2708, 247, 30, 656, 6, 13182, 54, 2, 3292, 98, 6, 2840, 40, 558, 37, 6093, 98, 4, 17345, 1197, 15, 14, 9, 57, 4893, 5, 4659, 6, 275, 711, 7937, 2, 3292, 98, 6, 2, 10, 10, 6639, 19, 14, 10241, 267, 162, 711, 37, 5900, 752, 98, 4, 17345, 2378, 90, 19, 6, 2, 7, 2, 1810, 2, 4, 4770, 3183, 930, 8, 508, 90, 4, 1317, 8, 4, 2, 17, 15454, 3965, 1853, 4, 1494, 8, 4468, 189, 4, 2, 6287, 5774, 4, 4770, 5, 95, 271, 23, 6, 7742, 6063, 2, 5437, 33, 1526, 6, 425, 3155, 2, 4535, 1636, 7, 4, 4669, 11966, 469, 4, 4552, 54, 4, 150, 5664, 17345, 280, 53, 2, 2, 18, 339, 29, 1978, 27, 7885, 5, 17303, 68, 1830, 19, 6571, 14605, 4, 1515, 7, 263, 65, 2132, 34, 6, 5680, 7489, 43, 159, 29, 9, 4706, 9, 387, 73, 195, 584, 10, 10, 1069, 4, 58, 810, 54, 14, 6078, 117, 22, 16, 93, 5, 1069, 4, 192, 15, 12, 16, 93, 34, 6, 1766, 2, 33, 4, 5673, 7, 15, 18760, 9252, 3286, 325, 12, 62, 30, 776, 8, 67, 14, 17, 6, 12214, 44, 148, 687, 2, 203, 42, 203, 24, 28, 69, 2, 6676, 11, 330, 54, 29, 93, 2, 21, 845, 14148, 27, 1099, 7, 819, 4, 22, 1407, 17, 6, 14967, 787, 7, 2460, 19569, 2, 100, 30, 4, 3737, 3617, 3169, 2321, 42, 1898, 11, 4, 3814, 42, 101, 704, 7, 101, 999, 15, 1625, 94, 2926, 180, 5, 9, 9101, 34, 15205, 45, 6, 1429, 22, 60, 6, 1220, 31, 11, 94, 6408, 96, 21, 94, 749, 9, 57, 975]),\n",
       "        ...,\n",
       "        list([1, 13, 1408, 15, 8, 135, 14, 9, 35, 32, 46, 394, 20, 62, 30, 5093, 21, 45, 184, 78, 4, 1492, 910, 769, 2290, 2515, 395, 4257, 5, 1454, 11, 119, 16946, 89, 1036, 4, 116, 218, 78, 21, 407, 100, 30, 128, 262, 15, 7, 185, 2280, 284, 1842, 2, 37, 315, 4, 226, 20, 272, 2942, 40, 29, 152, 60, 181, 8, 30, 50, 553, 362, 80, 119, 12, 21, 846, 5518]),\n",
       "        list([1, 11, 119, 241, 9, 4, 840, 20, 12, 468, 15, 94, 3684, 562, 791, 39, 4, 86, 107, 8, 97, 14, 31, 33, 4, 2960, 7, 743, 46, 1028, 9, 3531, 5, 4, 768, 47, 8, 79, 90, 145, 164, 162, 50, 6, 501, 119, 7, 9, 4, 78, 232, 15, 16, 224, 11, 4, 333, 20, 4, 985, 200, 5, 2, 5, 9, 1861, 8, 79, 357, 4, 20, 47, 220, 57, 206, 139, 11, 12, 5, 55, 117, 212, 13, 1276, 92, 124, 51, 45, 1188, 71, 536, 13, 520, 14, 20, 6, 2302, 7, 470]),\n",
       "        list([1, 6, 52, 7465, 430, 22, 9, 220, 2594, 8, 28, 2, 519, 3227, 6, 769, 15, 47, 6, 3482, 4067, 8, 114, 5, 33, 222, 31, 55, 184, 704, 5586, 18020, 19, 346, 3153, 5, 6, 364, 350, 4, 184, 5586, 9, 133, 1810, 11, 5417, 13226, 21, 4, 7298, 2, 570, 50, 2005, 2643, 9, 6, 1249, 17, 6, 2, 2, 21, 17, 6, 1211, 232, 1138, 2249, 29, 266, 56, 96, 346, 194, 308, 9, 194, 21, 29, 218, 1078, 19, 4, 78, 173, 7, 27, 2, 5698, 3406, 718, 2, 9, 6, 6907, 17, 210, 5, 3281, 5677, 47, 77, 395, 14, 172, 173, 18, 2740, 2931, 4517, 82, 127, 27, 173, 11, 6, 392, 217, 21, 50, 9, 57, 65, 12, 14274, 53, 40, 35, 390, 7, 11, 4, 3567, 7, 4, 314, 74, 6, 792, 22, 16261, 19, 714, 727, 5205, 382, 4, 91, 6533, 439, 19, 14, 20, 9, 1441, 5805, 1118, 4, 756, 25, 124, 4, 31, 12, 16, 93, 804, 34, 2005, 2643])],\n",
       "       dtype=object),\n",
       " array([0, 1, 1, ..., 0, 0, 0]))"
      ]
     },
     "execution_count": 172,
     "metadata": {},
     "output_type": "execute_result"
    },
    {
     "data": {
      "text/plain": [
       "(25000,)"
      ]
     },
     "execution_count": 172,
     "metadata": {},
     "output_type": "execute_result"
    }
   ],
   "source": [
    "from tensorflow.keras.datasets import imdb\n",
    "\n",
    "tf.__version__\n",
    "\n",
    "(X_train, y_train), (X_test, y_test) = imdb.load_data(num_words=20000)\n",
    "\n",
    "X_train, y_train, X_test, y_test\n",
    "X_train.shape"
   ]
  },
  {
   "cell_type": "code",
   "execution_count": 176,
   "id": "29417ad6-a843-4b6c-b550-9b7c5455b83f",
   "metadata": {},
   "outputs": [
    {
     "data": {
      "text/plain": [
       "(25000, 100)"
      ]
     },
     "execution_count": 176,
     "metadata": {},
     "output_type": "execute_result"
    },
    {
     "data": {
      "text/plain": [
       "(25000, 100)"
      ]
     },
     "execution_count": 176,
     "metadata": {},
     "output_type": "execute_result"
    }
   ],
   "source": [
    "X_train = pad_sequences(X_train, maxlen=100)\n",
    "X_train.shape\n",
    "\n",
    "X_test = pad_sequences(X_test, maxlen=100)\n",
    "X_test.shape"
   ]
  },
  {
   "cell_type": "code",
   "execution_count": 177,
   "id": "a976407b-5223-492c-bd91-44b5df5ea8e7",
   "metadata": {},
   "outputs": [],
   "source": [
    "vocab_size = 20000\n",
    "embed_size = 128"
   ]
  },
  {
   "cell_type": "code",
   "execution_count": 190,
   "id": "57f69333-10ff-4aa8-bb40-b6a71ba738bb",
   "metadata": {},
   "outputs": [],
   "source": [
    "# BUILD THE NETWORK\n",
    "from tensorflow.keras import Sequential\n",
    "from tensorflow.keras.layers import LSTM, Dropout, Dense, Embedding\n",
    "from tensorflow.keras.callbacks import EarlyStopping\n",
    "\n",
    "# `Sequential` groups a linear stack of layers into a `tf.keras.Model`.\n",
    "model = Sequential()\n",
    "model.add(Embedding(input_dim=vocab_size, output_dim=embed_size, input_shape=(X_train.shape[1],) )) \n",
    "model.add(LSTM(units=60, activation=\"tanh\"))\n",
    "model.add(Dense(units=1, activation=\"sigmoid\"))\n",
    "\n",
    "# Configures the model for training.\n",
    "model.compile(optimizer=\"adam\", loss=\"binary_crossentropy\", metrics=\"accuracy\")\n",
    "\n",
    "# Prints a string summary of the network.\n",
    "model.summary()"
   ]
  },
  {
   "cell_type": "code",
   "execution_count": 192,
   "id": "b4516ced-1de3-4d7f-bfe7-02f8dfcd4974",
   "metadata": {},
   "outputs": [
    {
     "name": "stdout",
     "output_type": "stream",
     "text": [
      "Epoch 1/5\n",
      "196/196 [==============================] - 28s 135ms/step - loss: 0.4275 - accuracy: 0.7988 - val_loss: 0.3621 - val_accuracy: 0.8417\n",
      "Epoch 2/5\n",
      "196/196 [==============================] - 26s 130ms/step - loss: 0.2289 - accuracy: 0.9108 - val_loss: 0.3511 - val_accuracy: 0.8477\n",
      "Epoch 3/5\n",
      "196/196 [==============================] - 25s 130ms/step - loss: 0.1418 - accuracy: 0.9497 - val_loss: 0.4417 - val_accuracy: 0.8385\n",
      "Epoch 4/5\n",
      "196/196 [==============================] - 26s 135ms/step - loss: 0.0909 - accuracy: 0.9704 - val_loss: 0.4578 - val_accuracy: 0.8332\n",
      "Epoch 5/5\n",
      "196/196 [==============================] - 26s 132ms/step - loss: 0.0665 - accuracy: 0.9779 - val_loss: 0.6164 - val_accuracy: 0.8278\n"
     ]
    }
   ],
   "source": [
    "# Stop training when a monitored metric has stopped improving.\n",
    "# helps avoid overfitting\n",
    "# Assuming the goal of a training is to minimize the loss. With this, the\n",
    "# metric to be monitored would be `'loss'`, and mode would be `'min'`. A\n",
    "# `model.fit()` training loop will check at end of every epoch whether\n",
    "# the loss is no longer decreasing, considering the `min_delta` and\n",
    "# `patience` if applicable. Once it's found no longer decreasing,\n",
    "# `model.stop_training` is marked True and the training terminates.\n",
    "\n",
    "early_stopping_monitor = EarlyStopping(patience=2)\n",
    "\n",
    "# Trains the model for a fixed number of epochs (iterations on a dataset).\n",
    "history = model.fit(x=X_train, y=y_train, epochs=5, batch_size = 128, validation_data=(X_test, y_test))"
   ]
  },
  {
   "cell_type": "code",
   "execution_count": 193,
   "id": "e3a35584-8870-4e02-ba6d-223c5136302b",
   "metadata": {},
   "outputs": [
    {
     "data": {
      "text/plain": [
       "{'loss': [0.42753973603248596,\n",
       "  0.2289106249809265,\n",
       "  0.1417669653892517,\n",
       "  0.09093377739191055,\n",
       "  0.06654223799705505],\n",
       " 'accuracy': [0.7988399863243103,\n",
       "  0.9107599854469299,\n",
       "  0.949720025062561,\n",
       "  0.9703999757766724,\n",
       "  0.9778800010681152],\n",
       " 'val_loss': [0.3621470332145691,\n",
       "  0.3511424958705902,\n",
       "  0.4416505992412567,\n",
       "  0.457783579826355,\n",
       "  0.6163837909698486],\n",
       " 'val_accuracy': [0.8417199850082397,\n",
       "  0.8477200269699097,\n",
       "  0.8385199904441833,\n",
       "  0.8331599831581116,\n",
       "  0.8277599811553955]}"
      ]
     },
     "execution_count": 193,
     "metadata": {},
     "output_type": "execute_result"
    }
   ],
   "source": [
    "history.history"
   ]
  },
  {
   "cell_type": "code",
   "execution_count": 218,
   "id": "a0112d7e-21c6-4bd4-b8b9-c61a89228f06",
   "metadata": {},
   "outputs": [
    {
     "data": {
      "image/png": "[encoded data removed]",
      "text/plain": [
       "<Figure size 1800x1500 with 1 Axes>"
      ]
     },
     "metadata": {},
     "output_type": "display_data"
    },
    {
     "data": {
      "image/png": "[encoded data removed]",
      "text/plain": [
       "<Figure size 1800x1500 with 1 Axes>"
      ]
     },
     "metadata": {},
     "output_type": "display_data"
    }
   ],
   "source": [
    "# PLOT TRAINING AND VALIDATION ACCURACY SCORES\n",
    "\n",
    "hist_df = pd.DataFrame(history.history)\n",
    "\n",
    "num_epochs = range(1,6) \n",
    "\n",
    "_ = sns.lineplot(hist_df[[\"accuracy\", \"val_accuracy\"]])\n",
    "_ = plt.xticks(ticks=range(0,5), labels=num_epochs)\n",
    "plt.show()\n",
    "\n",
    "_ = sns.lineplot(hist_df[[\"loss\", \"val_loss\"]])\n",
    "_ = plt.xticks(ticks=range(0,5), labels=num_epochs)\n",
    "plt.show()\n"
   ]
  },
  {
   "cell_type": "code",
   "execution_count": 240,
   "id": "a33028a4-4c6e-4ea3-b6ee-5826b9590815",
   "metadata": {},
   "outputs": [
    {
     "name": "stdout",
     "output_type": "stream",
     "text": [
      "782/782 [==============================] - 11s 15ms/step - loss: 0.6164 - accuracy: 0.8278\n"
     ]
    },
    {
     "data": {
      "text/plain": [
       "(0.6163842678070068, 0.8277599811553955)"
      ]
     },
     "execution_count": 240,
     "metadata": {},
     "output_type": "execute_result"
    }
   ],
   "source": [
    "# MODEL EVALUATION AGAINST TEST\n",
    "loss, accuracy = model.evaluate(X_test, y_test)\n",
    "loss, accuracy "
   ]
  },
  {
   "cell_type": "code",
   "execution_count": 235,
   "id": "eef6def0-cbb8-4ae8-ac9a-8fce8a14e323",
   "metadata": {},
   "outputs": [
    {
     "name": "stdout",
     "output_type": "stream",
     "text": [
      "782/782 [==============================] - 12s 15ms/step\n"
     ]
    }
   ],
   "source": [
    "# CONFUSION MATRIX\n",
    "\n",
    "from sklearn.metrics import confusion_matrix, ConfusionMatrixDisplay\n",
    "# https://stackoverflow.com/questions/50920908/get-confusion-matrix-from-a-keras-multiclass-model\n",
    "y_pred = model.predict(X_test).argmax(axis=1)\n",
    "# tn, fp, fn, tp = confusion_matrix([0, 1, 0, 1], [1, 1, 1, 0]).ravel()\n"
   ]
  },
  {
   "cell_type": "code",
   "execution_count": 247,
   "id": "5a2d8374-9134-443d-8442-9b060e427a6e",
   "metadata": {},
   "outputs": [
    {
     "data": {
      "text/plain": [
       "array([0, 0, 0, ..., 0, 0, 0])"
      ]
     },
     "execution_count": 247,
     "metadata": {},
     "output_type": "execute_result"
    },
    {
     "data": {
      "text/plain": [
       "array([0, 1, 1, ..., 0, 0, 0])"
      ]
     },
     "execution_count": 247,
     "metadata": {},
     "output_type": "execute_result"
    },
    {
     "data": {
      "text/plain": [
       "array([[12500,     0],\n",
       "       [12500,     0]])"
      ]
     },
     "execution_count": 247,
     "metadata": {},
     "output_type": "execute_result"
    },
    {
     "data": {
      "text/plain": [
       "(12500, 0, 12500, 0)"
      ]
     },
     "execution_count": 247,
     "metadata": {},
     "output_type": "execute_result"
    },
    {
     "data": {
      "text/plain": [
       "<sklearn.metrics._plot.confusion_matrix.ConfusionMatrixDisplay at 0x7f59d0cc90c0>"
      ]
     },
     "execution_count": 247,
     "metadata": {},
     "output_type": "execute_result"
    },
    {
     "data": {
      "image/png": "[encoded data removed]",
      "text/plain": [
       "<Figure size 1800x1500 with 2 Axes>"
      ]
     },
     "metadata": {},
     "output_type": "display_data"
    }
   ],
   "source": [
    "y_pred\n",
    "y_test\n",
    "\n",
    "\n",
    "cm = confusion_matrix(y_test, y_pred)\n",
    "cm\n",
    "\n",
    "(tn, fp), (fn, tp) = cm\n",
    "\n",
    "tn, fp, fn, tp\n",
    "\n",
    "\n",
    "ConfusionMatrixDisplay(confusion_matrix=cm, display_labels=[0,1]).plot()\n"
   ]
  },
  {
   "cell_type": "code",
   "execution_count": 243,
   "id": "4b72ecf4-b2ec-4b65-afc5-c989c21a86c8",
   "metadata": {},
   "outputs": [],
   "source": [
    "# SAVING THE MODEL\n",
    "model.save(\"Trained_Model.keras\")"
   ]
  },
  {
   "cell_type": "markdown",
   "id": "e6ad2066-8609-4e20-8eaa-faaf77bd97ac",
   "metadata": {},
   "source": [
    "### 1.  Provide the output of the model summary of the function from TensorFlow."
   ]
  },
  {
   "cell_type": "markdown",
   "id": "6ddb545e-9ece-4e87-8b2b-fb49e6cff79e",
   "metadata": {},
   "source": [
    "### 2.  Discuss the number of layers, the type of layers, and total number of parameters."
   ]
  },
  {
   "cell_type": "markdown",
   "id": "91d82b75-2ede-4601-a01e-6b23a405eeea",
   "metadata": {},
   "source": [
    "\n",
    "### 3.  Justify the choice of hyperparameters, including the following elements:\n"
   ]
  },
  {
   "cell_type": "markdown",
   "id": "0ff93744-c21b-4d6d-9a89-bbbc84ed1379",
   "metadata": {},
   "source": [
    "\n",
    "#### activation functions\n",
    "\n"
   ]
  },
  {
   "cell_type": "markdown",
   "id": "9ea11cd2-d89a-4757-8d26-02d73139d054",
   "metadata": {},
   "source": [
    "#### number of nodes per layer\n",
    "\n"
   ]
  },
  {
   "cell_type": "markdown",
   "id": "74640e60-786c-4b46-9304-84fbecc2811e",
   "metadata": {},
   "source": [
    "#### loss function\n"
   ]
  },
  {
   "cell_type": "markdown",
   "id": "5c70d71a-5b6f-422f-ba46-b56e1d20f217",
   "metadata": {},
   "source": [
    "\n",
    "#### optimizer\n",
    "\n"
   ]
  },
  {
   "cell_type": "markdown",
   "id": "98448e48-3c69-4664-9905-437dc99eac7e",
   "metadata": {},
   "source": [
    "#### stopping criteria\n",
    "\n"
   ]
  },
  {
   "cell_type": "markdown",
   "id": "81ec97f1-3fb5-4118-a08e-95ac6a0855db",
   "metadata": {},
   "source": [
    "#### evaluation metric"
   ]
  },
  {
   "cell_type": "markdown",
   "id": "8a9b70d2-09bb-4dcc-8290-f5b7d649384d",
   "metadata": {},
   "source": [
    "# Part IV:  Model Evaluation\n",
    "\n"
   ]
  },
  {
   "cell_type": "markdown",
   "id": "963a4800-d697-46f7-89d6-25fccd086822",
   "metadata": {},
   "source": [
    "## D.  Evaluate the model training process and its relevant outcomes by doing the following:\n",
    "\n"
   ]
  },
  {
   "cell_type": "markdown",
   "id": "13f87644-36be-46c2-a40f-892049b72461",
   "metadata": {},
   "source": [
    "### 1.  Discuss the impact of using stopping criteria instead of defining the number of epochs, including a screenshot showing the final training epoch."
   ]
  },
  {
   "cell_type": "markdown",
   "id": "89f6bc8b-d8b4-45a8-a9fd-c791e8853e3c",
   "metadata": {},
   "source": [
    "### 2.  Provide visualizations of the model’s training process, including a line graph of the loss and chosen evaluation metric."
   ]
  },
  {
   "cell_type": "markdown",
   "id": "cd88d621-7db6-4184-9be3-330c5cab8be4",
   "metadata": {},
   "source": [
    "\n",
    "### 3.  Assess the fitness of the model and any measures taken to address overfitting.\n"
   ]
  },
  {
   "cell_type": "markdown",
   "id": "23196a32-dae8-4471-b43c-62b4925d231b",
   "metadata": {},
   "source": [
    "\n",
    "### 4.  Discuss the predictive accuracy of the trained network.\n"
   ]
  },
  {
   "cell_type": "markdown",
   "id": "c6203819-6583-4e6a-afa7-fa6d8f147500",
   "metadata": {},
   "source": []
  },
  {
   "cell_type": "markdown",
   "id": "cff371e6-09e5-42fd-ba25-a2c93e6a3c87",
   "metadata": {},
   "source": [
    "# Part V:  Summary and Recommendations\n",
    "\n"
   ]
  },
  {
   "cell_type": "markdown",
   "id": "cbcc2f22-708c-4ab1-b17f-61750b0d0149",
   "metadata": {},
   "source": [
    "## E.  Provide the code used to save the trained network within the neural network.\n"
   ]
  },
  {
   "cell_type": "markdown",
   "id": "b5a978c7-f933-42ef-857b-a7fbb746fd50",
   "metadata": {},
   "source": [
    "## F.  Discuss the functionality of your neural network, including the impact of the network architecture.\n"
   ]
  },
  {
   "cell_type": "markdown",
   "id": "dbc5b3c8-6036-4f7f-8e80-e8fe6021bd42",
   "metadata": {},
   "source": [
    "## G.  Recommend a course of action based on your results.\n",
    "\n"
   ]
  },
  {
   "cell_type": "markdown",
   "id": "f183c122-5747-4c36-9950-9fb865359a45",
   "metadata": {},
   "source": [
    "# Part VI: Reporting\n",
    "\n"
   ]
  },
  {
   "cell_type": "markdown",
   "id": "692d5f95-73c6-451a-9005-a1f019d0779a",
   "metadata": {},
   "source": [
    "## H.  Create your neural network using an industry-relevant interactive development environment (e.g., a Jupyter Notebook). Include a PDF or HTML document of your executed notebook presentation.\n"
   ]
  },
  {
   "cell_type": "markdown",
   "id": "64dc577b-b770-40e2-bd67-62b200704e0f",
   "metadata": {},
   "source": [
    "## I.  List the web sources used to acquire data or segments of third-party code to support the application.\n"
   ]
  },
  {
   "cell_type": "markdown",
   "id": "8c181023-2ad6-4bbf-a637-c2f18a54bf99",
   "metadata": {},
   "source": [
    "## J.  Acknowledge sources, using in-text citations and references, for content that is quoted, paraphrased, or summarized.\n"
   ]
  },
  {
   "cell_type": "markdown",
   "id": "74a7aa00-40d4-4cf2-a983-3d7c303d5b01",
   "metadata": {},
   "source": [
    "## K.  Demonstrate professional communication in the content and presentation of your submission.\n",
    "\n"
   ]
  },
  {
   "cell_type": "code",
   "execution_count": null,
   "id": "2f48d2bc-ae9d-4f75-b7c1-0dcf0f0a7796",
   "metadata": {},
   "outputs": [],
   "source": []
  }
 ],
 "metadata": {
  "kernelspec": {
   "display_name": "py3.9",
   "language": "python",
   "name": "py3.9"
  },
  "language_info": {
   "codemirror_mode": {
    "name": "ipython",
    "version": 3
   },
   "file_extension": ".py",
   "mimetype": "text/x-python",
   "name": "python",
   "nbconvert_exporter": "python",
   "pygments_lexer": "ipython3",
   "version": "3.10.6"
  }
 },
 "nbformat": 4,
 "nbformat_minor": 5
}
