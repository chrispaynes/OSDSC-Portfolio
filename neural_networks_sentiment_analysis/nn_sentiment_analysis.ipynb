{
 "cells": [
  {
   "cell_type": "markdown",
   "id": "75dc29a7-d9cd-452f-bb0d-08a3bb57db94",
   "metadata": {
    "tags": []
   },
   "source": [
    "# ENVIRONMENT"
   ]
  },
  {
   "cell_type": "code",
   "execution_count": 45,
   "id": "69534511-9d11-4389-8816-af4520cd5f2d",
   "metadata": {},
   "outputs": [
    {
     "name": "stdout",
     "output_type": "stream",
     "text": [
      "Version:  2.10.0\n",
      "Eager mode:  True\n",
      "GPU is NOT AVAILABLE\n",
      "Defaulting to user installation because normal site-packages is not writeable\n",
      "Requirement already satisfied: nltk in /home/chris/.local/lib/python3.10/site-packages (3.7)\n",
      "Requirement already satisfied: tqdm in /home/chris/.local/lib/python3.10/site-packages (from nltk) (4.64.1)\n",
      "Requirement already satisfied: click in /usr/lib/python3/dist-packages (from nltk) (8.0.3)\n",
      "Requirement already satisfied: joblib in /home/chris/.local/lib/python3.10/site-packages (from nltk) (1.2.0)\n",
      "Requirement already satisfied: regex>=2021.8.3 in /home/chris/.local/lib/python3.10/site-packages (from nltk) (2022.9.13)\n"
     ]
    },
    {
     "name": "stderr",
     "output_type": "stream",
     "text": [
      "[nltk_data] Downloading package stopwords to /home/chris/nltk_data...\n",
      "[nltk_data]   Package stopwords is already up-to-date!\n"
     ]
    },
    {
     "data": {
      "text/plain": [
       "True"
      ]
     },
     "execution_count": 45,
     "metadata": {},
     "output_type": "execute_result"
    },
    {
     "name": "stderr",
     "output_type": "stream",
     "text": [
      "[nltk_data] Downloading package punkt to /home/chris/nltk_data...\n",
      "[nltk_data]   Package punkt is already up-to-date!\n"
     ]
    },
    {
     "data": {
      "text/plain": [
       "True"
      ]
     },
     "execution_count": 45,
     "metadata": {},
     "output_type": "execute_result"
    },
    {
     "name": "stderr",
     "output_type": "stream",
     "text": [
      "[nltk_data] Downloading package wordnet to /home/chris/nltk_data...\n",
      "[nltk_data]   Package wordnet is already up-to-date!\n"
     ]
    },
    {
     "data": {
      "text/plain": [
       "True"
      ]
     },
     "execution_count": 45,
     "metadata": {},
     "output_type": "execute_result"
    },
    {
     "name": "stderr",
     "output_type": "stream",
     "text": [
      "[nltk_data] Downloading package omw-1.4 to /home/chris/nltk_data...\n",
      "[nltk_data]   Package omw-1.4 is already up-to-date!\n"
     ]
    },
    {
     "data": {
      "text/plain": [
       "True"
      ]
     },
     "execution_count": 45,
     "metadata": {},
     "output_type": "execute_result"
    }
   ],
   "source": [
    "import tensorflow as tf\n",
    "\n",
    "print(\"Version: \", tf.__version__)\n",
    "print(\"Eager mode: \", tf.executing_eagerly())\n",
    "print(\"GPU is\", \"available\" if tf.config.list_physical_devices(\"GPU\") else \"NOT AVAILABLE\")\n",
    "\n",
    "! pip install nltk\n",
    "\n",
    "nltk.download('stopwords')\n",
    "nltk.download('punkt')\n",
    "nltk.download('wordnet')\n",
    "nltk.download('omw-1.4')"
   ]
  },
  {
   "cell_type": "code",
   "execution_count": 54,
   "id": "ad4080ef-7bb5-45b3-b8de-e5b2a0480f39",
   "metadata": {},
   "outputs": [],
   "source": [
    "import matplotlib.pyplot as plt\n",
    "import numpy as np\n",
    "import pandas as pd\n",
    "import seaborn as sns\n",
    "from tensorflow import keras\n",
    "\n",
    "# from tensorflow.keras import Tokenizer\n",
    "from tensorflow.keras.preprocessing.sequence import pad_sequences\n",
    "from tensorflow.keras.preprocessing.text import Tokenizer\n",
    "\n",
    "import re\n",
    "import string \n",
    "\n",
    "\n",
    "import nltk\n",
    "from nltk.corpus import stopwords\n",
    "from nltk.tokenize import word_tokenize\n",
    "\n",
    "\n",
    "from nltk.tokenize import RegexpTokenizer\n",
    "LEMMA = nltk.WordNetLemmatizer()\n",
    "STOP_WORDS = stopwords.words('english')\n",
    "\n",
    "\n",
    "\n",
    "from IPython.core.interactiveshell import InteractiveShell\n",
    "\n",
    "InteractiveShell.ast_node_interactivity = \"all\"\n",
    "\n",
    "# suppress scientific notation in Pandas\n",
    "pd.options.display.float_format = \"{:.2f}\".format\n",
    "pd.set_option(\"display.max_colwidth\", 5000)\n",
    "pd.set_option(\"display.max_columns\", 100)\n",
    "pd.set_option(\"display.max_rows\", 100)\n",
    "# pd.set_option(\"precision\", 3)\n",
    "pd.set_option(\"display.max_colwidth\", None)\n",
    "\n",
    "plt.rcParams[\"figure.figsize\"] = [12, 10]\n",
    "plt.rcParams[\"figure.dpi\"] = 150\n",
    "\n",
    "sns.set()\n",
    "sns.set_context(\"notebook\", rc={\"lines.linewidth\": 2.5})\n",
    "sns.set_style(\"whitegrid\")\n",
    "\n",
    "import warnings\n",
    "\n",
    "warnings.filterwarnings(\"ignore\")\n",
    "\n",
    "RANDOM_STATE = 1"
   ]
  },
  {
   "cell_type": "code",
   "execution_count": 7,
   "id": "1df44029-4043-4212-aa5a-4dcbdbd37834",
   "metadata": {},
   "outputs": [],
   "source": [
    "original_df = pd.read_json(\"./src/amazon/reviews_Digital_Music_5.json\", lines=True)\n",
    "# df = original_df.copy()"
   ]
  },
  {
   "cell_type": "code",
   "execution_count": 8,
   "id": "8341dade-70bf-4c62-946f-a33683b511d0",
   "metadata": {},
   "outputs": [],
   "source": [
    "def clean_text(s:str) -> str:\n",
    "    # remove whitespace\n",
    "    s = s.strip()\n",
    "    \n",
    "    # lowercase\n",
    "    s = s.lower()\n",
    "\n",
    "    # create tokenize to tokenize on word characters\n",
    "    tokenizer = RegexpTokenizer('\\w+')    \n",
    "    # tokenize on word characters\n",
    "    tokens = tokenizer.tokenize(text=s)\n",
    "    \n",
    "    # lemmatize work\n",
    "    tokens = [LEMMA.lemmatize(word=word) for word in tokens]\n",
    "\n",
    "    # remove stop words     \n",
    "    tokens = [word for word in tokens if word not in STOP_WORDS]\n",
    "\n",
    "    # rejoin tokens into a string\n",
    "    return \" \".join(tokens)\n",
    "\n",
    "\n",
    "def get_index(data, reverse=True, n=25):\n",
    "    t = tf.keras.preprocessing.text.Tokenizer(oov_token = '[UNK]', lower=True)\n",
    "    t.fit_on_texts(data)\n",
    "    index = t.word_index\n",
    "    \n",
    "    sorted_index = dict(sorted(index.items(), key= lambda kv:(kv[1], kv[0]), reverse=reverse)[0:n])\n",
    "    return len(index), sorted_index\n",
    "\n",
    "# get_index([\"This class allows to vectorize a text corpus, by turning each text into either a sequence of integers (each integer being the index of a token in a dictionary) or into a vector where the coefficient for each token could be binary, based on word count, based on tf-idf...\"])"
   ]
  },
  {
   "cell_type": "code",
   "execution_count": 9,
   "id": "a7c38927-ba81-407e-ba22-12c35bf29cae",
   "metadata": {},
   "outputs": [
    {
     "data": {
      "text/html": [
       "<div>\n",
       "<style scoped>\n",
       "    .dataframe tbody tr th:only-of-type {\n",
       "        vertical-align: middle;\n",
       "    }\n",
       "\n",
       "    .dataframe tbody tr th {\n",
       "        vertical-align: top;\n",
       "    }\n",
       "\n",
       "    .dataframe thead th {\n",
       "        text-align: right;\n",
       "    }\n",
       "</style>\n",
       "<table border=\"1\" class=\"dataframe\">\n",
       "  <thead>\n",
       "    <tr style=\"text-align: right;\">\n",
       "      <th></th>\n",
       "      <th>reviewerID</th>\n",
       "      <th>asin</th>\n",
       "      <th>reviewerName</th>\n",
       "      <th>helpful</th>\n",
       "      <th>reviewText</th>\n",
       "      <th>overall</th>\n",
       "      <th>summary</th>\n",
       "      <th>unixReviewTime</th>\n",
       "      <th>reviewTime</th>\n",
       "    </tr>\n",
       "  </thead>\n",
       "  <tbody>\n",
       "    <tr>\n",
       "      <th>0</th>\n",
       "      <td>A3EBHHCZO6V2A4</td>\n",
       "      <td>5555991584</td>\n",
       "      <td>Amaranth \"music fan\"</td>\n",
       "      <td>[3, 3]</td>\n",
       "      <td>It's hard to believe \"Memory of Trees\" came out 11 years ago;it has held up well over the passage of time.It's Enya's last great album before the New Age/pop of \"Amarantine\" and \"Day without rain.\" Back in 1995,Enya still had her creative spark,her own voice.I agree with the reviewer who said that this is her saddest album;it is melancholy,bittersweet,from the opening title song.\"Memory of Trees\" is elegaic&amp;majestic.;\"Pax Deorum\" sounds like it is from a Requiem Mass,it is a dark threnody.Unlike the reviewer who said that this has a \"disconcerting\" blend of spirituality&amp;sensuality;,I don't find it disconcerting at all.\"Anywhere is\" is a hopeful song,looking to possibilities.\"Hope has a place\" is about love,but it is up to the listener to decide if it is romantic,platonic,etc.I've always had a soft spot for this song.\"On my way home\" is a triumphant ending about return.This is truly a masterpiece of New Age music,a must for any Enya fan!</td>\n",
       "      <td>5</td>\n",
       "      <td>Enya's last great album</td>\n",
       "      <td>1158019200</td>\n",
       "      <td>09 12, 2006</td>\n",
       "    </tr>\n",
       "  </tbody>\n",
       "</table>\n",
       "</div>"
      ],
      "text/plain": [
       "       reviewerID        asin          reviewerName helpful  \\\n",
       "0  A3EBHHCZO6V2A4  5555991584  Amaranth \"music fan\"  [3, 3]   \n",
       "\n",
       "                                                                                                                                                                                                                                                                                                                                                                                                                                                                                                                                                                                                                                                                                                                                                                                                                                                                                                                                                                               reviewText  \\\n",
       "0  It's hard to believe \"Memory of Trees\" came out 11 years ago;it has held up well over the passage of time.It's Enya's last great album before the New Age/pop of \"Amarantine\" and \"Day without rain.\" Back in 1995,Enya still had her creative spark,her own voice.I agree with the reviewer who said that this is her saddest album;it is melancholy,bittersweet,from the opening title song.\"Memory of Trees\" is elegaic&majestic.;\"Pax Deorum\" sounds like it is from a Requiem Mass,it is a dark threnody.Unlike the reviewer who said that this has a \"disconcerting\" blend of spirituality&sensuality;,I don't find it disconcerting at all.\"Anywhere is\" is a hopeful song,looking to possibilities.\"Hope has a place\" is about love,but it is up to the listener to decide if it is romantic,platonic,etc.I've always had a soft spot for this song.\"On my way home\" is a triumphant ending about return.This is truly a masterpiece of New Age music,a must for any Enya fan!   \n",
       "\n",
       "   overall                  summary  unixReviewTime   reviewTime  \n",
       "0        5  Enya's last great album      1158019200  09 12, 2006  "
      ]
     },
     "execution_count": 9,
     "metadata": {},
     "output_type": "execute_result"
    },
    {
     "name": "stdout",
     "output_type": "stream",
     "text": [
      "<class 'pandas.core.frame.DataFrame'>\n",
      "RangeIndex: 64706 entries, 0 to 64705\n",
      "Data columns (total 9 columns):\n",
      " #   Column          Non-Null Count  Dtype \n",
      "---  ------          --------------  ----- \n",
      " 0   reviewerID      64706 non-null  object\n",
      " 1   asin            64706 non-null  object\n",
      " 2   reviewerName    64529 non-null  object\n",
      " 3   helpful         64706 non-null  object\n",
      " 4   reviewText      64706 non-null  object\n",
      " 5   overall         64706 non-null  int64 \n",
      " 6   summary         64706 non-null  object\n",
      " 7   unixReviewTime  64706 non-null  int64 \n",
      " 8   reviewTime      64706 non-null  object\n",
      "dtypes: int64(2), object(7)\n",
      "memory usage: 4.4+ MB\n"
     ]
    },
    {
     "data": {
      "text/plain": [
       "(64706, 9)"
      ]
     },
     "execution_count": 9,
     "metadata": {},
     "output_type": "execute_result"
    },
    {
     "data": {
      "text/html": [
       "<div>\n",
       "<style scoped>\n",
       "    .dataframe tbody tr th:only-of-type {\n",
       "        vertical-align: middle;\n",
       "    }\n",
       "\n",
       "    .dataframe tbody tr th {\n",
       "        vertical-align: top;\n",
       "    }\n",
       "\n",
       "    .dataframe thead th {\n",
       "        text-align: right;\n",
       "    }\n",
       "</style>\n",
       "<table border=\"1\" class=\"dataframe\">\n",
       "  <thead>\n",
       "    <tr style=\"text-align: right;\">\n",
       "      <th></th>\n",
       "      <th>reviewerID</th>\n",
       "      <th>asin</th>\n",
       "      <th>reviewerName</th>\n",
       "      <th>helpful</th>\n",
       "      <th>reviewText</th>\n",
       "      <th>overall</th>\n",
       "      <th>summary</th>\n",
       "      <th>unixReviewTime</th>\n",
       "      <th>reviewTime</th>\n",
       "      <th>words</th>\n",
       "      <th>wordCount</th>\n",
       "    </tr>\n",
       "  </thead>\n",
       "  <tbody>\n",
       "    <tr>\n",
       "      <th>0</th>\n",
       "      <td>A3EBHHCZO6V2A4</td>\n",
       "      <td>5555991584</td>\n",
       "      <td>Amaranth \"music fan\"</td>\n",
       "      <td>[3, 3]</td>\n",
       "      <td>It's hard to believe \"Memory of Trees\" came out 11 years ago;it has held up well over the passage of time.It's Enya's last great album before the New Age/pop of \"Amarantine\" and \"Day without rain.\" Back in 1995,Enya still had her creative spark,her own voice.I agree with the reviewer who said that this is her saddest album;it is melancholy,bittersweet,from the opening title song.\"Memory of Trees\" is elegaic&amp;majestic.;\"Pax Deorum\" sounds like it is from a Requiem Mass,it is a dark threnody.Unlike the reviewer who said that this has a \"disconcerting\" blend of spirituality&amp;sensuality;,I don't find it disconcerting at all.\"Anywhere is\" is a hopeful song,looking to possibilities.\"Hope has a place\" is about love,but it is up to the listener to decide if it is romantic,platonic,etc.I've always had a soft spot for this song.\"On my way home\" is a triumphant ending about return.This is truly a masterpiece of New Age music,a must for any Enya fan!</td>\n",
       "      <td>5</td>\n",
       "      <td>Enya's last great album</td>\n",
       "      <td>1158019200</td>\n",
       "      <td>09 12, 2006</td>\n",
       "      <td>hard believe memory tree came 11 year ago ha held well passage time enya last great album new age pop amarantine day without rain back 1995 enya still creative spark voice agree reviewer said saddest album melancholy bittersweet opening title song memory tree elegaic majestic pax deorum sound like requiem mass dark threnody unlike reviewer said ha disconcerting blend spirituality sensuality find disconcerting anywhere hopeful song looking possibility hope ha place love listener decide romantic platonic etc always soft spot song way home triumphant ending return truly masterpiece new age music must enya fan</td>\n",
       "      <td>153</td>\n",
       "    </tr>\n",
       "  </tbody>\n",
       "</table>\n",
       "</div>"
      ],
      "text/plain": [
       "       reviewerID        asin          reviewerName helpful  \\\n",
       "0  A3EBHHCZO6V2A4  5555991584  Amaranth \"music fan\"  [3, 3]   \n",
       "\n",
       "                                                                                                                                                                                                                                                                                                                                                                                                                                                                                                                                                                                                                                                                                                                                                                                                                                                                                                                                                                               reviewText  \\\n",
       "0  It's hard to believe \"Memory of Trees\" came out 11 years ago;it has held up well over the passage of time.It's Enya's last great album before the New Age/pop of \"Amarantine\" and \"Day without rain.\" Back in 1995,Enya still had her creative spark,her own voice.I agree with the reviewer who said that this is her saddest album;it is melancholy,bittersweet,from the opening title song.\"Memory of Trees\" is elegaic&majestic.;\"Pax Deorum\" sounds like it is from a Requiem Mass,it is a dark threnody.Unlike the reviewer who said that this has a \"disconcerting\" blend of spirituality&sensuality;,I don't find it disconcerting at all.\"Anywhere is\" is a hopeful song,looking to possibilities.\"Hope has a place\" is about love,but it is up to the listener to decide if it is romantic,platonic,etc.I've always had a soft spot for this song.\"On my way home\" is a triumphant ending about return.This is truly a masterpiece of New Age music,a must for any Enya fan!   \n",
       "\n",
       "   overall                  summary  unixReviewTime   reviewTime  \\\n",
       "0        5  Enya's last great album      1158019200  09 12, 2006   \n",
       "\n",
       "                                                                                                                                                                                                                                                                                                                                                                                                                                                                                                                                                                                                                                   words  \\\n",
       "0  hard believe memory tree came 11 year ago ha held well passage time enya last great album new age pop amarantine day without rain back 1995 enya still creative spark voice agree reviewer said saddest album melancholy bittersweet opening title song memory tree elegaic majestic pax deorum sound like requiem mass dark threnody unlike reviewer said ha disconcerting blend spirituality sensuality find disconcerting anywhere hopeful song looking possibility hope ha place love listener decide romantic platonic etc always soft spot song way home triumphant ending return truly masterpiece new age music must enya fan   \n",
       "\n",
       "   wordCount  \n",
       "0        153  "
      ]
     },
     "execution_count": 9,
     "metadata": {},
     "output_type": "execute_result"
    }
   ],
   "source": [
    "# DATA PREPATION STEPS\n",
    "# 1. Import data set as a data frame.\n",
    "prep_df = original_df.copy()\n",
    "\n",
    "# 2. Load packages for TensorFlow, Keras, and other libraries.\n",
    "\n",
    "# 3. EDA – to better understand the data structure.\n",
    "original_df.head(1)\n",
    "original_df.info()\n",
    "original_df.shape\n",
    "\n",
    "# 4. Remove unusual characters: uppercase letters, punctuation marks, emoticons, and non-English characters.\n",
    "prep_df[\"words\"] = prep_df.reviewText.apply(lambda x: clean_text(s=x))\n",
    "prep_df[\"wordCount\"] = prep_df.reviewText.apply(lambda x: len(x.split(\" \")))\n",
    "\n",
    "\n",
    "prep_df.head(1)\n",
    "\n",
    "\n",
    "# pd.DataFrame(words)\n",
    "# words = re.split(r'\\W+', words.reviewText)\n",
    "# prep_df[\"words\"] = prep_df.words.str.split()\n",
    "# prep_df[\"words\"] = prep_df.words.str.split(r'\\W+')\n",
    "# prep_df[\"words\"]\n",
    "\n",
    "# prep_df.head(1)\n",
    "\n",
    "# 5. Measure the vocabulary size using (bags of words, etc.).\n",
    "\n",
    "\n",
    "# 6. Explore N-Gram (unigram, bigram, and trigram) structures for usefulness in text analysis as applicable.\n",
    "\n",
    "# 7. Determine the word embedding and explore embedded words based on target inputs.\n",
    "\n",
    "# 8. Set the maximum sequence length based on the length of the longest sentence in the data set.\n",
    "\n",
    "# 9. Tokenize sentences into a list of tokens and remove stop words.\n",
    "\n",
    "# 10. Pad cleaned sentences to fit the maximum sequence length after each text sequence.\n",
    "\n",
    "# 11. Create an activation function filled with dense layers of the neural network.\n",
    "\n",
    "# 12. Split the data set into training and test sets or into training/test/validation sets.\n"
   ]
  },
  {
   "cell_type": "code",
   "execution_count": 28,
   "id": "a58bedb0-46b4-434c-81d9-6df7b2259fbd",
   "metadata": {},
   "outputs": [
    {
     "data": {
      "text/html": [
       "<div>\n",
       "<style scoped>\n",
       "    .dataframe tbody tr th:only-of-type {\n",
       "        vertical-align: middle;\n",
       "    }\n",
       "\n",
       "    .dataframe tbody tr th {\n",
       "        vertical-align: top;\n",
       "    }\n",
       "\n",
       "    .dataframe thead th {\n",
       "        text-align: right;\n",
       "    }\n",
       "</style>\n",
       "<table border=\"1\" class=\"dataframe\">\n",
       "  <thead>\n",
       "    <tr style=\"text-align: right;\">\n",
       "      <th></th>\n",
       "      <th>reviewerID</th>\n",
       "      <th>asin</th>\n",
       "      <th>reviewerName</th>\n",
       "      <th>helpful</th>\n",
       "      <th>reviewText</th>\n",
       "      <th>overall</th>\n",
       "      <th>summary</th>\n",
       "      <th>unixReviewTime</th>\n",
       "      <th>reviewTime</th>\n",
       "    </tr>\n",
       "  </thead>\n",
       "  <tbody>\n",
       "    <tr>\n",
       "      <th>0</th>\n",
       "      <td>A3EBHHCZO6V2A4</td>\n",
       "      <td>5555991584</td>\n",
       "      <td>Amaranth \"music fan\"</td>\n",
       "      <td>[3, 3]</td>\n",
       "      <td>It's hard to believe \"Memory of Trees\" came out 11 years ago;it has held up well over the passage of time.It's Enya's last great album before the New Age/pop of \"Amarantine\" and \"Day without rain.\" Back in 1995,Enya still had her creative spark,her own voice.I agree with the reviewer who said that this is her saddest album;it is melancholy,bittersweet,from the opening title song.\"Memory of Trees\" is elegaic&amp;majestic.;\"Pax Deorum\" sounds like it is from a Requiem Mass,it is a dark threnody.Unlike the reviewer who said that this has a \"disconcerting\" blend of spirituality&amp;sensuality;,I don't find it disconcerting at all.\"Anywhere is\" is a hopeful song,looking to possibilities.\"Hope has a place\" is about love,but it is up to the listener to decide if it is romantic,platonic,etc.I've always had a soft spot for this song.\"On my way home\" is a triumphant ending about return.This is truly a masterpiece of New Age music,a must for any Enya fan!</td>\n",
       "      <td>5</td>\n",
       "      <td>Enya's last great album</td>\n",
       "      <td>1158019200</td>\n",
       "      <td>09 12, 2006</td>\n",
       "    </tr>\n",
       "    <tr>\n",
       "      <th>1</th>\n",
       "      <td>AZPWAXJG9OJXV</td>\n",
       "      <td>5555991584</td>\n",
       "      <td>bethtexas</td>\n",
       "      <td>[0, 0]</td>\n",
       "      <td>A clasically-styled and introverted album, Memory of Trees is a masterpiece of subtlety.  Many of the songs have an endearing shyness to them - soft piano and a lovely, quiet voice.  But within every introvert is an inferno, and Enya lets that fire explode on a couple of songs that absolutely burst with an expected raw power.If you've never heard Enya before, you might want to start with one of her more popularized works, like Watermark, just to play it safe.  But if you're already a fan, then your collection is not complete without this beautiful work of musical art.</td>\n",
       "      <td>5</td>\n",
       "      <td>Enya at her most elegant</td>\n",
       "      <td>991526400</td>\n",
       "      <td>06 3, 2001</td>\n",
       "    </tr>\n",
       "  </tbody>\n",
       "</table>\n",
       "</div>"
      ],
      "text/plain": [
       "       reviewerID        asin          reviewerName helpful  \\\n",
       "0  A3EBHHCZO6V2A4  5555991584  Amaranth \"music fan\"  [3, 3]   \n",
       "1   AZPWAXJG9OJXV  5555991584             bethtexas  [0, 0]   \n",
       "\n",
       "                                                                                                                                                                                                                                                                                                                                                                                                                                                                                                                                                                                                                                                                                                                                                                                                                                                                                                                                                                               reviewText  \\\n",
       "0  It's hard to believe \"Memory of Trees\" came out 11 years ago;it has held up well over the passage of time.It's Enya's last great album before the New Age/pop of \"Amarantine\" and \"Day without rain.\" Back in 1995,Enya still had her creative spark,her own voice.I agree with the reviewer who said that this is her saddest album;it is melancholy,bittersweet,from the opening title song.\"Memory of Trees\" is elegaic&majestic.;\"Pax Deorum\" sounds like it is from a Requiem Mass,it is a dark threnody.Unlike the reviewer who said that this has a \"disconcerting\" blend of spirituality&sensuality;,I don't find it disconcerting at all.\"Anywhere is\" is a hopeful song,looking to possibilities.\"Hope has a place\" is about love,but it is up to the listener to decide if it is romantic,platonic,etc.I've always had a soft spot for this song.\"On my way home\" is a triumphant ending about return.This is truly a masterpiece of New Age music,a must for any Enya fan!   \n",
       "1                                                                                                                                                                                                                                                                                                                                                                                          A clasically-styled and introverted album, Memory of Trees is a masterpiece of subtlety.  Many of the songs have an endearing shyness to them - soft piano and a lovely, quiet voice.  But within every introvert is an inferno, and Enya lets that fire explode on a couple of songs that absolutely burst with an expected raw power.If you've never heard Enya before, you might want to start with one of her more popularized works, like Watermark, just to play it safe.  But if you're already a fan, then your collection is not complete without this beautiful work of musical art.   \n",
       "\n",
       "   overall                   summary  unixReviewTime   reviewTime  \n",
       "0        5   Enya's last great album      1158019200  09 12, 2006  \n",
       "1        5  Enya at her most elegant       991526400   06 3, 2001  "
      ]
     },
     "execution_count": 28,
     "metadata": {},
     "output_type": "execute_result"
    },
    {
     "name": "stdout",
     "output_type": "stream",
     "text": [
      "<class 'pandas.core.frame.DataFrame'>\n",
      "RangeIndex: 64706 entries, 0 to 64705\n",
      "Data columns (total 9 columns):\n",
      " #   Column          Non-Null Count  Dtype \n",
      "---  ------          --------------  ----- \n",
      " 0   reviewerID      64706 non-null  object\n",
      " 1   asin            64706 non-null  object\n",
      " 2   reviewerName    64529 non-null  object\n",
      " 3   helpful         64706 non-null  object\n",
      " 4   reviewText      64706 non-null  object\n",
      " 5   overall         64706 non-null  int64 \n",
      " 6   summary         64706 non-null  object\n",
      " 7   unixReviewTime  64706 non-null  int64 \n",
      " 8   reviewTime      64706 non-null  object\n",
      "dtypes: int64(2), object(7)\n",
      "memory usage: 4.4+ MB\n"
     ]
    },
    {
     "data": {
      "text/plain": [
       "(64706, 9)"
      ]
     },
     "execution_count": 28,
     "metadata": {},
     "output_type": "execute_result"
    }
   ],
   "source": [
    "# 1.\tAnalyzing the data and review length.\n",
    "\n",
    "original_df.head(2)\n",
    "original_df.info()\n",
    "original_df.shape\n",
    "\n",
    "# 2.\tCreating a dictionary and applying it to remove extraneous characters.\n",
    "# 3.\tDeciding on a typical review length.\n",
    "# 4.\tTokenization.\n",
    "# 5.\tApplying Tensorflow’s keras and layers methods\n",
    "# 6.\tSplitting the dataset into train and test\n",
    "# 7.\tFitting the model\n",
    "# 8.\tModel evaluation and reporting.\n"
   ]
  },
  {
   "cell_type": "code",
   "execution_count": null,
   "id": "610a0ff8-95c6-49d0-8752-2981bef9bed6",
   "metadata": {},
   "outputs": [],
   "source": [
    "# For Task Two: Actually, it is pretty simple.  There are three text files, Amazon, IMDB, and Yelp.  You want to do a neural net to find the Sentiment index among the reviews.  These are the high-level ten basic steps:\n",
    "\n",
    "# 1.\tIf you run a couple of FOR loops to translate characters (essentially “cleaning up”).   There will be 52 unique characters remaining.\n",
    "# 2.\tPlot a histogram to find the length of the reviews. Most of the 500 reviews will be under 150 characters in length.\n",
    "# 3.\tCreate a dictionary for characters and tokens.\n",
    "# 4.\tUse arrays to hold each review and assign to it a list of one-hot-encoded characters.\n",
    "# 5.\tCode the output array to represent the review as positive (1) or negative (0).  The target value is binary.\n",
    "# 6.\tAdd terminators to the end of the data to fill the fixed length strings.\n",
    "# 7.\tUsing sklearn, numpy, and keras train a neural net.  Split data prior to training into test and validation.\n",
    "# 8.\tBy reading through the data in the network, weights are adjusted until errors are minimized.  Each period or cycle is referred to as an epoch.\n",
    "# 9.\tThen, you run a sequential neural net using keras.Sequential()\n",
    "# 10.\tAfter using the training process iteratively, the model.evaluate(x, y) will confirm the reliability. \n"
   ]
  },
  {
   "cell_type": "markdown",
   "id": "6cd6d3f2-efc3-4498-8cad-5d0abb32237a",
   "metadata": {},
   "source": [
    "# Introduction\n",
    "\n",
    "You have seen the power of using data analytical techniques to help organizations make data-driven decisions and now want to extend these models into areas of machine learning and artificial intelligence. In this task, you will explore the use of neural networks and natural language processing (NLP).\n",
    "\n",
    "In this task, you will choose a data file from the Web Links section. The available data sets are as follows:\n",
    "- [Amazon Product Data set](http://jmcauley.ucsd.edu/data/amazon/)\n",
    "- [UCSD Recommender Systems Data sets](https://cseweb.ucsd.edu/~jmcauley/datasets.html)\n",
    "- UCI Sentiment Labeled Sentences Data set\n",
    "\n",
    "For this task, you will build a neural network designed to learn word usage and context using NLP techniques. You will provide visualizations and a report, as well as build your network in an interactive development environment.\n",
    "\n",
    "In the telecom munications industry, customers can choose from multiple service providers and actively switch from one provider to another. Customer churn is defined as the percentage of customers who stopped using a provider’s product or service during a certain time frame. In this highly competitive market, some telecommunications industries can experience average annual churn rates as high as 25 Given that it costs 10 times more to acquire a new customer than to retain an existing one, customer retention has now become even more important than customer acquisition.\n",
    "\n",
    "For many providers retaining highly profitable customers is the number one business goal. To reduce customer churn, telecom munications companies need to predict which customers are at high risk of churn.\n",
    "\n",
    "As part of the “churn” project, executives would like to see consider a time series on revenue from the first years of operation. Once they understand any patterns in that data, they feel confident in understanding the impact of churn in current times. The given time series data records the daily revenue, in million dollars, during the first two years of operation.\n",
    "\n",
    "**Data File being used:**\n",
    "teleco_time_series.csv\n",
    "\n",
    "**Data Dictionary:**\n",
    "- The data set consists of 731 rows and two columns:\n",
    "    - Day Day during first two years of operation\n",
    "    - Revenue Revenue in million dollars\n",
    "    \n",
    "Review the data dictionary and considerations related to the raw data file you have chosen and prepare the data for time series modeling. You will then analyze that data set using time series modeling, create visualizations, generate forecasts, and deliver the results of your analysis."
   ]
  },
  {
   "cell_type": "markdown",
   "id": "e9841393-d7d9-4ae2-b604-80af93c1a091",
   "metadata": {},
   "source": [
    "# Part 0: Data Exploration"
   ]
  },
  {
   "cell_type": "code",
   "execution_count": null,
   "id": "faf34752-167d-4c21-b0b6-37a4bad4d8b2",
   "metadata": {},
   "outputs": [],
   "source": [
    "df.head()\n"
   ]
  },
  {
   "cell_type": "code",
   "execution_count": null,
   "id": "41c3feed-01e1-45b2-9504-6dce3d32a384",
   "metadata": {},
   "outputs": [],
   "source": [
    "df.shape\n"
   ]
  },
  {
   "cell_type": "code",
   "execution_count": null,
   "id": "5dbc80cb-6c1a-4c4d-ac76-34da4494fe10",
   "metadata": {},
   "outputs": [],
   "source": [
    "df.info()\n"
   ]
  },
  {
   "cell_type": "code",
   "execution_count": null,
   "id": "62d39046-995c-4065-bb60-ea190db9e44b",
   "metadata": {},
   "outputs": [],
   "source": [
    "pd.DataFrame(df.isnull().sum(), columns=[\"# NaNs\"])\n"
   ]
  },
  {
   "cell_type": "code",
   "execution_count": null,
   "id": "fa98c8ce-c3df-400a-b8c1-575939e3bebb",
   "metadata": {},
   "outputs": [],
   "source": [
    "f\"{df.isnull().sum().sum():,} Total NaN Cells\"\n"
   ]
  },
  {
   "cell_type": "markdown",
   "id": "911d145f-87a1-4c68-a267-94d7a096017b",
   "metadata": {},
   "source": [
    "# Part I:  Research Question"
   ]
  },
  {
   "cell_type": "markdown",
   "id": "ba3b9d7f-6923-4a2a-b459-7b4e37631564",
   "metadata": {},
   "source": [
    "## A.  Describe the purpose of this data analysis by doing the following:\n",
    "\n"
   ]
  },
  {
   "cell_type": "markdown",
   "id": "69f1dbff-4f9d-4ef9-988f-4d7e71c1f01d",
   "metadata": {},
   "source": [
    "### 1.  Summarize one research question that you will answer using neural network models and NLP techniques. Be sure the research question is relevant to a real-world organizational situation and sentiment analysis captured in your chosen dataset.\n",
    "\n"
   ]
  },
  {
   "cell_type": "markdown",
   "id": "ea1d9260-01ed-4024-84dc-da128aa1f924",
   "metadata": {},
   "source": [
    "### 2.  Define the objectives or goals of the data analysis. Be sure the objectives or goals are reasonable within the scope of the research question and are represented in the available data.\n",
    "\n"
   ]
  },
  {
   "cell_type": "markdown",
   "id": "061f1418-c2f2-46b5-958d-84e8ec214f09",
   "metadata": {},
   "source": [
    "### 3.  Identify a type of neural network capable of performing a text classification task that can be trained to produce useful predictions on text sequences on the selected data set.\n"
   ]
  },
  {
   "cell_type": "markdown",
   "id": "39f14718-7f23-44a3-b40d-809f3fd0980f",
   "metadata": {},
   "source": [
    "# Part II:  Data Preparation\n"
   ]
  },
  {
   "cell_type": "markdown",
   "id": "c0eceba8-6baa-49f8-9aa4-2726ae8ca5fc",
   "metadata": {},
   "source": [
    "## B.  Summarize the data cleaning process by doing the following:\n",
    "\n"
   ]
  },
  {
   "cell_type": "markdown",
   "id": "78df2325-4525-4669-b0f7-900749b75479",
   "metadata": {
    "jupyter": {
     "source_hidden": true
    },
    "tags": []
   },
   "source": [
    "### 1.  Perform exploratory data analysis on the chosen dataset, and include an explanation of each of the following elements:\n"
   ]
  },
  {
   "cell_type": "markdown",
   "id": "37e6d5d4-3345-46df-968c-191a6beb8850",
   "metadata": {
    "jupyter": {
     "source_hidden": true
    },
    "tags": []
   },
   "source": []
  },
  {
   "cell_type": "markdown",
   "id": "e821fcc0-da0d-4249-a352-26704087690c",
   "metadata": {},
   "source": [
    "#### a. presence of unusual characters (e.g., emojis, non-English characters, etc.)\n",
    "> Unusual or non-word characters do exist within review texts\n"
   ]
  },
  {
   "cell_type": "code",
   "execution_count": 125,
   "id": "2cb43667-e5a4-4a2f-b3c7-c377947375ae",
   "metadata": {},
   "outputs": [
    {
     "data": {
      "text/plain": [
       "0                 {\", ,, /, ;, !, ', ., &}\n",
       "1                             {', -, ., ,}\n",
       "2                                {', ., ,}\n",
       "3                    {), -, ,, (, !, ', .}\n",
       "4        {), :, \", ,, -, (, /, ;, ?, ', .}\n",
       "                       ...                \n",
       "64701                                  {.}\n",
       "64702                         {', -, ., !}\n",
       "64703                               {,, .}\n",
       "64704          {), ,, (, ;, !, #, ', ., &}\n",
       "64705          {), ,, (, ;, !, #, ', ., &}\n",
       "Name: reviewText, Length: 64706, dtype: object"
      ]
     },
     "execution_count": 125,
     "metadata": {},
     "output_type": "execute_result"
    }
   ],
   "source": [
    "def get_non_words(data):\n",
    "    non_word_tokenizer = RegexpTokenizer('[^\\w\\s]')    \n",
    "\n",
    "    # tokenize on non-word and non-space characters\n",
    "    return non_word_tokenizer.tokenize(text=data)\n",
    "\n",
    "tokens_df = original_df.reviewText.apply(lambda x: set(get_non_words(data=x)))\n",
    "tokens_df"
   ]
  },
  {
   "cell_type": "code",
   "execution_count": 129,
   "id": "e472b4ae-98f1-40ff-a26c-6f340a9e596f",
   "metadata": {},
   "outputs": [
    {
     "name": "stdout",
     "output_type": "stream",
     "text": [
      "Non-Word Tokens\n",
      "['\\x03', '\\x16', '!', '\"', '#', '$', '%', '&', \"'\", '(', ')', '*', '+', ',', '-', '.', '/', ':', ';', '=', '>', '?', '@', '[', '\\\\', ']', '^', '`', '{', '|', '}', '~']\n"
     ]
    }
   ],
   "source": [
    "token_set = set()\n",
    "\n",
    "for tokens in tokens_df:\n",
    "    for token in tokens:\n",
    "        token_set.add(token)\n",
    "\n",
    "print(\"Non-Word Tokens Exist\")\n",
    "print(sorted(list(token_set)))"
   ]
  },
  {
   "cell_type": "markdown",
   "id": "d410971c-e178-437c-b304-f5ce515b7cf8",
   "metadata": {
    "tags": []
   },
   "source": [
    "#### b. vocabulary size\n",
    "> the vocabulary size is"
   ]
  },
  {
   "cell_type": "code",
   "execution_count": 110,
   "id": "b20ccecc-e016-4dd2-b620-d2f00b42da66",
   "metadata": {},
   "outputs": [
    {
     "data": {
      "image/png": "[encoded data removed]",
      "text/plain": [
       "<Figure size 1800x1500 with 1 Axes>"
      ]
     },
     "metadata": {},
     "output_type": "display_data"
    },
    {
     "data": {
      "image/png": "[encoded data removed]",
      "text/plain": [
       "<Figure size 1800x1500 with 1 Axes>"
      ]
     },
     "metadata": {},
     "output_type": "display_data"
    },
    {
     "data": {
      "image/png": "[encoded data removed]",
      "text/plain": [
       "<Figure size 1800x1500 with 1 Axes>"
      ]
     },
     "metadata": {},
     "output_type": "display_data"
    },
    {
     "data": {
      "image/png": "[encoded data removed]",
      "text/plain": [
       "<Figure size 1800x1500 with 1 Axes>"
      ]
     },
     "metadata": {},
     "output_type": "display_data"
    }
   ],
   "source": [
    "ax = sns.histplot(prep_df.wordCount, kde=True)\n",
    "plt.show()\n",
    "\n",
    "ax = sns.histplot(prep_df[prep_df.wordCount <= 500].wordCount)\n",
    "plt.show()\n",
    "\n",
    "ax = sns.boxplot(x=prep_df.wordCount)\n",
    "plt.show()\n",
    "\n",
    "ax = sns.countplot(x=round(prep_df[prep_df.wordCount <= 500].wordCount//20)*20)\n",
    "plt.show()\n",
    "\n",
    "\n"
   ]
  },
  {
   "cell_type": "code",
   "execution_count": 37,
   "id": "702890e5-835c-4058-9cb5-6a02bd9a18ff",
   "metadata": {},
   "outputs": [
    {
     "name": "stdout",
     "output_type": "stream",
     "text": [
      "Vocab Size: 108,495\n"
     ]
    },
    {
     "data": {
      "text/plain": [
       "{'atweh': 108494,\n",
       " 'nasri': 108493,\n",
       " 'instigate': 108492,\n",
       " 'segu': 108491,\n",
       " 'grazer': 108490,\n",
       " '10m': 108489,\n",
       " 'chiropractor': 108488,\n",
       " 'sunsdoesn': 108487,\n",
       " 'presencerakim': 108486,\n",
       " 'songtom': 108485,\n",
       " 'sandcons': 108484,\n",
       " 'thingsbest': 108483,\n",
       " 'solosenergybetter': 108482,\n",
       " 'lengthepic': 108481,\n",
       " 'conceptalbum': 108480,\n",
       " 'masterpiececonclusion': 108479,\n",
       " 'beautiful12': 108478,\n",
       " 'moody11': 108477,\n",
       " 'ps3': 108476,\n",
       " 'experimental10': 108475,\n",
       " 'untraveled': 108474,\n",
       " 'offbalanced': 108473,\n",
       " 'catchy9': 108472,\n",
       " 'throwback8': 108471,\n",
       " 'exhilarating7': 108470}"
      ]
     },
     "execution_count": 37,
     "metadata": {},
     "output_type": "execute_result"
    }
   ],
   "source": [
    "vocab_size, counts = get_index(data=prep_df.words)\n",
    "\n",
    "vocab_size += 1\n",
    "print(f\"Vocab Size: {vocab_size:,}\")\n",
    "counts"
   ]
  },
  {
   "cell_type": "markdown",
   "id": "ffbfbe24-d0d1-4b21-9093-aededebf11d5",
   "metadata": {},
   "source": [
    "#### c. proposed word embedding length"
   ]
  },
  {
   "cell_type": "code",
   "execution_count": 41,
   "id": "016708bc-40f2-4dbd-bef6-cdd55533b962",
   "metadata": {},
   "outputs": [
    {
     "data": {
      "text/plain": [
       "18"
      ]
     },
     "execution_count": 41,
     "metadata": {},
     "output_type": "execute_result"
    }
   ],
   "source": [
    "max_sequence_embedding = round(vocab_size ** (1/4))\n",
    "max_sequence_embedding"
   ]
  },
  {
   "cell_type": "code",
   "execution_count": 43,
   "id": "20d57e15-2bc5-4d08-85cf-9b120e942d40",
   "metadata": {},
   "outputs": [
    {
     "data": {
      "text/plain": [
       "<keras.layers.core.embedding.Embedding at 0x7f59fd29d660>"
      ]
     },
     "execution_count": 43,
     "metadata": {},
     "output_type": "execute_result"
    }
   ],
   "source": [
    "# tf.keras.layers.Embedding(NUM_WORDS, EMBEDDING_SIZE)\n",
    "tf.keras.layers.Embedding(vocab_size, max_sequence_embedding)\n"
   ]
  },
  {
   "cell_type": "markdown",
   "id": "2a0032a5-70a5-4ec4-878a-40ddac51b8dc",
   "metadata": {},
   "source": [
    "#### d. statistical justification for the chosen maximum sequence length"
   ]
  },
  {
   "cell_type": "code",
   "execution_count": 205,
   "id": "c2efb1b8-bd2d-470d-9750-970703a2a56d",
   "metadata": {},
   "outputs": [
    {
     "data": {
      "text/html": [
       "<div>\n",
       "<style scoped>\n",
       "    .dataframe tbody tr th:only-of-type {\n",
       "        vertical-align: middle;\n",
       "    }\n",
       "\n",
       "    .dataframe tbody tr th {\n",
       "        vertical-align: top;\n",
       "    }\n",
       "\n",
       "    .dataframe thead th {\n",
       "        text-align: right;\n",
       "    }\n",
       "</style>\n",
       "<table border=\"1\" class=\"dataframe\">\n",
       "  <thead>\n",
       "    <tr style=\"text-align: right;\">\n",
       "      <th></th>\n",
       "      <th>Review Length</th>\n",
       "    </tr>\n",
       "  </thead>\n",
       "  <tbody>\n",
       "    <tr>\n",
       "      <th>mix</th>\n",
       "      <td>1.00</td>\n",
       "    </tr>\n",
       "    <tr>\n",
       "      <th>med</th>\n",
       "      <td>78.00</td>\n",
       "    </tr>\n",
       "    <tr>\n",
       "      <th>avg</th>\n",
       "      <td>111.43</td>\n",
       "    </tr>\n",
       "    <tr>\n",
       "      <th>max</th>\n",
       "      <td>2571.00</td>\n",
       "    </tr>\n",
       "  </tbody>\n",
       "</table>\n",
       "</div>"
      ],
      "text/plain": [
       "     Review Length\n",
       "mix           1.00\n",
       "med          78.00\n",
       "avg         111.43\n",
       "max        2571.00"
      ]
     },
     "execution_count": 205,
     "metadata": {},
     "output_type": "execute_result"
    },
    {
     "name": "stdout",
     "output_type": "stream",
     "text": [
      "Based on the average review length, the max review length should be: 111\n"
     ]
    }
   ],
   "source": [
    "r_len = []\n",
    "\n",
    "for r in prep_df.words:\n",
    "    r_len.append(len(r.split(\" \")))\n",
    "\n",
    "max_len = round(np.mean(r_len))\n",
    "\n",
    "pd.DataFrame(dict(\n",
    "    mix= np.min(r_len),\n",
    "    med=np.median(r_len),\n",
    "    avg=np.mean(r_len),    \n",
    "    max= np.max(r_len)\n",
    "                 ), index=[\"Review Length\"]).T\n",
    "\n",
    "print(f\"Based on the average review length, the max review length should be: {max_len}\")"
   ]
  },
  {
   "cell_type": "markdown",
   "id": "95e6e817-eaaa-46fd-839c-b1a0cb00563d",
   "metadata": {
    "tags": []
   },
   "source": [
    "### 2.  Describe the goals of the tokenization process, including any code generated and packages that are used to normalize text during the tokenization process.\n",
    "\n",
    "The tokenization process is to separate the text into smaller chunks or tokens. The chunks can be words, characters, or sub-word. A unique index called \"word_index\" is assigned to each word in the text which helps the model during the training process (TensorFlow, n.d; MLK, 2021).\n",
    "\n",
    "Other goals that the tokenization process can achieve  include: \n",
    "- Replacing any abnormal character, formatting, and standardizing texts,\n",
    "- Lemmatizing words and transforming the text into sequences, and\n",
    "- Preparing the transformed sequences to a maximum sequence length by padding. \n"
   ]
  },
  {
   "cell_type": "code",
   "execution_count": 69,
   "id": "7b55a0bf-56f6-49a8-906e-de6d9152bcc6",
   "metadata": {},
   "outputs": [
    {
     "data": {
      "text/plain": [
       "[('<UNK>', 1),\n",
       " ('album', 2),\n",
       " ('song', 3),\n",
       " ('quot', 4),\n",
       " ('wa', 5),\n",
       " ('one', 6),\n",
       " ('like', 7),\n",
       " ('track', 8),\n",
       " ('ha', 9),\n",
       " ('music', 10)]"
      ]
     },
     "execution_count": 69,
     "metadata": {},
     "output_type": "execute_result"
    }
   ],
   "source": [
    "t = Tokenizer(num_words=vocab_size, oov_token=\"<UNK>\" )\n",
    "t.fit_on_texts(prep_df.words)\n",
    "\n",
    "list(t.word_index.items())[:10]"
   ]
  },
  {
   "cell_type": "code",
   "execution_count": 66,
   "id": "9552251f-74e7-4b33-8441-e2e5d6287915",
   "metadata": {
    "collapsed": true,
    "jupyter": {
     "outputs_hidden": true
    },
    "tags": []
   },
   "outputs": [
    {
     "data": {
      "text/plain": [
       "[[90,\n",
       "  294,\n",
       "  802,\n",
       "  1446,\n",
       "  163,\n",
       "  570,\n",
       "  31,\n",
       "  452,\n",
       "  9,\n",
       "  1936,\n",
       "  22,\n",
       "  2825,\n",
       "  15,\n",
       "  4963,\n",
       "  84,\n",
       "  13,\n",
       "  2,\n",
       "  33,\n",
       "  484,\n",
       "  51,\n",
       "  39489,\n",
       "  65,\n",
       "  150,\n",
       "  701,\n",
       "  37,\n",
       "  1749,\n",
       "  4963,\n",
       "  24,\n",
       "  593,\n",
       "  1630,\n",
       "  58,\n",
       "  1016,\n",
       "  671,\n",
       "  201,\n",
       "  7736,\n",
       "  2,\n",
       "  1460,\n",
       "  3415,\n",
       "  425,\n",
       "  111,\n",
       "  3,\n",
       "  802,\n",
       "  1446,\n",
       "  33790,\n",
       "  3868,\n",
       "  18212,\n",
       "  18213,\n",
       "  14,\n",
       "  7,\n",
       "  11884,\n",
       "  1723,\n",
       "  311,\n",
       "  51212,\n",
       "  717,\n",
       "  671,\n",
       "  201,\n",
       "  9,\n",
       "  13405,\n",
       "  849,\n",
       "  5161,\n",
       "  6545,\n",
       "  116,\n",
       "  13405,\n",
       "  1653,\n",
       "  4110,\n",
       "  3,\n",
       "  378,\n",
       "  3972,\n",
       "  374,\n",
       "  9,\n",
       "  219,\n",
       "  16,\n",
       "  305,\n",
       "  2354,\n",
       "  1024,\n",
       "  23911,\n",
       "  529,\n",
       "  99,\n",
       "  565,\n",
       "  989,\n",
       "  3,\n",
       "  35,\n",
       "  315,\n",
       "  5636,\n",
       "  1081,\n",
       "  590,\n",
       "  249,\n",
       "  345,\n",
       "  33,\n",
       "  484,\n",
       "  10,\n",
       "  164,\n",
       "  4963,\n",
       "  32],\n",
       " [51213,\n",
       "  3145,\n",
       "  19606,\n",
       "  2,\n",
       "  802,\n",
       "  1446,\n",
       "  345,\n",
       "  4729,\n",
       "  45,\n",
       "  3,\n",
       "  4417,\n",
       "  25482,\n",
       "  565,\n",
       "  195,\n",
       "  788,\n",
       "  998,\n",
       "  58,\n",
       "  860,\n",
       "  71,\n",
       "  30148,\n",
       "  6497,\n",
       "  4963,\n",
       "  127,\n",
       "  359,\n",
       "  4909,\n",
       "  333,\n",
       "  3,\n",
       "  513,\n",
       "  2784,\n",
       "  1101,\n",
       "  633,\n",
       "  318,\n",
       "  61,\n",
       "  62,\n",
       "  4963,\n",
       "  211,\n",
       "  88,\n",
       "  124,\n",
       "  6,\n",
       "  10703,\n",
       "  54,\n",
       "  7,\n",
       "  13406,\n",
       "  148,\n",
       "  1714,\n",
       "  275,\n",
       "  32,\n",
       "  114,\n",
       "  563,\n",
       "  150,\n",
       "  130,\n",
       "  54,\n",
       "  146,\n",
       "  508],\n",
       " [61,\n",
       "  182,\n",
       "  4963,\n",
       "  25,\n",
       "  1146,\n",
       "  2138,\n",
       "  1884,\n",
       "  39490,\n",
       "  15705,\n",
       "  1424,\n",
       "  7010,\n",
       "  939,\n",
       "  17615,\n",
       "  13406,\n",
       "  65,\n",
       "  1328,\n",
       "  5703,\n",
       "  423,\n",
       "  224,\n",
       "  2607,\n",
       "  568,\n",
       "  533,\n",
       "  374,\n",
       "  9,\n",
       "  219,\n",
       "  802,\n",
       "  1146,\n",
       "  1884,\n",
       "  743,\n",
       "  4963,\n",
       "  3154,\n",
       "  6143,\n",
       "  159,\n",
       "  811,\n",
       "  3,\n",
       "  18,\n",
       "  11497,\n",
       "  35,\n",
       "  15,\n",
       "  26,\n",
       "  28,\n",
       "  466,\n",
       "  2],\n",
       " [462,\n",
       "  173,\n",
       "  4936,\n",
       "  2,\n",
       "  573,\n",
       "  242,\n",
       "  256,\n",
       "  11693,\n",
       "  178,\n",
       "  8616,\n",
       "  6,\n",
       "  222,\n",
       "  1640,\n",
       "  17,\n",
       "  10,\n",
       "  95,\n",
       "  458,\n",
       "  51,\n",
       "  10,\n",
       "  3360,\n",
       "  157,\n",
       "  35,\n",
       "  726,\n",
       "  515,\n",
       "  49,\n",
       "  82,\n",
       "  4936,\n",
       "  10,\n",
       "  127,\n",
       "  49,\n",
       "  82,\n",
       "  2,\n",
       "  13,\n",
       "  130,\n",
       "  11,\n",
       "  404,\n",
       "  371,\n",
       "  10,\n",
       "  7,\n",
       "  4963,\n",
       "  88,\n",
       "  404,\n",
       "  371,\n",
       "  1742,\n",
       "  10,\n",
       "  2,\n",
       "  132],\n",
       " [4963,\n",
       "  505,\n",
       "  782,\n",
       "  175,\n",
       "  78,\n",
       "  4495,\n",
       "  834,\n",
       "  78,\n",
       "  6,\n",
       "  260,\n",
       "  211,\n",
       "  171,\n",
       "  10,\n",
       "  51,\n",
       "  1152,\n",
       "  1223,\n",
       "  53,\n",
       "  260,\n",
       "  60,\n",
       "  69,\n",
       "  44,\n",
       "  9226,\n",
       "  10,\n",
       "  26,\n",
       "  69,\n",
       "  383,\n",
       "  207,\n",
       "  60,\n",
       "  116,\n",
       "  130,\n",
       "  186,\n",
       "  558,\n",
       "  22,\n",
       "  3570,\n",
       "  547,\n",
       "  134,\n",
       "  991,\n",
       "  106,\n",
       "  116,\n",
       "  802,\n",
       "  1446,\n",
       "  6,\n",
       "  1217,\n",
       "  2,\n",
       "  587,\n",
       "  375,\n",
       "  9,\n",
       "  140,\n",
       "  6,\n",
       "  118,\n",
       "  36,\n",
       "  57,\n",
       "  3,\n",
       "  59,\n",
       "  802,\n",
       "  1446,\n",
       "  7,\n",
       "  46,\n",
       "  681,\n",
       "  830,\n",
       "  39489,\n",
       "  2,\n",
       "  383,\n",
       "  7939,\n",
       "  438,\n",
       "  2,\n",
       "  111,\n",
       "  8,\n",
       "  140,\n",
       "  57,\n",
       "  1218,\n",
       "  195,\n",
       "  9227,\n",
       "  130,\n",
       "  39,\n",
       "  8,\n",
       "  99,\n",
       "  7,\n",
       "  2727,\n",
       "  431,\n",
       "  1079,\n",
       "  221,\n",
       "  51214,\n",
       "  3570,\n",
       "  48,\n",
       "  159,\n",
       "  11,\n",
       "  314,\n",
       "  183,\n",
       "  6601,\n",
       "  38,\n",
       "  13,\n",
       "  203,\n",
       "  29,\n",
       "  193,\n",
       "  1018,\n",
       "  110,\n",
       "  101,\n",
       "  197,\n",
       "  2435,\n",
       "  51,\n",
       "  3,\n",
       "  1830,\n",
       "  1812,\n",
       "  6,\n",
       "  262,\n",
       "  127,\n",
       "  52,\n",
       "  1369,\n",
       "  1553,\n",
       "  221,\n",
       "  51215,\n",
       "  18213,\n",
       "  53,\n",
       "  2,\n",
       "  53,\n",
       "  3973,\n",
       "  1554,\n",
       "  848,\n",
       "  295,\n",
       "  10,\n",
       "  14,\n",
       "  7,\n",
       "  82,\n",
       "  100,\n",
       "  2034,\n",
       "  1752,\n",
       "  323,\n",
       "  213,\n",
       "  4963,\n",
       "  83,\n",
       "  660,\n",
       "  58,\n",
       "  136,\n",
       "  5249,\n",
       "  337,\n",
       "  10,\n",
       "  657,\n",
       "  1277,\n",
       "  1118,\n",
       "  1305,\n",
       "  58,\n",
       "  43,\n",
       "  295,\n",
       "  34,\n",
       "  5146,\n",
       "  3545,\n",
       "  899,\n",
       "  886,\n",
       "  206,\n",
       "  51216,\n",
       "  8617,\n",
       "  39491,\n",
       "  3,\n",
       "  77,\n",
       "  3,\n",
       "  299,\n",
       "  1927,\n",
       "  181,\n",
       "  208,\n",
       "  648,\n",
       "  15,\n",
       "  3,\n",
       "  479,\n",
       "  53,\n",
       "  126,\n",
       "  17,\n",
       "  199,\n",
       "  660,\n",
       "  497,\n",
       "  8,\n",
       "  29,\n",
       "  6,\n",
       "  2,\n",
       "  335,\n",
       "  206,\n",
       "  36,\n",
       "  33791,\n",
       "  53,\n",
       "  438,\n",
       "  6,\n",
       "  195,\n",
       "  712,\n",
       "  295,\n",
       "  25,\n",
       "  105,\n",
       "  3,\n",
       "  1900,\n",
       "  3598,\n",
       "  110,\n",
       "  3955,\n",
       "  1069,\n",
       "  477,\n",
       "  1328,\n",
       "  56,\n",
       "  272,\n",
       "  36,\n",
       "  39492,\n",
       "  1115,\n",
       "  2322,\n",
       "  3,\n",
       "  60,\n",
       "  1383,\n",
       "  61,\n",
       "  18,\n",
       "  1094,\n",
       "  6,\n",
       "  223,\n",
       "  39,\n",
       "  539,\n",
       "  948,\n",
       "  30,\n",
       "  740,\n",
       "  6,\n",
       "  1742,\n",
       "  136,\n",
       "  9518,\n",
       "  1081,\n",
       "  5018,\n",
       "  59,\n",
       "  62,\n",
       "  1390,\n",
       "  57,\n",
       "  3,\n",
       "  587,\n",
       "  158,\n",
       "  237,\n",
       "  27,\n",
       "  771,\n",
       "  39493,\n",
       "  9,\n",
       "  219,\n",
       "  3,\n",
       "  4796,\n",
       "  1115,\n",
       "  140,\n",
       "  3441,\n",
       "  3003,\n",
       "  3,\n",
       "  28,\n",
       "  2472,\n",
       "  39,\n",
       "  13,\n",
       "  99,\n",
       "  3,\n",
       "  9,\n",
       "  105,\n",
       "  1742,\n",
       "  509,\n",
       "  310,\n",
       "  171,\n",
       "  8,\n",
       "  780,\n",
       "  171,\n",
       "  19607,\n",
       "  142,\n",
       "  68,\n",
       "  550,\n",
       "  272,\n",
       "  51217,\n",
       "  519,\n",
       "  939,\n",
       "  10340,\n",
       "  528,\n",
       "  53,\n",
       "  7939,\n",
       "  3,\n",
       "  172,\n",
       "  631,\n",
       "  1412,\n",
       "  186,\n",
       "  550,\n",
       "  115,\n",
       "  3,\n",
       "  1525,\n",
       "  119,\n",
       "  3370,\n",
       "  6546,\n",
       "  206,\n",
       "  39494,\n",
       "  992,\n",
       "  302,\n",
       "  2,\n",
       "  684,\n",
       "  2234,\n",
       "  418,\n",
       "  6,\n",
       "  5108,\n",
       "  1452,\n",
       "  67,\n",
       "  2,\n",
       "  136,\n",
       "  6688,\n",
       "  4963,\n",
       "  1305,\n",
       "  39,\n",
       "  260,\n",
       "  1248,\n",
       "  2812,\n",
       "  234,\n",
       "  1671,\n",
       "  53,\n",
       "  130,\n",
       "  8,\n",
       "  29,\n",
       "  115,\n",
       "  206,\n",
       "  51218,\n",
       "  22581,\n",
       "  1593,\n",
       "  30,\n",
       "  53,\n",
       "  1076,\n",
       "  1524,\n",
       "  8,\n",
       "  563,\n",
       "  19608,\n",
       "  539,\n",
       "  39,\n",
       "  1672,\n",
       "  2,\n",
       "  60,\n",
       "  9032,\n",
       "  39495,\n",
       "  8,\n",
       "  7,\n",
       "  77,\n",
       "  3545,\n",
       "  170,\n",
       "  83,\n",
       "  8,\n",
       "  63,\n",
       "  6337,\n",
       "  272,\n",
       "  36,\n",
       "  51219,\n",
       "  35,\n",
       "  315,\n",
       "  2229,\n",
       "  1143,\n",
       "  383,\n",
       "  8,\n",
       "  1715,\n",
       "  908,\n",
       "  44,\n",
       "  5,\n",
       "  115,\n",
       "  547,\n",
       "  3570,\n",
       "  39,\n",
       "  1653,\n",
       "  77,\n",
       "  83,\n",
       "  2,\n",
       "  115,\n",
       "  550,\n",
       "  718,\n",
       "  226,\n",
       "  203,\n",
       "  43,\n",
       "  8,\n",
       "  18,\n",
       "  5903,\n",
       "  360,\n",
       "  221,\n",
       "  39496,\n",
       "  65,\n",
       "  150,\n",
       "  701,\n",
       "  13406,\n",
       "  751,\n",
       "  2975,\n",
       "  6,\n",
       "  17,\n",
       "  140,\n",
       "  97,\n",
       "  34,\n",
       "  15,\n",
       "  25483,\n",
       "  301,\n",
       "  116,\n",
       "  802,\n",
       "  1446,\n",
       "  6546,\n",
       "  2,\n",
       "  505,\n",
       "  578,\n",
       "  547,\n",
       "  8,\n",
       "  24,\n",
       "  6,\n",
       "  728,\n",
       "  2813]]"
      ]
     },
     "execution_count": 66,
     "metadata": {},
     "output_type": "execute_result"
    }
   ],
   "source": [
    "t.texts_to_sequences(prep_df.words.values[:5])\n"
   ]
  },
  {
   "cell_type": "markdown",
   "id": "ebbd1686-20f5-486d-82eb-36900ba0f7e3",
   "metadata": {},
   "source": [
    "### 3.  Explain the padding process used to standardize the length of sequences, including the following in your explanation:\n",
    "\n",
    "\n",
    "\n",
    "\n",
    "\n",
    "\n",
    "\n",
    "\n",
    "\n"
   ]
  },
  {
   "cell_type": "code",
   "execution_count": 72,
   "id": "4409d8cf-3f24-4826-ae36-508dbf52acbe",
   "metadata": {},
   "outputs": [
    {
     "data": {
      "text/plain": [
       "array([[   90,   294,   802, ...,    14,     7, 11884],\n",
       "       [51213,  3145, 19606, ...,   114,   563,   150],\n",
       "       [   61,   182,  4963, ...,     0,     0,     0],\n",
       "       ...,\n",
       "       [  513,    16,     3, ...,     0,     0,     0],\n",
       "       [ 1420,  1403,    38, ...,  3460,  1090,   407],\n",
       "       [  858,  3504,    21, ...,  7572,   239,     7]], dtype=int32)"
      ]
     },
     "execution_count": 72,
     "metadata": {},
     "output_type": "execute_result"
    }
   ],
   "source": [
    "\n",
    "\n",
    "# t = tf.keras.preprocessing.text.Tokenizer(oov_token = '[UNK]', lower=True)\n",
    "seq_train = t.texts_to_sequences(prep_df.words.values)\n",
    "# seq_train\n",
    "pad_train = pad_sequences(sequences=seq_train, maxlen=50, padding=\"post\", truncating=\"post\")\n",
    "pad_train"
   ]
  },
  {
   "cell_type": "markdown",
   "id": "c6c08a48-a990-4daa-b857-5a7a76f1109a",
   "metadata": {},
   "source": [
    "#### a. if the padding occurs before or after the text sequence"
   ]
  },
  {
   "cell_type": "markdown",
   "id": "4b91fcce-d35c-4674-926c-c7b949b595c3",
   "metadata": {},
   "source": [
    "#### b. a screenshot of a single padded sequence"
   ]
  },
  {
   "cell_type": "markdown",
   "id": "b764cff8-c762-4e92-849d-207add8190c7",
   "metadata": {},
   "source": [
    "### 4.  Identify how many categories of sentiment will be used and an activation function for the final dense layer of the network."
   ]
  },
  {
   "cell_type": "markdown",
   "id": "efaf3fa2-ce68-4c02-b2db-d41483b2e3b1",
   "metadata": {},
   "source": [
    "### 5.  Explain the steps used to prepare the data for analysis, including the size of the training, validation, and test set split."
   ]
  },
  {
   "cell_type": "code",
   "execution_count": 165,
   "id": "9bbac9c0-d1c7-4381-8eb8-9fbabc6927f2",
   "metadata": {},
   "outputs": [
    {
     "data": {
      "text/html": [
       "<div>\n",
       "<style scoped>\n",
       "    .dataframe tbody tr th:only-of-type {\n",
       "        vertical-align: middle;\n",
       "    }\n",
       "\n",
       "    .dataframe tbody tr th {\n",
       "        vertical-align: top;\n",
       "    }\n",
       "\n",
       "    .dataframe thead th {\n",
       "        text-align: right;\n",
       "    }\n",
       "</style>\n",
       "<table border=\"1\" class=\"dataframe\">\n",
       "  <thead>\n",
       "    <tr style=\"text-align: right;\">\n",
       "      <th></th>\n",
       "      <th>words</th>\n",
       "      <th>overall_pos_neg</th>\n",
       "    </tr>\n",
       "  </thead>\n",
       "  <tbody>\n",
       "    <tr>\n",
       "      <th>0</th>\n",
       "      <td>favorite ohio player lp mainly 7 terrific song great writing terrific playing lovliest quirkiest vocal ever put wax title track open album sport one prettiest melody gent ever come doo wop flavored ballad set calming soothing mood permeates almost every track exception heavy rock funk track quot fopp quot ever wonder gun n rose copped riff quot paradise city quot answer number 1 hit quot love rollercoaster quot centerpiece album masterpiece quot sweet sticky thing quot one longest track special note band display overt jazz sound sax playing color chorus astounding drumming jimmy quot diamond quot williams notice great footwork cymbal roll crash close song track alone make lp worth owning closing ballad quot alone quot another stunner featuring sugarfoot guitar rising falling synth background sugarfoot plaintive voice singing lyric loneliness desperation wanna alone anymore someone pick floor quot alone quot end classic album melancholy hopeful note u hopeless romantic surprisingly quot honey quot never sound dated fact influence heard music artist last 2 decade music soul rock case point red hot chili pepper cover quot rollercoaster quot 1996 winning album ha stood rest time</td>\n",
       "      <td>1</td>\n",
       "    </tr>\n",
       "  </tbody>\n",
       "</table>\n",
       "</div>"
      ],
      "text/plain": [
       "                                                                                                                                                                                                                                                                                                                                                                                                                                                                                                                                                                                                                                                                                                                                                                                                                                                                                                                                                                                                                                                                                                                                                                                                                                       words  \\\n",
       "0  favorite ohio player lp mainly 7 terrific song great writing terrific playing lovliest quirkiest vocal ever put wax title track open album sport one prettiest melody gent ever come doo wop flavored ballad set calming soothing mood permeates almost every track exception heavy rock funk track quot fopp quot ever wonder gun n rose copped riff quot paradise city quot answer number 1 hit quot love rollercoaster quot centerpiece album masterpiece quot sweet sticky thing quot one longest track special note band display overt jazz sound sax playing color chorus astounding drumming jimmy quot diamond quot williams notice great footwork cymbal roll crash close song track alone make lp worth owning closing ballad quot alone quot another stunner featuring sugarfoot guitar rising falling synth background sugarfoot plaintive voice singing lyric loneliness desperation wanna alone anymore someone pick floor quot alone quot end classic album melancholy hopeful note u hopeless romantic surprisingly quot honey quot never sound dated fact influence heard music artist last 2 decade music soul rock case point red hot chili pepper cover quot rollercoaster quot 1996 winning album ha stood rest time   \n",
       "\n",
       "   overall_pos_neg  \n",
       "0                1  "
      ]
     },
     "execution_count": 165,
     "metadata": {},
     "output_type": "execute_result"
    },
    {
     "data": {
      "text/plain": [
       " 1    41692\n",
       "-1    10072\n",
       "Name: overall_pos_neg, dtype: int64"
      ]
     },
     "execution_count": 165,
     "metadata": {},
     "output_type": "execute_result"
    },
    {
     "data": {
      "text/html": [
       "<div>\n",
       "<style scoped>\n",
       "    .dataframe tbody tr th:only-of-type {\n",
       "        vertical-align: middle;\n",
       "    }\n",
       "\n",
       "    .dataframe tbody tr th {\n",
       "        vertical-align: top;\n",
       "    }\n",
       "\n",
       "    .dataframe thead th {\n",
       "        text-align: right;\n",
       "    }\n",
       "</style>\n",
       "<table border=\"1\" class=\"dataframe\">\n",
       "  <thead>\n",
       "    <tr style=\"text-align: right;\">\n",
       "      <th></th>\n",
       "      <th>words</th>\n",
       "      <th>overall_pos_neg</th>\n",
       "    </tr>\n",
       "  </thead>\n",
       "  <tbody>\n",
       "    <tr>\n",
       "      <th>0</th>\n",
       "      <td>start addicted jazz love record could provide valuable information justify buying record say something great fluidity note silence happens stop listening wa also thinking bridge round midnight kind blue mistake way</td>\n",
       "      <td>1</td>\n",
       "    </tr>\n",
       "  </tbody>\n",
       "</table>\n",
       "</div>"
      ],
      "text/plain": [
       "                                                                                                                                                                                                                    words  \\\n",
       "0  start addicted jazz love record could provide valuable information justify buying record say something great fluidity note silence happens stop listening wa also thinking bridge round midnight kind blue mistake way   \n",
       "\n",
       "   overall_pos_neg  \n",
       "0                1  "
      ]
     },
     "execution_count": 165,
     "metadata": {},
     "output_type": "execute_result"
    },
    {
     "data": {
      "text/plain": [
       " 1    10424\n",
       "-1     2518\n",
       "Name: overall_pos_neg, dtype: int64"
      ]
     },
     "execution_count": 165,
     "metadata": {},
     "output_type": "execute_result"
    }
   ],
   "source": [
    "from sklearn.model_selection import train_test_split\n",
    "\n",
    "prep_df[\"overall_pos_neg\"] = prep_df.overall.map(lambda x: 1 if x > 3 else -1 )\n",
    "\n",
    "# x should be padded seqs\n",
    "X, y = prep_df[\"words\"], prep_df[\"overall_pos_neg\"]\n",
    "\n",
    "# y\n",
    "\n",
    "# # # prep_df.head()\n",
    "# # # X = StandardScaler().fit_transform(X)\n",
    "X_train, X_test, y_train, y_test = train_test_split(\n",
    "    X, y, test_size=0.2, random_state=RANDOM_STATE, stratify=y\n",
    ")\n",
    "\n",
    "cols = [\"words\", \"overall_pos_neg\"]\n",
    "train_df= pd.DataFrame(zip(X_train, y_train), columns=cols)\n",
    "train_df.head(1)\n",
    "train_df.overall_pos_neg.value_counts()\n",
    "\n",
    "\n",
    "test_df= pd.DataFrame(zip(X_test, y_test), columns=cols)\n",
    "test_df.head(1)\n",
    "test_df.overall_pos_neg.value_counts()\n"
   ]
  },
  {
   "cell_type": "markdown",
   "id": "ad84a30d-eeea-4f77-80d9-6903dec764fe",
   "metadata": {},
   "source": [
    "### 6.  Provide a copy of the prepared dataset."
   ]
  },
  {
   "cell_type": "markdown",
   "id": "9d4c8a61-5107-474b-a2ff-fdb3146e74dd",
   "metadata": {},
   "source": [
    "# Part III:  Network Architecture\n",
    "\n"
   ]
  },
  {
   "cell_type": "markdown",
   "id": "3de7275f-87b2-45f8-8dc6-0c6424738d68",
   "metadata": {},
   "source": [
    "## C.  Describe the type of network used by doing the following:\n",
    "\n"
   ]
  },
  {
   "cell_type": "markdown",
   "id": "e6ad2066-8609-4e20-8eaa-faaf77bd97ac",
   "metadata": {},
   "source": [
    "### 1.  Provide the output of the model summary of the function from TensorFlow."
   ]
  },
  {
   "cell_type": "markdown",
   "id": "6ddb545e-9ece-4e87-8b2b-fb49e6cff79e",
   "metadata": {},
   "source": [
    "### 2.  Discuss the number of layers, the type of layers, and total number of parameters."
   ]
  },
  {
   "cell_type": "markdown",
   "id": "91d82b75-2ede-4601-a01e-6b23a405eeea",
   "metadata": {},
   "source": [
    "\n",
    "### 3.  Justify the choice of hyperparameters, including the following elements:\n"
   ]
  },
  {
   "cell_type": "markdown",
   "id": "0ff93744-c21b-4d6d-9a89-bbbc84ed1379",
   "metadata": {},
   "source": [
    "\n",
    "#### activation functions\n",
    "\n"
   ]
  },
  {
   "cell_type": "markdown",
   "id": "9ea11cd2-d89a-4757-8d26-02d73139d054",
   "metadata": {},
   "source": [
    "#### number of nodes per layer\n",
    "\n"
   ]
  },
  {
   "cell_type": "markdown",
   "id": "74640e60-786c-4b46-9304-84fbecc2811e",
   "metadata": {},
   "source": [
    "#### loss function\n"
   ]
  },
  {
   "cell_type": "markdown",
   "id": "5c70d71a-5b6f-422f-ba46-b56e1d20f217",
   "metadata": {},
   "source": [
    "\n",
    "#### optimizer\n",
    "\n"
   ]
  },
  {
   "cell_type": "markdown",
   "id": "98448e48-3c69-4664-9905-437dc99eac7e",
   "metadata": {},
   "source": [
    "#### stopping criteria\n",
    "\n"
   ]
  },
  {
   "cell_type": "markdown",
   "id": "81ec97f1-3fb5-4118-a08e-95ac6a0855db",
   "metadata": {},
   "source": [
    "#### evaluation metric"
   ]
  },
  {
   "cell_type": "markdown",
   "id": "8a9b70d2-09bb-4dcc-8290-f5b7d649384d",
   "metadata": {},
   "source": [
    "# Part IV:  Model Evaluation\n",
    "\n"
   ]
  },
  {
   "cell_type": "markdown",
   "id": "963a4800-d697-46f7-89d6-25fccd086822",
   "metadata": {},
   "source": [
    "## D.  Evaluate the model training process and its relevant outcomes by doing the following:\n",
    "\n"
   ]
  },
  {
   "cell_type": "markdown",
   "id": "13f87644-36be-46c2-a40f-892049b72461",
   "metadata": {},
   "source": [
    "### 1.  Discuss the impact of using stopping criteria instead of defining the number of epochs, including a screenshot showing the final training epoch."
   ]
  },
  {
   "cell_type": "markdown",
   "id": "89f6bc8b-d8b4-45a8-a9fd-c791e8853e3c",
   "metadata": {},
   "source": [
    "### 2.  Provide visualizations of the model’s training process, including a line graph of the loss and chosen evaluation metric."
   ]
  },
  {
   "cell_type": "markdown",
   "id": "cd88d621-7db6-4184-9be3-330c5cab8be4",
   "metadata": {},
   "source": [
    "\n",
    "### 3.  Assess the fitness of the model and any measures taken to address overfitting.\n"
   ]
  },
  {
   "cell_type": "markdown",
   "id": "23196a32-dae8-4471-b43c-62b4925d231b",
   "metadata": {},
   "source": [
    "\n",
    "### 4.  Discuss the predictive accuracy of the trained network.\n"
   ]
  },
  {
   "cell_type": "markdown",
   "id": "c6203819-6583-4e6a-afa7-fa6d8f147500",
   "metadata": {},
   "source": []
  },
  {
   "cell_type": "markdown",
   "id": "cff371e6-09e5-42fd-ba25-a2c93e6a3c87",
   "metadata": {},
   "source": [
    "# Part V:  Summary and Recommendations\n",
    "\n"
   ]
  },
  {
   "cell_type": "markdown",
   "id": "cbcc2f22-708c-4ab1-b17f-61750b0d0149",
   "metadata": {},
   "source": [
    "## E.  Provide the code used to save the trained network within the neural network.\n"
   ]
  },
  {
   "cell_type": "markdown",
   "id": "b5a978c7-f933-42ef-857b-a7fbb746fd50",
   "metadata": {},
   "source": [
    "## F.  Discuss the functionality of your neural network, including the impact of the network architecture.\n"
   ]
  },
  {
   "cell_type": "markdown",
   "id": "dbc5b3c8-6036-4f7f-8e80-e8fe6021bd42",
   "metadata": {},
   "source": [
    "## G.  Recommend a course of action based on your results.\n",
    "\n"
   ]
  },
  {
   "cell_type": "markdown",
   "id": "f183c122-5747-4c36-9950-9fb865359a45",
   "metadata": {},
   "source": [
    "# Part VI: Reporting\n",
    "\n"
   ]
  },
  {
   "cell_type": "markdown",
   "id": "692d5f95-73c6-451a-9005-a1f019d0779a",
   "metadata": {},
   "source": [
    "## H.  Create your neural network using an industry-relevant interactive development environment (e.g., a Jupyter Notebook). Include a PDF or HTML document of your executed notebook presentation.\n"
   ]
  },
  {
   "cell_type": "markdown",
   "id": "64dc577b-b770-40e2-bd67-62b200704e0f",
   "metadata": {},
   "source": [
    "## I.  List the web sources used to acquire data or segments of third-party code to support the application.\n"
   ]
  },
  {
   "cell_type": "markdown",
   "id": "8c181023-2ad6-4bbf-a637-c2f18a54bf99",
   "metadata": {},
   "source": [
    "## J.  Acknowledge sources, using in-text citations and references, for content that is quoted, paraphrased, or summarized.\n"
   ]
  },
  {
   "cell_type": "markdown",
   "id": "74a7aa00-40d4-4cf2-a983-3d7c303d5b01",
   "metadata": {},
   "source": [
    "## K.  Demonstrate professional communication in the content and presentation of your submission.\n",
    "\n"
   ]
  },
  {
   "cell_type": "code",
   "execution_count": null,
   "id": "2f48d2bc-ae9d-4f75-b7c1-0dcf0f0a7796",
   "metadata": {},
   "outputs": [],
   "source": []
  }
 ],
 "metadata": {
  "kernelspec": {
   "display_name": "py3.9",
   "language": "python",
   "name": "py3.9"
  },
  "language_info": {
   "codemirror_mode": {
    "name": "ipython",
    "version": 3
   },
   "file_extension": ".py",
   "mimetype": "text/x-python",
   "name": "python",
   "nbconvert_exporter": "python",
   "pygments_lexer": "ipython3",
   "version": "3.10.6"
  }
 },
 "nbformat": 4,
 "nbformat_minor": 5
}
