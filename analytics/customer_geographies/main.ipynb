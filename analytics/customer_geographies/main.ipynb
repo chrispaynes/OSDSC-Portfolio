{
 "cells": [
  {
   "cell_type": "markdown",
   "metadata": {},
   "source": [
    "# Identifying Customer Geographies\n",
    "\n",
    "As an analyst for ProWidget Systems, a UK-based B2B (business-to-business) retailer, you’ve been asked to report on spending volumes for London-based customers versus those based in the rest of the United Kingdom. The longterm goal is to better understand our customer base. The board has supplied a high-level data extract containing all customers’ addresses and their total spending to date. They want to know:\n",
    "\n",
    "1. Which UK cities are currently underserved\n",
    "2. Whether their customers are primarily London based\n"
   ]
  },
  {
   "cell_type": "code",
   "execution_count": 1,
   "metadata": {},
   "outputs": [
    {
     "name": "stdout",
     "output_type": "stream",
     "text": [
      "\n",
      "CondaValueError: prefix already exists: /Users/chris/opt/anaconda3/envs/data_science\n",
      "\n",
      "#\n",
      "# Name                    Version                   Build  Channel\n",
      "# packages in environment at /Users/chris/opt/anaconda3/envs/data_science:\n",
      "adbc-driver-manager       1.4.0                    pypi_0    pypi\n",
      "adbc-driver-sqlite        1.4.0                    pypi_0    pypi\n",
      "altair                    5.5.0                    pypi_0    pypi\n",
      "annotated-types           0.7.0                    pypi_0    pypi\n",
      "appnope                   0.1.3           py313hecd8cb5_0  \n",
      "asttokens                 2.0.5              pyhd3eb1b0_0  \n",
      "attrs                     25.1.0                   pypi_0    pypi\n",
      "babel                     2.17.0                   pypi_0    pypi\n",
      "blas                      2.131                  openblas    conda-forge\n",
      "blas-devel                3.9.0           31_hbf4f893_openblas    conda-forge\n",
      "bzip2                     1.0.8                h6c40b1e_6  \n",
      "ca-certificates           2025.2.25            hecd8cb5_0  \n",
      "cachetools                5.5.2                    pypi_0    pypi\n",
      "certifi                   2025.1.31                pypi_0    pypi\n",
      "charset-normalizer        3.4.1                    pypi_0    pypi\n",
      "click                     8.1.8                    pypi_0    pypi\n",
      "cloudpickle               3.1.1                    pypi_0    pypi\n",
      "comm                      0.2.1           py313hecd8cb5_0  \n",
      "commonmark                0.9.1                    pypi_0    pypi\n",
      "connectorx                0.4.2                    pypi_0    pypi\n",
      "contourpy                 1.3.1                    pypi_0    pypi\n",
      "css-inline                0.14.6                   pypi_0    pypi\n",
      "cycler                    0.12.1                   pypi_0    pypi\n",
      "debugpy                   1.8.11          py313h6d0c2b6_0  \n",
      "decorator                 5.1.1              pyhd3eb1b0_0  \n",
      "deltalake                 0.25.4                   pypi_0    pypi\n",
      "et-xmlfile                2.0.0                    pypi_0    pypi\n",
      "executing                 0.8.3              pyhd3eb1b0_0  \n",
      "expat                     2.6.4                h6d0c2b6_0  \n",
      "faicons                   0.2.2                    pypi_0    pypi\n",
      "fastexcel                 0.13.0                   pypi_0    pypi\n",
      "fonttools                 4.56.0                   pypi_0    pypi\n",
      "fsspec                    2025.2.0                 pypi_0    pypi\n",
      "gevent                    24.11.1                  pypi_0    pypi\n",
      "great-tables              0.16.1                   pypi_0    pypi\n",
      "greenlet                  3.1.1                    pypi_0    pypi\n",
      "htmltools                 0.6.0                    pypi_0    pypi\n",
      "idna                      3.10                     pypi_0    pypi\n",
      "importlib-metadata        8.6.1                    pypi_0    pypi\n",
      "importlib-resources       6.5.2                    pypi_0    pypi\n",
      "ipykernel                 6.29.5             pyh57ce528_0    conda-forge\n",
      "ipython                   8.30.0          py313hecd8cb5_0  \n",
      "jedi                      0.19.2          py313hecd8cb5_0  \n",
      "jinja2                    3.1.5                    pypi_0    pypi\n",
      "jsonschema                4.23.0          py313hecd8cb5_0  \n",
      "jsonschema-specifications 2024.10.1                pypi_0    pypi\n",
      "jupyter_client            8.6.3           py313hecd8cb5_0  \n",
      "jupyter_core              5.7.2           py313hecd8cb5_0  \n",
      "kiwisolver                1.4.8                    pypi_0    pypi\n",
      "libblas                   3.9.0           31_h7f60823_openblas    conda-forge\n",
      "libcblas                  3.9.0           31_hff6cab4_openblas    conda-forge\n",
      "libcxx                    14.0.6               h9765a3e_0  \n",
      "libffi                    3.4.4                hecd8cb5_1  \n",
      "libgfortran               5.0.0           13_2_0_h97931a8_3    conda-forge\n",
      "libgfortran5              13.2.0               h2873a65_3    conda-forge\n",
      "liblapack                 3.9.0           31_h236ab99_openblas    conda-forge\n",
      "liblapacke                3.9.0           31_h85686d2_openblas    conda-forge\n",
      "libmpdec                  4.0.0                h46256e1_0  \n",
      "libopenblas               0.3.29          openmp_hbf64a52_0    conda-forge\n",
      "libsodium                 1.0.18               h1de35cc_0  \n",
      "llvm-openmp               19.1.7               ha54dae1_0    conda-forge\n",
      "markdown-it-py            3.0.0                    pypi_0    pypi\n",
      "markupsafe                3.0.2                    pypi_0    pypi\n",
      "matplotlib                3.10.1                   pypi_0    pypi\n",
      "matplotlib-inline         0.1.6           py313hecd8cb5_0  \n",
      "mdurl                     0.1.2                    pypi_0    pypi\n",
      "mmh3                      5.1.0                    pypi_0    pypi\n",
      "narwhals                  1.29.0                   pypi_0    pypi\n",
      "nbformat                  5.10.4          py313hecd8cb5_0  \n",
      "ncurses                   6.4                  hcec6c5f_0  \n",
      "nest-asyncio              1.6.0           py313hecd8cb5_0  \n",
      "numpy                     2.2.2           py313hc5c9681_0  \n",
      "numpy-base                2.2.2           py313h0dbffa8_0  \n",
      "openblas                  0.3.29          openmp_h30af337_0    conda-forge\n",
      "openpyxl                  3.1.5                    pypi_0    pypi\n",
      "openssl                   3.0.16               h184c1cd_0  \n",
      "packaging                 24.2            py313hecd8cb5_0  \n",
      "pandas                    2.2.3                    pypi_0    pypi\n",
      "parso                     0.8.4           py313hecd8cb5_0  \n",
      "pexpect                   4.8.0              pyhd3eb1b0_3  \n",
      "pillow                    11.1.0                   pypi_0    pypi\n",
      "pip                       25.0            py313hecd8cb5_0  \n",
      "platformdirs              3.10.0          py313hecd8cb5_0  \n",
      "plotly                    5.24.1          py313h653c010_1  \n",
      "polars                    1.24.0          py313h6b21c8a_0    conda-forge\n",
      "polars-lts-cpu            1.24.0                   pypi_0    pypi\n",
      "prompt-toolkit            3.0.43          py313hecd8cb5_0  \n",
      "prompt_toolkit            3.0.43               hd3eb1b0_0  \n",
      "psutil                    5.9.0           py313h46256e1_1  \n",
      "ptyprocess                0.7.0              pyhd3eb1b0_2  \n",
      "pure_eval                 0.2.2              pyhd3eb1b0_0  \n",
      "pyarrow                   18.1.0                   pypi_0    pypi\n",
      "pydantic                  2.10.6                   pypi_0    pypi\n",
      "pydantic-core             2.27.2                   pypi_0    pypi\n",
      "pygments                  2.15.1          py313hecd8cb5_1  \n",
      "pyiceberg                 0.9.0                    pypi_0    pypi\n",
      "pyparsing                 3.2.1                    pypi_0    pypi\n",
      "python                    3.13.2          h1ec50cd_100_cp313  \n",
      "python-dateutil           2.9.0post0      py313hecd8cb5_2  \n",
      "python-fastjsonschema     2.20.0          py313hecd8cb5_0  \n",
      "python_abi                3.13                    0_cp313  \n",
      "pytz                      2025.1                   pypi_0    pypi\n",
      "pyzmq                     26.2.0          py313h6d0c2b6_0  \n",
      "readline                  8.2                  hca72f7f_0  \n",
      "referencing               0.36.2                   pypi_0    pypi\n",
      "requests                  2.32.3                   pypi_0    pypi\n",
      "rich                      13.9.4                   pypi_0    pypi\n",
      "rpds-py                   0.23.1                   pypi_0    pypi\n",
      "setuptools                72.1.0          py313hecd8cb5_0  \n",
      "six                       1.16.0             pyhd3eb1b0_1  \n",
      "sortedcontainers          2.4.0                    pypi_0    pypi\n",
      "sqlalchemy                2.0.38                   pypi_0    pypi\n",
      "sqlite                    3.45.3               h6c40b1e_0  \n",
      "stack_data                0.2.0              pyhd3eb1b0_0  \n",
      "strictyaml                1.7.3                    pypi_0    pypi\n",
      "tenacity                  9.0.0           py313hecd8cb5_0  \n",
      "tk                        8.6.14               h4d00af3_0  \n",
      "tornado                   6.4.2           py313h46256e1_0  \n",
      "traitlets                 5.14.3          py313hecd8cb5_0  \n",
      "typing-extensions         4.12.2                   pypi_0    pypi\n",
      "tzdata                    2025.1                   pypi_0    pypi\n",
      "urllib3                   2.3.0                    pypi_0    pypi\n",
      "wcwidth                   0.2.5              pyhd3eb1b0_0  \n",
      "wheel                     0.45.1          py313hecd8cb5_0  \n",
      "xlsx2csv                  0.8.4                    pypi_0    pypi\n",
      "xlsxwriter                3.2.2                    pypi_0    pypi\n",
      "xz                        5.6.4                h46256e1_1  \n",
      "zeromq                    4.3.5                hcec6c5f_0  \n",
      "zipp                      3.21.0                   pypi_0    pypi\n",
      "zlib                      1.2.13               h4b97444_1  \n",
      "zope-event                5.0                      pypi_0    pypi\n",
      "zope-interface            7.2                      pypi_0    pypi\n"
     ]
    }
   ],
   "source": [
    "! conda env create -f environment.yml\n",
    "! conda list | sort\n"
   ]
  },
  {
   "cell_type": "markdown",
   "metadata": {},
   "source": [
    "# Environment Setup"
   ]
  },
  {
   "cell_type": "code",
   "execution_count": 2,
   "metadata": {},
   "outputs": [],
   "source": [
    "import polars as pl\n",
    "import plotly.express as px"
   ]
  },
  {
   "cell_type": "code",
   "execution_count": 67,
   "metadata": {},
   "outputs": [
    {
     "data": {
      "text/plain": [
       "polars.config.Config"
      ]
     },
     "execution_count": 67,
     "metadata": {},
     "output_type": "execute_result"
    }
   ],
   "source": [
    "pl.Config.set_tbl_rows(100)\n",
    "pl.Config.set_tbl_cols(100)\n",
    "pl.Config.set_fmt_str_lengths(500)"
   ]
  },
  {
   "cell_type": "code",
   "execution_count": 118,
   "metadata": {},
   "outputs": [],
   "source": [
    "prep_addresses_df = pl.read_csv(\"./data/addresses.csv\")\n",
    "prep_cities_df = pl.read_csv(\"./data/cities.csv\", has_header=False).rename({\"column_1\": \"city\"})"
   ]
  },
  {
   "cell_type": "markdown",
   "metadata": {},
   "source": [
    "# Business Understanding\n",
    "We're exploring a business intelligence project aimed on understanding our customer base's geographical distribution. Our board has specifically requested insights into whether the business is overly London-centric and which UK cities might represent untapped market potential. This analysis will serve as a foundation for strategic market expansion and resource allocation decisions.\n",
    "\n",
    "Our primary objectives are to quantify the London versus non-London customer base distribution and identify underserved markets across the UK. Success in this project will be measured by our ability to provide actionable geographic insights, including a clear understanding of current market penetration across different cities and specific recommendations for market expansion opportunities."
   ]
  },
  {
   "cell_type": "markdown",
   "metadata": {},
   "source": [
    "# Data Understanding\n",
    "We have access to two primary data sources: a customer database containing address information and spending data (`addresses.csv`), and a reference list of UK cities (`cities.csv`). The customer data presents a particular challenge as it contains free-text address fields, which will require careful processing to extract standardized location information.\n",
    "\n",
    "Our initial data exploration will focus on understanding the various formats and patterns in the address data, assessing data completeness, and examining the distribution of customer spending. We'll need to pay particular attention to how cities are represented in the free text and identify any systematic patterns or variations in how addresses are recorded. The quality of our city reference data will also be crucial for accurate geographical classification.\n"
   ]
  },
  {
   "cell_type": "markdown",
   "metadata": {},
   "source": [
    "## addresses"
   ]
  },
  {
   "cell_type": "code",
   "execution_count": 4,
   "metadata": {},
   "outputs": [
    {
     "data": {
      "text/html": [
       "<div><style>\n",
       ".dataframe > thead > tr,\n",
       ".dataframe > tbody > tr {\n",
       "  text-align: right;\n",
       "  white-space: pre-wrap;\n",
       "}\n",
       "</style>\n",
       "<small>shape: (10, 3)</small><table border=\"1\" class=\"dataframe\"><thead><tr><th>company_id</th><th>address</th><th>total_spend</th></tr><tr><td>i64</td><td>str</td><td>i64</td></tr></thead><tbody><tr><td>1</td><td>&quot;APARTMENT 2,\n",
       "52 BEDFORD ROAD,\n",
       "…</td><td>5700</td></tr><tr><td>2</td><td>&quot;107 SHERINGHAM AVENUE,\n",
       "LONDON,…</td><td>4700</td></tr><tr><td>3</td><td>&quot;43 SUNNINGDALE,\n",
       "YATE,\n",
       "BRISTOL,…</td><td>5900</td></tr><tr><td>4</td><td>&quot;HAWESWATER HOUSE,\n",
       "LINGLEY MERE…</td><td>7200</td></tr><tr><td>5</td><td>&quot;AMBERFIELD BARN HOUSE AMBER LA…</td><td>4600</td></tr><tr><td>6</td><td>&quot;FIRST FLOOR CEF BUILDING,\n",
       "BROO…</td><td>4600</td></tr><tr><td>7</td><td>&quot;37 BEVERLEY ROAD,\n",
       "DRIFFIELD,\n",
       "E…</td><td>7300</td></tr><tr><td>8</td><td>&quot;B82 ALBION RIVERSIDE BUILDING,…</td><td>6100</td></tr><tr><td>9</td><td>&quot;Flat 27, Domelton House,\n",
       "Iron …</td><td>4200</td></tr><tr><td>10</td><td>&quot;34 BROOKSIDE ESTATE,\n",
       "CHALGROVE…</td><td>5800</td></tr></tbody></table></div>"
      ],
      "text/plain": [
       "shape: (10, 3)\n",
       "┌────────────┬─────────────────────────────────┬─────────────┐\n",
       "│ company_id ┆ address                         ┆ total_spend │\n",
       "│ ---        ┆ ---                             ┆ ---         │\n",
       "│ i64        ┆ str                             ┆ i64         │\n",
       "╞════════════╪═════════════════════════════════╪═════════════╡\n",
       "│ 1          ┆ APARTMENT 2,                    ┆ 5700        │\n",
       "│            ┆ 52 BEDFORD ROAD,                ┆             │\n",
       "│            ┆ …                               ┆             │\n",
       "│ 2          ┆ 107 SHERINGHAM AVENUE,          ┆ 4700        │\n",
       "│            ┆ LONDON,…                        ┆             │\n",
       "│ 3          ┆ 43 SUNNINGDALE,                 ┆ 5900        │\n",
       "│            ┆ YATE,                           ┆             │\n",
       "│            ┆ BRISTOL,…                       ┆             │\n",
       "│ 4          ┆ HAWESWATER HOUSE,               ┆ 7200        │\n",
       "│            ┆ LINGLEY MERE…                   ┆             │\n",
       "│ 5          ┆ AMBERFIELD BARN HOUSE AMBER LA… ┆ 4600        │\n",
       "│ 6          ┆ FIRST FLOOR CEF BUILDING,       ┆ 4600        │\n",
       "│            ┆ BROO…                           ┆             │\n",
       "│ 7          ┆ 37 BEVERLEY ROAD,               ┆ 7300        │\n",
       "│            ┆ DRIFFIELD,                      ┆             │\n",
       "│            ┆ E…                              ┆             │\n",
       "│ 8          ┆ B82 ALBION RIVERSIDE BUILDING,… ┆ 6100        │\n",
       "│ 9          ┆ Flat 27, Domelton House,        ┆ 4200        │\n",
       "│            ┆ Iron …                          ┆             │\n",
       "│ 10         ┆ 34 BROOKSIDE ESTATE,            ┆ 5800        │\n",
       "│            ┆ CHALGROVE…                      ┆             │\n",
       "└────────────┴─────────────────────────────────┴─────────────┘"
      ]
     },
     "metadata": {},
     "output_type": "display_data"
    },
    {
     "data": {
      "text/html": [
       "<div><style>\n",
       ".dataframe > thead > tr,\n",
       ".dataframe > tbody > tr {\n",
       "  text-align: right;\n",
       "  white-space: pre-wrap;\n",
       "}\n",
       "</style>\n",
       "<small>shape: (9, 4)</small><table border=\"1\" class=\"dataframe\"><thead><tr><th>statistic</th><th>company_id</th><th>address</th><th>total_spend</th></tr><tr><td>str</td><td>f64</td><td>str</td><td>f64</td></tr></thead><tbody><tr><td>&quot;count&quot;</td><td>100000.0</td><td>&quot;99032&quot;</td><td>100000.0</td></tr><tr><td>&quot;null_count&quot;</td><td>0.0</td><td>&quot;968&quot;</td><td>0.0</td></tr><tr><td>&quot;mean&quot;</td><td>50000.5</td><td>null</td><td>4951.662</td></tr><tr><td>&quot;std&quot;</td><td>28867.657797</td><td>null</td><td>1500.983866</td></tr><tr><td>&quot;min&quot;</td><td>1.0</td><td>&quot;&quot;Broadridge&quot; 55 Jacksons Lane,…</td><td>0.0</td></tr><tr><td>&quot;25%&quot;</td><td>25001.0</td><td>null</td><td>3900.0</td></tr><tr><td>&quot;50%&quot;</td><td>50001.0</td><td>null</td><td>5000.0</td></tr><tr><td>&quot;75%&quot;</td><td>75000.0</td><td>null</td><td>6000.0</td></tr><tr><td>&quot;max&quot;</td><td>100000.0</td><td>&quot;İSTIKLAL MAH.,\n",
       "BARIŞ MANÇO CAD…</td><td>11700.0</td></tr></tbody></table></div>"
      ],
      "text/plain": [
       "shape: (9, 4)\n",
       "┌────────────┬──────────────┬─────────────────────────────────┬─────────────┐\n",
       "│ statistic  ┆ company_id   ┆ address                         ┆ total_spend │\n",
       "│ ---        ┆ ---          ┆ ---                             ┆ ---         │\n",
       "│ str        ┆ f64          ┆ str                             ┆ f64         │\n",
       "╞════════════╪══════════════╪═════════════════════════════════╪═════════════╡\n",
       "│ count      ┆ 100000.0     ┆ 99032                           ┆ 100000.0    │\n",
       "│ null_count ┆ 0.0          ┆ 968                             ┆ 0.0         │\n",
       "│ mean       ┆ 50000.5      ┆ null                            ┆ 4951.662    │\n",
       "│ std        ┆ 28867.657797 ┆ null                            ┆ 1500.983866 │\n",
       "│ min        ┆ 1.0          ┆ \"Broadridge\" 55 Jacksons Lane,… ┆ 0.0         │\n",
       "│ 25%        ┆ 25001.0      ┆ null                            ┆ 3900.0      │\n",
       "│ 50%        ┆ 50001.0      ┆ null                            ┆ 5000.0      │\n",
       "│ 75%        ┆ 75000.0      ┆ null                            ┆ 6000.0      │\n",
       "│ max        ┆ 100000.0     ┆ İSTIKLAL MAH.,                  ┆ 11700.0     │\n",
       "│            ┆              ┆ BARIŞ MANÇO CAD…                ┆             │\n",
       "└────────────┴──────────────┴─────────────────────────────────┴─────────────┘"
      ]
     },
     "metadata": {},
     "output_type": "display_data"
    }
   ],
   "source": [
    "display(prep_addresses_df.head(10))\n",
    "display(prep_addresses_df.describe())\n"
   ]
  },
  {
   "cell_type": "code",
   "execution_count": 6,
   "metadata": {},
   "outputs": [
    {
     "data": {
      "text/plain": [
       "{'column': ['company_id', 'address', 'total_spend'],\n",
       " 'null_counts': shape: (1, 3)\n",
       " ┌────────────┬─────────┬─────────────┐\n",
       " │ company_id ┆ address ┆ total_spend │\n",
       " │ ---        ┆ ---     ┆ ---         │\n",
       " │ u32        ┆ u32     ┆ u32         │\n",
       " ╞════════════╪═════════╪═════════════╡\n",
       " │ 0          ┆ 968     ┆ 0           │\n",
       " └────────────┴─────────┴─────────────┘,\n",
       " 'null_percentages': shape: (1, 3)\n",
       " ┌────────────┬─────────┬─────────────┐\n",
       " │ company_id ┆ address ┆ total_spend │\n",
       " │ ---        ┆ ---     ┆ ---         │\n",
       " │ f64        ┆ f64     ┆ f64         │\n",
       " ╞════════════╪═════════╪═════════════╡\n",
       " │ 0.0        ┆ 0.968   ┆ 0.0         │\n",
       " └────────────┴─────────┴─────────────┘}"
      ]
     },
     "execution_count": 6,
     "metadata": {},
     "output_type": "execute_result"
    }
   ],
   "source": [
    "\"\"\"\n",
    "1% of customers have no address\n",
    "\"\"\"\n",
    "\n",
    "null_counts = prep_addresses_df.null_count()\n",
    "total_counts = prep_addresses_df.shape[0]\n",
    "null_percentages = (null_counts / total_counts) * 100\n",
    "null_data = {\n",
    "    \"column\": prep_addresses_df.columns,\n",
    "    \"null_counts\": null_counts,\n",
    "    \"null_percentages\": null_percentages\n",
    "}\n",
    "null_data"
   ]
  },
  {
   "cell_type": "code",
   "execution_count": 127,
   "metadata": {},
   "outputs": [
    {
     "name": "stdout",
     "output_type": "stream",
     "text": [
      "APARTMENT 2,\n",
      "52 BEDFORD ROAD,\n",
      "LONDON,\n",
      "ENGLAND,\n",
      "SW4 7HJ\n",
      "\n",
      "107 SHERINGHAM AVENUE,\n",
      "LONDON,\n",
      "N14 4UJ\n",
      "\n",
      "43 SUNNINGDALE,\n",
      "YATE,\n",
      "BRISTOL,\n",
      "ENGLAND,\n",
      "BS37 4HZ\n",
      "\n",
      "HAWESWATER HOUSE,\n",
      "LINGLEY MERE BUSINESS PARK,\n",
      "LINGLEY GREEN AVENUE,\n",
      "GREAT SANKEY, WARRINGTON,\n",
      "WA5 3LP\n",
      "\n",
      "AMBERFIELD BARN HOUSE AMBER LANE,\n",
      "CHART SUTTON,\n",
      "MAIDSTONE,\n",
      "ENGLAND,\n",
      "ME17 3SF\n",
      "\n",
      "FIRST FLOOR CEF BUILDING,\n",
      "BROOMHILL WAY,\n",
      "TORQUAY,\n",
      "DEVON,\n",
      "UNITED KINGDOM,\n",
      "TQ2 7QN\n",
      "\n",
      "37 BEVERLEY ROAD,\n",
      "DRIFFIELD,\n",
      "ENGLAND,\n",
      "YO25 6RZ\n",
      "\n",
      "B82 ALBION RIVERSIDE BUILDING,\n",
      "8 HESTER ROAD,\n",
      "LONDON,\n",
      "UNITED KINGDOM,\n",
      "SW11 4AP\n",
      "\n",
      "Flat 27, Domelton House,\n",
      "Iron Mill Road,\n",
      "London,\n",
      "England,\n",
      "Sw18 2Af\n",
      "\n",
      "34 BROOKSIDE ESTATE,\n",
      "CHALGROVE,\n",
      "OXFORD,\n",
      "UNITED KINGDOM,\n",
      "OX44 7SQ\n",
      "\n"
     ]
    }
   ],
   "source": [
    "for address in prep_addresses_df[\"address\"][:10]:\n",
    "    print(address, end=\"\\n\\n\")"
   ]
  },
  {
   "cell_type": "markdown",
   "metadata": {},
   "source": [
    "## cities"
   ]
  },
  {
   "cell_type": "code",
   "execution_count": 119,
   "metadata": {},
   "outputs": [
    {
     "data": {
      "text/html": [
       "<div><style>\n",
       ".dataframe > thead > tr,\n",
       ".dataframe > tbody > tr {\n",
       "  text-align: right;\n",
       "  white-space: pre-wrap;\n",
       "}\n",
       "</style>\n",
       "<small>shape: (10, 1)</small><table border=\"1\" class=\"dataframe\"><thead><tr><th>city</th></tr><tr><td>str</td></tr></thead><tbody><tr><td>&quot;England&quot;</td></tr><tr><td>null</td></tr><tr><td>&quot;Bath&quot;</td></tr><tr><td>&quot;Birmingham*&quot;</td></tr><tr><td>&quot;Bradford*&quot;</td></tr><tr><td>&quot;Brighton &amp; Hove&quot;</td></tr><tr><td>&quot;Bristol*&quot;</td></tr><tr><td>&quot;Cambridge&quot;</td></tr><tr><td>&quot;Canterbury*&quot;</td></tr><tr><td>&quot;Carlisle&quot;</td></tr></tbody></table></div>"
      ],
      "text/plain": [
       "shape: (10, 1)\n",
       "┌─────────────────┐\n",
       "│ city            │\n",
       "│ ---             │\n",
       "│ str             │\n",
       "╞═════════════════╡\n",
       "│ England         │\n",
       "│ null            │\n",
       "│ Bath            │\n",
       "│ Birmingham*     │\n",
       "│ Bradford*       │\n",
       "│ Brighton & Hove │\n",
       "│ Bristol*        │\n",
       "│ Cambridge       │\n",
       "│ Canterbury*     │\n",
       "│ Carlisle        │\n",
       "└─────────────────┘"
      ]
     },
     "metadata": {},
     "output_type": "display_data"
    },
    {
     "data": {
      "text/html": [
       "<div><style>\n",
       ".dataframe > thead > tr,\n",
       ".dataframe > tbody > tr {\n",
       "  text-align: right;\n",
       "  white-space: pre-wrap;\n",
       "}\n",
       "</style>\n",
       "<small>shape: (9, 2)</small><table border=\"1\" class=\"dataframe\"><thead><tr><th>statistic</th><th>city</th></tr><tr><td>str</td><td>str</td></tr></thead><tbody><tr><td>&quot;count&quot;</td><td>&quot;80&quot;</td></tr><tr><td>&quot;null_count&quot;</td><td>&quot;7&quot;</td></tr><tr><td>&quot;mean&quot;</td><td>null</td></tr><tr><td>&quot;std&quot;</td><td>null</td></tr><tr><td>&quot;min&quot;</td><td>&quot;Aberdeen*&quot;</td></tr><tr><td>&quot;25%&quot;</td><td>null</td></tr><tr><td>&quot;50%&quot;</td><td>null</td></tr><tr><td>&quot;75%&quot;</td><td>null</td></tr><tr><td>&quot;max&quot;</td><td>&quot;York*&quot;</td></tr></tbody></table></div>"
      ],
      "text/plain": [
       "shape: (9, 2)\n",
       "┌────────────┬───────────┐\n",
       "│ statistic  ┆ city      │\n",
       "│ ---        ┆ ---       │\n",
       "│ str        ┆ str       │\n",
       "╞════════════╪═══════════╡\n",
       "│ count      ┆ 80        │\n",
       "│ null_count ┆ 7         │\n",
       "│ mean       ┆ null      │\n",
       "│ std        ┆ null      │\n",
       "│ min        ┆ Aberdeen* │\n",
       "│ 25%        ┆ null      │\n",
       "│ 50%        ┆ null      │\n",
       "│ 75%        ┆ null      │\n",
       "│ max        ┆ York*     │\n",
       "└────────────┴───────────┘"
      ]
     },
     "metadata": {},
     "output_type": "display_data"
    }
   ],
   "source": [
    "\"\"\"\n",
    "will need to clean up city names and remove trailing asterisks\n",
    "\"\"\"\n",
    "display(prep_cities_df.head(10))\n",
    "display(prep_cities_df.describe())"
   ]
  },
  {
   "cell_type": "markdown",
   "metadata": {},
   "source": [
    "check nulls"
   ]
  },
  {
   "cell_type": "code",
   "execution_count": 120,
   "metadata": {},
   "outputs": [
    {
     "data": {
      "text/plain": [
       "{'column': ['city'],\n",
       " 'null_counts': shape: (1, 1)\n",
       " ┌──────┐\n",
       " │ city │\n",
       " │ ---  │\n",
       " │ u32  │\n",
       " ╞══════╡\n",
       " │ 7    │\n",
       " └──────┘,\n",
       " 'null_percentages': shape: (1, 1)\n",
       " ┌──────────┐\n",
       " │ city     │\n",
       " │ ---      │\n",
       " │ f64      │\n",
       " ╞══════════╡\n",
       " │ 8.045977 │\n",
       " └──────────┘}"
      ]
     },
     "execution_count": 120,
     "metadata": {},
     "output_type": "execute_result"
    }
   ],
   "source": [
    "\"\"\"\n",
    "8% of cities are null\n",
    "\"\"\"\n",
    "\n",
    "null_counts = prep_cities_df.null_count()\n",
    "total_counts = prep_cities_df.shape[0]\n",
    "null_percentages = (null_counts / total_counts) * 100\n",
    "null_data = {\n",
    "    \"column\": prep_cities_df.columns,\n",
    "    \"null_counts\": null_counts,\n",
    "    \"null_percentages\": null_percentages\n",
    "}\n",
    "null_data"
   ]
  },
  {
   "cell_type": "code",
   "execution_count": 121,
   "metadata": {},
   "outputs": [
    {
     "name": "stdout",
     "output_type": "stream",
     "text": [
      "{'city': shape: (87,)\n",
      "Series: 'city' [str]\n",
      "[\n",
      "\t\"England\"\n",
      "\tnull\n",
      "\t\"Bath\"\n",
      "\t\"Birmingham*\"\n",
      "\t\"Bradford*\"\n",
      "\t\"Brighton & Hove\"\n",
      "\t\"Bristol*\"\n",
      "\t\"Cambridge\"\n",
      "\t\"Canterbury*\"\n",
      "\t\"Carlisle\"\n",
      "\t\"Chelmsford\"\n",
      "\t\"Chester*\"\n",
      "\t\"Chichester\"\n",
      "\t\"Colchester\"\n",
      "\t\"Coventry*\"\n",
      "\t\"Derby\"\n",
      "\t\"Doncaster\"\n",
      "\t\"Durham\"\n",
      "\t\"Ely\"\n",
      "\t\"Exeter*\"\n",
      "\t\"Gloucester\"\n",
      "\t\"Hereford\"\n",
      "\t\"Kingston-upon-Hull*\"\n",
      "\t\"Lancaster\"\n",
      "\t\"Leeds*\"\n",
      "\t\"Leicester*\"\n",
      "\t\"Lichfield\"\n",
      "\t\"Lincoln\"\n",
      "\t\"Liverpool*\"\n",
      "\t\"London*\"\n",
      "\t\"Manchester*\"\n",
      "\t\"Milton Keynes\"\n",
      "\t\"Newcastle-upon-Tyne*\"\n",
      "\t\"Norwich*\"\n",
      "\t\"Nottingham*\"\n",
      "\t\"Oxford*\"\n",
      "\t\"Peterborough\"\n",
      "\t\"Plymouth*\"\n",
      "\t\"Portsmouth*\"\n",
      "\t\"Preston\"\n",
      "\t\"Ripon\"\n",
      "\t\"Salford\"\n",
      "\t\"Salisbury\"\n",
      "\t\"Sheffield*\"\n",
      "\t\"Southampton*\"\n",
      "\t\"Southend-on-Sea\"\n",
      "\t\"St Albans\"\n",
      "\t\"Stoke on Trent*\"\n",
      "\t\"Sunderland\"\n",
      "\t\"Truro\"\n",
      "\t\"Wakefield\"\n",
      "\t\"Wells\"\n",
      "\t\"Westminster*\"\n",
      "\t\"Winchester\"\n",
      "\t\"Wolverhampton\"\n",
      "\t\"Worcester\"\n",
      "\t\"York*\"\n",
      "\tnull\n",
      "\t\"Northern Ireland\"\n",
      "\tnull\n",
      "\t\"Armagh*\"\n",
      "\t\"Bangor\"\n",
      "\t\"Belfast*\"\n",
      "\t\"Lisburn\"\n",
      "\t\"Londonderry\"\n",
      "\t\"Newry\"\n",
      "\tnull\n",
      "\t\"Scotland\"\n",
      "\tnull\n",
      "\t\"Aberdeen*\"\n",
      "\t\"Dundee*\"\n",
      "\t\"Dunfermline\"\n",
      "\t\"Edinburgh*\"\n",
      "\t\"Glasgow*\"\n",
      "\t\"Inverness\"\n",
      "\t\"Perth\"\n",
      "\t\"Stirling\"\n",
      "\tnull\n",
      "\t\"Wales\"\n",
      "\tnull\n",
      "\t\"Bangor\"\n",
      "\t\"Cardiff*\"\n",
      "\t\"Newport\"\n",
      "\t\"St Asaph\"\n",
      "\t\"St Davids\"\n",
      "\t\"Swansea*\"\n",
      "\t\"Wrexham\"\n",
      "]}\n"
     ]
    }
   ],
   "source": [
    "\"\"\"\n",
    "- country headings were included as rows in the data, so the values England, Scotland, Wales, and Northern Ireland need to be removed.\n",
    "- the trailing asterisk * character also needs to be trimmed\n",
    "- city names should be uppercased to match our address data\n",
    "\n",
    "\"\"\"\n",
    "# from pprint import pprint\n",
    "print(prep_cities_df.to_dict())"
   ]
  },
  {
   "cell_type": "code",
   "execution_count": 122,
   "metadata": {},
   "outputs": [
    {
     "data": {
      "text/html": [
       "<div><style>\n",
       ".dataframe > thead > tr,\n",
       ".dataframe > tbody > tr {\n",
       "  text-align: right;\n",
       "  white-space: pre-wrap;\n",
       "}\n",
       "</style>\n",
       "<small>shape: (2, 2)</small><table border=\"1\" class=\"dataframe\"><thead><tr><th>city</th><th>count</th></tr><tr><td>str</td><td>u32</td></tr></thead><tbody><tr><td>null</td><td>7</td></tr><tr><td>&quot;Bangor&quot;</td><td>2</td></tr></tbody></table></div>"
      ],
      "text/plain": [
       "shape: (2, 2)\n",
       "┌────────┬───────┐\n",
       "│ city   ┆ count │\n",
       "│ ---    ┆ ---   │\n",
       "│ str    ┆ u32   │\n",
       "╞════════╪═══════╡\n",
       "│ null   ┆ 7     │\n",
       "│ Bangor ┆ 2     │\n",
       "└────────┴───────┘"
      ]
     },
     "execution_count": 122,
     "metadata": {},
     "output_type": "execute_result"
    }
   ],
   "source": [
    "\"\"\"\n",
    "there are duplicates in the cities data\n",
    "    - several nulls\n",
    "    - multiple \"Bangor\"\n",
    "\"\"\"\n",
    "prep_cities_df.is_duplicated().sum()\n",
    "\n",
    "prep_cities_df.group_by(\"city\").agg(pl.len().alias(\"count\")).sort(\"count\", descending=True).filter(pl.col(\"count\") > 1)"
   ]
  },
  {
   "cell_type": "markdown",
   "metadata": {},
   "source": [
    "# Data Preparation\n",
    "The data preparation phase will center around transforming our free-text address data into structured geographical insights. This will involve developing robust text processing routines to standardize addresses and reliably extract city information. We'll need to handle various edge cases, such as different spellings of city names, multiple locations in a single address, and potential ambiguities in location references.\n",
    "\n",
    "We'll create several derived features to support our analysis, including a clear London/non-London classification and regional groupings where appropriate. The integration of our processed address data with the reference city list will be crucial for ensuring consistent geographical classification. This stage will also involve creating aggregate metrics at various geographical levels to support our analysis."
   ]
  },
  {
   "cell_type": "code",
   "execution_count": 303,
   "metadata": {},
   "outputs": [],
   "source": [
    "addresses_df = prep_addresses_df.drop_nulls(subset=[\"address\"])\n",
    "cities_df = prep_cities_df.drop_nulls(subset=[\"city\"])"
   ]
  },
  {
   "cell_type": "markdown",
   "metadata": {},
   "source": [
    "## addresses"
   ]
  },
  {
   "cell_type": "code",
   "execution_count": 304,
   "metadata": {},
   "outputs": [
    {
     "data": {
      "text/html": [
       "<div><style>\n",
       ".dataframe > thead > tr,\n",
       ".dataframe > tbody > tr {\n",
       "  text-align: right;\n",
       "  white-space: pre-wrap;\n",
       "}\n",
       "</style>\n",
       "<small>shape: (9, 4)</small><table border=\"1\" class=\"dataframe\"><thead><tr><th>statistic</th><th>company_id</th><th>address</th><th>total_spend</th></tr><tr><td>str</td><td>f64</td><td>str</td><td>f64</td></tr></thead><tbody><tr><td>&quot;count&quot;</td><td>99032.0</td><td>&quot;99032&quot;</td><td>99032.0</td></tr><tr><td>&quot;null_count&quot;</td><td>0.0</td><td>&quot;0&quot;</td><td>0.0</td></tr><tr><td>&quot;mean&quot;</td><td>50004.016964</td><td>null</td><td>4951.673197</td></tr><tr><td>&quot;std&quot;</td><td>28867.36374</td><td>null</td><td>1500.642398</td></tr><tr><td>&quot;min&quot;</td><td>1.0</td><td>&quot;&quot;Broadridge&quot; 55 Jacksons Lane,\n",
       "Hazel Grove,\n",
       "Stockport,\n",
       "Cheshire,\n",
       "Sk7 5Jp&quot;</td><td>0.0</td></tr><tr><td>&quot;25%&quot;</td><td>25004.0</td><td>null</td><td>3900.0</td></tr><tr><td>&quot;50%&quot;</td><td>49999.0</td><td>null</td><td>5000.0</td></tr><tr><td>&quot;75%&quot;</td><td>75008.0</td><td>null</td><td>6000.0</td></tr><tr><td>&quot;max&quot;</td><td>100000.0</td><td>&quot;İSTIKLAL MAH.,\n",
       "BARIŞ MANÇO CAD. NO:2,\n",
       "ESENYURT/İSTANBUL&quot;</td><td>11700.0</td></tr></tbody></table></div>"
      ],
      "text/plain": [
       "shape: (9, 4)\n",
       "┌────────────┬──────────────┬────────────────────────────────┬─────────────┐\n",
       "│ statistic  ┆ company_id   ┆ address                        ┆ total_spend │\n",
       "│ ---        ┆ ---          ┆ ---                            ┆ ---         │\n",
       "│ str        ┆ f64          ┆ str                            ┆ f64         │\n",
       "╞════════════╪══════════════╪════════════════════════════════╪═════════════╡\n",
       "│ count      ┆ 99032.0      ┆ 99032                          ┆ 99032.0     │\n",
       "│ null_count ┆ 0.0          ┆ 0                              ┆ 0.0         │\n",
       "│ mean       ┆ 50004.016964 ┆ null                           ┆ 4951.673197 │\n",
       "│ std        ┆ 28867.36374  ┆ null                           ┆ 1500.642398 │\n",
       "│ min        ┆ 1.0          ┆ \"Broadridge\" 55 Jacksons Lane, ┆ 0.0         │\n",
       "│            ┆              ┆ Hazel Grove,                   ┆             │\n",
       "│            ┆              ┆ Stockport,                     ┆             │\n",
       "│            ┆              ┆ Cheshire,                      ┆             │\n",
       "│            ┆              ┆ Sk7 5Jp                        ┆             │\n",
       "│ 25%        ┆ 25004.0      ┆ null                           ┆ 3900.0      │\n",
       "│ 50%        ┆ 49999.0      ┆ null                           ┆ 5000.0      │\n",
       "│ 75%        ┆ 75008.0      ┆ null                           ┆ 6000.0      │\n",
       "│ max        ┆ 100000.0     ┆ İSTIKLAL MAH.,                 ┆ 11700.0     │\n",
       "│            ┆              ┆ BARIŞ MANÇO CAD. NO:2,         ┆             │\n",
       "│            ┆              ┆ ESENYURT/İSTANBUL              ┆             │\n",
       "└────────────┴──────────────┴────────────────────────────────┴─────────────┘"
      ]
     },
     "metadata": {},
     "output_type": "display_data"
    }
   ],
   "source": [
    "display(addresses_df.describe())"
   ]
  },
  {
   "cell_type": "code",
   "execution_count": 305,
   "metadata": {},
   "outputs": [
    {
     "name": "stdout",
     "output_type": "stream",
     "text": [
      "APARTMENT 2,\n",
      "52 BEDFORD ROAD,\n",
      "LONDON,\n",
      "ENGLAND,\n",
      "SW4 7HJ\n",
      "\n",
      "107 SHERINGHAM AVENUE,\n",
      "LONDON,\n",
      "N14 4UJ\n",
      "\n",
      "43 SUNNINGDALE,\n",
      "YATE,\n",
      "BRISTOL,\n",
      "ENGLAND,\n",
      "BS37 4HZ\n",
      "\n",
      "HAWESWATER HOUSE,\n",
      "LINGLEY MERE BUSINESS PARK,\n",
      "LINGLEY GREEN AVENUE,\n",
      "GREAT SANKEY, WARRINGTON,\n",
      "WA5 3LP\n",
      "\n",
      "AMBERFIELD BARN HOUSE AMBER LANE,\n",
      "CHART SUTTON,\n",
      "MAIDSTONE,\n",
      "ENGLAND,\n",
      "ME17 3SF\n",
      "\n",
      "FIRST FLOOR CEF BUILDING,\n",
      "BROOMHILL WAY,\n",
      "TORQUAY,\n",
      "DEVON,\n",
      "UNITED KINGDOM,\n",
      "TQ2 7QN\n",
      "\n",
      "37 BEVERLEY ROAD,\n",
      "DRIFFIELD,\n",
      "ENGLAND,\n",
      "YO25 6RZ\n",
      "\n",
      "B82 ALBION RIVERSIDE BUILDING,\n",
      "8 HESTER ROAD,\n",
      "LONDON,\n",
      "UNITED KINGDOM,\n",
      "SW11 4AP\n",
      "\n",
      "FLAT 27, DOMELTON HOUSE,\n",
      "IRON MILL ROAD,\n",
      "LONDON,\n",
      "ENGLAND,\n",
      "SW18 2AF\n",
      "\n",
      "34 BROOKSIDE ESTATE,\n",
      "CHALGROVE,\n",
      "OXFORD,\n",
      "UNITED KINGDOM,\n",
      "OX44 7SQ\n",
      "\n"
     ]
    }
   ],
   "source": [
    "addresses_df = addresses_df.with_columns([\n",
    "    pl.col(\"address\").str.to_uppercase().alias(\"address_clean\")\n",
    "])\n",
    "\n",
    "for address in addresses_df[\"address_clean\"][:10]:\n",
    "    print(address, end=\"\\n\\n\")"
   ]
  },
  {
   "cell_type": "code",
   "execution_count": 306,
   "metadata": {},
   "outputs": [
    {
     "data": {
      "text/html": [
       "<div><style>\n",
       ".dataframe > thead > tr,\n",
       ".dataframe > tbody > tr {\n",
       "  text-align: right;\n",
       "  white-space: pre-wrap;\n",
       "}\n",
       "</style>\n",
       "<small>shape: (1, 1)</small><table border=\"1\" class=\"dataframe\"><thead><tr><th>address_clean</th></tr><tr><td>u32</td></tr></thead><tbody><tr><td>20831</td></tr></tbody></table></div>"
      ],
      "text/plain": [
       "shape: (1, 1)\n",
       "┌───────────────┐\n",
       "│ address_clean │\n",
       "│ ---           │\n",
       "│ u32           │\n",
       "╞═══════════════╡\n",
       "│ 20831         │\n",
       "└───────────────┘"
      ]
     },
     "execution_count": 306,
     "metadata": {},
     "output_type": "execute_result"
    }
   ],
   "source": [
    "# 21768 customers with \"London\" in their address\n",
    "addresses_df.select(\"address_clean\").filter(pl.col(\"address_clean\").str.contains(\"LONDON\")).count()\n",
    "\n",
    "# 20831 customers in the city of London\n",
    "addresses_df.select(\"address_clean\").filter(pl.col(\"address_clean\").str.contains(\"LONDON,\")).count()"
   ]
  },
  {
   "cell_type": "code",
   "execution_count": null,
   "metadata": {},
   "outputs": [
    {
     "data": {
      "application/vnd.plotly.v1+json": {
       "config": {
        "plotlyServerURL": "https://plot.ly"
       },
       "data": [
        {
         "alignmentgroup": "True",
         "hovertemplate": "address_lines=%{x}<br>count=%{text}<extra></extra>",
         "legendgroup": "",
         "marker": {
          "color": "#636efa",
          "pattern": {
           "shape": ""
          }
         },
         "name": "",
         "offsetgroup": "",
         "orientation": "v",
         "showlegend": false,
         "text": [
          6,
          52,
          3284,
          35850,
          45931,
          13909
         ],
         "textposition": "outside",
         "type": "bar",
         "x": [
          1,
          2,
          3,
          4,
          5,
          6
         ],
         "xaxis": "x",
         "y": [
          6,
          52,
          3284,
          35850,
          45931,
          13909
         ],
         "yaxis": "y"
        }
       ],
       "layout": {
        "annotations": [
         {
          "font": {
           "size": 12
          },
          "showarrow": false,
          "text": "Distribution of address line counts in customer data — some addresses consist of only one or two lines, and some have as many as six.",
          "x": 0.5,
          "xref": "paper",
          "y": -0.2,
          "yref": "paper"
         }
        ],
        "autosize": true,
        "barmode": "relative",
        "height": 600,
        "legend": {
         "tracegroupgap": 0
        },
        "margin": {
         "b": 100
        },
        "template": {
         "data": {
          "bar": [
           {
            "error_x": {
             "color": "#2a3f5f"
            },
            "error_y": {
             "color": "#2a3f5f"
            },
            "marker": {
             "line": {
              "color": "#E5ECF6",
              "width": 0.5
             },
             "pattern": {
              "fillmode": "overlay",
              "size": 10,
              "solidity": 0.2
             }
            },
            "type": "bar"
           }
          ],
          "barpolar": [
           {
            "marker": {
             "line": {
              "color": "#E5ECF6",
              "width": 0.5
             },
             "pattern": {
              "fillmode": "overlay",
              "size": 10,
              "solidity": 0.2
             }
            },
            "type": "barpolar"
           }
          ],
          "carpet": [
           {
            "aaxis": {
             "endlinecolor": "#2a3f5f",
             "gridcolor": "white",
             "linecolor": "white",
             "minorgridcolor": "white",
             "startlinecolor": "#2a3f5f"
            },
            "baxis": {
             "endlinecolor": "#2a3f5f",
             "gridcolor": "white",
             "linecolor": "white",
             "minorgridcolor": "white",
             "startlinecolor": "#2a3f5f"
            },
            "type": "carpet"
           }
          ],
          "choropleth": [
           {
            "colorbar": {
             "outlinewidth": 0,
             "ticks": ""
            },
            "type": "choropleth"
           }
          ],
          "contour": [
           {
            "colorbar": {
             "outlinewidth": 0,
             "ticks": ""
            },
            "colorscale": [
             [
              0,
              "#0d0887"
             ],
             [
              0.1111111111111111,
              "#46039f"
             ],
             [
              0.2222222222222222,
              "#7201a8"
             ],
             [
              0.3333333333333333,
              "#9c179e"
             ],
             [
              0.4444444444444444,
              "#bd3786"
             ],
             [
              0.5555555555555556,
              "#d8576b"
             ],
             [
              0.6666666666666666,
              "#ed7953"
             ],
             [
              0.7777777777777778,
              "#fb9f3a"
             ],
             [
              0.8888888888888888,
              "#fdca26"
             ],
             [
              1,
              "#f0f921"
             ]
            ],
            "type": "contour"
           }
          ],
          "contourcarpet": [
           {
            "colorbar": {
             "outlinewidth": 0,
             "ticks": ""
            },
            "type": "contourcarpet"
           }
          ],
          "heatmap": [
           {
            "colorbar": {
             "outlinewidth": 0,
             "ticks": ""
            },
            "colorscale": [
             [
              0,
              "#0d0887"
             ],
             [
              0.1111111111111111,
              "#46039f"
             ],
             [
              0.2222222222222222,
              "#7201a8"
             ],
             [
              0.3333333333333333,
              "#9c179e"
             ],
             [
              0.4444444444444444,
              "#bd3786"
             ],
             [
              0.5555555555555556,
              "#d8576b"
             ],
             [
              0.6666666666666666,
              "#ed7953"
             ],
             [
              0.7777777777777778,
              "#fb9f3a"
             ],
             [
              0.8888888888888888,
              "#fdca26"
             ],
             [
              1,
              "#f0f921"
             ]
            ],
            "type": "heatmap"
           }
          ],
          "heatmapgl": [
           {
            "colorbar": {
             "outlinewidth": 0,
             "ticks": ""
            },
            "colorscale": [
             [
              0,
              "#0d0887"
             ],
             [
              0.1111111111111111,
              "#46039f"
             ],
             [
              0.2222222222222222,
              "#7201a8"
             ],
             [
              0.3333333333333333,
              "#9c179e"
             ],
             [
              0.4444444444444444,
              "#bd3786"
             ],
             [
              0.5555555555555556,
              "#d8576b"
             ],
             [
              0.6666666666666666,
              "#ed7953"
             ],
             [
              0.7777777777777778,
              "#fb9f3a"
             ],
             [
              0.8888888888888888,
              "#fdca26"
             ],
             [
              1,
              "#f0f921"
             ]
            ],
            "type": "heatmapgl"
           }
          ],
          "histogram": [
           {
            "marker": {
             "pattern": {
              "fillmode": "overlay",
              "size": 10,
              "solidity": 0.2
             }
            },
            "type": "histogram"
           }
          ],
          "histogram2d": [
           {
            "colorbar": {
             "outlinewidth": 0,
             "ticks": ""
            },
            "colorscale": [
             [
              0,
              "#0d0887"
             ],
             [
              0.1111111111111111,
              "#46039f"
             ],
             [
              0.2222222222222222,
              "#7201a8"
             ],
             [
              0.3333333333333333,
              "#9c179e"
             ],
             [
              0.4444444444444444,
              "#bd3786"
             ],
             [
              0.5555555555555556,
              "#d8576b"
             ],
             [
              0.6666666666666666,
              "#ed7953"
             ],
             [
              0.7777777777777778,
              "#fb9f3a"
             ],
             [
              0.8888888888888888,
              "#fdca26"
             ],
             [
              1,
              "#f0f921"
             ]
            ],
            "type": "histogram2d"
           }
          ],
          "histogram2dcontour": [
           {
            "colorbar": {
             "outlinewidth": 0,
             "ticks": ""
            },
            "colorscale": [
             [
              0,
              "#0d0887"
             ],
             [
              0.1111111111111111,
              "#46039f"
             ],
             [
              0.2222222222222222,
              "#7201a8"
             ],
             [
              0.3333333333333333,
              "#9c179e"
             ],
             [
              0.4444444444444444,
              "#bd3786"
             ],
             [
              0.5555555555555556,
              "#d8576b"
             ],
             [
              0.6666666666666666,
              "#ed7953"
             ],
             [
              0.7777777777777778,
              "#fb9f3a"
             ],
             [
              0.8888888888888888,
              "#fdca26"
             ],
             [
              1,
              "#f0f921"
             ]
            ],
            "type": "histogram2dcontour"
           }
          ],
          "mesh3d": [
           {
            "colorbar": {
             "outlinewidth": 0,
             "ticks": ""
            },
            "type": "mesh3d"
           }
          ],
          "parcoords": [
           {
            "line": {
             "colorbar": {
              "outlinewidth": 0,
              "ticks": ""
             }
            },
            "type": "parcoords"
           }
          ],
          "pie": [
           {
            "automargin": true,
            "type": "pie"
           }
          ],
          "scatter": [
           {
            "fillpattern": {
             "fillmode": "overlay",
             "size": 10,
             "solidity": 0.2
            },
            "type": "scatter"
           }
          ],
          "scatter3d": [
           {
            "line": {
             "colorbar": {
              "outlinewidth": 0,
              "ticks": ""
             }
            },
            "marker": {
             "colorbar": {
              "outlinewidth": 0,
              "ticks": ""
             }
            },
            "type": "scatter3d"
           }
          ],
          "scattercarpet": [
           {
            "marker": {
             "colorbar": {
              "outlinewidth": 0,
              "ticks": ""
             }
            },
            "type": "scattercarpet"
           }
          ],
          "scattergeo": [
           {
            "marker": {
             "colorbar": {
              "outlinewidth": 0,
              "ticks": ""
             }
            },
            "type": "scattergeo"
           }
          ],
          "scattergl": [
           {
            "marker": {
             "colorbar": {
              "outlinewidth": 0,
              "ticks": ""
             }
            },
            "type": "scattergl"
           }
          ],
          "scattermapbox": [
           {
            "marker": {
             "colorbar": {
              "outlinewidth": 0,
              "ticks": ""
             }
            },
            "type": "scattermapbox"
           }
          ],
          "scatterpolar": [
           {
            "marker": {
             "colorbar": {
              "outlinewidth": 0,
              "ticks": ""
             }
            },
            "type": "scatterpolar"
           }
          ],
          "scatterpolargl": [
           {
            "marker": {
             "colorbar": {
              "outlinewidth": 0,
              "ticks": ""
             }
            },
            "type": "scatterpolargl"
           }
          ],
          "scatterternary": [
           {
            "marker": {
             "colorbar": {
              "outlinewidth": 0,
              "ticks": ""
             }
            },
            "type": "scatterternary"
           }
          ],
          "surface": [
           {
            "colorbar": {
             "outlinewidth": 0,
             "ticks": ""
            },
            "colorscale": [
             [
              0,
              "#0d0887"
             ],
             [
              0.1111111111111111,
              "#46039f"
             ],
             [
              0.2222222222222222,
              "#7201a8"
             ],
             [
              0.3333333333333333,
              "#9c179e"
             ],
             [
              0.4444444444444444,
              "#bd3786"
             ],
             [
              0.5555555555555556,
              "#d8576b"
             ],
             [
              0.6666666666666666,
              "#ed7953"
             ],
             [
              0.7777777777777778,
              "#fb9f3a"
             ],
             [
              0.8888888888888888,
              "#fdca26"
             ],
             [
              1,
              "#f0f921"
             ]
            ],
            "type": "surface"
           }
          ],
          "table": [
           {
            "cells": {
             "fill": {
              "color": "#EBF0F8"
             },
             "line": {
              "color": "white"
             }
            },
            "header": {
             "fill": {
              "color": "#C8D4E3"
             },
             "line": {
              "color": "white"
             }
            },
            "type": "table"
           }
          ]
         },
         "layout": {
          "annotationdefaults": {
           "arrowcolor": "#2a3f5f",
           "arrowhead": 0,
           "arrowwidth": 1
          },
          "autotypenumbers": "strict",
          "coloraxis": {
           "colorbar": {
            "outlinewidth": 0,
            "ticks": ""
           }
          },
          "colorscale": {
           "diverging": [
            [
             0,
             "#8e0152"
            ],
            [
             0.1,
             "#c51b7d"
            ],
            [
             0.2,
             "#de77ae"
            ],
            [
             0.3,
             "#f1b6da"
            ],
            [
             0.4,
             "#fde0ef"
            ],
            [
             0.5,
             "#f7f7f7"
            ],
            [
             0.6,
             "#e6f5d0"
            ],
            [
             0.7,
             "#b8e186"
            ],
            [
             0.8,
             "#7fbc41"
            ],
            [
             0.9,
             "#4d9221"
            ],
            [
             1,
             "#276419"
            ]
           ],
           "sequential": [
            [
             0,
             "#0d0887"
            ],
            [
             0.1111111111111111,
             "#46039f"
            ],
            [
             0.2222222222222222,
             "#7201a8"
            ],
            [
             0.3333333333333333,
             "#9c179e"
            ],
            [
             0.4444444444444444,
             "#bd3786"
            ],
            [
             0.5555555555555556,
             "#d8576b"
            ],
            [
             0.6666666666666666,
             "#ed7953"
            ],
            [
             0.7777777777777778,
             "#fb9f3a"
            ],
            [
             0.8888888888888888,
             "#fdca26"
            ],
            [
             1,
             "#f0f921"
            ]
           ],
           "sequentialminus": [
            [
             0,
             "#0d0887"
            ],
            [
             0.1111111111111111,
             "#46039f"
            ],
            [
             0.2222222222222222,
             "#7201a8"
            ],
            [
             0.3333333333333333,
             "#9c179e"
            ],
            [
             0.4444444444444444,
             "#bd3786"
            ],
            [
             0.5555555555555556,
             "#d8576b"
            ],
            [
             0.6666666666666666,
             "#ed7953"
            ],
            [
             0.7777777777777778,
             "#fb9f3a"
            ],
            [
             0.8888888888888888,
             "#fdca26"
            ],
            [
             1,
             "#f0f921"
            ]
           ]
          },
          "colorway": [
           "#636efa",
           "#EF553B",
           "#00cc96",
           "#ab63fa",
           "#FFA15A",
           "#19d3f3",
           "#FF6692",
           "#B6E880",
           "#FF97FF",
           "#FECB52"
          ],
          "font": {
           "color": "#2a3f5f"
          },
          "geo": {
           "bgcolor": "white",
           "lakecolor": "white",
           "landcolor": "#E5ECF6",
           "showlakes": true,
           "showland": true,
           "subunitcolor": "white"
          },
          "hoverlabel": {
           "align": "left"
          },
          "hovermode": "closest",
          "mapbox": {
           "style": "light"
          },
          "paper_bgcolor": "white",
          "plot_bgcolor": "#E5ECF6",
          "polar": {
           "angularaxis": {
            "gridcolor": "white",
            "linecolor": "white",
            "ticks": ""
           },
           "bgcolor": "#E5ECF6",
           "radialaxis": {
            "gridcolor": "white",
            "linecolor": "white",
            "ticks": ""
           }
          },
          "scene": {
           "xaxis": {
            "backgroundcolor": "#E5ECF6",
            "gridcolor": "white",
            "gridwidth": 2,
            "linecolor": "white",
            "showbackground": true,
            "ticks": "",
            "zerolinecolor": "white"
           },
           "yaxis": {
            "backgroundcolor": "#E5ECF6",
            "gridcolor": "white",
            "gridwidth": 2,
            "linecolor": "white",
            "showbackground": true,
            "ticks": "",
            "zerolinecolor": "white"
           },
           "zaxis": {
            "backgroundcolor": "#E5ECF6",
            "gridcolor": "white",
            "gridwidth": 2,
            "linecolor": "white",
            "showbackground": true,
            "ticks": "",
            "zerolinecolor": "white"
           }
          },
          "shapedefaults": {
           "line": {
            "color": "#2a3f5f"
           }
          },
          "ternary": {
           "aaxis": {
            "gridcolor": "white",
            "linecolor": "white",
            "ticks": ""
           },
           "baxis": {
            "gridcolor": "white",
            "linecolor": "white",
            "ticks": ""
           },
           "bgcolor": "#E5ECF6",
           "caxis": {
            "gridcolor": "white",
            "linecolor": "white",
            "ticks": ""
           }
          },
          "title": {
           "x": 0.05
          },
          "xaxis": {
           "automargin": true,
           "gridcolor": "white",
           "linecolor": "white",
           "ticks": "",
           "title": {
            "standoff": 15
           },
           "zerolinecolor": "white",
           "zerolinewidth": 2
          },
          "yaxis": {
           "automargin": true,
           "gridcolor": "white",
           "linecolor": "white",
           "ticks": "",
           "title": {
            "standoff": 15
           },
           "zerolinecolor": "white",
           "zerolinewidth": 2
          }
         }
        },
        "title": {
         "text": "Address Line Frequency"
        },
        "xaxis": {
         "anchor": "y",
         "domain": [
          0,
          1
         ],
         "title": {
          "text": "address_lines"
         }
        },
        "yaxis": {
         "anchor": "x",
         "domain": [
          0,
          1
         ],
         "title": {
          "text": "Count (log scale)"
         },
         "type": "log"
        }
       }
      }
     },
     "metadata": {},
     "output_type": "display_data"
    }
   ],
   "source": [
    "# split address into lines/parts\n",
    "addresses_df = addresses_df.with_columns([\n",
    "    pl.col(\"address_clean\").str.split(by=\",\\n\").alias(\"address_split\")\n",
    "])\n",
    "\n",
    "# count the number of lines in the address\n",
    "addresses_df = addresses_df.with_columns([\n",
    "    pl.col(\"address_split\").list.len().alias(\"address_lines\")\n",
    "])\n",
    "addresses_df.head(10)\n",
    "\n",
    "\n",
    "\"\"\"\n",
    "Some addresses consist of only one or two lines, and some have as many as six.\n",
    "\"\"\"\n",
    "_ = addresses_df.group_by(\"address_lines\").agg(\n",
    "    pl.len().alias(\"count\")\n",
    ").sort(\"address_lines\")\n",
    "\n",
    "customer_spending_fig = px.bar(_, x=\"address_lines\", y=\"count\", title=\"Address Line Frequency\", text=\"count\")\n",
    "customer_spending_fig.update_layout(\n",
    "    height=600,  # Set a taller height to accommodate all elements\n",
    "    autosize=True,  # Enable autosize for responsive behavior\n",
    "    yaxis=dict(\n",
    "        type='log',  # Apply log scale to y-axis\n",
    "        title='Count (log scale)'  # Update y-axis title to indicate log scale\n",
    "    ),\n",
    "    annotations=[\n",
    "        dict(\n",
    "            text=\"Distribution of address line counts in customer data — some addresses consist of only one or two lines, and some have as many as six.\",\n",
    "            showarrow=False,\n",
    "            xref=\"paper\",\n",
    "            yref=\"paper\",\n",
    "            x=0.5,\n",
    "            y=-0.2,\n",
    "            font=dict(size=12)\n",
    "        )\n",
    "    ],\n",
    "    margin=dict(b=100)  # Add bottom margin to ensure annotation is visible\n",
    ")\n",
    "customer_spending_fig.update_traces(textposition='outside')\n",
    "customer_spending_fig.show()"
   ]
  },
  {
   "cell_type": "code",
   "execution_count": 139,
   "metadata": {},
   "outputs": [
    {
     "data": {
      "text/plain": [
       "'Number of lines: 1'"
      ]
     },
     "metadata": {},
     "output_type": "display_data"
    },
    {
     "data": {
      "text/html": [
       "<div><style>\n",
       ".dataframe > thead > tr,\n",
       ".dataframe > tbody > tr {\n",
       "  text-align: right;\n",
       "  white-space: pre-wrap;\n",
       "}\n",
       "</style>\n",
       "<small>shape: (1, 1)</small><table border=\"1\" class=\"dataframe\"><thead><tr><th>address_clean</th></tr><tr><td>str</td></tr></thead><tbody><tr><td>&quot;FALKIRK&quot;</td></tr></tbody></table></div>"
      ],
      "text/plain": [
       "shape: (1, 1)\n",
       "┌───────────────┐\n",
       "│ address_clean │\n",
       "│ ---           │\n",
       "│ str           │\n",
       "╞═══════════════╡\n",
       "│ FALKIRK       │\n",
       "└───────────────┘"
      ]
     },
     "metadata": {},
     "output_type": "display_data"
    },
    {
     "data": {
      "text/plain": [
       "'Number of lines: 2'"
      ]
     },
     "metadata": {},
     "output_type": "display_data"
    },
    {
     "data": {
      "text/html": [
       "<div><style>\n",
       ".dataframe > thead > tr,\n",
       ".dataframe > tbody > tr {\n",
       "  text-align: right;\n",
       "  white-space: pre-wrap;\n",
       "}\n",
       "</style>\n",
       "<small>shape: (1, 1)</small><table border=\"1\" class=\"dataframe\"><thead><tr><th>address_clean</th></tr><tr><td>str</td></tr></thead><tbody><tr><td>&quot;85 GLASGOW ROAD,\n",
       "DUMBARTON&quot;</td></tr></tbody></table></div>"
      ],
      "text/plain": [
       "shape: (1, 1)\n",
       "┌──────────────────┐\n",
       "│ address_clean    │\n",
       "│ ---              │\n",
       "│ str              │\n",
       "╞══════════════════╡\n",
       "│ 85 GLASGOW ROAD, │\n",
       "│ DUMBARTON        │\n",
       "└──────────────────┘"
      ]
     },
     "metadata": {},
     "output_type": "display_data"
    },
    {
     "data": {
      "text/plain": [
       "'Number of lines: 3'"
      ]
     },
     "metadata": {},
     "output_type": "display_data"
    },
    {
     "data": {
      "text/html": [
       "<div><style>\n",
       ".dataframe > thead > tr,\n",
       ".dataframe > tbody > tr {\n",
       "  text-align: right;\n",
       "  white-space: pre-wrap;\n",
       "}\n",
       "</style>\n",
       "<small>shape: (1, 1)</small><table border=\"1\" class=\"dataframe\"><thead><tr><th>address_clean</th></tr><tr><td>str</td></tr></thead><tbody><tr><td>&quot;107 SHERINGHAM AVENUE,\n",
       "LONDON,\n",
       "N14 4UJ&quot;</td></tr></tbody></table></div>"
      ],
      "text/plain": [
       "shape: (1, 1)\n",
       "┌────────────────────────┐\n",
       "│ address_clean          │\n",
       "│ ---                    │\n",
       "│ str                    │\n",
       "╞════════════════════════╡\n",
       "│ 107 SHERINGHAM AVENUE, │\n",
       "│ LONDON,                │\n",
       "│ N14 4UJ                │\n",
       "└────────────────────────┘"
      ]
     },
     "metadata": {},
     "output_type": "display_data"
    },
    {
     "data": {
      "text/plain": [
       "'Number of lines: 4'"
      ]
     },
     "metadata": {},
     "output_type": "display_data"
    },
    {
     "data": {
      "text/html": [
       "<div><style>\n",
       ".dataframe > thead > tr,\n",
       ".dataframe > tbody > tr {\n",
       "  text-align: right;\n",
       "  white-space: pre-wrap;\n",
       "}\n",
       "</style>\n",
       "<small>shape: (1, 1)</small><table border=\"1\" class=\"dataframe\"><thead><tr><th>address_clean</th></tr><tr><td>str</td></tr></thead><tbody><tr><td>&quot;37 BEVERLEY ROAD,\n",
       "DRIFFIELD,\n",
       "ENGLAND,\n",
       "YO25 6RZ&quot;</td></tr></tbody></table></div>"
      ],
      "text/plain": [
       "shape: (1, 1)\n",
       "┌───────────────────┐\n",
       "│ address_clean     │\n",
       "│ ---               │\n",
       "│ str               │\n",
       "╞═══════════════════╡\n",
       "│ 37 BEVERLEY ROAD, │\n",
       "│ DRIFFIELD,        │\n",
       "│ ENGLAND,          │\n",
       "│ YO25 6RZ          │\n",
       "└───────────────────┘"
      ]
     },
     "metadata": {},
     "output_type": "display_data"
    },
    {
     "data": {
      "text/plain": [
       "'Number of lines: 5'"
      ]
     },
     "metadata": {},
     "output_type": "display_data"
    },
    {
     "data": {
      "text/html": [
       "<div><style>\n",
       ".dataframe > thead > tr,\n",
       ".dataframe > tbody > tr {\n",
       "  text-align: right;\n",
       "  white-space: pre-wrap;\n",
       "}\n",
       "</style>\n",
       "<small>shape: (1, 1)</small><table border=\"1\" class=\"dataframe\"><thead><tr><th>address_clean</th></tr><tr><td>str</td></tr></thead><tbody><tr><td>&quot;APARTMENT 2,\n",
       "52 BEDFORD ROAD,\n",
       "LONDON,\n",
       "ENGLAND,\n",
       "SW4 7HJ&quot;</td></tr></tbody></table></div>"
      ],
      "text/plain": [
       "shape: (1, 1)\n",
       "┌──────────────────┐\n",
       "│ address_clean    │\n",
       "│ ---              │\n",
       "│ str              │\n",
       "╞══════════════════╡\n",
       "│ APARTMENT 2,     │\n",
       "│ 52 BEDFORD ROAD, │\n",
       "│ LONDON,          │\n",
       "│ ENGLAND,         │\n",
       "│ SW4 7HJ          │\n",
       "└──────────────────┘"
      ]
     },
     "metadata": {},
     "output_type": "display_data"
    },
    {
     "data": {
      "text/plain": [
       "'Number of lines: 6'"
      ]
     },
     "metadata": {},
     "output_type": "display_data"
    },
    {
     "data": {
      "text/html": [
       "<div><style>\n",
       ".dataframe > thead > tr,\n",
       ".dataframe > tbody > tr {\n",
       "  text-align: right;\n",
       "  white-space: pre-wrap;\n",
       "}\n",
       "</style>\n",
       "<small>shape: (1, 1)</small><table border=\"1\" class=\"dataframe\"><thead><tr><th>address_clean</th></tr><tr><td>str</td></tr></thead><tbody><tr><td>&quot;FIRST FLOOR CEF BUILDING,\n",
       "BROOMHILL WAY,\n",
       "TORQUAY,\n",
       "DEVON,\n",
       "UNITED KINGDOM,\n",
       "TQ2 7QN&quot;</td></tr></tbody></table></div>"
      ],
      "text/plain": [
       "shape: (1, 1)\n",
       "┌───────────────────────────┐\n",
       "│ address_clean             │\n",
       "│ ---                       │\n",
       "│ str                       │\n",
       "╞═══════════════════════════╡\n",
       "│ FIRST FLOOR CEF BUILDING, │\n",
       "│ BROOMHILL WAY,            │\n",
       "│ TORQUAY,                  │\n",
       "│ DEVON,                    │\n",
       "│ UNITED KINGDOM,           │\n",
       "│ TQ2 7QN                   │\n",
       "└───────────────────────────┘"
      ]
     },
     "metadata": {},
     "output_type": "display_data"
    }
   ],
   "source": [
    "for num_lines in range(1, 7):\n",
    "    display(f\"Number of lines: {num_lines}\")\n",
    "    display(addresses_df.select([\"address_clean\", \"address_lines\"])\\\n",
    "            .filter(pl.col(\"address_lines\") == num_lines)\\\n",
    "                .select(\"address_clean\").head(1)\n",
    "            )\n"
   ]
  },
  {
   "cell_type": "markdown",
   "metadata": {},
   "source": [
    "## cities"
   ]
  },
  {
   "cell_type": "code",
   "execution_count": 299,
   "metadata": {},
   "outputs": [
    {
     "data": {
      "text/html": [
       "<div><style>\n",
       ".dataframe > thead > tr,\n",
       ".dataframe > tbody > tr {\n",
       "  text-align: right;\n",
       "  white-space: pre-wrap;\n",
       "}\n",
       "</style>\n",
       "<small>shape: (9, 2)</small><table border=\"1\" class=\"dataframe\"><thead><tr><th>statistic</th><th>city</th></tr><tr><td>str</td><td>str</td></tr></thead><tbody><tr><td>&quot;count&quot;</td><td>&quot;76&quot;</td></tr><tr><td>&quot;null_count&quot;</td><td>&quot;0&quot;</td></tr><tr><td>&quot;mean&quot;</td><td>null</td></tr><tr><td>&quot;std&quot;</td><td>null</td></tr><tr><td>&quot;min&quot;</td><td>&quot;ABERDEEN&quot;</td></tr><tr><td>&quot;25%&quot;</td><td>null</td></tr><tr><td>&quot;50%&quot;</td><td>null</td></tr><tr><td>&quot;75%&quot;</td><td>null</td></tr><tr><td>&quot;max&quot;</td><td>&quot;YORK&quot;</td></tr></tbody></table></div>"
      ],
      "text/plain": [
       "shape: (9, 2)\n",
       "┌────────────┬──────────┐\n",
       "│ statistic  ┆ city     │\n",
       "│ ---        ┆ ---      │\n",
       "│ str        ┆ str      │\n",
       "╞════════════╪══════════╡\n",
       "│ count      ┆ 76       │\n",
       "│ null_count ┆ 0        │\n",
       "│ mean       ┆ null     │\n",
       "│ std        ┆ null     │\n",
       "│ min        ┆ ABERDEEN │\n",
       "│ 25%        ┆ null     │\n",
       "│ 50%        ┆ null     │\n",
       "│ 75%        ┆ null     │\n",
       "│ max        ┆ YORK     │\n",
       "└────────────┴──────────┘"
      ]
     },
     "metadata": {},
     "output_type": "display_data"
    }
   ],
   "source": [
    "display(cities_df.describe())"
   ]
  },
  {
   "cell_type": "code",
   "execution_count": 308,
   "metadata": {},
   "outputs": [
    {
     "data": {
      "text/html": [
       "<div><style>\n",
       ".dataframe > thead > tr,\n",
       ".dataframe > tbody > tr {\n",
       "  text-align: right;\n",
       "  white-space: pre-wrap;\n",
       "}\n",
       "</style>\n",
       "<small>shape: (76, 1)</small><table border=\"1\" class=\"dataframe\"><thead><tr><th>city</th></tr><tr><td>str</td></tr></thead><tbody><tr><td>&quot;ABERDEEN&quot;</td></tr><tr><td>&quot;ARMAGH&quot;</td></tr><tr><td>&quot;BANGOR&quot;</td></tr><tr><td>&quot;BANGOR&quot;</td></tr><tr><td>&quot;BATH&quot;</td></tr><tr><td>&quot;BELFAST&quot;</td></tr><tr><td>&quot;BIRMINGHAM&quot;</td></tr><tr><td>&quot;BRADFORD&quot;</td></tr><tr><td>&quot;BRIGHTON &amp; HOVE&quot;</td></tr><tr><td>&quot;BRISTOL&quot;</td></tr><tr><td>&quot;CAMBRIDGE&quot;</td></tr><tr><td>&quot;CANTERBURY&quot;</td></tr><tr><td>&quot;CARDIFF&quot;</td></tr><tr><td>&quot;CARLISLE&quot;</td></tr><tr><td>&quot;CHELMSFORD&quot;</td></tr><tr><td>&quot;CHESTER&quot;</td></tr><tr><td>&quot;CHICHESTER&quot;</td></tr><tr><td>&quot;COLCHESTER&quot;</td></tr><tr><td>&quot;COVENTRY&quot;</td></tr><tr><td>&quot;DERBY&quot;</td></tr><tr><td>&quot;DONCASTER&quot;</td></tr><tr><td>&quot;DUNDEE&quot;</td></tr><tr><td>&quot;DUNFERMLINE&quot;</td></tr><tr><td>&quot;DURHAM&quot;</td></tr><tr><td>&quot;EDINBURGH&quot;</td></tr><tr><td>&quot;ELY&quot;</td></tr><tr><td>&quot;EXETER&quot;</td></tr><tr><td>&quot;GLASGOW&quot;</td></tr><tr><td>&quot;GLOUCESTER&quot;</td></tr><tr><td>&quot;HEREFORD&quot;</td></tr><tr><td>&quot;INVERNESS&quot;</td></tr><tr><td>&quot;KINGSTON-UPON-HULL&quot;</td></tr><tr><td>&quot;LANCASTER&quot;</td></tr><tr><td>&quot;LEEDS&quot;</td></tr><tr><td>&quot;LEICESTER&quot;</td></tr><tr><td>&quot;LICHFIELD&quot;</td></tr><tr><td>&quot;LINCOLN&quot;</td></tr><tr><td>&quot;LISBURN&quot;</td></tr><tr><td>&quot;LIVERPOOL&quot;</td></tr><tr><td>&quot;LONDON&quot;</td></tr><tr><td>&quot;LONDONDERRY&quot;</td></tr><tr><td>&quot;MANCHESTER&quot;</td></tr><tr><td>&quot;MILTON KEYNES&quot;</td></tr><tr><td>&quot;NEWCASTLE-UPON-TYNE&quot;</td></tr><tr><td>&quot;NEWPORT&quot;</td></tr><tr><td>&quot;NEWRY&quot;</td></tr><tr><td>&quot;NORWICH&quot;</td></tr><tr><td>&quot;NOTTINGHAM&quot;</td></tr><tr><td>&quot;OXFORD&quot;</td></tr><tr><td>&quot;PERTH&quot;</td></tr><tr><td>&quot;PETERBOROUGH&quot;</td></tr><tr><td>&quot;PLYMOUTH&quot;</td></tr><tr><td>&quot;PORTSMOUTH&quot;</td></tr><tr><td>&quot;PRESTON&quot;</td></tr><tr><td>&quot;RIPON&quot;</td></tr><tr><td>&quot;SALFORD&quot;</td></tr><tr><td>&quot;SALISBURY&quot;</td></tr><tr><td>&quot;SHEFFIELD&quot;</td></tr><tr><td>&quot;SOUTHAMPTON&quot;</td></tr><tr><td>&quot;SOUTHEND-ON-SEA&quot;</td></tr><tr><td>&quot;ST ALBANS&quot;</td></tr><tr><td>&quot;ST ASAPH&quot;</td></tr><tr><td>&quot;ST DAVIDS&quot;</td></tr><tr><td>&quot;STIRLING&quot;</td></tr><tr><td>&quot;STOKE ON TRENT&quot;</td></tr><tr><td>&quot;SUNDERLAND&quot;</td></tr><tr><td>&quot;SWANSEA&quot;</td></tr><tr><td>&quot;TRURO&quot;</td></tr><tr><td>&quot;WAKEFIELD&quot;</td></tr><tr><td>&quot;WELLS&quot;</td></tr><tr><td>&quot;WESTMINSTER&quot;</td></tr><tr><td>&quot;WINCHESTER&quot;</td></tr><tr><td>&quot;WOLVERHAMPTON&quot;</td></tr><tr><td>&quot;WORCESTER&quot;</td></tr><tr><td>&quot;WREXHAM&quot;</td></tr><tr><td>&quot;YORK&quot;</td></tr></tbody></table></div>"
      ],
      "text/plain": [
       "shape: (76, 1)\n",
       "┌─────────────────────┐\n",
       "│ city                │\n",
       "│ ---                 │\n",
       "│ str                 │\n",
       "╞═════════════════════╡\n",
       "│ ABERDEEN            │\n",
       "│ ARMAGH              │\n",
       "│ BANGOR              │\n",
       "│ BANGOR              │\n",
       "│ BATH                │\n",
       "│ BELFAST             │\n",
       "│ BIRMINGHAM          │\n",
       "│ BRADFORD            │\n",
       "│ BRIGHTON & HOVE     │\n",
       "│ BRISTOL             │\n",
       "│ CAMBRIDGE           │\n",
       "│ CANTERBURY          │\n",
       "│ CARDIFF             │\n",
       "│ CARLISLE            │\n",
       "│ CHELMSFORD          │\n",
       "│ CHESTER             │\n",
       "│ CHICHESTER          │\n",
       "│ COLCHESTER          │\n",
       "│ COVENTRY            │\n",
       "│ DERBY               │\n",
       "│ DONCASTER           │\n",
       "│ DUNDEE              │\n",
       "│ DUNFERMLINE         │\n",
       "│ DURHAM              │\n",
       "│ EDINBURGH           │\n",
       "│ ELY                 │\n",
       "│ EXETER              │\n",
       "│ GLASGOW             │\n",
       "│ GLOUCESTER          │\n",
       "│ HEREFORD            │\n",
       "│ INVERNESS           │\n",
       "│ KINGSTON-UPON-HULL  │\n",
       "│ LANCASTER           │\n",
       "│ LEEDS               │\n",
       "│ LEICESTER           │\n",
       "│ LICHFIELD           │\n",
       "│ LINCOLN             │\n",
       "│ LISBURN             │\n",
       "│ LIVERPOOL           │\n",
       "│ LONDON              │\n",
       "│ LONDONDERRY         │\n",
       "│ MANCHESTER          │\n",
       "│ MILTON KEYNES       │\n",
       "│ NEWCASTLE-UPON-TYNE │\n",
       "│ NEWPORT             │\n",
       "│ NEWRY               │\n",
       "│ NORWICH             │\n",
       "│ NOTTINGHAM          │\n",
       "│ OXFORD              │\n",
       "│ PERTH               │\n",
       "│ PETERBOROUGH        │\n",
       "│ PLYMOUTH            │\n",
       "│ PORTSMOUTH          │\n",
       "│ PRESTON             │\n",
       "│ RIPON               │\n",
       "│ SALFORD             │\n",
       "│ SALISBURY           │\n",
       "│ SHEFFIELD           │\n",
       "│ SOUTHAMPTON         │\n",
       "│ SOUTHEND-ON-SEA     │\n",
       "│ ST ALBANS           │\n",
       "│ ST ASAPH            │\n",
       "│ ST DAVIDS           │\n",
       "│ STIRLING            │\n",
       "│ STOKE ON TRENT      │\n",
       "│ SUNDERLAND          │\n",
       "│ SWANSEA             │\n",
       "│ TRURO               │\n",
       "│ WAKEFIELD           │\n",
       "│ WELLS               │\n",
       "│ WESTMINSTER         │\n",
       "│ WINCHESTER          │\n",
       "│ WOLVERHAMPTON       │\n",
       "│ WORCESTER           │\n",
       "│ WREXHAM             │\n",
       "│ YORK                │\n",
       "└─────────────────────┘"
      ]
     },
     "execution_count": 308,
     "metadata": {},
     "output_type": "execute_result"
    }
   ],
   "source": [
    "countries_to_remove = [\"England\", \"Scotland\", \"Wales\", \"Northern Ireland\"]\n",
    "cities_df = cities_df.filter(~pl.col(\"city\").is_in(countries_to_remove))\n",
    "cities_df = cities_df.with_columns([\n",
    "    pl.col(\"city\")\\\n",
    "        .str.replace(\"*\", \"\", literal=True)\\\n",
    "        .str.to_uppercase()\\\n",
    "        .sort()\\\n",
    "        .alias(\"city\")\n",
    "])\n",
    "\n",
    "cities_df\n"
   ]
  },
  {
   "cell_type": "markdown",
   "metadata": {},
   "source": [
    "## customers"
   ]
  },
  {
   "cell_type": "code",
   "execution_count": 309,
   "metadata": {},
   "outputs": [
    {
     "data": {
      "text/html": [
       "<div><style>\n",
       ".dataframe > thead > tr,\n",
       ".dataframe > tbody > tr {\n",
       "  text-align: right;\n",
       "  white-space: pre-wrap;\n",
       "}\n",
       "</style>\n",
       "<small>shape: (10, 3)</small><table border=\"1\" class=\"dataframe\"><thead><tr><th>company_id</th><th>address_clean</th><th>city</th></tr><tr><td>i64</td><td>str</td><td>str</td></tr></thead><tbody><tr><td>1</td><td>&quot;APARTMENT 2,\n",
       "52 BEDFORD ROAD,\n",
       "LONDON,\n",
       "ENGLAND,\n",
       "SW4 7HJ&quot;</td><td>&quot;LONDON&quot;</td></tr><tr><td>2</td><td>&quot;107 SHERINGHAM AVENUE,\n",
       "LONDON,\n",
       "N14 4UJ&quot;</td><td>&quot;LONDON&quot;</td></tr><tr><td>3</td><td>&quot;43 SUNNINGDALE,\n",
       "YATE,\n",
       "BRISTOL,\n",
       "ENGLAND,\n",
       "BS37 4HZ&quot;</td><td>&quot;BRISTOL&quot;</td></tr><tr><td>4</td><td>&quot;HAWESWATER HOUSE,\n",
       "LINGLEY MERE BUSINESS PARK,\n",
       "LINGLEY GREEN AVENUE,\n",
       "GREAT SANKEY, WARRINGTON,\n",
       "WA5 3LP&quot;</td><td>&quot;OTHER&quot;</td></tr><tr><td>5</td><td>&quot;AMBERFIELD BARN HOUSE AMBER LANE,\n",
       "CHART SUTTON,\n",
       "MAIDSTONE,\n",
       "ENGLAND,\n",
       "ME17 3SF&quot;</td><td>&quot;OTHER&quot;</td></tr><tr><td>6</td><td>&quot;FIRST FLOOR CEF BUILDING,\n",
       "BROOMHILL WAY,\n",
       "TORQUAY,\n",
       "DEVON,\n",
       "UNITED KINGDOM,\n",
       "TQ2 7QN&quot;</td><td>&quot;OTHER&quot;</td></tr><tr><td>7</td><td>&quot;37 BEVERLEY ROAD,\n",
       "DRIFFIELD,\n",
       "ENGLAND,\n",
       "YO25 6RZ&quot;</td><td>&quot;OTHER&quot;</td></tr><tr><td>8</td><td>&quot;B82 ALBION RIVERSIDE BUILDING,\n",
       "8 HESTER ROAD,\n",
       "LONDON,\n",
       "UNITED KINGDOM,\n",
       "SW11 4AP&quot;</td><td>&quot;LONDON&quot;</td></tr><tr><td>9</td><td>&quot;FLAT 27, DOMELTON HOUSE,\n",
       "IRON MILL ROAD,\n",
       "LONDON,\n",
       "ENGLAND,\n",
       "SW18 2AF&quot;</td><td>&quot;LONDON&quot;</td></tr><tr><td>10</td><td>&quot;34 BROOKSIDE ESTATE,\n",
       "CHALGROVE,\n",
       "OXFORD,\n",
       "UNITED KINGDOM,\n",
       "OX44 7SQ&quot;</td><td>&quot;OXFORD&quot;</td></tr></tbody></table></div>"
      ],
      "text/plain": [
       "shape: (10, 3)\n",
       "┌────────────┬───────────────────────────────────┬─────────┐\n",
       "│ company_id ┆ address_clean                     ┆ city    │\n",
       "│ ---        ┆ ---                               ┆ ---     │\n",
       "│ i64        ┆ str                               ┆ str     │\n",
       "╞════════════╪═══════════════════════════════════╪═════════╡\n",
       "│ 1          ┆ APARTMENT 2,                      ┆ LONDON  │\n",
       "│            ┆ 52 BEDFORD ROAD,                  ┆         │\n",
       "│            ┆ LONDON,                           ┆         │\n",
       "│            ┆ ENGLAND,                          ┆         │\n",
       "│            ┆ SW4 7HJ                           ┆         │\n",
       "│ 2          ┆ 107 SHERINGHAM AVENUE,            ┆ LONDON  │\n",
       "│            ┆ LONDON,                           ┆         │\n",
       "│            ┆ N14 4UJ                           ┆         │\n",
       "│ 3          ┆ 43 SUNNINGDALE,                   ┆ BRISTOL │\n",
       "│            ┆ YATE,                             ┆         │\n",
       "│            ┆ BRISTOL,                          ┆         │\n",
       "│            ┆ ENGLAND,                          ┆         │\n",
       "│            ┆ BS37 4HZ                          ┆         │\n",
       "│ 4          ┆ HAWESWATER HOUSE,                 ┆ OTHER   │\n",
       "│            ┆ LINGLEY MERE BUSINESS PARK,       ┆         │\n",
       "│            ┆ LINGLEY GREEN AVENUE,             ┆         │\n",
       "│            ┆ GREAT SANKEY, WARRINGTON,         ┆         │\n",
       "│            ┆ WA5 3LP                           ┆         │\n",
       "│ 5          ┆ AMBERFIELD BARN HOUSE AMBER LANE, ┆ OTHER   │\n",
       "│            ┆ CHART SUTTON,                     ┆         │\n",
       "│            ┆ MAIDSTONE,                        ┆         │\n",
       "│            ┆ ENGLAND,                          ┆         │\n",
       "│            ┆ ME17 3SF                          ┆         │\n",
       "│ 6          ┆ FIRST FLOOR CEF BUILDING,         ┆ OTHER   │\n",
       "│            ┆ BROOMHILL WAY,                    ┆         │\n",
       "│            ┆ TORQUAY,                          ┆         │\n",
       "│            ┆ DEVON,                            ┆         │\n",
       "│            ┆ UNITED KINGDOM,                   ┆         │\n",
       "│            ┆ TQ2 7QN                           ┆         │\n",
       "│ 7          ┆ 37 BEVERLEY ROAD,                 ┆ OTHER   │\n",
       "│            ┆ DRIFFIELD,                        ┆         │\n",
       "│            ┆ ENGLAND,                          ┆         │\n",
       "│            ┆ YO25 6RZ                          ┆         │\n",
       "│ 8          ┆ B82 ALBION RIVERSIDE BUILDING,    ┆ LONDON  │\n",
       "│            ┆ 8 HESTER ROAD,                    ┆         │\n",
       "│            ┆ LONDON,                           ┆         │\n",
       "│            ┆ UNITED KINGDOM,                   ┆         │\n",
       "│            ┆ SW11 4AP                          ┆         │\n",
       "│ 9          ┆ FLAT 27, DOMELTON HOUSE,          ┆ LONDON  │\n",
       "│            ┆ IRON MILL ROAD,                   ┆         │\n",
       "│            ┆ LONDON,                           ┆         │\n",
       "│            ┆ ENGLAND,                          ┆         │\n",
       "│            ┆ SW18 2AF                          ┆         │\n",
       "│ 10         ┆ 34 BROOKSIDE ESTATE,              ┆ OXFORD  │\n",
       "│            ┆ CHALGROVE,                        ┆         │\n",
       "│            ┆ OXFORD,                           ┆         │\n",
       "│            ┆ UNITED KINGDOM,                   ┆         │\n",
       "│            ┆ OX44 7SQ                          ┆         │\n",
       "└────────────┴───────────────────────────────────┴─────────┘"
      ]
     },
     "metadata": {},
     "output_type": "display_data"
    }
   ],
   "source": [
    "# Create a new column 'city' in addresses_df using a simpler approach\n",
    "# Use pattern matching to extract city from address_clean\n",
    "# addresses_df =\n",
    "\n",
    "# Create a set of cities for faster lookup\n",
    "cities_set = set(cities_df[\"city\"].to_list())\n",
    "\n",
    "# map the city to the address\n",
    "customers_df = addresses_df.with_columns([\n",
    "    pl.col(\"address_clean\").map_elements(\n",
    "        lambda addr: next(\n",
    "            (city for city in cities_set if f\"\\n{city},\" in addr),\n",
    "            \"OTHER\"\n",
    "        ),\n",
    "        return_dtype=pl.Utf8\n",
    "    ).alias(\"city\")\n",
    "])\n",
    "\n",
    "display(customers_df.select([\"company_id\", \"address_clean\", \"city\"]).head(10))"
   ]
  },
  {
   "cell_type": "code",
   "execution_count": 365,
   "metadata": {},
   "outputs": [
    {
     "data": {
      "application/vnd.plotly.v1+json": {
       "config": {
        "plotlyServerURL": "https://plot.ly"
       },
       "data": [
        {
         "alignmentgroup": "True",
         "hovertemplate": "city=%{x}<br>count=%{y}<extra></extra>",
         "legendgroup": "",
         "marker": {
          "color": "#636efa",
          "pattern": {
           "shape": ""
          }
         },
         "name": "",
         "offsetgroup": "",
         "orientation": "v",
         "showlegend": false,
         "textposition": "auto",
         "type": "bar",
         "x": [
          "OTHER",
          "LONDON",
          "MANCHESTER",
          "BIRMINGHAM",
          "GLASGOW",
          "BRISTOL",
          "LEEDS",
          "EDINBURGH",
          "LEICESTER",
          "LIVERPOOL"
         ],
         "xaxis": "x",
         "y": [
          54175,
          20772,
          1902,
          1866,
          1273,
          1150,
          1040,
          1038,
          905,
          838
         ],
         "yaxis": "y"
        }
       ],
       "layout": {
        "autosize": true,
        "barmode": "relative",
        "height": 600,
        "legend": {
         "tracegroupgap": 0
        },
        "template": {
         "data": {
          "bar": [
           {
            "error_x": {
             "color": "#2a3f5f"
            },
            "error_y": {
             "color": "#2a3f5f"
            },
            "marker": {
             "line": {
              "color": "#E5ECF6",
              "width": 0.5
             },
             "pattern": {
              "fillmode": "overlay",
              "size": 10,
              "solidity": 0.2
             }
            },
            "type": "bar"
           }
          ],
          "barpolar": [
           {
            "marker": {
             "line": {
              "color": "#E5ECF6",
              "width": 0.5
             },
             "pattern": {
              "fillmode": "overlay",
              "size": 10,
              "solidity": 0.2
             }
            },
            "type": "barpolar"
           }
          ],
          "carpet": [
           {
            "aaxis": {
             "endlinecolor": "#2a3f5f",
             "gridcolor": "white",
             "linecolor": "white",
             "minorgridcolor": "white",
             "startlinecolor": "#2a3f5f"
            },
            "baxis": {
             "endlinecolor": "#2a3f5f",
             "gridcolor": "white",
             "linecolor": "white",
             "minorgridcolor": "white",
             "startlinecolor": "#2a3f5f"
            },
            "type": "carpet"
           }
          ],
          "choropleth": [
           {
            "colorbar": {
             "outlinewidth": 0,
             "ticks": ""
            },
            "type": "choropleth"
           }
          ],
          "contour": [
           {
            "colorbar": {
             "outlinewidth": 0,
             "ticks": ""
            },
            "colorscale": [
             [
              0,
              "#0d0887"
             ],
             [
              0.1111111111111111,
              "#46039f"
             ],
             [
              0.2222222222222222,
              "#7201a8"
             ],
             [
              0.3333333333333333,
              "#9c179e"
             ],
             [
              0.4444444444444444,
              "#bd3786"
             ],
             [
              0.5555555555555556,
              "#d8576b"
             ],
             [
              0.6666666666666666,
              "#ed7953"
             ],
             [
              0.7777777777777778,
              "#fb9f3a"
             ],
             [
              0.8888888888888888,
              "#fdca26"
             ],
             [
              1,
              "#f0f921"
             ]
            ],
            "type": "contour"
           }
          ],
          "contourcarpet": [
           {
            "colorbar": {
             "outlinewidth": 0,
             "ticks": ""
            },
            "type": "contourcarpet"
           }
          ],
          "heatmap": [
           {
            "colorbar": {
             "outlinewidth": 0,
             "ticks": ""
            },
            "colorscale": [
             [
              0,
              "#0d0887"
             ],
             [
              0.1111111111111111,
              "#46039f"
             ],
             [
              0.2222222222222222,
              "#7201a8"
             ],
             [
              0.3333333333333333,
              "#9c179e"
             ],
             [
              0.4444444444444444,
              "#bd3786"
             ],
             [
              0.5555555555555556,
              "#d8576b"
             ],
             [
              0.6666666666666666,
              "#ed7953"
             ],
             [
              0.7777777777777778,
              "#fb9f3a"
             ],
             [
              0.8888888888888888,
              "#fdca26"
             ],
             [
              1,
              "#f0f921"
             ]
            ],
            "type": "heatmap"
           }
          ],
          "heatmapgl": [
           {
            "colorbar": {
             "outlinewidth": 0,
             "ticks": ""
            },
            "colorscale": [
             [
              0,
              "#0d0887"
             ],
             [
              0.1111111111111111,
              "#46039f"
             ],
             [
              0.2222222222222222,
              "#7201a8"
             ],
             [
              0.3333333333333333,
              "#9c179e"
             ],
             [
              0.4444444444444444,
              "#bd3786"
             ],
             [
              0.5555555555555556,
              "#d8576b"
             ],
             [
              0.6666666666666666,
              "#ed7953"
             ],
             [
              0.7777777777777778,
              "#fb9f3a"
             ],
             [
              0.8888888888888888,
              "#fdca26"
             ],
             [
              1,
              "#f0f921"
             ]
            ],
            "type": "heatmapgl"
           }
          ],
          "histogram": [
           {
            "marker": {
             "pattern": {
              "fillmode": "overlay",
              "size": 10,
              "solidity": 0.2
             }
            },
            "type": "histogram"
           }
          ],
          "histogram2d": [
           {
            "colorbar": {
             "outlinewidth": 0,
             "ticks": ""
            },
            "colorscale": [
             [
              0,
              "#0d0887"
             ],
             [
              0.1111111111111111,
              "#46039f"
             ],
             [
              0.2222222222222222,
              "#7201a8"
             ],
             [
              0.3333333333333333,
              "#9c179e"
             ],
             [
              0.4444444444444444,
              "#bd3786"
             ],
             [
              0.5555555555555556,
              "#d8576b"
             ],
             [
              0.6666666666666666,
              "#ed7953"
             ],
             [
              0.7777777777777778,
              "#fb9f3a"
             ],
             [
              0.8888888888888888,
              "#fdca26"
             ],
             [
              1,
              "#f0f921"
             ]
            ],
            "type": "histogram2d"
           }
          ],
          "histogram2dcontour": [
           {
            "colorbar": {
             "outlinewidth": 0,
             "ticks": ""
            },
            "colorscale": [
             [
              0,
              "#0d0887"
             ],
             [
              0.1111111111111111,
              "#46039f"
             ],
             [
              0.2222222222222222,
              "#7201a8"
             ],
             [
              0.3333333333333333,
              "#9c179e"
             ],
             [
              0.4444444444444444,
              "#bd3786"
             ],
             [
              0.5555555555555556,
              "#d8576b"
             ],
             [
              0.6666666666666666,
              "#ed7953"
             ],
             [
              0.7777777777777778,
              "#fb9f3a"
             ],
             [
              0.8888888888888888,
              "#fdca26"
             ],
             [
              1,
              "#f0f921"
             ]
            ],
            "type": "histogram2dcontour"
           }
          ],
          "mesh3d": [
           {
            "colorbar": {
             "outlinewidth": 0,
             "ticks": ""
            },
            "type": "mesh3d"
           }
          ],
          "parcoords": [
           {
            "line": {
             "colorbar": {
              "outlinewidth": 0,
              "ticks": ""
             }
            },
            "type": "parcoords"
           }
          ],
          "pie": [
           {
            "automargin": true,
            "type": "pie"
           }
          ],
          "scatter": [
           {
            "fillpattern": {
             "fillmode": "overlay",
             "size": 10,
             "solidity": 0.2
            },
            "type": "scatter"
           }
          ],
          "scatter3d": [
           {
            "line": {
             "colorbar": {
              "outlinewidth": 0,
              "ticks": ""
             }
            },
            "marker": {
             "colorbar": {
              "outlinewidth": 0,
              "ticks": ""
             }
            },
            "type": "scatter3d"
           }
          ],
          "scattercarpet": [
           {
            "marker": {
             "colorbar": {
              "outlinewidth": 0,
              "ticks": ""
             }
            },
            "type": "scattercarpet"
           }
          ],
          "scattergeo": [
           {
            "marker": {
             "colorbar": {
              "outlinewidth": 0,
              "ticks": ""
             }
            },
            "type": "scattergeo"
           }
          ],
          "scattergl": [
           {
            "marker": {
             "colorbar": {
              "outlinewidth": 0,
              "ticks": ""
             }
            },
            "type": "scattergl"
           }
          ],
          "scattermapbox": [
           {
            "marker": {
             "colorbar": {
              "outlinewidth": 0,
              "ticks": ""
             }
            },
            "type": "scattermapbox"
           }
          ],
          "scatterpolar": [
           {
            "marker": {
             "colorbar": {
              "outlinewidth": 0,
              "ticks": ""
             }
            },
            "type": "scatterpolar"
           }
          ],
          "scatterpolargl": [
           {
            "marker": {
             "colorbar": {
              "outlinewidth": 0,
              "ticks": ""
             }
            },
            "type": "scatterpolargl"
           }
          ],
          "scatterternary": [
           {
            "marker": {
             "colorbar": {
              "outlinewidth": 0,
              "ticks": ""
             }
            },
            "type": "scatterternary"
           }
          ],
          "surface": [
           {
            "colorbar": {
             "outlinewidth": 0,
             "ticks": ""
            },
            "colorscale": [
             [
              0,
              "#0d0887"
             ],
             [
              0.1111111111111111,
              "#46039f"
             ],
             [
              0.2222222222222222,
              "#7201a8"
             ],
             [
              0.3333333333333333,
              "#9c179e"
             ],
             [
              0.4444444444444444,
              "#bd3786"
             ],
             [
              0.5555555555555556,
              "#d8576b"
             ],
             [
              0.6666666666666666,
              "#ed7953"
             ],
             [
              0.7777777777777778,
              "#fb9f3a"
             ],
             [
              0.8888888888888888,
              "#fdca26"
             ],
             [
              1,
              "#f0f921"
             ]
            ],
            "type": "surface"
           }
          ],
          "table": [
           {
            "cells": {
             "fill": {
              "color": "#EBF0F8"
             },
             "line": {
              "color": "white"
             }
            },
            "header": {
             "fill": {
              "color": "#C8D4E3"
             },
             "line": {
              "color": "white"
             }
            },
            "type": "table"
           }
          ]
         },
         "layout": {
          "annotationdefaults": {
           "arrowcolor": "#2a3f5f",
           "arrowhead": 0,
           "arrowwidth": 1
          },
          "autotypenumbers": "strict",
          "coloraxis": {
           "colorbar": {
            "outlinewidth": 0,
            "ticks": ""
           }
          },
          "colorscale": {
           "diverging": [
            [
             0,
             "#8e0152"
            ],
            [
             0.1,
             "#c51b7d"
            ],
            [
             0.2,
             "#de77ae"
            ],
            [
             0.3,
             "#f1b6da"
            ],
            [
             0.4,
             "#fde0ef"
            ],
            [
             0.5,
             "#f7f7f7"
            ],
            [
             0.6,
             "#e6f5d0"
            ],
            [
             0.7,
             "#b8e186"
            ],
            [
             0.8,
             "#7fbc41"
            ],
            [
             0.9,
             "#4d9221"
            ],
            [
             1,
             "#276419"
            ]
           ],
           "sequential": [
            [
             0,
             "#0d0887"
            ],
            [
             0.1111111111111111,
             "#46039f"
            ],
            [
             0.2222222222222222,
             "#7201a8"
            ],
            [
             0.3333333333333333,
             "#9c179e"
            ],
            [
             0.4444444444444444,
             "#bd3786"
            ],
            [
             0.5555555555555556,
             "#d8576b"
            ],
            [
             0.6666666666666666,
             "#ed7953"
            ],
            [
             0.7777777777777778,
             "#fb9f3a"
            ],
            [
             0.8888888888888888,
             "#fdca26"
            ],
            [
             1,
             "#f0f921"
            ]
           ],
           "sequentialminus": [
            [
             0,
             "#0d0887"
            ],
            [
             0.1111111111111111,
             "#46039f"
            ],
            [
             0.2222222222222222,
             "#7201a8"
            ],
            [
             0.3333333333333333,
             "#9c179e"
            ],
            [
             0.4444444444444444,
             "#bd3786"
            ],
            [
             0.5555555555555556,
             "#d8576b"
            ],
            [
             0.6666666666666666,
             "#ed7953"
            ],
            [
             0.7777777777777778,
             "#fb9f3a"
            ],
            [
             0.8888888888888888,
             "#fdca26"
            ],
            [
             1,
             "#f0f921"
            ]
           ]
          },
          "colorway": [
           "#636efa",
           "#EF553B",
           "#00cc96",
           "#ab63fa",
           "#FFA15A",
           "#19d3f3",
           "#FF6692",
           "#B6E880",
           "#FF97FF",
           "#FECB52"
          ],
          "font": {
           "color": "#2a3f5f"
          },
          "geo": {
           "bgcolor": "white",
           "lakecolor": "white",
           "landcolor": "#E5ECF6",
           "showlakes": true,
           "showland": true,
           "subunitcolor": "white"
          },
          "hoverlabel": {
           "align": "left"
          },
          "hovermode": "closest",
          "mapbox": {
           "style": "light"
          },
          "paper_bgcolor": "white",
          "plot_bgcolor": "#E5ECF6",
          "polar": {
           "angularaxis": {
            "gridcolor": "white",
            "linecolor": "white",
            "ticks": ""
           },
           "bgcolor": "#E5ECF6",
           "radialaxis": {
            "gridcolor": "white",
            "linecolor": "white",
            "ticks": ""
           }
          },
          "scene": {
           "xaxis": {
            "backgroundcolor": "#E5ECF6",
            "gridcolor": "white",
            "gridwidth": 2,
            "linecolor": "white",
            "showbackground": true,
            "ticks": "",
            "zerolinecolor": "white"
           },
           "yaxis": {
            "backgroundcolor": "#E5ECF6",
            "gridcolor": "white",
            "gridwidth": 2,
            "linecolor": "white",
            "showbackground": true,
            "ticks": "",
            "zerolinecolor": "white"
           },
           "zaxis": {
            "backgroundcolor": "#E5ECF6",
            "gridcolor": "white",
            "gridwidth": 2,
            "linecolor": "white",
            "showbackground": true,
            "ticks": "",
            "zerolinecolor": "white"
           }
          },
          "shapedefaults": {
           "line": {
            "color": "#2a3f5f"
           }
          },
          "ternary": {
           "aaxis": {
            "gridcolor": "white",
            "linecolor": "white",
            "ticks": ""
           },
           "baxis": {
            "gridcolor": "white",
            "linecolor": "white",
            "ticks": ""
           },
           "bgcolor": "#E5ECF6",
           "caxis": {
            "gridcolor": "white",
            "linecolor": "white",
            "ticks": ""
           }
          },
          "title": {
           "x": 0.05
          },
          "xaxis": {
           "automargin": true,
           "gridcolor": "white",
           "linecolor": "white",
           "ticks": "",
           "title": {
            "standoff": 15
           },
           "zerolinecolor": "white",
           "zerolinewidth": 2
          },
          "yaxis": {
           "automargin": true,
           "gridcolor": "white",
           "linecolor": "white",
           "ticks": "",
           "title": {
            "standoff": 15
           },
           "zerolinecolor": "white",
           "zerolinewidth": 2
          }
         }
        },
        "title": {
         "text": "Top 10 Customer Cities (by count)"
        },
        "xaxis": {
         "anchor": "y",
         "domain": [
          0,
          1
         ],
         "title": {
          "text": "city"
         }
        },
        "yaxis": {
         "anchor": "x",
         "domain": [
          0,
          1
         ],
         "title": {
          "text": "Count"
         }
        }
       }
      }
     },
     "metadata": {},
     "output_type": "display_data"
    },
    {
     "data": {
      "application/vnd.plotly.v1+json": {
       "config": {
        "plotlyServerURL": "https://plot.ly"
       },
       "data": [
        {
         "alignmentgroup": "True",
         "hovertemplate": "city=%{x}<br>percentage=%{y}<extra></extra>",
         "legendgroup": "",
         "marker": {
          "color": "#636efa",
          "pattern": {
           "shape": ""
          }
         },
         "name": "",
         "offsetgroup": "",
         "orientation": "v",
         "showlegend": false,
         "textposition": "outside",
         "type": "bar",
         "x": [
          "OTHER",
          "LONDON",
          "MANCHESTER",
          "BIRMINGHAM",
          "GLASGOW",
          "BRISTOL",
          "LEEDS",
          "EDINBURGH",
          "LEICESTER",
          "LIVERPOOL"
         ],
         "xaxis": "x",
         "y": [
          54.7,
          20.98,
          1.92,
          1.88,
          1.29,
          1.16,
          1.05,
          1.05,
          0.91,
          0.85
         ],
         "yaxis": "y"
        }
       ],
       "layout": {
        "annotations": [
         {
          "font": {
           "size": 12
          },
          "showarrow": false,
          "text": "Over 50% of customers are not in London or major cities.",
          "x": 1,
          "xref": "paper",
          "y": -0.2,
          "yref": "paper"
         }
        ],
        "autosize": true,
        "barmode": "relative",
        "height": 600,
        "legend": {
         "tracegroupgap": 0
        },
        "template": {
         "data": {
          "bar": [
           {
            "error_x": {
             "color": "#2a3f5f"
            },
            "error_y": {
             "color": "#2a3f5f"
            },
            "marker": {
             "line": {
              "color": "#E5ECF6",
              "width": 0.5
             },
             "pattern": {
              "fillmode": "overlay",
              "size": 10,
              "solidity": 0.2
             }
            },
            "type": "bar"
           }
          ],
          "barpolar": [
           {
            "marker": {
             "line": {
              "color": "#E5ECF6",
              "width": 0.5
             },
             "pattern": {
              "fillmode": "overlay",
              "size": 10,
              "solidity": 0.2
             }
            },
            "type": "barpolar"
           }
          ],
          "carpet": [
           {
            "aaxis": {
             "endlinecolor": "#2a3f5f",
             "gridcolor": "white",
             "linecolor": "white",
             "minorgridcolor": "white",
             "startlinecolor": "#2a3f5f"
            },
            "baxis": {
             "endlinecolor": "#2a3f5f",
             "gridcolor": "white",
             "linecolor": "white",
             "minorgridcolor": "white",
             "startlinecolor": "#2a3f5f"
            },
            "type": "carpet"
           }
          ],
          "choropleth": [
           {
            "colorbar": {
             "outlinewidth": 0,
             "ticks": ""
            },
            "type": "choropleth"
           }
          ],
          "contour": [
           {
            "colorbar": {
             "outlinewidth": 0,
             "ticks": ""
            },
            "colorscale": [
             [
              0,
              "#0d0887"
             ],
             [
              0.1111111111111111,
              "#46039f"
             ],
             [
              0.2222222222222222,
              "#7201a8"
             ],
             [
              0.3333333333333333,
              "#9c179e"
             ],
             [
              0.4444444444444444,
              "#bd3786"
             ],
             [
              0.5555555555555556,
              "#d8576b"
             ],
             [
              0.6666666666666666,
              "#ed7953"
             ],
             [
              0.7777777777777778,
              "#fb9f3a"
             ],
             [
              0.8888888888888888,
              "#fdca26"
             ],
             [
              1,
              "#f0f921"
             ]
            ],
            "type": "contour"
           }
          ],
          "contourcarpet": [
           {
            "colorbar": {
             "outlinewidth": 0,
             "ticks": ""
            },
            "type": "contourcarpet"
           }
          ],
          "heatmap": [
           {
            "colorbar": {
             "outlinewidth": 0,
             "ticks": ""
            },
            "colorscale": [
             [
              0,
              "#0d0887"
             ],
             [
              0.1111111111111111,
              "#46039f"
             ],
             [
              0.2222222222222222,
              "#7201a8"
             ],
             [
              0.3333333333333333,
              "#9c179e"
             ],
             [
              0.4444444444444444,
              "#bd3786"
             ],
             [
              0.5555555555555556,
              "#d8576b"
             ],
             [
              0.6666666666666666,
              "#ed7953"
             ],
             [
              0.7777777777777778,
              "#fb9f3a"
             ],
             [
              0.8888888888888888,
              "#fdca26"
             ],
             [
              1,
              "#f0f921"
             ]
            ],
            "type": "heatmap"
           }
          ],
          "heatmapgl": [
           {
            "colorbar": {
             "outlinewidth": 0,
             "ticks": ""
            },
            "colorscale": [
             [
              0,
              "#0d0887"
             ],
             [
              0.1111111111111111,
              "#46039f"
             ],
             [
              0.2222222222222222,
              "#7201a8"
             ],
             [
              0.3333333333333333,
              "#9c179e"
             ],
             [
              0.4444444444444444,
              "#bd3786"
             ],
             [
              0.5555555555555556,
              "#d8576b"
             ],
             [
              0.6666666666666666,
              "#ed7953"
             ],
             [
              0.7777777777777778,
              "#fb9f3a"
             ],
             [
              0.8888888888888888,
              "#fdca26"
             ],
             [
              1,
              "#f0f921"
             ]
            ],
            "type": "heatmapgl"
           }
          ],
          "histogram": [
           {
            "marker": {
             "pattern": {
              "fillmode": "overlay",
              "size": 10,
              "solidity": 0.2
             }
            },
            "type": "histogram"
           }
          ],
          "histogram2d": [
           {
            "colorbar": {
             "outlinewidth": 0,
             "ticks": ""
            },
            "colorscale": [
             [
              0,
              "#0d0887"
             ],
             [
              0.1111111111111111,
              "#46039f"
             ],
             [
              0.2222222222222222,
              "#7201a8"
             ],
             [
              0.3333333333333333,
              "#9c179e"
             ],
             [
              0.4444444444444444,
              "#bd3786"
             ],
             [
              0.5555555555555556,
              "#d8576b"
             ],
             [
              0.6666666666666666,
              "#ed7953"
             ],
             [
              0.7777777777777778,
              "#fb9f3a"
             ],
             [
              0.8888888888888888,
              "#fdca26"
             ],
             [
              1,
              "#f0f921"
             ]
            ],
            "type": "histogram2d"
           }
          ],
          "histogram2dcontour": [
           {
            "colorbar": {
             "outlinewidth": 0,
             "ticks": ""
            },
            "colorscale": [
             [
              0,
              "#0d0887"
             ],
             [
              0.1111111111111111,
              "#46039f"
             ],
             [
              0.2222222222222222,
              "#7201a8"
             ],
             [
              0.3333333333333333,
              "#9c179e"
             ],
             [
              0.4444444444444444,
              "#bd3786"
             ],
             [
              0.5555555555555556,
              "#d8576b"
             ],
             [
              0.6666666666666666,
              "#ed7953"
             ],
             [
              0.7777777777777778,
              "#fb9f3a"
             ],
             [
              0.8888888888888888,
              "#fdca26"
             ],
             [
              1,
              "#f0f921"
             ]
            ],
            "type": "histogram2dcontour"
           }
          ],
          "mesh3d": [
           {
            "colorbar": {
             "outlinewidth": 0,
             "ticks": ""
            },
            "type": "mesh3d"
           }
          ],
          "parcoords": [
           {
            "line": {
             "colorbar": {
              "outlinewidth": 0,
              "ticks": ""
             }
            },
            "type": "parcoords"
           }
          ],
          "pie": [
           {
            "automargin": true,
            "type": "pie"
           }
          ],
          "scatter": [
           {
            "fillpattern": {
             "fillmode": "overlay",
             "size": 10,
             "solidity": 0.2
            },
            "type": "scatter"
           }
          ],
          "scatter3d": [
           {
            "line": {
             "colorbar": {
              "outlinewidth": 0,
              "ticks": ""
             }
            },
            "marker": {
             "colorbar": {
              "outlinewidth": 0,
              "ticks": ""
             }
            },
            "type": "scatter3d"
           }
          ],
          "scattercarpet": [
           {
            "marker": {
             "colorbar": {
              "outlinewidth": 0,
              "ticks": ""
             }
            },
            "type": "scattercarpet"
           }
          ],
          "scattergeo": [
           {
            "marker": {
             "colorbar": {
              "outlinewidth": 0,
              "ticks": ""
             }
            },
            "type": "scattergeo"
           }
          ],
          "scattergl": [
           {
            "marker": {
             "colorbar": {
              "outlinewidth": 0,
              "ticks": ""
             }
            },
            "type": "scattergl"
           }
          ],
          "scattermapbox": [
           {
            "marker": {
             "colorbar": {
              "outlinewidth": 0,
              "ticks": ""
             }
            },
            "type": "scattermapbox"
           }
          ],
          "scatterpolar": [
           {
            "marker": {
             "colorbar": {
              "outlinewidth": 0,
              "ticks": ""
             }
            },
            "type": "scatterpolar"
           }
          ],
          "scatterpolargl": [
           {
            "marker": {
             "colorbar": {
              "outlinewidth": 0,
              "ticks": ""
             }
            },
            "type": "scatterpolargl"
           }
          ],
          "scatterternary": [
           {
            "marker": {
             "colorbar": {
              "outlinewidth": 0,
              "ticks": ""
             }
            },
            "type": "scatterternary"
           }
          ],
          "surface": [
           {
            "colorbar": {
             "outlinewidth": 0,
             "ticks": ""
            },
            "colorscale": [
             [
              0,
              "#0d0887"
             ],
             [
              0.1111111111111111,
              "#46039f"
             ],
             [
              0.2222222222222222,
              "#7201a8"
             ],
             [
              0.3333333333333333,
              "#9c179e"
             ],
             [
              0.4444444444444444,
              "#bd3786"
             ],
             [
              0.5555555555555556,
              "#d8576b"
             ],
             [
              0.6666666666666666,
              "#ed7953"
             ],
             [
              0.7777777777777778,
              "#fb9f3a"
             ],
             [
              0.8888888888888888,
              "#fdca26"
             ],
             [
              1,
              "#f0f921"
             ]
            ],
            "type": "surface"
           }
          ],
          "table": [
           {
            "cells": {
             "fill": {
              "color": "#EBF0F8"
             },
             "line": {
              "color": "white"
             }
            },
            "header": {
             "fill": {
              "color": "#C8D4E3"
             },
             "line": {
              "color": "white"
             }
            },
            "type": "table"
           }
          ]
         },
         "layout": {
          "annotationdefaults": {
           "arrowcolor": "#2a3f5f",
           "arrowhead": 0,
           "arrowwidth": 1
          },
          "autotypenumbers": "strict",
          "coloraxis": {
           "colorbar": {
            "outlinewidth": 0,
            "ticks": ""
           }
          },
          "colorscale": {
           "diverging": [
            [
             0,
             "#8e0152"
            ],
            [
             0.1,
             "#c51b7d"
            ],
            [
             0.2,
             "#de77ae"
            ],
            [
             0.3,
             "#f1b6da"
            ],
            [
             0.4,
             "#fde0ef"
            ],
            [
             0.5,
             "#f7f7f7"
            ],
            [
             0.6,
             "#e6f5d0"
            ],
            [
             0.7,
             "#b8e186"
            ],
            [
             0.8,
             "#7fbc41"
            ],
            [
             0.9,
             "#4d9221"
            ],
            [
             1,
             "#276419"
            ]
           ],
           "sequential": [
            [
             0,
             "#0d0887"
            ],
            [
             0.1111111111111111,
             "#46039f"
            ],
            [
             0.2222222222222222,
             "#7201a8"
            ],
            [
             0.3333333333333333,
             "#9c179e"
            ],
            [
             0.4444444444444444,
             "#bd3786"
            ],
            [
             0.5555555555555556,
             "#d8576b"
            ],
            [
             0.6666666666666666,
             "#ed7953"
            ],
            [
             0.7777777777777778,
             "#fb9f3a"
            ],
            [
             0.8888888888888888,
             "#fdca26"
            ],
            [
             1,
             "#f0f921"
            ]
           ],
           "sequentialminus": [
            [
             0,
             "#0d0887"
            ],
            [
             0.1111111111111111,
             "#46039f"
            ],
            [
             0.2222222222222222,
             "#7201a8"
            ],
            [
             0.3333333333333333,
             "#9c179e"
            ],
            [
             0.4444444444444444,
             "#bd3786"
            ],
            [
             0.5555555555555556,
             "#d8576b"
            ],
            [
             0.6666666666666666,
             "#ed7953"
            ],
            [
             0.7777777777777778,
             "#fb9f3a"
            ],
            [
             0.8888888888888888,
             "#fdca26"
            ],
            [
             1,
             "#f0f921"
            ]
           ]
          },
          "colorway": [
           "#636efa",
           "#EF553B",
           "#00cc96",
           "#ab63fa",
           "#FFA15A",
           "#19d3f3",
           "#FF6692",
           "#B6E880",
           "#FF97FF",
           "#FECB52"
          ],
          "font": {
           "color": "#2a3f5f"
          },
          "geo": {
           "bgcolor": "white",
           "lakecolor": "white",
           "landcolor": "#E5ECF6",
           "showlakes": true,
           "showland": true,
           "subunitcolor": "white"
          },
          "hoverlabel": {
           "align": "left"
          },
          "hovermode": "closest",
          "mapbox": {
           "style": "light"
          },
          "paper_bgcolor": "white",
          "plot_bgcolor": "#E5ECF6",
          "polar": {
           "angularaxis": {
            "gridcolor": "white",
            "linecolor": "white",
            "ticks": ""
           },
           "bgcolor": "#E5ECF6",
           "radialaxis": {
            "gridcolor": "white",
            "linecolor": "white",
            "ticks": ""
           }
          },
          "scene": {
           "xaxis": {
            "backgroundcolor": "#E5ECF6",
            "gridcolor": "white",
            "gridwidth": 2,
            "linecolor": "white",
            "showbackground": true,
            "ticks": "",
            "zerolinecolor": "white"
           },
           "yaxis": {
            "backgroundcolor": "#E5ECF6",
            "gridcolor": "white",
            "gridwidth": 2,
            "linecolor": "white",
            "showbackground": true,
            "ticks": "",
            "zerolinecolor": "white"
           },
           "zaxis": {
            "backgroundcolor": "#E5ECF6",
            "gridcolor": "white",
            "gridwidth": 2,
            "linecolor": "white",
            "showbackground": true,
            "ticks": "",
            "zerolinecolor": "white"
           }
          },
          "shapedefaults": {
           "line": {
            "color": "#2a3f5f"
           }
          },
          "ternary": {
           "aaxis": {
            "gridcolor": "white",
            "linecolor": "white",
            "ticks": ""
           },
           "baxis": {
            "gridcolor": "white",
            "linecolor": "white",
            "ticks": ""
           },
           "bgcolor": "#E5ECF6",
           "caxis": {
            "gridcolor": "white",
            "linecolor": "white",
            "ticks": ""
           }
          },
          "title": {
           "x": 0.05
          },
          "xaxis": {
           "automargin": true,
           "gridcolor": "white",
           "linecolor": "white",
           "ticks": "",
           "title": {
            "standoff": 15
           },
           "zerolinecolor": "white",
           "zerolinewidth": 2
          },
          "yaxis": {
           "automargin": true,
           "gridcolor": "white",
           "linecolor": "white",
           "ticks": "",
           "title": {
            "standoff": 15
           },
           "zerolinecolor": "white",
           "zerolinewidth": 2
          }
         }
        },
        "title": {
         "text": "Top 10 Customer Cities (by percentage)"
        },
        "xaxis": {
         "anchor": "y",
         "domain": [
          0,
          1
         ],
         "tickangle": 45,
         "title": {}
        },
        "yaxis": {
         "anchor": "x",
         "domain": [
          0,
          1
         ],
         "title": {
          "text": "Percentage"
         }
        }
       }
      }
     },
     "metadata": {},
     "output_type": "display_data"
    }
   ],
   "source": [
    "\"\"\"\n",
    "over 50% of customers are not in London or major cities\n",
    "\"\"\"\n",
    "\n",
    "total_customers_df = customers_df.select(\"city\")\\\n",
    "    .group_by(\"city\")\\\n",
    "    .agg(pl.len().alias(\"count\"))\\\n",
    "    .sort(\"count\", descending=True)\\\n",
    "\n",
    "total_count = _[\"count\"].sum()\n",
    "total_customers_df = total_customers_df.with_columns((pl.col(\"count\") / total_count * 100).round(2).alias(\"percentage\"))\n",
    "\n",
    "total_customers_df_count_fig = px.bar(_.top_k(10, by=\"count\"), x=\"city\", y=\"count\", title=\"Top 10 Customer Cities (by count)\")\n",
    "total_customers_df_count_fig.update_layout(\n",
    "    height=600,\n",
    "    autosize=True,\n",
    "    yaxis=dict(\n",
    "        title='Count'\n",
    "    ),\n",
    "    xaxis=dict(\n",
    "    )\n",
    ").show()\n",
    "\n",
    "total_customers_df_pct_fig = px.bar(_.top_k(10, by=\"count\"), x=\"city\", y=\"percentage\", title=\"Top 10 Customer Cities (by percentage)\")\n",
    "total_customers_df_pct_fig.update_layout(\n",
    "    height=600,  # Increased height to make the viewing area taller\n",
    "    autosize=True,\n",
    "    yaxis=dict(\n",
    "        title='Percentage'\n",
    "    ),\n",
    "    xaxis=dict(\n",
    "        title=None,\n",
    "        tickangle=45\n",
    "    ),\n",
    "    annotations=[\n",
    "        dict(\n",
    "            text=\"Over 50% of customers are not in London or major cities.\",\n",
    "            showarrow=False,\n",
    "            xref=\"paper\",\n",
    "            yref=\"paper\",\n",
    "            x=1,\n",
    "            y=-0.2,  # Further adjusted y position to move below the x-axis title\n",
    "            font=dict(size=12)\n",
    "        )\n",
    "    ],\n",
    ")\n",
    "total_customers_df_pct_fig.update_traces(textposition='outside').show()\n"
   ]
  },
  {
   "cell_type": "code",
   "execution_count": 311,
   "metadata": {},
   "outputs": [
    {
     "name": "stdout",
     "output_type": "stream",
     "text": [
      "HAWESWATER HOUSE,\n",
      "LINGLEY MERE BUSINESS PARK,\n",
      "LINGLEY GREEN AVENUE,\n",
      "GREAT SANKEY, WARRINGTON,\n",
      "WA5 3LP\n",
      "\n",
      "AMBERFIELD BARN HOUSE AMBER LANE,\n",
      "CHART SUTTON,\n",
      "MAIDSTONE,\n",
      "ENGLAND,\n",
      "ME17 3SF\n",
      "\n",
      "FIRST FLOOR CEF BUILDING,\n",
      "BROOMHILL WAY,\n",
      "TORQUAY,\n",
      "DEVON,\n",
      "UNITED KINGDOM,\n",
      "TQ2 7QN\n",
      "\n",
      "37 BEVERLEY ROAD,\n",
      "DRIFFIELD,\n",
      "ENGLAND,\n",
      "YO25 6RZ\n",
      "\n",
      "12 BORELLI YARD,\n",
      "FARNHAM,\n",
      "SURREY,\n",
      "ENGLAND,\n",
      "GU9 7NU\n",
      "\n",
      "ORCHARD FARM BROOKHOUSE GREEN,\n",
      "SMALLWOOD,\n",
      "SANDBACH,\n",
      "CHESHIRE,\n",
      "ENGLAND,\n",
      "CW11 2XE\n",
      "\n",
      "4 1ST FLOOR, 4 EARLS COURT,\n",
      "EARLS GATE PARK,\n",
      "GRANGEMOUTH,\n",
      "SCOTLAND,\n",
      "FK3 8ZE\n",
      "\n",
      "15 ILFRACOMBE GARDENS,\n",
      "ROMFORD,\n",
      "ENGLAND,\n",
      "RM6 4RL\n",
      "\n",
      "11 RICHMOND ROAD,\n",
      "CHORLEY,\n",
      "ENGLAND,\n",
      "PR6 0NS\n",
      "\n",
      "103 ST. STEPHENS WALK,\n",
      "ASHFORD,\n",
      "KENT,\n",
      "UNITED KINGDOM,\n",
      "TN23 5BE\n",
      "\n"
     ]
    }
   ],
   "source": [
    "\"\"\"\n",
    "\"OTHER\" locations are not London or major cities\n",
    "\"\"\"\n",
    "for address in customers_df.filter(pl.col(\"city\") == \"OTHER\").select(\"address_clean\").to_series().head(10):\n",
    "    print(address, end=\"\\n\\n\")\n"
   ]
  },
  {
   "cell_type": "code",
   "execution_count": 312,
   "metadata": {},
   "outputs": [
    {
     "data": {
      "text/plain": [
       "{'KINGSTON-UPON-HULL', 'WESTMINSTER'}"
      ]
     },
     "execution_count": 312,
     "metadata": {},
     "output_type": "execute_result"
    }
   ],
   "source": [
    "\"\"\"\n",
    "cities in cities_df but not in addresses_df:\n",
    "KINGSTON-UPON-HULL\n",
    "    - KINGSTON-UPON-HULL is a commonly shorten to \"Hull\"\n",
    "WESTMINSTER\n",
    "\"\"\"\n",
    "set(cities_df[\"city\"]) - set(customers_df[\"city\"])"
   ]
  },
  {
   "cell_type": "code",
   "execution_count": 316,
   "metadata": {},
   "outputs": [
    {
     "data": {
      "text/html": [
       "<div><style>\n",
       ".dataframe > thead > tr,\n",
       ".dataframe > tbody > tr {\n",
       "  text-align: right;\n",
       "  white-space: pre-wrap;\n",
       "}\n",
       "</style>\n",
       "<small>shape: (284, 7)</small><table border=\"1\" class=\"dataframe\"><thead><tr><th>company_id</th><th>address</th><th>total_spend</th><th>address_clean</th><th>address_split</th><th>address_lines</th><th>city</th></tr><tr><td>i64</td><td>str</td><td>i64</td><td>str</td><td>list[str]</td><td>u32</td><td>str</td></tr></thead><tbody><tr><td>456</td><td>&quot;349 BEVERLEY ROAD,\n",
       "ANLABY,\n",
       "HULL,\n",
       "ENGLAND,\n",
       "HU10 7BQ&quot;</td><td>3800</td><td>&quot;349 BEVERLEY ROAD,\n",
       "ANLABY,\n",
       "HULL,\n",
       "ENGLAND,\n",
       "HU10 7BQ&quot;</td><td>[&quot;349 BEVERLEY ROAD&quot;, &quot;ANLABY&quot;, … &quot;HU10 7BQ&quot;]</td><td>5</td><td>&quot;HULL&quot;</td></tr><tr><td>1140</td><td>&quot;90 CALVERT LANE,\n",
       "HULL,\n",
       "ENGLAND,\n",
       "HU4 6BJ&quot;</td><td>6000</td><td>&quot;90 CALVERT LANE,\n",
       "HULL,\n",
       "ENGLAND,\n",
       "HU4 6BJ&quot;</td><td>[&quot;90 CALVERT LANE&quot;, &quot;HULL&quot;, … &quot;HU4 6BJ&quot;]</td><td>4</td><td>&quot;HULL&quot;</td></tr><tr><td>1823</td><td>&quot;ACER GLADE BLACK TUP LANE,\n",
       "ARNOLD,\n",
       "HULL,\n",
       "ENGLAND,\n",
       "HU11 5JA&quot;</td><td>4600</td><td>&quot;ACER GLADE BLACK TUP LANE,\n",
       "ARNOLD,\n",
       "HULL,\n",
       "ENGLAND,\n",
       "HU11 5JA&quot;</td><td>[&quot;ACER GLADE BLACK TUP LANE&quot;, &quot;ARNOLD&quot;, … &quot;HU11 5JA&quot;]</td><td>5</td><td>&quot;HULL&quot;</td></tr><tr><td>1832</td><td>&quot;10 GORDON STREET,\n",
       "HULL,\n",
       "ENGLAND,\n",
       "HU3 3HN&quot;</td><td>5300</td><td>&quot;10 GORDON STREET,\n",
       "HULL,\n",
       "ENGLAND,\n",
       "HU3 3HN&quot;</td><td>[&quot;10 GORDON STREET&quot;, &quot;HULL&quot;, … &quot;HU3 3HN&quot;]</td><td>4</td><td>&quot;HULL&quot;</td></tr><tr><td>1922</td><td>&quot;70 WRIGHT STREET,\n",
       "HULL,\n",
       "ENGLAND,\n",
       "HU2 8JD&quot;</td><td>6100</td><td>&quot;70 WRIGHT STREET,\n",
       "HULL,\n",
       "ENGLAND,\n",
       "HU2 8JD&quot;</td><td>[&quot;70 WRIGHT STREET&quot;, &quot;HULL&quot;, … &quot;HU2 8JD&quot;]</td><td>4</td><td>&quot;HULL&quot;</td></tr><tr><td>2138</td><td>&quot;32 KING EDWARD STREET,\n",
       "HULL,\n",
       "ENGLAND,\n",
       "HU1 3SS&quot;</td><td>7300</td><td>&quot;32 KING EDWARD STREET,\n",
       "HULL,\n",
       "ENGLAND,\n",
       "HU1 3SS&quot;</td><td>[&quot;32 KING EDWARD STREET&quot;, &quot;HULL&quot;, … &quot;HU1 3SS&quot;]</td><td>4</td><td>&quot;HULL&quot;</td></tr><tr><td>2345</td><td>&quot;Riverside House,\n",
       "11-12 Nelson Street,\n",
       "Hull,\n",
       "England,\n",
       "Hu1 1Xe&quot;</td><td>1700</td><td>&quot;RIVERSIDE HOUSE,\n",
       "11-12 NELSON STREET,\n",
       "HULL,\n",
       "ENGLAND,\n",
       "HU1 1XE&quot;</td><td>[&quot;RIVERSIDE HOUSE&quot;, &quot;11-12 NELSON STREET&quot;, … &quot;HU1 1XE&quot;]</td><td>5</td><td>&quot;HULL&quot;</td></tr><tr><td>2349</td><td>&quot;5 MARITIME HOUSE MARITIME BUSINESS PARK,\n",
       "LIVINGSTON ROAD,\n",
       "HESSLE,\n",
       "HULL,\n",
       "ENGLAND,\n",
       "HU13 0EG&quot;</td><td>6000</td><td>&quot;5 MARITIME HOUSE MARITIME BUSINESS PARK,\n",
       "LIVINGSTON ROAD,\n",
       "HESSLE,\n",
       "HULL,\n",
       "ENGLAND,\n",
       "HU13 0EG&quot;</td><td>[&quot;5 MARITIME HOUSE MARITIME BUSINESS PARK&quot;, &quot;LIVINGSTON ROAD&quot;, … &quot;HU13 0EG&quot;]</td><td>6</td><td>&quot;HULL&quot;</td></tr><tr><td>2892</td><td>&quot;368 STAVELEY ROAD,\n",
       "HULL,\n",
       "ENGLAND,\n",
       "HU9 4BY&quot;</td><td>1800</td><td>&quot;368 STAVELEY ROAD,\n",
       "HULL,\n",
       "ENGLAND,\n",
       "HU9 4BY&quot;</td><td>[&quot;368 STAVELEY ROAD&quot;, &quot;HULL&quot;, … &quot;HU9 4BY&quot;]</td><td>4</td><td>&quot;HULL&quot;</td></tr><tr><td>3309</td><td>&quot;UNIT G7 THE BLOC 38 SPRINGFIELD WAY,\n",
       "ANLABY,\n",
       "HULL,\n",
       "ENGLAND,\n",
       "HU10 6RJ&quot;</td><td>7600</td><td>&quot;UNIT G7 THE BLOC 38 SPRINGFIELD WAY,\n",
       "ANLABY,\n",
       "HULL,\n",
       "ENGLAND,\n",
       "HU10 6RJ&quot;</td><td>[&quot;UNIT G7 THE BLOC 38 SPRINGFIELD WAY&quot;, &quot;ANLABY&quot;, … &quot;HU10 6RJ&quot;]</td><td>5</td><td>&quot;HULL&quot;</td></tr><tr><td>3446</td><td>&quot;46 Louis Street,\n",
       "Hull,\n",
       "England,\n",
       "Hu3 1Lz&quot;</td><td>3200</td><td>&quot;46 LOUIS STREET,\n",
       "HULL,\n",
       "ENGLAND,\n",
       "HU3 1LZ&quot;</td><td>[&quot;46 LOUIS STREET&quot;, &quot;HULL&quot;, … &quot;HU3 1LZ&quot;]</td><td>4</td><td>&quot;HULL&quot;</td></tr><tr><td>3474</td><td>&quot;87 SANDFORD CLOSE,\n",
       "BRANSHOLME,\n",
       "HULL,\n",
       "NORTH HUMBERSIDE,\n",
       "UNITED KINGDOM,\n",
       "HU7 4HJ&quot;</td><td>3400</td><td>&quot;87 SANDFORD CLOSE,\n",
       "BRANSHOLME,\n",
       "HULL,\n",
       "NORTH HUMBERSIDE,\n",
       "UNITED KINGDOM,\n",
       "HU7 4HJ&quot;</td><td>[&quot;87 SANDFORD CLOSE&quot;, &quot;BRANSHOLME&quot;, … &quot;HU7 4HJ&quot;]</td><td>6</td><td>&quot;HULL&quot;</td></tr><tr><td>3610</td><td>&quot;Mission House,\n",
       "900 Hedon Road,\n",
       "Hull,\n",
       "East Yorkshire,\n",
       "Hu9 5Lz&quot;</td><td>4300</td><td>&quot;MISSION HOUSE,\n",
       "900 HEDON ROAD,\n",
       "HULL,\n",
       "EAST YORKSHIRE,\n",
       "HU9 5LZ&quot;</td><td>[&quot;MISSION HOUSE&quot;, &quot;900 HEDON ROAD&quot;, … &quot;HU9 5LZ&quot;]</td><td>5</td><td>&quot;HULL&quot;</td></tr><tr><td>3667</td><td>&quot;ALDGATE HOUSE,\n",
       "1-4 MARKET PLACE,\n",
       "HULL,\n",
       "EAST YORKSHIRE,\n",
       "HU1 1RS&quot;</td><td>6000</td><td>&quot;ALDGATE HOUSE,\n",
       "1-4 MARKET PLACE,\n",
       "HULL,\n",
       "EAST YORKSHIRE,\n",
       "HU1 1RS&quot;</td><td>[&quot;ALDGATE HOUSE&quot;, &quot;1-4 MARKET PLACE&quot;, … &quot;HU1 1RS&quot;]</td><td>5</td><td>&quot;HULL&quot;</td></tr><tr><td>3761</td><td>&quot;32 HULL ROAD,\n",
       "ANLABY,\n",
       "HULL,\n",
       "EAST YORKSHIRE,\n",
       "HU10 6UA&quot;</td><td>5400</td><td>&quot;32 HULL ROAD,\n",
       "ANLABY,\n",
       "HULL,\n",
       "EAST YORKSHIRE,\n",
       "HU10 6UA&quot;</td><td>[&quot;32 HULL ROAD&quot;, &quot;ANLABY&quot;, … &quot;HU10 6UA&quot;]</td><td>5</td><td>&quot;HULL&quot;</td></tr><tr><td>3898</td><td>&quot;122 CHANTERLANDS AVENUE,\n",
       "HULL,\n",
       "HU5 3TS&quot;</td><td>6000</td><td>&quot;122 CHANTERLANDS AVENUE,\n",
       "HULL,\n",
       "HU5 3TS&quot;</td><td>[&quot;122 CHANTERLANDS AVENUE&quot;, &quot;HULL&quot;, &quot;HU5 3TS&quot;]</td><td>3</td><td>&quot;HULL&quot;</td></tr><tr><td>4290</td><td>&quot;14 KILCOY DRIVE,\n",
       "KINGSWOOD,\n",
       "HULL,\n",
       "HU7 3HJ&quot;</td><td>5900</td><td>&quot;14 KILCOY DRIVE,\n",
       "KINGSWOOD,\n",
       "HULL,\n",
       "HU7 3HJ&quot;</td><td>[&quot;14 KILCOY DRIVE&quot;, &quot;KINGSWOOD&quot;, … &quot;HU7 3HJ&quot;]</td><td>4</td><td>&quot;HULL&quot;</td></tr><tr><td>4850</td><td>&quot;FRANCIS HOUSE HUMBER PLACE,\n",
       "THE MARINA,\n",
       "HULL,\n",
       "EAST YORKSHIRE,\n",
       "HU1 1UD&quot;</td><td>5700</td><td>&quot;FRANCIS HOUSE HUMBER PLACE,\n",
       "THE MARINA,\n",
       "HULL,\n",
       "EAST YORKSHIRE,\n",
       "HU1 1UD&quot;</td><td>[&quot;FRANCIS HOUSE HUMBER PLACE&quot;, &quot;THE MARINA&quot;, … &quot;HU1 1UD&quot;]</td><td>5</td><td>&quot;HULL&quot;</td></tr><tr><td>5146</td><td>&quot;21 Willowfield,\n",
       "Hull,\n",
       "England,\n",
       "Hu6 8Dz&quot;</td><td>5100</td><td>&quot;21 WILLOWFIELD,\n",
       "HULL,\n",
       "ENGLAND,\n",
       "HU6 8DZ&quot;</td><td>[&quot;21 WILLOWFIELD&quot;, &quot;HULL&quot;, … &quot;HU6 8DZ&quot;]</td><td>4</td><td>&quot;HULL&quot;</td></tr><tr><td>5318</td><td>&quot;FOSS HOUSE 2 PEARSON WAY,\n",
       "CLOUGH ROAD,\n",
       "HULL,\n",
       "EAST YORKSHIRE,\n",
       "HU6 7QA&quot;</td><td>4600</td><td>&quot;FOSS HOUSE 2 PEARSON WAY,\n",
       "CLOUGH ROAD,\n",
       "HULL,\n",
       "EAST YORKSHIRE,\n",
       "HU6 7QA&quot;</td><td>[&quot;FOSS HOUSE 2 PEARSON WAY&quot;, &quot;CLOUGH ROAD&quot;, … &quot;HU6 7QA&quot;]</td><td>5</td><td>&quot;HULL&quot;</td></tr><tr><td>5798</td><td>&quot;37 Gorsedale,\n",
       "Hull,\n",
       "England,\n",
       "Hu7 4Au&quot;</td><td>4600</td><td>&quot;37 GORSEDALE,\n",
       "HULL,\n",
       "ENGLAND,\n",
       "HU7 4AU&quot;</td><td>[&quot;37 GORSEDALE&quot;, &quot;HULL&quot;, … &quot;HU7 4AU&quot;]</td><td>4</td><td>&quot;HULL&quot;</td></tr><tr><td>6035</td><td>&quot;UNIT 3 COLT INDUSTRIAL ESTATE,\n",
       "SCARBOROUGH STREET,\n",
       "HULL,\n",
       "HU3 4TU&quot;</td><td>2800</td><td>&quot;UNIT 3 COLT INDUSTRIAL ESTATE,\n",
       "SCARBOROUGH STREET,\n",
       "HULL,\n",
       "HU3 4TU&quot;</td><td>[&quot;UNIT 3 COLT INDUSTRIAL ESTATE&quot;, &quot;SCARBOROUGH STREET&quot;, … &quot;HU3 4TU&quot;]</td><td>4</td><td>&quot;HULL&quot;</td></tr><tr><td>6321</td><td>&quot;COMPASS HOUSE,\n",
       "17- 19 EMPRINGHAM STREET,\n",
       "HULL,\n",
       "EAST RIDING OF YORKSHIRE,\n",
       "HU9 1RP&quot;</td><td>6800</td><td>&quot;COMPASS HOUSE,\n",
       "17- 19 EMPRINGHAM STREET,\n",
       "HULL,\n",
       "EAST RIDING OF YORKSHIRE,\n",
       "HU9 1RP&quot;</td><td>[&quot;COMPASS HOUSE&quot;, &quot;17- 19 EMPRINGHAM STREET&quot;, … &quot;HU9 1RP&quot;]</td><td>5</td><td>&quot;HULL&quot;</td></tr><tr><td>6538</td><td>&quot;573, FLAT,\n",
       "HOLDERNESS ROAD,\n",
       "HULL,\n",
       "NORTH HUMBERSIDE,\n",
       "UNITED KINGDOM,\n",
       "HU8 9AA&quot;</td><td>6000</td><td>&quot;573, FLAT,\n",
       "HOLDERNESS ROAD,\n",
       "HULL,\n",
       "NORTH HUMBERSIDE,\n",
       "UNITED KINGDOM,\n",
       "HU8 9AA&quot;</td><td>[&quot;573, FLAT&quot;, &quot;HOLDERNESS ROAD&quot;, … &quot;HU8 9AA&quot;]</td><td>6</td><td>&quot;HULL&quot;</td></tr><tr><td>6959</td><td>&quot;WYKELAND HOUSE,\n",
       "47 QUEEN STREET,\n",
       "HULL,\n",
       "UNITED KINGDOM,\n",
       "HU1 1UU&quot;</td><td>9000</td><td>&quot;WYKELAND HOUSE,\n",
       "47 QUEEN STREET,\n",
       "HULL,\n",
       "UNITED KINGDOM,\n",
       "HU1 1UU&quot;</td><td>[&quot;WYKELAND HOUSE&quot;, &quot;47 QUEEN STREET&quot;, … &quot;HU1 1UU&quot;]</td><td>5</td><td>&quot;HULL&quot;</td></tr><tr><td>7084</td><td>&quot;650 ANLABY ROAD,\n",
       "HULL,\n",
       "EAST YORKSHIRE,\n",
       "ENGLAND,\n",
       "HU3 6UU&quot;</td><td>4000</td><td>&quot;650 ANLABY ROAD,\n",
       "HULL,\n",
       "EAST YORKSHIRE,\n",
       "ENGLAND,\n",
       "HU3 6UU&quot;</td><td>[&quot;650 ANLABY ROAD&quot;, &quot;HULL&quot;, … &quot;HU3 6UU&quot;]</td><td>5</td><td>&quot;HULL&quot;</td></tr><tr><td>7894</td><td>&quot;79 KILTON COURT,\n",
       "HULL,\n",
       "UNITED KINGDOM,\n",
       "HU8 9FE&quot;</td><td>3400</td><td>&quot;79 KILTON COURT,\n",
       "HULL,\n",
       "UNITED KINGDOM,\n",
       "HU8 9FE&quot;</td><td>[&quot;79 KILTON COURT&quot;, &quot;HULL&quot;, … &quot;HU8 9FE&quot;]</td><td>4</td><td>&quot;HULL&quot;</td></tr><tr><td>7940</td><td>&quot;46 FARNDALE AVENUE,\n",
       "HULL,\n",
       "ENGLAND,\n",
       "HU9 2PH&quot;</td><td>4500</td><td>&quot;46 FARNDALE AVENUE,\n",
       "HULL,\n",
       "ENGLAND,\n",
       "HU9 2PH&quot;</td><td>[&quot;46 FARNDALE AVENUE&quot;, &quot;HULL&quot;, … &quot;HU9 2PH&quot;]</td><td>4</td><td>&quot;HULL&quot;</td></tr><tr><td>8399</td><td>&quot;95 Needlers Way,\n",
       "Hull,\n",
       "England,\n",
       "Hu5 1De&quot;</td><td>6000</td><td>&quot;95 NEEDLERS WAY,\n",
       "HULL,\n",
       "ENGLAND,\n",
       "HU5 1DE&quot;</td><td>[&quot;95 NEEDLERS WAY&quot;, &quot;HULL&quot;, … &quot;HU5 1DE&quot;]</td><td>4</td><td>&quot;HULL&quot;</td></tr><tr><td>8416</td><td>&quot;ASHCOURT GROUP,\n",
       "FOSTER STREET,\n",
       "HULL,\n",
       "EAST RIDING OF YORKSHIRE,\n",
       "UNITED KINGDOM,\n",
       "HU8 8BT&quot;</td><td>5400</td><td>&quot;ASHCOURT GROUP,\n",
       "FOSTER STREET,\n",
       "HULL,\n",
       "EAST RIDING OF YORKSHIRE,\n",
       "UNITED KINGDOM,\n",
       "HU8 8BT&quot;</td><td>[&quot;ASHCOURT GROUP&quot;, &quot;FOSTER STREET&quot;, … &quot;HU8 8BT&quot;]</td><td>6</td><td>&quot;HULL&quot;</td></tr><tr><td>8521</td><td>&quot;51 LOYD STREET,\n",
       "ANLABY,\n",
       "HULL,\n",
       "ENGLAND,\n",
       "HU10 6UQ&quot;</td><td>4600</td><td>&quot;51 LOYD STREET,\n",
       "ANLABY,\n",
       "HULL,\n",
       "ENGLAND,\n",
       "HU10 6UQ&quot;</td><td>[&quot;51 LOYD STREET&quot;, &quot;ANLABY&quot;, … &quot;HU10 6UQ&quot;]</td><td>5</td><td>&quot;HULL&quot;</td></tr><tr><td>8675</td><td>&quot;GRAYS STORES MAIN ROAD,\n",
       "THORNGUMBALD,\n",
       "HULL,\n",
       "EAST YORKSHIRE,\n",
       "HU12 9LS&quot;</td><td>4400</td><td>&quot;GRAYS STORES MAIN ROAD,\n",
       "THORNGUMBALD,\n",
       "HULL,\n",
       "EAST YORKSHIRE,\n",
       "HU12 9LS&quot;</td><td>[&quot;GRAYS STORES MAIN ROAD&quot;, &quot;THORNGUMBALD&quot;, … &quot;HU12 9LS&quot;]</td><td>5</td><td>&quot;HULL&quot;</td></tr><tr><td>8833</td><td>&quot;UNIT 1 SEATON BUILDINGS,\n",
       "AIR STREET,\n",
       "HULL,\n",
       "ENGLAND,\n",
       "HU5 1RR&quot;</td><td>4200</td><td>&quot;UNIT 1 SEATON BUILDINGS,\n",
       "AIR STREET,\n",
       "HULL,\n",
       "ENGLAND,\n",
       "HU5 1RR&quot;</td><td>[&quot;UNIT 1 SEATON BUILDINGS&quot;, &quot;AIR STREET&quot;, … &quot;HU5 1RR&quot;]</td><td>5</td><td>&quot;HULL&quot;</td></tr><tr><td>8882</td><td>&quot;OFFICES 1 &amp; 2,\n",
       "27 BLANKET ROW,\n",
       "HULL,\n",
       "EAST YORKSHIRE,\n",
       "ENGLAND,\n",
       "HU1 1BA&quot;</td><td>4400</td><td>&quot;OFFICES 1 &amp; 2,\n",
       "27 BLANKET ROW,\n",
       "HULL,\n",
       "EAST YORKSHIRE,\n",
       "ENGLAND,\n",
       "HU1 1BA&quot;</td><td>[&quot;OFFICES 1 &amp; 2&quot;, &quot;27 BLANKET ROW&quot;, … &quot;HU1 1BA&quot;]</td><td>6</td><td>&quot;HULL&quot;</td></tr><tr><td>9263</td><td>&quot;SALTEND POWER STATION SALTEND CHEMICALS PARK,\n",
       "HEDON ROAD,\n",
       "HULL,\n",
       "EAST RIDING OF YORKSHIRE,\n",
       "ENGLAND,\n",
       "HU12 8GA&quot;</td><td>5900</td><td>&quot;SALTEND POWER STATION SALTEND CHEMICALS PARK,\n",
       "HEDON ROAD,\n",
       "HULL,\n",
       "EAST RIDING OF YORKSHIRE,\n",
       "ENGLAND,\n",
       "HU12 8GA&quot;</td><td>[&quot;SALTEND POWER STATION SALTEND CHEMICALS PARK&quot;, &quot;HEDON ROAD&quot;, … &quot;HU12 8GA&quot;]</td><td>6</td><td>&quot;HULL&quot;</td></tr><tr><td>9516</td><td>&quot;20 OAKFIELD COURT,\n",
       "HULL,\n",
       "NORTH HUMBERSIDE,\n",
       "UNITED KINGDOM,\n",
       "HU6 8QF&quot;</td><td>2900</td><td>&quot;20 OAKFIELD COURT,\n",
       "HULL,\n",
       "NORTH HUMBERSIDE,\n",
       "UNITED KINGDOM,\n",
       "HU6 8QF&quot;</td><td>[&quot;20 OAKFIELD COURT&quot;, &quot;HULL&quot;, … &quot;HU6 8QF&quot;]</td><td>5</td><td>&quot;HULL&quot;</td></tr><tr><td>9656</td><td>&quot;UNIT 7 GLOBAL BUSINESS PARK,\n",
       "HAMBURG ROAD,\n",
       "HULL,\n",
       "HU7 0AE&quot;</td><td>6900</td><td>&quot;UNIT 7 GLOBAL BUSINESS PARK,\n",
       "HAMBURG ROAD,\n",
       "HULL,\n",
       "HU7 0AE&quot;</td><td>[&quot;UNIT 7 GLOBAL BUSINESS PARK&quot;, &quot;HAMBURG ROAD&quot;, … &quot;HU7 0AE&quot;]</td><td>4</td><td>&quot;HULL&quot;</td></tr><tr><td>10604</td><td>&quot;1 Coxwold Grove,\n",
       "Hull,\n",
       "Hu4 6Hh&quot;</td><td>3200</td><td>&quot;1 COXWOLD GROVE,\n",
       "HULL,\n",
       "HU4 6HH&quot;</td><td>[&quot;1 COXWOLD GROVE&quot;, &quot;HULL&quot;, &quot;HU4 6HH&quot;]</td><td>3</td><td>&quot;HULL&quot;</td></tr><tr><td>10754</td><td>&quot;141 SOUTHCOATES AVENUE,\n",
       "HULL,\n",
       "ENGLAND,\n",
       "HU9 3HF&quot;</td><td>3300</td><td>&quot;141 SOUTHCOATES AVENUE,\n",
       "HULL,\n",
       "ENGLAND,\n",
       "HU9 3HF&quot;</td><td>[&quot;141 SOUTHCOATES AVENUE&quot;, &quot;HULL&quot;, … &quot;HU9 3HF&quot;]</td><td>4</td><td>&quot;HULL&quot;</td></tr><tr><td>11222</td><td>&quot;20 SOUTTERGATE,\n",
       "HEDON,\n",
       "HULL,\n",
       "ENGLAND,\n",
       "HU12 8JS&quot;</td><td>4500</td><td>&quot;20 SOUTTERGATE,\n",
       "HEDON,\n",
       "HULL,\n",
       "ENGLAND,\n",
       "HU12 8JS&quot;</td><td>[&quot;20 SOUTTERGATE&quot;, &quot;HEDON&quot;, … &quot;HU12 8JS&quot;]</td><td>5</td><td>&quot;HULL&quot;</td></tr><tr><td>11373</td><td>&quot;14 SEAFIELD AVENUE,\n",
       "HULL,\n",
       "UNITED KINGDOM,\n",
       "HU9 3JQ&quot;</td><td>5300</td><td>&quot;14 SEAFIELD AVENUE,\n",
       "HULL,\n",
       "UNITED KINGDOM,\n",
       "HU9 3JQ&quot;</td><td>[&quot;14 SEAFIELD AVENUE&quot;, &quot;HULL&quot;, … &quot;HU9 3JQ&quot;]</td><td>4</td><td>&quot;HULL&quot;</td></tr><tr><td>12115</td><td>&quot;53 WEIGHTON GROVE,\n",
       "HULL,\n",
       "ENGLAND,\n",
       "HU6 8ND&quot;</td><td>4500</td><td>&quot;53 WEIGHTON GROVE,\n",
       "HULL,\n",
       "ENGLAND,\n",
       "HU6 8ND&quot;</td><td>[&quot;53 WEIGHTON GROVE&quot;, &quot;HULL&quot;, … &quot;HU6 8ND&quot;]</td><td>4</td><td>&quot;HULL&quot;</td></tr><tr><td>13375</td><td>&quot;3 St. Andrews Court,\n",
       "Hull,\n",
       "United Kingdom,\n",
       "Hu4 7Be&quot;</td><td>4900</td><td>&quot;3 ST. ANDREWS COURT,\n",
       "HULL,\n",
       "UNITED KINGDOM,\n",
       "HU4 7BE&quot;</td><td>[&quot;3 ST. ANDREWS COURT&quot;, &quot;HULL&quot;, … &quot;HU4 7BE&quot;]</td><td>4</td><td>&quot;HULL&quot;</td></tr><tr><td>13504</td><td>&quot;8 Elveley Drive,\n",
       "West Ella,\n",
       "Hull,\n",
       "England,\n",
       "Hu10 7Ru&quot;</td><td>5800</td><td>&quot;8 ELVELEY DRIVE,\n",
       "WEST ELLA,\n",
       "HULL,\n",
       "ENGLAND,\n",
       "HU10 7RU&quot;</td><td>[&quot;8 ELVELEY DRIVE&quot;, &quot;WEST ELLA&quot;, … &quot;HU10 7RU&quot;]</td><td>5</td><td>&quot;HULL&quot;</td></tr><tr><td>13911</td><td>&quot;9 AIRMYN AVENUE,\n",
       "HULL,\n",
       "ENGLAND,\n",
       "HU3 6UD&quot;</td><td>3700</td><td>&quot;9 AIRMYN AVENUE,\n",
       "HULL,\n",
       "ENGLAND,\n",
       "HU3 6UD&quot;</td><td>[&quot;9 AIRMYN AVENUE&quot;, &quot;HULL&quot;, … &quot;HU3 6UD&quot;]</td><td>4</td><td>&quot;HULL&quot;</td></tr><tr><td>14005</td><td>&quot;30 BENTLEY GROVE,\n",
       "HULL,\n",
       "ENGLAND,\n",
       "HU6 8NP&quot;</td><td>8700</td><td>&quot;30 BENTLEY GROVE,\n",
       "HULL,\n",
       "ENGLAND,\n",
       "HU6 8NP&quot;</td><td>[&quot;30 BENTLEY GROVE&quot;, &quot;HULL&quot;, … &quot;HU6 8NP&quot;]</td><td>4</td><td>&quot;HULL&quot;</td></tr><tr><td>14034</td><td>&quot;UNIT F SCHOOL LANE,\n",
       "KINGSWOOD,\n",
       "HULL,\n",
       "UNITED KINGDOM,\n",
       "HU7 3JQ&quot;</td><td>2400</td><td>&quot;UNIT F SCHOOL LANE,\n",
       "KINGSWOOD,\n",
       "HULL,\n",
       "UNITED KINGDOM,\n",
       "HU7 3JQ&quot;</td><td>[&quot;UNIT F SCHOOL LANE&quot;, &quot;KINGSWOOD&quot;, … &quot;HU7 3JQ&quot;]</td><td>5</td><td>&quot;HULL&quot;</td></tr><tr><td>14577</td><td>&quot;167 WATERLOO STREET,\n",
       "HULL,\n",
       "EAST YORKSHIRE,\n",
       "HU2 9LG&quot;</td><td>4600</td><td>&quot;167 WATERLOO STREET,\n",
       "HULL,\n",
       "EAST YORKSHIRE,\n",
       "HU2 9LG&quot;</td><td>[&quot;167 WATERLOO STREET&quot;, &quot;HULL&quot;, … &quot;HU2 9LG&quot;]</td><td>4</td><td>&quot;HULL&quot;</td></tr><tr><td>14927</td><td>&quot;APARTMENT 2,\n",
       "467 PRIORY ROAD,\n",
       "HULL,\n",
       "ENGLAND,\n",
       "HU5 5RG&quot;</td><td>5700</td><td>&quot;APARTMENT 2,\n",
       "467 PRIORY ROAD,\n",
       "HULL,\n",
       "ENGLAND,\n",
       "HU5 5RG&quot;</td><td>[&quot;APARTMENT 2&quot;, &quot;467 PRIORY ROAD&quot;, … &quot;HU5 5RG&quot;]</td><td>5</td><td>&quot;HULL&quot;</td></tr><tr><td>15092</td><td>&quot;BLACK FIVE WORKS,\n",
       "RAVEN STREET,\n",
       "HULL,\n",
       "EAST YORKSHIRE,\n",
       "HU9 1PP&quot;</td><td>4100</td><td>&quot;BLACK FIVE WORKS,\n",
       "RAVEN STREET,\n",
       "HULL,\n",
       "EAST YORKSHIRE,\n",
       "HU9 1PP&quot;</td><td>[&quot;BLACK FIVE WORKS&quot;, &quot;RAVEN STREET&quot;, … &quot;HU9 1PP&quot;]</td><td>5</td><td>&quot;HULL&quot;</td></tr><tr><td>&hellip;</td><td>&hellip;</td><td>&hellip;</td><td>&hellip;</td><td>&hellip;</td><td>&hellip;</td><td>&hellip;</td></tr><tr><td>82730</td><td>&quot;PO Box OFFICE 8,\n",
       "HULL,\n",
       "HU10 7BY&quot;</td><td>3400</td><td>&quot;PO BOX OFFICE 8,\n",
       "HULL,\n",
       "HU10 7BY&quot;</td><td>[&quot;PO BOX OFFICE 8&quot;, &quot;HULL&quot;, &quot;HU10 7BY&quot;]</td><td>3</td><td>&quot;HULL&quot;</td></tr><tr><td>83184</td><td>&quot;117 COLTMAN STREET,\n",
       "HULL,\n",
       "ENGLAND,\n",
       "HU3 2SF&quot;</td><td>2400</td><td>&quot;117 COLTMAN STREET,\n",
       "HULL,\n",
       "ENGLAND,\n",
       "HU3 2SF&quot;</td><td>[&quot;117 COLTMAN STREET&quot;, &quot;HULL&quot;, … &quot;HU3 2SF&quot;]</td><td>4</td><td>&quot;HULL&quot;</td></tr><tr><td>83415</td><td>&quot;120 HOLDERNESS ROAD,\n",
       "HULL,\n",
       "ENGLAND,\n",
       "HU9 1JP&quot;</td><td>7300</td><td>&quot;120 HOLDERNESS ROAD,\n",
       "HULL,\n",
       "ENGLAND,\n",
       "HU9 1JP&quot;</td><td>[&quot;120 HOLDERNESS ROAD&quot;, &quot;HULL&quot;, … &quot;HU9 1JP&quot;]</td><td>4</td><td>&quot;HULL&quot;</td></tr><tr><td>83447</td><td>&quot;313 HOLDERNESS ROAD,\n",
       "HULL,\n",
       "ENGLAND,\n",
       "HU8 8SH&quot;</td><td>2300</td><td>&quot;313 HOLDERNESS ROAD,\n",
       "HULL,\n",
       "ENGLAND,\n",
       "HU8 8SH&quot;</td><td>[&quot;313 HOLDERNESS ROAD&quot;, &quot;HULL&quot;, … &quot;HU8 8SH&quot;]</td><td>4</td><td>&quot;HULL&quot;</td></tr><tr><td>83449</td><td>&quot;RIVERSIDE HOUSE,\n",
       "11-12 NELSON STREET,\n",
       "HULL,\n",
       "ENGLAND,\n",
       "HU1 1XE&quot;</td><td>6900</td><td>&quot;RIVERSIDE HOUSE,\n",
       "11-12 NELSON STREET,\n",
       "HULL,\n",
       "ENGLAND,\n",
       "HU1 1XE&quot;</td><td>[&quot;RIVERSIDE HOUSE&quot;, &quot;11-12 NELSON STREET&quot;, … &quot;HU1 1XE&quot;]</td><td>5</td><td>&quot;HULL&quot;</td></tr><tr><td>84206</td><td>&quot;32 WEST ELLA WAY,\n",
       "KIRK ELLA,\n",
       "HULL,\n",
       "UNITED KINGDOM,\n",
       "HU10 7LW&quot;</td><td>2500</td><td>&quot;32 WEST ELLA WAY,\n",
       "KIRK ELLA,\n",
       "HULL,\n",
       "UNITED KINGDOM,\n",
       "HU10 7LW&quot;</td><td>[&quot;32 WEST ELLA WAY&quot;, &quot;KIRK ELLA&quot;, … &quot;HU10 7LW&quot;]</td><td>5</td><td>&quot;HULL&quot;</td></tr><tr><td>85187</td><td>&quot;355 GREENWOOD AVENUE,\n",
       "HULL,\n",
       "ENGLAND,\n",
       "HU6 8AL&quot;</td><td>5600</td><td>&quot;355 GREENWOOD AVENUE,\n",
       "HULL,\n",
       "ENGLAND,\n",
       "HU6 8AL&quot;</td><td>[&quot;355 GREENWOOD AVENUE&quot;, &quot;HULL&quot;, … &quot;HU6 8AL&quot;]</td><td>4</td><td>&quot;HULL&quot;</td></tr><tr><td>85418</td><td>&quot;KINGSWOOD HOUSE ASHCOMBE ROAD,\n",
       "KINGSWOOD,\n",
       "HULL,\n",
       "EAST YORKSHIRE,\n",
       "HU7 3DD&quot;</td><td>5500</td><td>&quot;KINGSWOOD HOUSE ASHCOMBE ROAD,\n",
       "KINGSWOOD,\n",
       "HULL,\n",
       "EAST YORKSHIRE,\n",
       "HU7 3DD&quot;</td><td>[&quot;KINGSWOOD HOUSE ASHCOMBE ROAD&quot;, &quot;KINGSWOOD&quot;, … &quot;HU7 3DD&quot;]</td><td>5</td><td>&quot;HULL&quot;</td></tr><tr><td>85616</td><td>&quot;18 Langley Park,\n",
       "Kingswood,\n",
       "Hull,\n",
       "North Humberside,\n",
       "United Kingdom,\n",
       "Hu7 3En&quot;</td><td>4800</td><td>&quot;18 LANGLEY PARK,\n",
       "KINGSWOOD,\n",
       "HULL,\n",
       "NORTH HUMBERSIDE,\n",
       "UNITED KINGDOM,\n",
       "HU7 3EN&quot;</td><td>[&quot;18 LANGLEY PARK&quot;, &quot;KINGSWOOD&quot;, … &quot;HU7 3EN&quot;]</td><td>6</td><td>&quot;HULL&quot;</td></tr><tr><td>86012</td><td>&quot;3 The Fairway,\n",
       "West Ella,\n",
       "Hull,\n",
       "North Humberside,\n",
       "United Kingdom,\n",
       "Hu10 7Sa&quot;</td><td>5400</td><td>&quot;3 THE FAIRWAY,\n",
       "WEST ELLA,\n",
       "HULL,\n",
       "NORTH HUMBERSIDE,\n",
       "UNITED KINGDOM,\n",
       "HU10 7SA&quot;</td><td>[&quot;3 THE FAIRWAY&quot;, &quot;WEST ELLA&quot;, … &quot;HU10 7SA&quot;]</td><td>6</td><td>&quot;HULL&quot;</td></tr><tr><td>86271</td><td>&quot;THE EDGE HUB,\n",
       "MYTON STREET,\n",
       "HULL,\n",
       "EAST YORKSHIRE,\n",
       "ENGLAND,\n",
       "HU1 2PS&quot;</td><td>5700</td><td>&quot;THE EDGE HUB,\n",
       "MYTON STREET,\n",
       "HULL,\n",
       "EAST YORKSHIRE,\n",
       "ENGLAND,\n",
       "HU1 2PS&quot;</td><td>[&quot;THE EDGE HUB&quot;, &quot;MYTON STREET&quot;, … &quot;HU1 2PS&quot;]</td><td>6</td><td>&quot;HULL&quot;</td></tr><tr><td>86306</td><td>&quot;Unit G7, The Bloc Springfield Way,\n",
       "Anlaby,\n",
       "Hull,\n",
       "England,\n",
       "Hu10 6Rj&quot;</td><td>7300</td><td>&quot;UNIT G7, THE BLOC SPRINGFIELD WAY,\n",
       "ANLABY,\n",
       "HULL,\n",
       "ENGLAND,\n",
       "HU10 6RJ&quot;</td><td>[&quot;UNIT G7, THE BLOC SPRINGFIELD WAY&quot;, &quot;ANLABY&quot;, … &quot;HU10 6RJ&quot;]</td><td>5</td><td>&quot;HULL&quot;</td></tr><tr><td>86534</td><td>&quot;61 MORPETH STREET,\n",
       "HULL,\n",
       "ENGLAND,\n",
       "HU3 1RF&quot;</td><td>4200</td><td>&quot;61 MORPETH STREET,\n",
       "HULL,\n",
       "ENGLAND,\n",
       "HU3 1RF&quot;</td><td>[&quot;61 MORPETH STREET&quot;, &quot;HULL&quot;, … &quot;HU3 1RF&quot;]</td><td>4</td><td>&quot;HULL&quot;</td></tr><tr><td>86748</td><td>&quot;1 PARLIAMENT STREET,\n",
       "HULL,\n",
       "EAST YORKSHIRE,\n",
       "UNITED KINGDOM,\n",
       "HU1 2AS&quot;</td><td>5700</td><td>&quot;1 PARLIAMENT STREET,\n",
       "HULL,\n",
       "EAST YORKSHIRE,\n",
       "UNITED KINGDOM,\n",
       "HU1 2AS&quot;</td><td>[&quot;1 PARLIAMENT STREET&quot;, &quot;HULL&quot;, … &quot;HU1 2AS&quot;]</td><td>5</td><td>&quot;HULL&quot;</td></tr><tr><td>87116</td><td>&quot;44 NEW ROAD,\n",
       "HEDON,\n",
       "HULL,\n",
       "ENGLAND,\n",
       "HU12 8BS&quot;</td><td>3300</td><td>&quot;44 NEW ROAD,\n",
       "HEDON,\n",
       "HULL,\n",
       "ENGLAND,\n",
       "HU12 8BS&quot;</td><td>[&quot;44 NEW ROAD&quot;, &quot;HEDON&quot;, … &quot;HU12 8BS&quot;]</td><td>5</td><td>&quot;HULL&quot;</td></tr><tr><td>87179</td><td>&quot;141 SOUTHCOATES AVENUE,\n",
       "HULL,\n",
       "ENGLAND,\n",
       "HU9 3HF&quot;</td><td>4000</td><td>&quot;141 SOUTHCOATES AVENUE,\n",
       "HULL,\n",
       "ENGLAND,\n",
       "HU9 3HF&quot;</td><td>[&quot;141 SOUTHCOATES AVENUE&quot;, &quot;HULL&quot;, … &quot;HU9 3HF&quot;]</td><td>4</td><td>&quot;HULL&quot;</td></tr><tr><td>87224</td><td>&quot;169 Newland Avenue,\n",
       "Hull,\n",
       "North Humberside,\n",
       "Hu5&quot;</td><td>5100</td><td>&quot;169 NEWLAND AVENUE,\n",
       "HULL,\n",
       "NORTH HUMBERSIDE,\n",
       "HU5&quot;</td><td>[&quot;169 NEWLAND AVENUE&quot;, &quot;HULL&quot;, … &quot;HU5&quot;]</td><td>4</td><td>&quot;HULL&quot;</td></tr><tr><td>87369</td><td>&quot;2 THE PINES,\n",
       "KINGSWOOD,\n",
       "HULL,\n",
       "ENGLAND,\n",
       "HU7 3GT&quot;</td><td>1100</td><td>&quot;2 THE PINES,\n",
       "KINGSWOOD,\n",
       "HULL,\n",
       "ENGLAND,\n",
       "HU7 3GT&quot;</td><td>[&quot;2 THE PINES&quot;, &quot;KINGSWOOD&quot;, … &quot;HU7 3GT&quot;]</td><td>5</td><td>&quot;HULL&quot;</td></tr><tr><td>87642</td><td>&quot;45 LINCOLN STREET,\n",
       "HULL,\n",
       "EAST YORKSHIRE,\n",
       "ENGLAND,\n",
       "HU2 0BP&quot;</td><td>6100</td><td>&quot;45 LINCOLN STREET,\n",
       "HULL,\n",
       "EAST YORKSHIRE,\n",
       "ENGLAND,\n",
       "HU2 0BP&quot;</td><td>[&quot;45 LINCOLN STREET&quot;, &quot;HULL&quot;, … &quot;HU2 0BP&quot;]</td><td>5</td><td>&quot;HULL&quot;</td></tr><tr><td>88067</td><td>&quot;22 GOTHENBURG WAY,\n",
       "HULL,\n",
       "ENGLAND,\n",
       "HU7 0YG&quot;</td><td>3500</td><td>&quot;22 GOTHENBURG WAY,\n",
       "HULL,\n",
       "ENGLAND,\n",
       "HU7 0YG&quot;</td><td>[&quot;22 GOTHENBURG WAY&quot;, &quot;HULL&quot;, … &quot;HU7 0YG&quot;]</td><td>4</td><td>&quot;HULL&quot;</td></tr><tr><td>88599</td><td>&quot;7 STRATFORD WALK,\n",
       "STRATFORD WALK,\n",
       "HULL,\n",
       "ENGLAND,\n",
       "HU9 5ES&quot;</td><td>4400</td><td>&quot;7 STRATFORD WALK,\n",
       "STRATFORD WALK,\n",
       "HULL,\n",
       "ENGLAND,\n",
       "HU9 5ES&quot;</td><td>[&quot;7 STRATFORD WALK&quot;, &quot;STRATFORD WALK&quot;, … &quot;HU9 5ES&quot;]</td><td>5</td><td>&quot;HULL&quot;</td></tr><tr><td>88812</td><td>&quot;THE OLD VICARAGE 8 CHURCH LANE,\n",
       "KIRKELLA,\n",
       "HULL,\n",
       "EAST YORKSHIRE,\n",
       "UNITED KINGDOM,\n",
       "HU10 7TG&quot;</td><td>7300</td><td>&quot;THE OLD VICARAGE 8 CHURCH LANE,\n",
       "KIRKELLA,\n",
       "HULL,\n",
       "EAST YORKSHIRE,\n",
       "UNITED KINGDOM,\n",
       "HU10 7TG&quot;</td><td>[&quot;THE OLD VICARAGE 8 CHURCH LANE&quot;, &quot;KIRKELLA&quot;, … &quot;HU10 7TG&quot;]</td><td>6</td><td>&quot;HULL&quot;</td></tr><tr><td>88913</td><td>&quot;NORTH EAST CORNER,\n",
       "ST ANDREWS DOCK,\n",
       "HULL,\n",
       "HU3 4SG&quot;</td><td>5600</td><td>&quot;NORTH EAST CORNER,\n",
       "ST ANDREWS DOCK,\n",
       "HULL,\n",
       "HU3 4SG&quot;</td><td>[&quot;NORTH EAST CORNER&quot;, &quot;ST ANDREWS DOCK&quot;, … &quot;HU3 4SG&quot;]</td><td>4</td><td>&quot;HULL&quot;</td></tr><tr><td>89470</td><td>&quot;UNIT 6, CENTRAL PARK,\n",
       "CORNWALL STREET,\n",
       "HULL,\n",
       "ENGLAND,\n",
       "HU8 8AF&quot;</td><td>6300</td><td>&quot;UNIT 6, CENTRAL PARK,\n",
       "CORNWALL STREET,\n",
       "HULL,\n",
       "ENGLAND,\n",
       "HU8 8AF&quot;</td><td>[&quot;UNIT 6, CENTRAL PARK&quot;, &quot;CORNWALL STREET&quot;, … &quot;HU8 8AF&quot;]</td><td>5</td><td>&quot;HULL&quot;</td></tr><tr><td>89510</td><td>&quot;40 BISLEY GROVE,\n",
       "BRANSHOLME,\n",
       "HULL,\n",
       "ENGLAND,\n",
       "HU7 4PZ&quot;</td><td>4600</td><td>&quot;40 BISLEY GROVE,\n",
       "BRANSHOLME,\n",
       "HULL,\n",
       "ENGLAND,\n",
       "HU7 4PZ&quot;</td><td>[&quot;40 BISLEY GROVE&quot;, &quot;BRANSHOLME&quot;, … &quot;HU7 4PZ&quot;]</td><td>5</td><td>&quot;HULL&quot;</td></tr><tr><td>89959</td><td>&quot;15 BLANKET ROW,\n",
       "HULL,\n",
       "ENGLAND,\n",
       "HU1 1AX&quot;</td><td>5000</td><td>&quot;15 BLANKET ROW,\n",
       "HULL,\n",
       "ENGLAND,\n",
       "HU1 1AX&quot;</td><td>[&quot;15 BLANKET ROW&quot;, &quot;HULL&quot;, … &quot;HU1 1AX&quot;]</td><td>4</td><td>&quot;HULL&quot;</td></tr><tr><td>90320</td><td>&quot;HULL SPORTS CENTRE,\n",
       "CHANTERLANDS AVENUE,\n",
       "HULL,\n",
       "EAST YORKSHIRE,\n",
       "ENGLAND,\n",
       "HU5 4EF&quot;</td><td>5500</td><td>&quot;HULL SPORTS CENTRE,\n",
       "CHANTERLANDS AVENUE,\n",
       "HULL,\n",
       "EAST YORKSHIRE,\n",
       "ENGLAND,\n",
       "HU5 4EF&quot;</td><td>[&quot;HULL SPORTS CENTRE&quot;, &quot;CHANTERLANDS AVENUE&quot;, … &quot;HU5 4EF&quot;]</td><td>6</td><td>&quot;HULL&quot;</td></tr><tr><td>90854</td><td>&quot;South View House 16 Church Street,\n",
       "South Cave,\n",
       "Brough,\n",
       "Hull,\n",
       "England,\n",
       "Hu15 2Eh&quot;</td><td>4400</td><td>&quot;SOUTH VIEW HOUSE 16 CHURCH STREET,\n",
       "SOUTH CAVE,\n",
       "BROUGH,\n",
       "HULL,\n",
       "ENGLAND,\n",
       "HU15 2EH&quot;</td><td>[&quot;SOUTH VIEW HOUSE 16 CHURCH STREET&quot;, &quot;SOUTH CAVE&quot;, … &quot;HU15 2EH&quot;]</td><td>6</td><td>&quot;HULL&quot;</td></tr><tr><td>91948</td><td>&quot;1B Ferries Street,\n",
       "Hull,\n",
       "England,\n",
       "Hu9 1Rl&quot;</td><td>2500</td><td>&quot;1B FERRIES STREET,\n",
       "HULL,\n",
       "ENGLAND,\n",
       "HU9 1RL&quot;</td><td>[&quot;1B FERRIES STREET&quot;, &quot;HULL&quot;, … &quot;HU9 1RL&quot;]</td><td>4</td><td>&quot;HULL&quot;</td></tr><tr><td>93054</td><td>&quot;68 PARAGON STREET,\n",
       "HULL,\n",
       "HU1 3PW&quot;</td><td>2000</td><td>&quot;68 PARAGON STREET,\n",
       "HULL,\n",
       "HU1 3PW&quot;</td><td>[&quot;68 PARAGON STREET&quot;, &quot;HULL&quot;, &quot;HU1 3PW&quot;]</td><td>3</td><td>&quot;HULL&quot;</td></tr><tr><td>93112</td><td>&quot;8 ANLABY ROAD,\n",
       "HULL,\n",
       "ENGLAND,\n",
       "HU3 6QG&quot;</td><td>5700</td><td>&quot;8 ANLABY ROAD,\n",
       "HULL,\n",
       "ENGLAND,\n",
       "HU3 6QG&quot;</td><td>[&quot;8 ANLABY ROAD&quot;, &quot;HULL&quot;, … &quot;HU3 6QG&quot;]</td><td>4</td><td>&quot;HULL&quot;</td></tr><tr><td>93469</td><td>&quot;C/O SEWELL GROUP PLC,\n",
       "GENEVA WAY,\n",
       "LEADS ROAD,\n",
       "HULL,\n",
       "HU7 0DG&quot;</td><td>5100</td><td>&quot;C/O SEWELL GROUP PLC,\n",
       "GENEVA WAY,\n",
       "LEADS ROAD,\n",
       "HULL,\n",
       "HU7 0DG&quot;</td><td>[&quot;C/O SEWELL GROUP PLC&quot;, &quot;GENEVA WAY&quot;, … &quot;HU7 0DG&quot;]</td><td>5</td><td>&quot;HULL&quot;</td></tr><tr><td>93723</td><td>&quot;476A BEVERLEY ROAD,\n",
       "HULL,\n",
       "ENGLAND,\n",
       "HU5 1NE&quot;</td><td>6600</td><td>&quot;476A BEVERLEY ROAD,\n",
       "HULL,\n",
       "ENGLAND,\n",
       "HU5 1NE&quot;</td><td>[&quot;476A BEVERLEY ROAD&quot;, &quot;HULL&quot;, … &quot;HU5 1NE&quot;]</td><td>4</td><td>&quot;HULL&quot;</td></tr><tr><td>93880</td><td>&quot;EVERGREEN RISE ROAD,\n",
       "SKIRLAUGH,\n",
       "HULL,\n",
       "E YORKSHIRE,\n",
       "HU11 5BH&quot;</td><td>4000</td><td>&quot;EVERGREEN RISE ROAD,\n",
       "SKIRLAUGH,\n",
       "HULL,\n",
       "E YORKSHIRE,\n",
       "HU11 5BH&quot;</td><td>[&quot;EVERGREEN RISE ROAD&quot;, &quot;SKIRLAUGH&quot;, … &quot;HU11 5BH&quot;]</td><td>5</td><td>&quot;HULL&quot;</td></tr><tr><td>94429</td><td>&quot;CHURCHILL HOUSE,\n",
       "CHURCHILL STREET,\n",
       "HULL,\n",
       "EAST YORKSHIRE,\n",
       "HU9 1RR&quot;</td><td>6200</td><td>&quot;CHURCHILL HOUSE,\n",
       "CHURCHILL STREET,\n",
       "HULL,\n",
       "EAST YORKSHIRE,\n",
       "HU9 1RR&quot;</td><td>[&quot;CHURCHILL HOUSE&quot;, &quot;CHURCHILL STREET&quot;, … &quot;HU9 1RR&quot;]</td><td>5</td><td>&quot;HULL&quot;</td></tr><tr><td>94796</td><td>&quot;Kidsons Impey,\n",
       "Dunedin House 45 Percy Street,\n",
       "Hull,\n",
       "East Yorkshire,\n",
       "Hu2 8Hl&quot;</td><td>4800</td><td>&quot;KIDSONS IMPEY,\n",
       "DUNEDIN HOUSE 45 PERCY STREET,\n",
       "HULL,\n",
       "EAST YORKSHIRE,\n",
       "HU2 8HL&quot;</td><td>[&quot;KIDSONS IMPEY&quot;, &quot;DUNEDIN HOUSE 45 PERCY STREET&quot;, … &quot;HU2 8HL&quot;]</td><td>5</td><td>&quot;HULL&quot;</td></tr><tr><td>95509</td><td>&quot;295 WILLERBY ROAD,\n",
       "HULL,\n",
       "EAST YORKSHIRE,\n",
       "ENGLAND,\n",
       "HU5 5HP&quot;</td><td>3300</td><td>&quot;295 WILLERBY ROAD,\n",
       "HULL,\n",
       "EAST YORKSHIRE,\n",
       "ENGLAND,\n",
       "HU5 5HP&quot;</td><td>[&quot;295 WILLERBY ROAD&quot;, &quot;HULL&quot;, … &quot;HU5 5HP&quot;]</td><td>5</td><td>&quot;HULL&quot;</td></tr><tr><td>96070</td><td>&quot;121 WEST GROVE,\n",
       "LAKESIDE,\n",
       "HULL,\n",
       "UNITED KINGDOM,\n",
       "HU4 6RH&quot;</td><td>4100</td><td>&quot;121 WEST GROVE,\n",
       "LAKESIDE,\n",
       "HULL,\n",
       "UNITED KINGDOM,\n",
       "HU4 6RH&quot;</td><td>[&quot;121 WEST GROVE&quot;, &quot;LAKESIDE&quot;, … &quot;HU4 6RH&quot;]</td><td>5</td><td>&quot;HULL&quot;</td></tr><tr><td>96934</td><td>&quot;ONE HUMBER QUAYS,\n",
       "WELLINGTON STREET WEST,\n",
       "HULL,\n",
       "EAST YORKSHIRE,\n",
       "HU1 2BN&quot;</td><td>7400</td><td>&quot;ONE HUMBER QUAYS,\n",
       "WELLINGTON STREET WEST,\n",
       "HULL,\n",
       "EAST YORKSHIRE,\n",
       "HU1 2BN&quot;</td><td>[&quot;ONE HUMBER QUAYS&quot;, &quot;WELLINGTON STREET WEST&quot;, … &quot;HU1 2BN&quot;]</td><td>5</td><td>&quot;HULL&quot;</td></tr><tr><td>96938</td><td>&quot;OAKLEIGH GRANGE FARM MEWS,\n",
       "WILLERBY,\n",
       "HULL,\n",
       "ENGLAND,\n",
       "HU10 6DY&quot;</td><td>5700</td><td>&quot;OAKLEIGH GRANGE FARM MEWS,\n",
       "WILLERBY,\n",
       "HULL,\n",
       "ENGLAND,\n",
       "HU10 6DY&quot;</td><td>[&quot;OAKLEIGH GRANGE FARM MEWS&quot;, &quot;WILLERBY&quot;, … &quot;HU10 6DY&quot;]</td><td>5</td><td>&quot;HULL&quot;</td></tr><tr><td>96969</td><td>&quot;11 SAVILLE STREET,\n",
       "HULL,\n",
       "UNITED KINGDOM,\n",
       "HU1 3EF&quot;</td><td>4700</td><td>&quot;11 SAVILLE STREET,\n",
       "HULL,\n",
       "UNITED KINGDOM,\n",
       "HU1 3EF&quot;</td><td>[&quot;11 SAVILLE STREET&quot;, &quot;HULL&quot;, … &quot;HU1 3EF&quot;]</td><td>4</td><td>&quot;HULL&quot;</td></tr><tr><td>97106</td><td>&quot;138 SUMMERGANGS ROAD,\n",
       "HULL,\n",
       "ENGLAND,\n",
       "HU8 8LN&quot;</td><td>5600</td><td>&quot;138 SUMMERGANGS ROAD,\n",
       "HULL,\n",
       "ENGLAND,\n",
       "HU8 8LN&quot;</td><td>[&quot;138 SUMMERGANGS ROAD&quot;, &quot;HULL&quot;, … &quot;HU8 8LN&quot;]</td><td>4</td><td>&quot;HULL&quot;</td></tr><tr><td>97481</td><td>&quot;173 WINGFIELD ROAD,\n",
       "HULL,\n",
       "ENGLAND,\n",
       "HU9 4QE&quot;</td><td>5200</td><td>&quot;173 WINGFIELD ROAD,\n",
       "HULL,\n",
       "ENGLAND,\n",
       "HU9 4QE&quot;</td><td>[&quot;173 WINGFIELD ROAD&quot;, &quot;HULL&quot;, … &quot;HU9 4QE&quot;]</td><td>4</td><td>&quot;HULL&quot;</td></tr><tr><td>98002</td><td>&quot;388 MAIN ROAD,\n",
       "HULL,\n",
       "ENGLAND,\n",
       "HU11 4DB&quot;</td><td>4100</td><td>&quot;388 MAIN ROAD,\n",
       "HULL,\n",
       "ENGLAND,\n",
       "HU11 4DB&quot;</td><td>[&quot;388 MAIN ROAD&quot;, &quot;HULL&quot;, … &quot;HU11 4DB&quot;]</td><td>4</td><td>&quot;HULL&quot;</td></tr><tr><td>98287</td><td>&quot;21 JAMESON STREET,\n",
       "HULL,\n",
       "UNITED KINGDOM,\n",
       "HU1 3HR&quot;</td><td>5500</td><td>&quot;21 JAMESON STREET,\n",
       "HULL,\n",
       "UNITED KINGDOM,\n",
       "HU1 3HR&quot;</td><td>[&quot;21 JAMESON STREET&quot;, &quot;HULL&quot;, … &quot;HU1 3HR&quot;]</td><td>4</td><td>&quot;HULL&quot;</td></tr><tr><td>98480</td><td>&quot;31-38 QUEEN STREET,\n",
       "HULL,\n",
       "ENGLAND,\n",
       "HU1 1UU&quot;</td><td>4500</td><td>&quot;31-38 QUEEN STREET,\n",
       "HULL,\n",
       "ENGLAND,\n",
       "HU1 1UU&quot;</td><td>[&quot;31-38 QUEEN STREET&quot;, &quot;HULL&quot;, … &quot;HU1 1UU&quot;]</td><td>4</td><td>&quot;HULL&quot;</td></tr><tr><td>98887</td><td>&quot;13 SALMON GROVE,\n",
       "HULL,\n",
       "EAST YORKSHIRE,\n",
       "ENGLAND,\n",
       "HU6 7SX&quot;</td><td>5000</td><td>&quot;13 SALMON GROVE,\n",
       "HULL,\n",
       "EAST YORKSHIRE,\n",
       "ENGLAND,\n",
       "HU6 7SX&quot;</td><td>[&quot;13 SALMON GROVE&quot;, &quot;HULL&quot;, … &quot;HU6 7SX&quot;]</td><td>5</td><td>&quot;HULL&quot;</td></tr><tr><td>99197</td><td>&quot;22 19TH AVENUE,\n",
       "HULL,\n",
       "ENGLAND,\n",
       "HU6 8HF&quot;</td><td>5900</td><td>&quot;22 19TH AVENUE,\n",
       "HULL,\n",
       "ENGLAND,\n",
       "HU6 8HF&quot;</td><td>[&quot;22 19TH AVENUE&quot;, &quot;HULL&quot;, … &quot;HU6 8HF&quot;]</td><td>4</td><td>&quot;HULL&quot;</td></tr><tr><td>99435</td><td>&quot;F14 THE BLOC SPRINGFIELD WAY,\n",
       "ANLABY,\n",
       "HULL,\n",
       "EAST YORKSHIRE,\n",
       "ENGLAND,\n",
       "HU10 6RJ&quot;</td><td>3100</td><td>&quot;F14 THE BLOC SPRINGFIELD WAY,\n",
       "ANLABY,\n",
       "HULL,\n",
       "EAST YORKSHIRE,\n",
       "ENGLAND,\n",
       "HU10 6RJ&quot;</td><td>[&quot;F14 THE BLOC SPRINGFIELD WAY&quot;, &quot;ANLABY&quot;, … &quot;HU10 6RJ&quot;]</td><td>6</td><td>&quot;HULL&quot;</td></tr><tr><td>99660</td><td>&quot;273 ANLABY ROAD,\n",
       "HULL,\n",
       "EAST RIDING OF YORKSHIRE,\n",
       "UNITED KINGDOM,\n",
       "HU3 2SE&quot;</td><td>6400</td><td>&quot;273 ANLABY ROAD,\n",
       "HULL,\n",
       "EAST RIDING OF YORKSHIRE,\n",
       "UNITED KINGDOM,\n",
       "HU3 2SE&quot;</td><td>[&quot;273 ANLABY ROAD&quot;, &quot;HULL&quot;, … &quot;HU3 2SE&quot;]</td><td>5</td><td>&quot;HULL&quot;</td></tr></tbody></table></div>"
      ],
      "text/plain": [
       "shape: (284, 7)\n",
       "┌────────────┬────────────────┬─────────────┬───────────────┬───────────────┬───────────────┬──────┐\n",
       "│ company_id ┆ address        ┆ total_spend ┆ address_clean ┆ address_split ┆ address_lines ┆ city │\n",
       "│ ---        ┆ ---            ┆ ---         ┆ ---           ┆ ---           ┆ ---           ┆ ---  │\n",
       "│ i64        ┆ str            ┆ i64         ┆ str           ┆ list[str]     ┆ u32           ┆ str  │\n",
       "╞════════════╪════════════════╪═════════════╪═══════════════╪═══════════════╪═══════════════╪══════╡\n",
       "│ 456        ┆ 349 BEVERLEY   ┆ 3800        ┆ 349 BEVERLEY  ┆ [\"349         ┆ 5             ┆ HULL │\n",
       "│            ┆ ROAD,          ┆             ┆ ROAD,         ┆ BEVERLEY      ┆               ┆      │\n",
       "│            ┆ ANLABY,        ┆             ┆ ANLABY,       ┆ ROAD\",        ┆               ┆      │\n",
       "│            ┆ HULL,          ┆             ┆ HULL,         ┆ \"ANLABY\", …   ┆               ┆      │\n",
       "│            ┆ ENGLAND,       ┆             ┆ ENGLAND,      ┆ \"HU10 7BQ\"]   ┆               ┆      │\n",
       "│            ┆ HU10 7BQ       ┆             ┆ HU10 7BQ      ┆               ┆               ┆      │\n",
       "│ 1140       ┆ 90 CALVERT     ┆ 6000        ┆ 90 CALVERT    ┆ [\"90 CALVERT  ┆ 4             ┆ HULL │\n",
       "│            ┆ LANE,          ┆             ┆ LANE,         ┆ LANE\",        ┆               ┆      │\n",
       "│            ┆ HULL,          ┆             ┆ HULL,         ┆ \"HULL\", …     ┆               ┆      │\n",
       "│            ┆ ENGLAND,       ┆             ┆ ENGLAND,      ┆ \"HU4 6BJ\"]    ┆               ┆      │\n",
       "│            ┆ HU4 6BJ        ┆             ┆ HU4 6BJ       ┆               ┆               ┆      │\n",
       "│ 1823       ┆ ACER GLADE     ┆ 4600        ┆ ACER GLADE    ┆ [\"ACER GLADE  ┆ 5             ┆ HULL │\n",
       "│            ┆ BLACK TUP      ┆             ┆ BLACK TUP     ┆ BLACK TUP     ┆               ┆      │\n",
       "│            ┆ LANE,          ┆             ┆ LANE,         ┆ LANE\",        ┆               ┆      │\n",
       "│            ┆ ARNOLD,        ┆             ┆ ARNOLD,       ┆ \"ARNOLD\", …   ┆               ┆      │\n",
       "│            ┆ HULL,          ┆             ┆ HULL,         ┆ \"HU11 5JA\"]   ┆               ┆      │\n",
       "│            ┆ ENGLAND,       ┆             ┆ ENGLAND,      ┆               ┆               ┆      │\n",
       "│            ┆ HU11 5JA       ┆             ┆ HU11 5JA      ┆               ┆               ┆      │\n",
       "│ 1832       ┆ 10 GORDON      ┆ 5300        ┆ 10 GORDON     ┆ [\"10 GORDON   ┆ 4             ┆ HULL │\n",
       "│            ┆ STREET,        ┆             ┆ STREET,       ┆ STREET\",      ┆               ┆      │\n",
       "│            ┆ HULL,          ┆             ┆ HULL,         ┆ \"HULL\", …     ┆               ┆      │\n",
       "│            ┆ ENGLAND,       ┆             ┆ ENGLAND,      ┆ \"HU3 3HN\"]    ┆               ┆      │\n",
       "│            ┆ HU3 3HN        ┆             ┆ HU3 3HN       ┆               ┆               ┆      │\n",
       "│ 1922       ┆ 70 WRIGHT      ┆ 6100        ┆ 70 WRIGHT     ┆ [\"70 WRIGHT   ┆ 4             ┆ HULL │\n",
       "│            ┆ STREET,        ┆             ┆ STREET,       ┆ STREET\",      ┆               ┆      │\n",
       "│            ┆ HULL,          ┆             ┆ HULL,         ┆ \"HULL\", …     ┆               ┆      │\n",
       "│            ┆ ENGLAND,       ┆             ┆ ENGLAND,      ┆ \"HU2 8JD\"]    ┆               ┆      │\n",
       "│            ┆ HU2 8JD        ┆             ┆ HU2 8JD       ┆               ┆               ┆      │\n",
       "│ 2138       ┆ 32 KING EDWARD ┆ 7300        ┆ 32 KING       ┆ [\"32 KING     ┆ 4             ┆ HULL │\n",
       "│            ┆ STREET,        ┆             ┆ EDWARD        ┆ EDWARD        ┆               ┆      │\n",
       "│            ┆ HULL,          ┆             ┆ STREET,       ┆ STREET\",      ┆               ┆      │\n",
       "│            ┆ ENGLAND,       ┆             ┆ HULL,         ┆ \"HULL\", …     ┆               ┆      │\n",
       "│            ┆ HU1 3SS        ┆             ┆ ENGLAND,      ┆ \"HU1 3SS\"]    ┆               ┆      │\n",
       "│            ┆                ┆             ┆ HU1 3SS       ┆               ┆               ┆      │\n",
       "│ 2345       ┆ Riverside      ┆ 1700        ┆ RIVERSIDE     ┆ [\"RIVERSIDE   ┆ 5             ┆ HULL │\n",
       "│            ┆ House,         ┆             ┆ HOUSE,        ┆ HOUSE\",       ┆               ┆      │\n",
       "│            ┆ 11-12 Nelson   ┆             ┆ 11-12 NELSON  ┆ \"11-12 NELSON ┆               ┆      │\n",
       "│            ┆ Street,        ┆             ┆ STREET,       ┆ STREET\", …    ┆               ┆      │\n",
       "│            ┆ Hull,          ┆             ┆ HULL,         ┆ \"HU1 1XE\"]    ┆               ┆      │\n",
       "│            ┆ England,       ┆             ┆ ENGLAND,      ┆               ┆               ┆      │\n",
       "│            ┆ Hu1 1Xe        ┆             ┆ HU1 1XE       ┆               ┆               ┆      │\n",
       "│ 2349       ┆ 5 MARITIME     ┆ 6000        ┆ 5 MARITIME    ┆ [\"5 MARITIME  ┆ 6             ┆ HULL │\n",
       "│            ┆ HOUSE MARITIME ┆             ┆ HOUSE         ┆ HOUSE         ┆               ┆      │\n",
       "│            ┆ BUSINESS PARK, ┆             ┆ MARITIME      ┆ MARITIME      ┆               ┆      │\n",
       "│            ┆ LIVINGSTON     ┆             ┆ BUSINESS      ┆ BUSINESS      ┆               ┆      │\n",
       "│            ┆ ROAD,          ┆             ┆ PARK,         ┆ PARK\",        ┆               ┆      │\n",
       "│            ┆ HESSLE,        ┆             ┆ LIVINGSTON    ┆ \"LIVINGSTON   ┆               ┆      │\n",
       "│            ┆ HULL,          ┆             ┆ ROAD,         ┆ ROAD\", …      ┆               ┆      │\n",
       "│            ┆ ENGLAND,       ┆             ┆ HESSLE,       ┆ \"HU13 0EG\"]   ┆               ┆      │\n",
       "│            ┆ HU13 0EG       ┆             ┆ HULL,         ┆               ┆               ┆      │\n",
       "│            ┆                ┆             ┆ ENGLAND,      ┆               ┆               ┆      │\n",
       "│            ┆                ┆             ┆ HU13 0EG      ┆               ┆               ┆      │\n",
       "│ 2892       ┆ 368 STAVELEY   ┆ 1800        ┆ 368 STAVELEY  ┆ [\"368         ┆ 4             ┆ HULL │\n",
       "│            ┆ ROAD,          ┆             ┆ ROAD,         ┆ STAVELEY      ┆               ┆      │\n",
       "│            ┆ HULL,          ┆             ┆ HULL,         ┆ ROAD\",        ┆               ┆      │\n",
       "│            ┆ ENGLAND,       ┆             ┆ ENGLAND,      ┆ \"HULL\", …     ┆               ┆      │\n",
       "│            ┆ HU9 4BY        ┆             ┆ HU9 4BY       ┆ \"HU9 4BY\"]    ┆               ┆      │\n",
       "│ 3309       ┆ UNIT G7 THE    ┆ 7600        ┆ UNIT G7 THE   ┆ [\"UNIT G7 THE ┆ 5             ┆ HULL │\n",
       "│            ┆ BLOC 38        ┆             ┆ BLOC 38       ┆ BLOC 38       ┆               ┆      │\n",
       "│            ┆ SPRINGFIELD    ┆             ┆ SPRINGFIELD   ┆ SPRINGFIELD   ┆               ┆      │\n",
       "│            ┆ WAY,           ┆             ┆ WAY,          ┆ WAY\",         ┆               ┆      │\n",
       "│            ┆ ANLABY,        ┆             ┆ ANLABY,       ┆ \"ANLABY\", …   ┆               ┆      │\n",
       "│            ┆ HULL,          ┆             ┆ HULL,         ┆ \"HU10 6RJ\"]   ┆               ┆      │\n",
       "│            ┆ ENGLAND,       ┆             ┆ ENGLAND,      ┆               ┆               ┆      │\n",
       "│            ┆ HU10 6RJ       ┆             ┆ HU10 6RJ      ┆               ┆               ┆      │\n",
       "│ 3446       ┆ 46 Louis       ┆ 3200        ┆ 46 LOUIS      ┆ [\"46 LOUIS    ┆ 4             ┆ HULL │\n",
       "│            ┆ Street,        ┆             ┆ STREET,       ┆ STREET\",      ┆               ┆      │\n",
       "│            ┆ Hull,          ┆             ┆ HULL,         ┆ \"HULL\", …     ┆               ┆      │\n",
       "│            ┆ England,       ┆             ┆ ENGLAND,      ┆ \"HU3 1LZ\"]    ┆               ┆      │\n",
       "│            ┆ Hu3 1Lz        ┆             ┆ HU3 1LZ       ┆               ┆               ┆      │\n",
       "│ 3474       ┆ 87 SANDFORD    ┆ 3400        ┆ 87 SANDFORD   ┆ [\"87 SANDFORD ┆ 6             ┆ HULL │\n",
       "│            ┆ CLOSE,         ┆             ┆ CLOSE,        ┆ CLOSE\",       ┆               ┆      │\n",
       "│            ┆ BRANSHOLME,    ┆             ┆ BRANSHOLME,   ┆ \"BRANSHOLME\", ┆               ┆      │\n",
       "│            ┆ HULL,          ┆             ┆ HULL,         ┆ … \"HU7 4HJ\"]  ┆               ┆      │\n",
       "│            ┆ NORTH          ┆             ┆ NORTH         ┆               ┆               ┆      │\n",
       "│            ┆ HUMBERSIDE,    ┆             ┆ HUMBERSIDE,   ┆               ┆               ┆      │\n",
       "│            ┆ UNITED         ┆             ┆ UNITED        ┆               ┆               ┆      │\n",
       "│            ┆ KINGDOM,       ┆             ┆ KINGDOM,      ┆               ┆               ┆      │\n",
       "│            ┆ HU7 4HJ        ┆             ┆ HU7 4HJ       ┆               ┆               ┆      │\n",
       "│ 3610       ┆ Mission House, ┆ 4300        ┆ MISSION       ┆ [\"MISSION     ┆ 5             ┆ HULL │\n",
       "│            ┆ 900 Hedon      ┆             ┆ HOUSE,        ┆ HOUSE\", \"900  ┆               ┆      │\n",
       "│            ┆ Road,          ┆             ┆ 900 HEDON     ┆ HEDON ROAD\",  ┆               ┆      │\n",
       "│            ┆ Hull,          ┆             ┆ ROAD,         ┆ … \"HU9 5LZ\"]  ┆               ┆      │\n",
       "│            ┆ East           ┆             ┆ HULL,         ┆               ┆               ┆      │\n",
       "│            ┆ Yorkshire,     ┆             ┆ EAST          ┆               ┆               ┆      │\n",
       "│            ┆ Hu9 5Lz        ┆             ┆ YORKSHIRE,    ┆               ┆               ┆      │\n",
       "│            ┆                ┆             ┆ HU9 5LZ       ┆               ┆               ┆      │\n",
       "│ 3667       ┆ ALDGATE HOUSE, ┆ 6000        ┆ ALDGATE       ┆ [\"ALDGATE     ┆ 5             ┆ HULL │\n",
       "│            ┆ 1-4 MARKET     ┆             ┆ HOUSE,        ┆ HOUSE\", \"1-4  ┆               ┆      │\n",
       "│            ┆ PLACE,         ┆             ┆ 1-4 MARKET    ┆ MARKET        ┆               ┆      │\n",
       "│            ┆ HULL,          ┆             ┆ PLACE,        ┆ PLACE\", …     ┆               ┆      │\n",
       "│            ┆ EAST           ┆             ┆ HULL,         ┆ \"HU1 1RS\"]    ┆               ┆      │\n",
       "│            ┆ YORKSHIRE,     ┆             ┆ EAST          ┆               ┆               ┆      │\n",
       "│            ┆ HU1 1RS        ┆             ┆ YORKSHIRE,    ┆               ┆               ┆      │\n",
       "│            ┆                ┆             ┆ HU1 1RS       ┆               ┆               ┆      │\n",
       "│ 3761       ┆ 32 HULL ROAD,  ┆ 5400        ┆ 32 HULL ROAD, ┆ [\"32 HULL     ┆ 5             ┆ HULL │\n",
       "│            ┆ ANLABY,        ┆             ┆ ANLABY,       ┆ ROAD\",        ┆               ┆      │\n",
       "│            ┆ HULL,          ┆             ┆ HULL,         ┆ \"ANLABY\", …   ┆               ┆      │\n",
       "│            ┆ EAST           ┆             ┆ EAST          ┆ \"HU10 6UA\"]   ┆               ┆      │\n",
       "│            ┆ YORKSHIRE,     ┆             ┆ YORKSHIRE,    ┆               ┆               ┆      │\n",
       "│            ┆ HU10 6UA       ┆             ┆ HU10 6UA      ┆               ┆               ┆      │\n",
       "│ 3898       ┆ 122            ┆ 6000        ┆ 122           ┆ [\"122         ┆ 3             ┆ HULL │\n",
       "│            ┆ CHANTERLANDS   ┆             ┆ CHANTERLANDS  ┆ CHANTERLANDS  ┆               ┆      │\n",
       "│            ┆ AVENUE,        ┆             ┆ AVENUE,       ┆ AVENUE\",      ┆               ┆      │\n",
       "│            ┆ HULL,          ┆             ┆ HULL,         ┆ \"HULL\", \"HU5  ┆               ┆      │\n",
       "│            ┆ HU5 3TS        ┆             ┆ HU5 3TS       ┆ 3TS\"]         ┆               ┆      │\n",
       "│ 4290       ┆ 14 KILCOY      ┆ 5900        ┆ 14 KILCOY     ┆ [\"14 KILCOY   ┆ 4             ┆ HULL │\n",
       "│            ┆ DRIVE,         ┆             ┆ DRIVE,        ┆ DRIVE\",       ┆               ┆      │\n",
       "│            ┆ KINGSWOOD,     ┆             ┆ KINGSWOOD,    ┆ \"KINGSWOOD\",  ┆               ┆      │\n",
       "│            ┆ HULL,          ┆             ┆ HULL,         ┆ … \"HU7 3HJ\"]  ┆               ┆      │\n",
       "│            ┆ HU7 3HJ        ┆             ┆ HU7 3HJ       ┆               ┆               ┆      │\n",
       "│ 4850       ┆ FRANCIS HOUSE  ┆ 5700        ┆ FRANCIS HOUSE ┆ [\"FRANCIS     ┆ 5             ┆ HULL │\n",
       "│            ┆ HUMBER PLACE,  ┆             ┆ HUMBER PLACE, ┆ HOUSE HUMBER  ┆               ┆      │\n",
       "│            ┆ THE MARINA,    ┆             ┆ THE MARINA,   ┆ PLACE\", \"THE  ┆               ┆      │\n",
       "│            ┆ HULL,          ┆             ┆ HULL,         ┆ MARINA\", …    ┆               ┆      │\n",
       "│            ┆ EAST           ┆             ┆ EAST          ┆ \"HU1 1UD\"]    ┆               ┆      │\n",
       "│            ┆ YORKSHIRE,     ┆             ┆ YORKSHIRE,    ┆               ┆               ┆      │\n",
       "│            ┆ HU1 1UD        ┆             ┆ HU1 1UD       ┆               ┆               ┆      │\n",
       "│ 5146       ┆ 21             ┆ 5100        ┆ 21            ┆ [\"21          ┆ 4             ┆ HULL │\n",
       "│            ┆ Willowfield,   ┆             ┆ WILLOWFIELD,  ┆ WILLOWFIELD\", ┆               ┆      │\n",
       "│            ┆ Hull,          ┆             ┆ HULL,         ┆ \"HULL\", …     ┆               ┆      │\n",
       "│            ┆ England,       ┆             ┆ ENGLAND,      ┆ \"HU6 8DZ\"]    ┆               ┆      │\n",
       "│            ┆ Hu6 8Dz        ┆             ┆ HU6 8DZ       ┆               ┆               ┆      │\n",
       "│ 5318       ┆ FOSS HOUSE 2   ┆ 4600        ┆ FOSS HOUSE 2  ┆ [\"FOSS HOUSE  ┆ 5             ┆ HULL │\n",
       "│            ┆ PEARSON WAY,   ┆             ┆ PEARSON WAY,  ┆ 2 PEARSON     ┆               ┆      │\n",
       "│            ┆ CLOUGH ROAD,   ┆             ┆ CLOUGH ROAD,  ┆ WAY\", \"CLOUGH ┆               ┆      │\n",
       "│            ┆ HULL,          ┆             ┆ HULL,         ┆ ROAD\", … \"HU6 ┆               ┆      │\n",
       "│            ┆ EAST           ┆             ┆ EAST          ┆ 7QA\"]         ┆               ┆      │\n",
       "│            ┆ YORKSHIRE,     ┆             ┆ YORKSHIRE,    ┆               ┆               ┆      │\n",
       "│            ┆ HU6 7QA        ┆             ┆ HU6 7QA       ┆               ┆               ┆      │\n",
       "│ 5798       ┆ 37 Gorsedale,  ┆ 4600        ┆ 37 GORSEDALE, ┆ [\"37          ┆ 4             ┆ HULL │\n",
       "│            ┆ Hull,          ┆             ┆ HULL,         ┆ GORSEDALE\",   ┆               ┆      │\n",
       "│            ┆ England,       ┆             ┆ ENGLAND,      ┆ \"HULL\", …     ┆               ┆      │\n",
       "│            ┆ Hu7 4Au        ┆             ┆ HU7 4AU       ┆ \"HU7 4AU\"]    ┆               ┆      │\n",
       "│ 6035       ┆ UNIT 3 COLT    ┆ 2800        ┆ UNIT 3 COLT   ┆ [\"UNIT 3 COLT ┆ 4             ┆ HULL │\n",
       "│            ┆ INDUSTRIAL     ┆             ┆ INDUSTRIAL    ┆ INDUSTRIAL    ┆               ┆      │\n",
       "│            ┆ ESTATE,        ┆             ┆ ESTATE,       ┆ ESTATE\",      ┆               ┆      │\n",
       "│            ┆ SCARBOROUGH    ┆             ┆ SCARBOROUGH   ┆ \"SCARBOROUGH  ┆               ┆      │\n",
       "│            ┆ STREET,        ┆             ┆ STREET,       ┆ STREET\", …    ┆               ┆      │\n",
       "│            ┆ HULL,          ┆             ┆ HULL,         ┆ \"HU3 4TU\"]    ┆               ┆      │\n",
       "│            ┆ HU3 4TU        ┆             ┆ HU3 4TU       ┆               ┆               ┆      │\n",
       "│ 6321       ┆ COMPASS HOUSE, ┆ 6800        ┆ COMPASS       ┆ [\"COMPASS     ┆ 5             ┆ HULL │\n",
       "│            ┆ 17- 19         ┆             ┆ HOUSE,        ┆ HOUSE\", \"17-  ┆               ┆      │\n",
       "│            ┆ EMPRINGHAM     ┆             ┆ 17- 19        ┆ 19 EMPRINGHAM ┆               ┆      │\n",
       "│            ┆ STREET,        ┆             ┆ EMPRINGHAM    ┆ STREET\", …    ┆               ┆      │\n",
       "│            ┆ HULL,          ┆             ┆ STREET,       ┆ \"HU9 1RP\"]    ┆               ┆      │\n",
       "│            ┆ EAST RIDING OF ┆             ┆ HULL,         ┆               ┆               ┆      │\n",
       "│            ┆ YORKSHIRE,     ┆             ┆ EAST RIDING   ┆               ┆               ┆      │\n",
       "│            ┆ HU9 1RP        ┆             ┆ OF YORKSHIRE, ┆               ┆               ┆      │\n",
       "│            ┆                ┆             ┆ HU9 1RP       ┆               ┆               ┆      │\n",
       "│ 6538       ┆ 573, FLAT,     ┆ 6000        ┆ 573, FLAT,    ┆ [\"573, FLAT\", ┆ 6             ┆ HULL │\n",
       "│            ┆ HOLDERNESS     ┆             ┆ HOLDERNESS    ┆ \"HOLDERNESS   ┆               ┆      │\n",
       "│            ┆ ROAD,          ┆             ┆ ROAD,         ┆ ROAD\", … \"HU8 ┆               ┆      │\n",
       "│            ┆ HULL,          ┆             ┆ HULL,         ┆ 9AA\"]         ┆               ┆      │\n",
       "│            ┆ NORTH          ┆             ┆ NORTH         ┆               ┆               ┆      │\n",
       "│            ┆ HUMBERSIDE,    ┆             ┆ HUMBERSIDE,   ┆               ┆               ┆      │\n",
       "│            ┆ UNITED         ┆             ┆ UNITED        ┆               ┆               ┆      │\n",
       "│            ┆ KINGDOM,       ┆             ┆ KINGDOM,      ┆               ┆               ┆      │\n",
       "│            ┆ HU8 9AA        ┆             ┆ HU8 9AA       ┆               ┆               ┆      │\n",
       "│ 6959       ┆ WYKELAND       ┆ 9000        ┆ WYKELAND      ┆ [\"WYKELAND    ┆ 5             ┆ HULL │\n",
       "│            ┆ HOUSE,         ┆             ┆ HOUSE,        ┆ HOUSE\", \"47   ┆               ┆      │\n",
       "│            ┆ 47 QUEEN       ┆             ┆ 47 QUEEN      ┆ QUEEN         ┆               ┆      │\n",
       "│            ┆ STREET,        ┆             ┆ STREET,       ┆ STREET\", …    ┆               ┆      │\n",
       "│            ┆ HULL,          ┆             ┆ HULL,         ┆ \"HU1 1UU\"]    ┆               ┆      │\n",
       "│            ┆ UNITED         ┆             ┆ UNITED        ┆               ┆               ┆      │\n",
       "│            ┆ KINGDOM,       ┆             ┆ KINGDOM,      ┆               ┆               ┆      │\n",
       "│            ┆ HU1 1UU        ┆             ┆ HU1 1UU       ┆               ┆               ┆      │\n",
       "│ 7084       ┆ 650 ANLABY     ┆ 4000        ┆ 650 ANLABY    ┆ [\"650 ANLABY  ┆ 5             ┆ HULL │\n",
       "│            ┆ ROAD,          ┆             ┆ ROAD,         ┆ ROAD\",        ┆               ┆      │\n",
       "│            ┆ HULL,          ┆             ┆ HULL,         ┆ \"HULL\", …     ┆               ┆      │\n",
       "│            ┆ EAST           ┆             ┆ EAST          ┆ \"HU3 6UU\"]    ┆               ┆      │\n",
       "│            ┆ YORKSHIRE,     ┆             ┆ YORKSHIRE,    ┆               ┆               ┆      │\n",
       "│            ┆ ENGLAND,       ┆             ┆ ENGLAND,      ┆               ┆               ┆      │\n",
       "│            ┆ HU3 6UU        ┆             ┆ HU3 6UU       ┆               ┆               ┆      │\n",
       "│ 7894       ┆ 79 KILTON      ┆ 3400        ┆ 79 KILTON     ┆ [\"79 KILTON   ┆ 4             ┆ HULL │\n",
       "│            ┆ COURT,         ┆             ┆ COURT,        ┆ COURT\",       ┆               ┆      │\n",
       "│            ┆ HULL,          ┆             ┆ HULL,         ┆ \"HULL\", …     ┆               ┆      │\n",
       "│            ┆ UNITED         ┆             ┆ UNITED        ┆ \"HU8 9FE\"]    ┆               ┆      │\n",
       "│            ┆ KINGDOM,       ┆             ┆ KINGDOM,      ┆               ┆               ┆      │\n",
       "│            ┆ HU8 9FE        ┆             ┆ HU8 9FE       ┆               ┆               ┆      │\n",
       "│ 7940       ┆ 46 FARNDALE    ┆ 4500        ┆ 46 FARNDALE   ┆ [\"46 FARNDALE ┆ 4             ┆ HULL │\n",
       "│            ┆ AVENUE,        ┆             ┆ AVENUE,       ┆ AVENUE\",      ┆               ┆      │\n",
       "│            ┆ HULL,          ┆             ┆ HULL,         ┆ \"HULL\", …     ┆               ┆      │\n",
       "│            ┆ ENGLAND,       ┆             ┆ ENGLAND,      ┆ \"HU9 2PH\"]    ┆               ┆      │\n",
       "│            ┆ HU9 2PH        ┆             ┆ HU9 2PH       ┆               ┆               ┆      │\n",
       "│ 8399       ┆ 95 Needlers    ┆ 6000        ┆ 95 NEEDLERS   ┆ [\"95 NEEDLERS ┆ 4             ┆ HULL │\n",
       "│            ┆ Way,           ┆             ┆ WAY,          ┆ WAY\", \"HULL\", ┆               ┆      │\n",
       "│            ┆ Hull,          ┆             ┆ HULL,         ┆ … \"HU5 1DE\"]  ┆               ┆      │\n",
       "│            ┆ England,       ┆             ┆ ENGLAND,      ┆               ┆               ┆      │\n",
       "│            ┆ Hu5 1De        ┆             ┆ HU5 1DE       ┆               ┆               ┆      │\n",
       "│ 8416       ┆ ASHCOURT       ┆ 5400        ┆ ASHCOURT      ┆ [\"ASHCOURT    ┆ 6             ┆ HULL │\n",
       "│            ┆ GROUP,         ┆             ┆ GROUP,        ┆ GROUP\",       ┆               ┆      │\n",
       "│            ┆ FOSTER STREET, ┆             ┆ FOSTER        ┆ \"FOSTER       ┆               ┆      │\n",
       "│            ┆ HULL,          ┆             ┆ STREET,       ┆ STREET\", …    ┆               ┆      │\n",
       "│            ┆ EAST RIDING OF ┆             ┆ HULL,         ┆ \"HU8 8BT\"]    ┆               ┆      │\n",
       "│            ┆ YORKSHIRE,     ┆             ┆ EAST RIDING   ┆               ┆               ┆      │\n",
       "│            ┆ UNITED         ┆             ┆ OF YORKSHIRE, ┆               ┆               ┆      │\n",
       "│            ┆ KINGDOM,       ┆             ┆ UNITED        ┆               ┆               ┆      │\n",
       "│            ┆ HU8 8BT        ┆             ┆ KINGDOM,      ┆               ┆               ┆      │\n",
       "│            ┆                ┆             ┆ HU8 8BT       ┆               ┆               ┆      │\n",
       "│ 8521       ┆ 51 LOYD        ┆ 4600        ┆ 51 LOYD       ┆ [\"51 LOYD     ┆ 5             ┆ HULL │\n",
       "│            ┆ STREET,        ┆             ┆ STREET,       ┆ STREET\",      ┆               ┆      │\n",
       "│            ┆ ANLABY,        ┆             ┆ ANLABY,       ┆ \"ANLABY\", …   ┆               ┆      │\n",
       "│            ┆ HULL,          ┆             ┆ HULL,         ┆ \"HU10 6UQ\"]   ┆               ┆      │\n",
       "│            ┆ ENGLAND,       ┆             ┆ ENGLAND,      ┆               ┆               ┆      │\n",
       "│            ┆ HU10 6UQ       ┆             ┆ HU10 6UQ      ┆               ┆               ┆      │\n",
       "│ 8675       ┆ GRAYS STORES   ┆ 4400        ┆ GRAYS STORES  ┆ [\"GRAYS       ┆ 5             ┆ HULL │\n",
       "│            ┆ MAIN ROAD,     ┆             ┆ MAIN ROAD,    ┆ STORES MAIN   ┆               ┆      │\n",
       "│            ┆ THORNGUMBALD,  ┆             ┆ THORNGUMBALD, ┆ ROAD\", \"THORN ┆               ┆      │\n",
       "│            ┆ HULL,          ┆             ┆ HULL,         ┆ GUMBALD\", …   ┆               ┆      │\n",
       "│            ┆ EAST           ┆             ┆ EAST          ┆ \"HU12 9LS\"]   ┆               ┆      │\n",
       "│            ┆ YORKSHIRE,     ┆             ┆ YORKSHIRE,    ┆               ┆               ┆      │\n",
       "│            ┆ HU12 9LS       ┆             ┆ HU12 9LS      ┆               ┆               ┆      │\n",
       "│ 8833       ┆ UNIT 1 SEATON  ┆ 4200        ┆ UNIT 1 SEATON ┆ [\"UNIT 1      ┆ 5             ┆ HULL │\n",
       "│            ┆ BUILDINGS,     ┆             ┆ BUILDINGS,    ┆ SEATON        ┆               ┆      │\n",
       "│            ┆ AIR STREET,    ┆             ┆ AIR STREET,   ┆ BUILDINGS\",   ┆               ┆      │\n",
       "│            ┆ HULL,          ┆             ┆ HULL,         ┆ \"AIR STREET\", ┆               ┆      │\n",
       "│            ┆ ENGLAND,       ┆             ┆ ENGLAND,      ┆ … \"HU5 1RR\"]  ┆               ┆      │\n",
       "│            ┆ HU5 1RR        ┆             ┆ HU5 1RR       ┆               ┆               ┆      │\n",
       "│ 8882       ┆ OFFICES 1 & 2, ┆ 4400        ┆ OFFICES 1 &   ┆ [\"OFFICES 1 & ┆ 6             ┆ HULL │\n",
       "│            ┆ 27 BLANKET     ┆             ┆ 2,            ┆ 2\", \"27       ┆               ┆      │\n",
       "│            ┆ ROW,           ┆             ┆ 27 BLANKET    ┆ BLANKET ROW\", ┆               ┆      │\n",
       "│            ┆ HULL,          ┆             ┆ ROW,          ┆ … \"HU1 1BA\"]  ┆               ┆      │\n",
       "│            ┆ EAST           ┆             ┆ HULL,         ┆               ┆               ┆      │\n",
       "│            ┆ YORKSHIRE,     ┆             ┆ EAST          ┆               ┆               ┆      │\n",
       "│            ┆ ENGLAND,       ┆             ┆ YORKSHIRE,    ┆               ┆               ┆      │\n",
       "│            ┆ HU1 1BA        ┆             ┆ ENGLAND,      ┆               ┆               ┆      │\n",
       "│            ┆                ┆             ┆ HU1 1BA       ┆               ┆               ┆      │\n",
       "│ 9263       ┆ SALTEND POWER  ┆ 5900        ┆ SALTEND POWER ┆ [\"SALTEND     ┆ 6             ┆ HULL │\n",
       "│            ┆ STATION        ┆             ┆ STATION       ┆ POWER STATION ┆               ┆      │\n",
       "│            ┆ SALTEND        ┆             ┆ SALTEND       ┆ SALTEND       ┆               ┆      │\n",
       "│            ┆ CHEMICALS      ┆             ┆ CHEMICALS     ┆ CHEMICALS     ┆               ┆      │\n",
       "│            ┆ PARK,          ┆             ┆ PARK,         ┆ PARK\", \"HEDON ┆               ┆      │\n",
       "│            ┆ HEDON ROAD,    ┆             ┆ HEDON ROAD,   ┆ ROAD\", …      ┆               ┆      │\n",
       "│            ┆ HULL,          ┆             ┆ HULL,         ┆ \"HU12 8GA\"]   ┆               ┆      │\n",
       "│            ┆ EAST RIDING OF ┆             ┆ EAST RIDING   ┆               ┆               ┆      │\n",
       "│            ┆ YORKSHIRE,     ┆             ┆ OF YORKSHIRE, ┆               ┆               ┆      │\n",
       "│            ┆ ENGLAND,       ┆             ┆ ENGLAND,      ┆               ┆               ┆      │\n",
       "│            ┆ HU12 8GA       ┆             ┆ HU12 8GA      ┆               ┆               ┆      │\n",
       "│ 9516       ┆ 20 OAKFIELD    ┆ 2900        ┆ 20 OAKFIELD   ┆ [\"20 OAKFIELD ┆ 5             ┆ HULL │\n",
       "│            ┆ COURT,         ┆             ┆ COURT,        ┆ COURT\",       ┆               ┆      │\n",
       "│            ┆ HULL,          ┆             ┆ HULL,         ┆ \"HULL\", …     ┆               ┆      │\n",
       "│            ┆ NORTH          ┆             ┆ NORTH         ┆ \"HU6 8QF\"]    ┆               ┆      │\n",
       "│            ┆ HUMBERSIDE,    ┆             ┆ HUMBERSIDE,   ┆               ┆               ┆      │\n",
       "│            ┆ UNITED         ┆             ┆ UNITED        ┆               ┆               ┆      │\n",
       "│            ┆ KINGDOM,       ┆             ┆ KINGDOM,      ┆               ┆               ┆      │\n",
       "│            ┆ HU6 8QF        ┆             ┆ HU6 8QF       ┆               ┆               ┆      │\n",
       "│ 9656       ┆ UNIT 7 GLOBAL  ┆ 6900        ┆ UNIT 7 GLOBAL ┆ [\"UNIT 7      ┆ 4             ┆ HULL │\n",
       "│            ┆ BUSINESS PARK, ┆             ┆ BUSINESS      ┆ GLOBAL        ┆               ┆      │\n",
       "│            ┆ HAMBURG ROAD,  ┆             ┆ PARK,         ┆ BUSINESS      ┆               ┆      │\n",
       "│            ┆ HULL,          ┆             ┆ HAMBURG ROAD, ┆ PARK\",        ┆               ┆      │\n",
       "│            ┆ HU7 0AE        ┆             ┆ HULL,         ┆ \"HAMBURG      ┆               ┆      │\n",
       "│            ┆                ┆             ┆ HU7 0AE       ┆ ROAD\", … \"HU7 ┆               ┆      │\n",
       "│            ┆                ┆             ┆               ┆ 0AE\"]         ┆               ┆      │\n",
       "│ 10604      ┆ 1 Coxwold      ┆ 3200        ┆ 1 COXWOLD     ┆ [\"1 COXWOLD   ┆ 3             ┆ HULL │\n",
       "│            ┆ Grove,         ┆             ┆ GROVE,        ┆ GROVE\",       ┆               ┆      │\n",
       "│            ┆ Hull,          ┆             ┆ HULL,         ┆ \"HULL\", \"HU4  ┆               ┆      │\n",
       "│            ┆ Hu4 6Hh        ┆             ┆ HU4 6HH       ┆ 6HH\"]         ┆               ┆      │\n",
       "│ 10754      ┆ 141            ┆ 3300        ┆ 141           ┆ [\"141         ┆ 4             ┆ HULL │\n",
       "│            ┆ SOUTHCOATES    ┆             ┆ SOUTHCOATES   ┆ SOUTHCOATES   ┆               ┆      │\n",
       "│            ┆ AVENUE,        ┆             ┆ AVENUE,       ┆ AVENUE\",      ┆               ┆      │\n",
       "│            ┆ HULL,          ┆             ┆ HULL,         ┆ \"HULL\", …     ┆               ┆      │\n",
       "│            ┆ ENGLAND,       ┆             ┆ ENGLAND,      ┆ \"HU9 3HF\"]    ┆               ┆      │\n",
       "│            ┆ HU9 3HF        ┆             ┆ HU9 3HF       ┆               ┆               ┆      │\n",
       "│ 11222      ┆ 20             ┆ 4500        ┆ 20            ┆ [\"20          ┆ 5             ┆ HULL │\n",
       "│            ┆ SOUTTERGATE,   ┆             ┆ SOUTTERGATE,  ┆ SOUTTERGATE\", ┆               ┆      │\n",
       "│            ┆ HEDON,         ┆             ┆ HEDON,        ┆ \"HEDON\", …    ┆               ┆      │\n",
       "│            ┆ HULL,          ┆             ┆ HULL,         ┆ \"HU12 8JS\"]   ┆               ┆      │\n",
       "│            ┆ ENGLAND,       ┆             ┆ ENGLAND,      ┆               ┆               ┆      │\n",
       "│            ┆ HU12 8JS       ┆             ┆ HU12 8JS      ┆               ┆               ┆      │\n",
       "│ 11373      ┆ 14 SEAFIELD    ┆ 5300        ┆ 14 SEAFIELD   ┆ [\"14 SEAFIELD ┆ 4             ┆ HULL │\n",
       "│            ┆ AVENUE,        ┆             ┆ AVENUE,       ┆ AVENUE\",      ┆               ┆      │\n",
       "│            ┆ HULL,          ┆             ┆ HULL,         ┆ \"HULL\", …     ┆               ┆      │\n",
       "│            ┆ UNITED         ┆             ┆ UNITED        ┆ \"HU9 3JQ\"]    ┆               ┆      │\n",
       "│            ┆ KINGDOM,       ┆             ┆ KINGDOM,      ┆               ┆               ┆      │\n",
       "│            ┆ HU9 3JQ        ┆             ┆ HU9 3JQ       ┆               ┆               ┆      │\n",
       "│ 12115      ┆ 53 WEIGHTON    ┆ 4500        ┆ 53 WEIGHTON   ┆ [\"53 WEIGHTON ┆ 4             ┆ HULL │\n",
       "│            ┆ GROVE,         ┆             ┆ GROVE,        ┆ GROVE\",       ┆               ┆      │\n",
       "│            ┆ HULL,          ┆             ┆ HULL,         ┆ \"HULL\", …     ┆               ┆      │\n",
       "│            ┆ ENGLAND,       ┆             ┆ ENGLAND,      ┆ \"HU6 8ND\"]    ┆               ┆      │\n",
       "│            ┆ HU6 8ND        ┆             ┆ HU6 8ND       ┆               ┆               ┆      │\n",
       "│ 13375      ┆ 3 St. Andrews  ┆ 4900        ┆ 3 ST. ANDREWS ┆ [\"3 ST.       ┆ 4             ┆ HULL │\n",
       "│            ┆ Court,         ┆             ┆ COURT,        ┆ ANDREWS       ┆               ┆      │\n",
       "│            ┆ Hull,          ┆             ┆ HULL,         ┆ COURT\",       ┆               ┆      │\n",
       "│            ┆ United         ┆             ┆ UNITED        ┆ \"HULL\", …     ┆               ┆      │\n",
       "│            ┆ Kingdom,       ┆             ┆ KINGDOM,      ┆ \"HU4 7BE\"]    ┆               ┆      │\n",
       "│            ┆ Hu4 7Be        ┆             ┆ HU4 7BE       ┆               ┆               ┆      │\n",
       "│ 13504      ┆ 8 Elveley      ┆ 5800        ┆ 8 ELVELEY     ┆ [\"8 ELVELEY   ┆ 5             ┆ HULL │\n",
       "│            ┆ Drive,         ┆             ┆ DRIVE,        ┆ DRIVE\", \"WEST ┆               ┆      │\n",
       "│            ┆ West Ella,     ┆             ┆ WEST ELLA,    ┆ ELLA\", …      ┆               ┆      │\n",
       "│            ┆ Hull,          ┆             ┆ HULL,         ┆ \"HU10 7RU\"]   ┆               ┆      │\n",
       "│            ┆ England,       ┆             ┆ ENGLAND,      ┆               ┆               ┆      │\n",
       "│            ┆ Hu10 7Ru       ┆             ┆ HU10 7RU      ┆               ┆               ┆      │\n",
       "│ 13911      ┆ 9 AIRMYN       ┆ 3700        ┆ 9 AIRMYN      ┆ [\"9 AIRMYN    ┆ 4             ┆ HULL │\n",
       "│            ┆ AVENUE,        ┆             ┆ AVENUE,       ┆ AVENUE\",      ┆               ┆      │\n",
       "│            ┆ HULL,          ┆             ┆ HULL,         ┆ \"HULL\", …     ┆               ┆      │\n",
       "│            ┆ ENGLAND,       ┆             ┆ ENGLAND,      ┆ \"HU3 6UD\"]    ┆               ┆      │\n",
       "│            ┆ HU3 6UD        ┆             ┆ HU3 6UD       ┆               ┆               ┆      │\n",
       "│ 14005      ┆ 30 BENTLEY     ┆ 8700        ┆ 30 BENTLEY    ┆ [\"30 BENTLEY  ┆ 4             ┆ HULL │\n",
       "│            ┆ GROVE,         ┆             ┆ GROVE,        ┆ GROVE\",       ┆               ┆      │\n",
       "│            ┆ HULL,          ┆             ┆ HULL,         ┆ \"HULL\", …     ┆               ┆      │\n",
       "│            ┆ ENGLAND,       ┆             ┆ ENGLAND,      ┆ \"HU6 8NP\"]    ┆               ┆      │\n",
       "│            ┆ HU6 8NP        ┆             ┆ HU6 8NP       ┆               ┆               ┆      │\n",
       "│ 14034      ┆ UNIT F SCHOOL  ┆ 2400        ┆ UNIT F SCHOOL ┆ [\"UNIT F      ┆ 5             ┆ HULL │\n",
       "│            ┆ LANE,          ┆             ┆ LANE,         ┆ SCHOOL LANE\", ┆               ┆      │\n",
       "│            ┆ KINGSWOOD,     ┆             ┆ KINGSWOOD,    ┆ \"KINGSWOOD\",  ┆               ┆      │\n",
       "│            ┆ HULL,          ┆             ┆ HULL,         ┆ … \"HU7 3JQ\"]  ┆               ┆      │\n",
       "│            ┆ UNITED         ┆             ┆ UNITED        ┆               ┆               ┆      │\n",
       "│            ┆ KINGDOM,       ┆             ┆ KINGDOM,      ┆               ┆               ┆      │\n",
       "│            ┆ HU7 3JQ        ┆             ┆ HU7 3JQ       ┆               ┆               ┆      │\n",
       "│ 14577      ┆ 167 WATERLOO   ┆ 4600        ┆ 167 WATERLOO  ┆ [\"167         ┆ 4             ┆ HULL │\n",
       "│            ┆ STREET,        ┆             ┆ STREET,       ┆ WATERLOO      ┆               ┆      │\n",
       "│            ┆ HULL,          ┆             ┆ HULL,         ┆ STREET\",      ┆               ┆      │\n",
       "│            ┆ EAST           ┆             ┆ EAST          ┆ \"HULL\", …     ┆               ┆      │\n",
       "│            ┆ YORKSHIRE,     ┆             ┆ YORKSHIRE,    ┆ \"HU2 9LG\"]    ┆               ┆      │\n",
       "│            ┆ HU2 9LG        ┆             ┆ HU2 9LG       ┆               ┆               ┆      │\n",
       "│ 14927      ┆ APARTMENT 2,   ┆ 5700        ┆ APARTMENT 2,  ┆ [\"APARTMENT   ┆ 5             ┆ HULL │\n",
       "│            ┆ 467 PRIORY     ┆             ┆ 467 PRIORY    ┆ 2\", \"467      ┆               ┆      │\n",
       "│            ┆ ROAD,          ┆             ┆ ROAD,         ┆ PRIORY ROAD\", ┆               ┆      │\n",
       "│            ┆ HULL,          ┆             ┆ HULL,         ┆ … \"HU5 5RG\"]  ┆               ┆      │\n",
       "│            ┆ ENGLAND,       ┆             ┆ ENGLAND,      ┆               ┆               ┆      │\n",
       "│            ┆ HU5 5RG        ┆             ┆ HU5 5RG       ┆               ┆               ┆      │\n",
       "│ 15092      ┆ BLACK FIVE     ┆ 4100        ┆ BLACK FIVE    ┆ [\"BLACK FIVE  ┆ 5             ┆ HULL │\n",
       "│            ┆ WORKS,         ┆             ┆ WORKS,        ┆ WORKS\",       ┆               ┆      │\n",
       "│            ┆ RAVEN STREET,  ┆             ┆ RAVEN STREET, ┆ \"RAVEN        ┆               ┆      │\n",
       "│            ┆ HULL,          ┆             ┆ HULL,         ┆ STREET\", …    ┆               ┆      │\n",
       "│            ┆ EAST           ┆             ┆ EAST          ┆ \"HU9 1PP\"]    ┆               ┆      │\n",
       "│            ┆ YORKSHIRE,     ┆             ┆ YORKSHIRE,    ┆               ┆               ┆      │\n",
       "│            ┆ HU9 1PP        ┆             ┆ HU9 1PP       ┆               ┆               ┆      │\n",
       "│ …          ┆ …              ┆ …           ┆ …             ┆ …             ┆ …             ┆ …    │\n",
       "│ 82730      ┆ PO Box OFFICE  ┆ 3400        ┆ PO BOX OFFICE ┆ [\"PO BOX      ┆ 3             ┆ HULL │\n",
       "│            ┆ 8,             ┆             ┆ 8,            ┆ OFFICE 8\",    ┆               ┆      │\n",
       "│            ┆ HULL,          ┆             ┆ HULL,         ┆ \"HULL\", \"HU10 ┆               ┆      │\n",
       "│            ┆ HU10 7BY       ┆             ┆ HU10 7BY      ┆ 7BY\"]         ┆               ┆      │\n",
       "│ 83184      ┆ 117 COLTMAN    ┆ 2400        ┆ 117 COLTMAN   ┆ [\"117 COLTMAN ┆ 4             ┆ HULL │\n",
       "│            ┆ STREET,        ┆             ┆ STREET,       ┆ STREET\",      ┆               ┆      │\n",
       "│            ┆ HULL,          ┆             ┆ HULL,         ┆ \"HULL\", …     ┆               ┆      │\n",
       "│            ┆ ENGLAND,       ┆             ┆ ENGLAND,      ┆ \"HU3 2SF\"]    ┆               ┆      │\n",
       "│            ┆ HU3 2SF        ┆             ┆ HU3 2SF       ┆               ┆               ┆      │\n",
       "│ 83415      ┆ 120 HOLDERNESS ┆ 7300        ┆ 120           ┆ [\"120         ┆ 4             ┆ HULL │\n",
       "│            ┆ ROAD,          ┆             ┆ HOLDERNESS    ┆ HOLDERNESS    ┆               ┆      │\n",
       "│            ┆ HULL,          ┆             ┆ ROAD,         ┆ ROAD\",        ┆               ┆      │\n",
       "│            ┆ ENGLAND,       ┆             ┆ HULL,         ┆ \"HULL\", …     ┆               ┆      │\n",
       "│            ┆ HU9 1JP        ┆             ┆ ENGLAND,      ┆ \"HU9 1JP\"]    ┆               ┆      │\n",
       "│            ┆                ┆             ┆ HU9 1JP       ┆               ┆               ┆      │\n",
       "│ 83447      ┆ 313 HOLDERNESS ┆ 2300        ┆ 313           ┆ [\"313         ┆ 4             ┆ HULL │\n",
       "│            ┆ ROAD,          ┆             ┆ HOLDERNESS    ┆ HOLDERNESS    ┆               ┆      │\n",
       "│            ┆ HULL,          ┆             ┆ ROAD,         ┆ ROAD\",        ┆               ┆      │\n",
       "│            ┆ ENGLAND,       ┆             ┆ HULL,         ┆ \"HULL\", …     ┆               ┆      │\n",
       "│            ┆ HU8 8SH        ┆             ┆ ENGLAND,      ┆ \"HU8 8SH\"]    ┆               ┆      │\n",
       "│            ┆                ┆             ┆ HU8 8SH       ┆               ┆               ┆      │\n",
       "│ 83449      ┆ RIVERSIDE      ┆ 6900        ┆ RIVERSIDE     ┆ [\"RIVERSIDE   ┆ 5             ┆ HULL │\n",
       "│            ┆ HOUSE,         ┆             ┆ HOUSE,        ┆ HOUSE\",       ┆               ┆      │\n",
       "│            ┆ 11-12 NELSON   ┆             ┆ 11-12 NELSON  ┆ \"11-12 NELSON ┆               ┆      │\n",
       "│            ┆ STREET,        ┆             ┆ STREET,       ┆ STREET\", …    ┆               ┆      │\n",
       "│            ┆ HULL,          ┆             ┆ HULL,         ┆ \"HU1 1XE\"]    ┆               ┆      │\n",
       "│            ┆ ENGLAND,       ┆             ┆ ENGLAND,      ┆               ┆               ┆      │\n",
       "│            ┆ HU1 1XE        ┆             ┆ HU1 1XE       ┆               ┆               ┆      │\n",
       "│ 84206      ┆ 32 WEST ELLA   ┆ 2500        ┆ 32 WEST ELLA  ┆ [\"32 WEST     ┆ 5             ┆ HULL │\n",
       "│            ┆ WAY,           ┆             ┆ WAY,          ┆ ELLA WAY\",    ┆               ┆      │\n",
       "│            ┆ KIRK ELLA,     ┆             ┆ KIRK ELLA,    ┆ \"KIRK ELLA\",  ┆               ┆      │\n",
       "│            ┆ HULL,          ┆             ┆ HULL,         ┆ … \"HU10 7LW\"] ┆               ┆      │\n",
       "│            ┆ UNITED         ┆             ┆ UNITED        ┆               ┆               ┆      │\n",
       "│            ┆ KINGDOM,       ┆             ┆ KINGDOM,      ┆               ┆               ┆      │\n",
       "│            ┆ HU10 7LW       ┆             ┆ HU10 7LW      ┆               ┆               ┆      │\n",
       "│ 85187      ┆ 355 GREENWOOD  ┆ 5600        ┆ 355 GREENWOOD ┆ [\"355         ┆ 4             ┆ HULL │\n",
       "│            ┆ AVENUE,        ┆             ┆ AVENUE,       ┆ GREENWOOD     ┆               ┆      │\n",
       "│            ┆ HULL,          ┆             ┆ HULL,         ┆ AVENUE\",      ┆               ┆      │\n",
       "│            ┆ ENGLAND,       ┆             ┆ ENGLAND,      ┆ \"HULL\", …     ┆               ┆      │\n",
       "│            ┆ HU6 8AL        ┆             ┆ HU6 8AL       ┆ \"HU6 8AL\"]    ┆               ┆      │\n",
       "│ 85418      ┆ KINGSWOOD      ┆ 5500        ┆ KINGSWOOD     ┆ [\"KINGSWOOD   ┆ 5             ┆ HULL │\n",
       "│            ┆ HOUSE ASHCOMBE ┆             ┆ HOUSE         ┆ HOUSE         ┆               ┆      │\n",
       "│            ┆ ROAD,          ┆             ┆ ASHCOMBE      ┆ ASHCOMBE      ┆               ┆      │\n",
       "│            ┆ KINGSWOOD,     ┆             ┆ ROAD,         ┆ ROAD\",        ┆               ┆      │\n",
       "│            ┆ HULL,          ┆             ┆ KINGSWOOD,    ┆ \"KINGSWOOD\",  ┆               ┆      │\n",
       "│            ┆ EAST           ┆             ┆ HULL,         ┆ … \"HU7 3DD\"]  ┆               ┆      │\n",
       "│            ┆ YORKSHIRE,     ┆             ┆ EAST          ┆               ┆               ┆      │\n",
       "│            ┆ HU7 3DD        ┆             ┆ YORKSHIRE,    ┆               ┆               ┆      │\n",
       "│            ┆                ┆             ┆ HU7 3DD       ┆               ┆               ┆      │\n",
       "│ 85616      ┆ 18 Langley     ┆ 4800        ┆ 18 LANGLEY    ┆ [\"18 LANGLEY  ┆ 6             ┆ HULL │\n",
       "│            ┆ Park,          ┆             ┆ PARK,         ┆ PARK\",        ┆               ┆      │\n",
       "│            ┆ Kingswood,     ┆             ┆ KINGSWOOD,    ┆ \"KINGSWOOD\",  ┆               ┆      │\n",
       "│            ┆ Hull,          ┆             ┆ HULL,         ┆ … \"HU7 3EN\"]  ┆               ┆      │\n",
       "│            ┆ North          ┆             ┆ NORTH         ┆               ┆               ┆      │\n",
       "│            ┆ Humberside,    ┆             ┆ HUMBERSIDE,   ┆               ┆               ┆      │\n",
       "│            ┆ United         ┆             ┆ UNITED        ┆               ┆               ┆      │\n",
       "│            ┆ Kingdom,       ┆             ┆ KINGDOM,      ┆               ┆               ┆      │\n",
       "│            ┆ Hu7 3En        ┆             ┆ HU7 3EN       ┆               ┆               ┆      │\n",
       "│ 86012      ┆ 3 The Fairway, ┆ 5400        ┆ 3 THE         ┆ [\"3 THE       ┆ 6             ┆ HULL │\n",
       "│            ┆ West Ella,     ┆             ┆ FAIRWAY,      ┆ FAIRWAY\",     ┆               ┆      │\n",
       "│            ┆ Hull,          ┆             ┆ WEST ELLA,    ┆ \"WEST ELLA\",  ┆               ┆      │\n",
       "│            ┆ North          ┆             ┆ HULL,         ┆ … \"HU10 7SA\"] ┆               ┆      │\n",
       "│            ┆ Humberside,    ┆             ┆ NORTH         ┆               ┆               ┆      │\n",
       "│            ┆ United         ┆             ┆ HUMBERSIDE,   ┆               ┆               ┆      │\n",
       "│            ┆ Kingdom,       ┆             ┆ UNITED        ┆               ┆               ┆      │\n",
       "│            ┆ Hu10 7Sa       ┆             ┆ KINGDOM,      ┆               ┆               ┆      │\n",
       "│            ┆                ┆             ┆ HU10 7SA      ┆               ┆               ┆      │\n",
       "│ 86271      ┆ THE EDGE HUB,  ┆ 5700        ┆ THE EDGE HUB, ┆ [\"THE EDGE    ┆ 6             ┆ HULL │\n",
       "│            ┆ MYTON STREET,  ┆             ┆ MYTON STREET, ┆ HUB\", \"MYTON  ┆               ┆      │\n",
       "│            ┆ HULL,          ┆             ┆ HULL,         ┆ STREET\", …    ┆               ┆      │\n",
       "│            ┆ EAST           ┆             ┆ EAST          ┆ \"HU1 2PS\"]    ┆               ┆      │\n",
       "│            ┆ YORKSHIRE,     ┆             ┆ YORKSHIRE,    ┆               ┆               ┆      │\n",
       "│            ┆ ENGLAND,       ┆             ┆ ENGLAND,      ┆               ┆               ┆      │\n",
       "│            ┆ HU1 2PS        ┆             ┆ HU1 2PS       ┆               ┆               ┆      │\n",
       "│ 86306      ┆ Unit G7, The   ┆ 7300        ┆ UNIT G7, THE  ┆ [\"UNIT G7,    ┆ 5             ┆ HULL │\n",
       "│            ┆ Bloc           ┆             ┆ BLOC          ┆ THE BLOC      ┆               ┆      │\n",
       "│            ┆ Springfield    ┆             ┆ SPRINGFIELD   ┆ SPRINGFIELD   ┆               ┆      │\n",
       "│            ┆ Way,           ┆             ┆ WAY,          ┆ WAY\",         ┆               ┆      │\n",
       "│            ┆ Anlaby,        ┆             ┆ ANLABY,       ┆ \"ANLABY\", …   ┆               ┆      │\n",
       "│            ┆ Hull,          ┆             ┆ HULL,         ┆ \"HU10 6RJ\"]   ┆               ┆      │\n",
       "│            ┆ England,       ┆             ┆ ENGLAND,      ┆               ┆               ┆      │\n",
       "│            ┆ Hu10 6Rj       ┆             ┆ HU10 6RJ      ┆               ┆               ┆      │\n",
       "│ 86534      ┆ 61 MORPETH     ┆ 4200        ┆ 61 MORPETH    ┆ [\"61 MORPETH  ┆ 4             ┆ HULL │\n",
       "│            ┆ STREET,        ┆             ┆ STREET,       ┆ STREET\",      ┆               ┆      │\n",
       "│            ┆ HULL,          ┆             ┆ HULL,         ┆ \"HULL\", …     ┆               ┆      │\n",
       "│            ┆ ENGLAND,       ┆             ┆ ENGLAND,      ┆ \"HU3 1RF\"]    ┆               ┆      │\n",
       "│            ┆ HU3 1RF        ┆             ┆ HU3 1RF       ┆               ┆               ┆      │\n",
       "│ 86748      ┆ 1 PARLIAMENT   ┆ 5700        ┆ 1 PARLIAMENT  ┆ [\"1           ┆ 5             ┆ HULL │\n",
       "│            ┆ STREET,        ┆             ┆ STREET,       ┆ PARLIAMENT    ┆               ┆      │\n",
       "│            ┆ HULL,          ┆             ┆ HULL,         ┆ STREET\",      ┆               ┆      │\n",
       "│            ┆ EAST           ┆             ┆ EAST          ┆ \"HULL\", …     ┆               ┆      │\n",
       "│            ┆ YORKSHIRE,     ┆             ┆ YORKSHIRE,    ┆ \"HU1 2AS\"]    ┆               ┆      │\n",
       "│            ┆ UNITED         ┆             ┆ UNITED        ┆               ┆               ┆      │\n",
       "│            ┆ KINGDOM,       ┆             ┆ KINGDOM,      ┆               ┆               ┆      │\n",
       "│            ┆ HU1 2AS        ┆             ┆ HU1 2AS       ┆               ┆               ┆      │\n",
       "│ 87116      ┆ 44 NEW ROAD,   ┆ 3300        ┆ 44 NEW ROAD,  ┆ [\"44 NEW      ┆ 5             ┆ HULL │\n",
       "│            ┆ HEDON,         ┆             ┆ HEDON,        ┆ ROAD\",        ┆               ┆      │\n",
       "│            ┆ HULL,          ┆             ┆ HULL,         ┆ \"HEDON\", …    ┆               ┆      │\n",
       "│            ┆ ENGLAND,       ┆             ┆ ENGLAND,      ┆ \"HU12 8BS\"]   ┆               ┆      │\n",
       "│            ┆ HU12 8BS       ┆             ┆ HU12 8BS      ┆               ┆               ┆      │\n",
       "│ 87179      ┆ 141            ┆ 4000        ┆ 141           ┆ [\"141         ┆ 4             ┆ HULL │\n",
       "│            ┆ SOUTHCOATES    ┆             ┆ SOUTHCOATES   ┆ SOUTHCOATES   ┆               ┆      │\n",
       "│            ┆ AVENUE,        ┆             ┆ AVENUE,       ┆ AVENUE\",      ┆               ┆      │\n",
       "│            ┆ HULL,          ┆             ┆ HULL,         ┆ \"HULL\", …     ┆               ┆      │\n",
       "│            ┆ ENGLAND,       ┆             ┆ ENGLAND,      ┆ \"HU9 3HF\"]    ┆               ┆      │\n",
       "│            ┆ HU9 3HF        ┆             ┆ HU9 3HF       ┆               ┆               ┆      │\n",
       "│ 87224      ┆ 169 Newland    ┆ 5100        ┆ 169 NEWLAND   ┆ [\"169 NEWLAND ┆ 4             ┆ HULL │\n",
       "│            ┆ Avenue,        ┆             ┆ AVENUE,       ┆ AVENUE\",      ┆               ┆      │\n",
       "│            ┆ Hull,          ┆             ┆ HULL,         ┆ \"HULL\", …     ┆               ┆      │\n",
       "│            ┆ North          ┆             ┆ NORTH         ┆ \"HU5\"]        ┆               ┆      │\n",
       "│            ┆ Humberside,    ┆             ┆ HUMBERSIDE,   ┆               ┆               ┆      │\n",
       "│            ┆ Hu5            ┆             ┆ HU5           ┆               ┆               ┆      │\n",
       "│ 87369      ┆ 2 THE PINES,   ┆ 1100        ┆ 2 THE PINES,  ┆ [\"2 THE       ┆ 5             ┆ HULL │\n",
       "│            ┆ KINGSWOOD,     ┆             ┆ KINGSWOOD,    ┆ PINES\",       ┆               ┆      │\n",
       "│            ┆ HULL,          ┆             ┆ HULL,         ┆ \"KINGSWOOD\",  ┆               ┆      │\n",
       "│            ┆ ENGLAND,       ┆             ┆ ENGLAND,      ┆ … \"HU7 3GT\"]  ┆               ┆      │\n",
       "│            ┆ HU7 3GT        ┆             ┆ HU7 3GT       ┆               ┆               ┆      │\n",
       "│ 87642      ┆ 45 LINCOLN     ┆ 6100        ┆ 45 LINCOLN    ┆ [\"45 LINCOLN  ┆ 5             ┆ HULL │\n",
       "│            ┆ STREET,        ┆             ┆ STREET,       ┆ STREET\",      ┆               ┆      │\n",
       "│            ┆ HULL,          ┆             ┆ HULL,         ┆ \"HULL\", …     ┆               ┆      │\n",
       "│            ┆ EAST           ┆             ┆ EAST          ┆ \"HU2 0BP\"]    ┆               ┆      │\n",
       "│            ┆ YORKSHIRE,     ┆             ┆ YORKSHIRE,    ┆               ┆               ┆      │\n",
       "│            ┆ ENGLAND,       ┆             ┆ ENGLAND,      ┆               ┆               ┆      │\n",
       "│            ┆ HU2 0BP        ┆             ┆ HU2 0BP       ┆               ┆               ┆      │\n",
       "│ 88067      ┆ 22 GOTHENBURG  ┆ 3500        ┆ 22 GOTHENBURG ┆ [\"22          ┆ 4             ┆ HULL │\n",
       "│            ┆ WAY,           ┆             ┆ WAY,          ┆ GOTHENBURG    ┆               ┆      │\n",
       "│            ┆ HULL,          ┆             ┆ HULL,         ┆ WAY\", \"HULL\", ┆               ┆      │\n",
       "│            ┆ ENGLAND,       ┆             ┆ ENGLAND,      ┆ … \"HU7 0YG\"]  ┆               ┆      │\n",
       "│            ┆ HU7 0YG        ┆             ┆ HU7 0YG       ┆               ┆               ┆      │\n",
       "│ 88599      ┆ 7 STRATFORD    ┆ 4400        ┆ 7 STRATFORD   ┆ [\"7 STRATFORD ┆ 5             ┆ HULL │\n",
       "│            ┆ WALK,          ┆             ┆ WALK,         ┆ WALK\",        ┆               ┆      │\n",
       "│            ┆ STRATFORD      ┆             ┆ STRATFORD     ┆ \"STRATFORD    ┆               ┆      │\n",
       "│            ┆ WALK,          ┆             ┆ WALK,         ┆ WALK\", … \"HU9 ┆               ┆      │\n",
       "│            ┆ HULL,          ┆             ┆ HULL,         ┆ 5ES\"]         ┆               ┆      │\n",
       "│            ┆ ENGLAND,       ┆             ┆ ENGLAND,      ┆               ┆               ┆      │\n",
       "│            ┆ HU9 5ES        ┆             ┆ HU9 5ES       ┆               ┆               ┆      │\n",
       "│ 88812      ┆ THE OLD        ┆ 7300        ┆ THE OLD       ┆ [\"THE OLD     ┆ 6             ┆ HULL │\n",
       "│            ┆ VICARAGE 8     ┆             ┆ VICARAGE 8    ┆ VICARAGE 8    ┆               ┆      │\n",
       "│            ┆ CHURCH LANE,   ┆             ┆ CHURCH LANE,  ┆ CHURCH LANE\", ┆               ┆      │\n",
       "│            ┆ KIRKELLA,      ┆             ┆ KIRKELLA,     ┆ \"KIRKELLA\", … ┆               ┆      │\n",
       "│            ┆ HULL,          ┆             ┆ HULL,         ┆ \"HU10 7TG\"]   ┆               ┆      │\n",
       "│            ┆ EAST           ┆             ┆ EAST          ┆               ┆               ┆      │\n",
       "│            ┆ YORKSHIRE,     ┆             ┆ YORKSHIRE,    ┆               ┆               ┆      │\n",
       "│            ┆ UNITED         ┆             ┆ UNITED        ┆               ┆               ┆      │\n",
       "│            ┆ KINGDOM,       ┆             ┆ KINGDOM,      ┆               ┆               ┆      │\n",
       "│            ┆ HU10 7TG       ┆             ┆ HU10 7TG      ┆               ┆               ┆      │\n",
       "│ 88913      ┆ NORTH EAST     ┆ 5600        ┆ NORTH EAST    ┆ [\"NORTH EAST  ┆ 4             ┆ HULL │\n",
       "│            ┆ CORNER,        ┆             ┆ CORNER,       ┆ CORNER\", \"ST  ┆               ┆      │\n",
       "│            ┆ ST ANDREWS     ┆             ┆ ST ANDREWS    ┆ ANDREWS       ┆               ┆      │\n",
       "│            ┆ DOCK,          ┆             ┆ DOCK,         ┆ DOCK\", … \"HU3 ┆               ┆      │\n",
       "│            ┆ HULL,          ┆             ┆ HULL,         ┆ 4SG\"]         ┆               ┆      │\n",
       "│            ┆ HU3 4SG        ┆             ┆ HU3 4SG       ┆               ┆               ┆      │\n",
       "│ 89470      ┆ UNIT 6,        ┆ 6300        ┆ UNIT 6,       ┆ [\"UNIT 6,     ┆ 5             ┆ HULL │\n",
       "│            ┆ CENTRAL PARK,  ┆             ┆ CENTRAL PARK, ┆ CENTRAL       ┆               ┆      │\n",
       "│            ┆ CORNWALL       ┆             ┆ CORNWALL      ┆ PARK\",        ┆               ┆      │\n",
       "│            ┆ STREET,        ┆             ┆ STREET,       ┆ \"CORNWALL     ┆               ┆      │\n",
       "│            ┆ HULL,          ┆             ┆ HULL,         ┆ STREET\", …    ┆               ┆      │\n",
       "│            ┆ ENGLAND,       ┆             ┆ ENGLAND,      ┆ \"HU8 8AF\"]    ┆               ┆      │\n",
       "│            ┆ HU8 8AF        ┆             ┆ HU8 8AF       ┆               ┆               ┆      │\n",
       "│ 89510      ┆ 40 BISLEY      ┆ 4600        ┆ 40 BISLEY     ┆ [\"40 BISLEY   ┆ 5             ┆ HULL │\n",
       "│            ┆ GROVE,         ┆             ┆ GROVE,        ┆ GROVE\",       ┆               ┆      │\n",
       "│            ┆ BRANSHOLME,    ┆             ┆ BRANSHOLME,   ┆ \"BRANSHOLME\", ┆               ┆      │\n",
       "│            ┆ HULL,          ┆             ┆ HULL,         ┆ … \"HU7 4PZ\"]  ┆               ┆      │\n",
       "│            ┆ ENGLAND,       ┆             ┆ ENGLAND,      ┆               ┆               ┆      │\n",
       "│            ┆ HU7 4PZ        ┆             ┆ HU7 4PZ       ┆               ┆               ┆      │\n",
       "│ 89959      ┆ 15 BLANKET     ┆ 5000        ┆ 15 BLANKET    ┆ [\"15 BLANKET  ┆ 4             ┆ HULL │\n",
       "│            ┆ ROW,           ┆             ┆ ROW,          ┆ ROW\", \"HULL\", ┆               ┆      │\n",
       "│            ┆ HULL,          ┆             ┆ HULL,         ┆ … \"HU1 1AX\"]  ┆               ┆      │\n",
       "│            ┆ ENGLAND,       ┆             ┆ ENGLAND,      ┆               ┆               ┆      │\n",
       "│            ┆ HU1 1AX        ┆             ┆ HU1 1AX       ┆               ┆               ┆      │\n",
       "│ 90320      ┆ HULL SPORTS    ┆ 5500        ┆ HULL SPORTS   ┆ [\"HULL SPORTS ┆ 6             ┆ HULL │\n",
       "│            ┆ CENTRE,        ┆             ┆ CENTRE,       ┆ CENTRE\",      ┆               ┆      │\n",
       "│            ┆ CHANTERLANDS   ┆             ┆ CHANTERLANDS  ┆ \"CHANTERLANDS ┆               ┆      │\n",
       "│            ┆ AVENUE,        ┆             ┆ AVENUE,       ┆ AVENUE\", …    ┆               ┆      │\n",
       "│            ┆ HULL,          ┆             ┆ HULL,         ┆ \"HU5 4EF\"]    ┆               ┆      │\n",
       "│            ┆ EAST           ┆             ┆ EAST          ┆               ┆               ┆      │\n",
       "│            ┆ YORKSHIRE,     ┆             ┆ YORKSHIRE,    ┆               ┆               ┆      │\n",
       "│            ┆ ENGLAND,       ┆             ┆ ENGLAND,      ┆               ┆               ┆      │\n",
       "│            ┆ HU5 4EF        ┆             ┆ HU5 4EF       ┆               ┆               ┆      │\n",
       "│ 90854      ┆ South View     ┆ 4400        ┆ SOUTH VIEW    ┆ [\"SOUTH VIEW  ┆ 6             ┆ HULL │\n",
       "│            ┆ House 16       ┆             ┆ HOUSE 16      ┆ HOUSE 16      ┆               ┆      │\n",
       "│            ┆ Church Street, ┆             ┆ CHURCH        ┆ CHURCH        ┆               ┆      │\n",
       "│            ┆ South Cave,    ┆             ┆ STREET,       ┆ STREET\",      ┆               ┆      │\n",
       "│            ┆ Brough,        ┆             ┆ SOUTH CAVE,   ┆ \"SOUTH CAVE\", ┆               ┆      │\n",
       "│            ┆ Hull,          ┆             ┆ BROUGH,       ┆ … \"HU15 2EH\"] ┆               ┆      │\n",
       "│            ┆ England,       ┆             ┆ HULL,         ┆               ┆               ┆      │\n",
       "│            ┆ Hu15 2Eh       ┆             ┆ ENGLAND,      ┆               ┆               ┆      │\n",
       "│            ┆                ┆             ┆ HU15 2EH      ┆               ┆               ┆      │\n",
       "│ 91948      ┆ 1B Ferries     ┆ 2500        ┆ 1B FERRIES    ┆ [\"1B FERRIES  ┆ 4             ┆ HULL │\n",
       "│            ┆ Street,        ┆             ┆ STREET,       ┆ STREET\",      ┆               ┆      │\n",
       "│            ┆ Hull,          ┆             ┆ HULL,         ┆ \"HULL\", …     ┆               ┆      │\n",
       "│            ┆ England,       ┆             ┆ ENGLAND,      ┆ \"HU9 1RL\"]    ┆               ┆      │\n",
       "│            ┆ Hu9 1Rl        ┆             ┆ HU9 1RL       ┆               ┆               ┆      │\n",
       "│ 93054      ┆ 68 PARAGON     ┆ 2000        ┆ 68 PARAGON    ┆ [\"68 PARAGON  ┆ 3             ┆ HULL │\n",
       "│            ┆ STREET,        ┆             ┆ STREET,       ┆ STREET\",      ┆               ┆      │\n",
       "│            ┆ HULL,          ┆             ┆ HULL,         ┆ \"HULL\", \"HU1  ┆               ┆      │\n",
       "│            ┆ HU1 3PW        ┆             ┆ HU1 3PW       ┆ 3PW\"]         ┆               ┆      │\n",
       "│ 93112      ┆ 8 ANLABY ROAD, ┆ 5700        ┆ 8 ANLABY      ┆ [\"8 ANLABY    ┆ 4             ┆ HULL │\n",
       "│            ┆ HULL,          ┆             ┆ ROAD,         ┆ ROAD\",        ┆               ┆      │\n",
       "│            ┆ ENGLAND,       ┆             ┆ HULL,         ┆ \"HULL\", …     ┆               ┆      │\n",
       "│            ┆ HU3 6QG        ┆             ┆ ENGLAND,      ┆ \"HU3 6QG\"]    ┆               ┆      │\n",
       "│            ┆                ┆             ┆ HU3 6QG       ┆               ┆               ┆      │\n",
       "│ 93469      ┆ C/O SEWELL     ┆ 5100        ┆ C/O SEWELL    ┆ [\"C/O SEWELL  ┆ 5             ┆ HULL │\n",
       "│            ┆ GROUP PLC,     ┆             ┆ GROUP PLC,    ┆ GROUP PLC\",   ┆               ┆      │\n",
       "│            ┆ GENEVA WAY,    ┆             ┆ GENEVA WAY,   ┆ \"GENEVA WAY\", ┆               ┆      │\n",
       "│            ┆ LEADS ROAD,    ┆             ┆ LEADS ROAD,   ┆ … \"HU7 0DG\"]  ┆               ┆      │\n",
       "│            ┆ HULL,          ┆             ┆ HULL,         ┆               ┆               ┆      │\n",
       "│            ┆ HU7 0DG        ┆             ┆ HU7 0DG       ┆               ┆               ┆      │\n",
       "│ 93723      ┆ 476A BEVERLEY  ┆ 6600        ┆ 476A BEVERLEY ┆ [\"476A        ┆ 4             ┆ HULL │\n",
       "│            ┆ ROAD,          ┆             ┆ ROAD,         ┆ BEVERLEY      ┆               ┆      │\n",
       "│            ┆ HULL,          ┆             ┆ HULL,         ┆ ROAD\",        ┆               ┆      │\n",
       "│            ┆ ENGLAND,       ┆             ┆ ENGLAND,      ┆ \"HULL\", …     ┆               ┆      │\n",
       "│            ┆ HU5 1NE        ┆             ┆ HU5 1NE       ┆ \"HU5 1NE\"]    ┆               ┆      │\n",
       "│ 93880      ┆ EVERGREEN RISE ┆ 4000        ┆ EVERGREEN     ┆ [\"EVERGREEN   ┆ 5             ┆ HULL │\n",
       "│            ┆ ROAD,          ┆             ┆ RISE ROAD,    ┆ RISE ROAD\",   ┆               ┆      │\n",
       "│            ┆ SKIRLAUGH,     ┆             ┆ SKIRLAUGH,    ┆ \"SKIRLAUGH\",  ┆               ┆      │\n",
       "│            ┆ HULL,          ┆             ┆ HULL,         ┆ … \"HU11 5BH\"] ┆               ┆      │\n",
       "│            ┆ E YORKSHIRE,   ┆             ┆ E YORKSHIRE,  ┆               ┆               ┆      │\n",
       "│            ┆ HU11 5BH       ┆             ┆ HU11 5BH      ┆               ┆               ┆      │\n",
       "│ 94429      ┆ CHURCHILL      ┆ 6200        ┆ CHURCHILL     ┆ [\"CHURCHILL   ┆ 5             ┆ HULL │\n",
       "│            ┆ HOUSE,         ┆             ┆ HOUSE,        ┆ HOUSE\",       ┆               ┆      │\n",
       "│            ┆ CHURCHILL      ┆             ┆ CHURCHILL     ┆ \"CHURCHILL    ┆               ┆      │\n",
       "│            ┆ STREET,        ┆             ┆ STREET,       ┆ STREET\", …    ┆               ┆      │\n",
       "│            ┆ HULL,          ┆             ┆ HULL,         ┆ \"HU9 1RR\"]    ┆               ┆      │\n",
       "│            ┆ EAST           ┆             ┆ EAST          ┆               ┆               ┆      │\n",
       "│            ┆ YORKSHIRE,     ┆             ┆ YORKSHIRE,    ┆               ┆               ┆      │\n",
       "│            ┆ HU9 1RR        ┆             ┆ HU9 1RR       ┆               ┆               ┆      │\n",
       "│ 94796      ┆ Kidsons Impey, ┆ 4800        ┆ KIDSONS       ┆ [\"KIDSONS     ┆ 5             ┆ HULL │\n",
       "│            ┆ Dunedin House  ┆             ┆ IMPEY,        ┆ IMPEY\",       ┆               ┆      │\n",
       "│            ┆ 45 Percy       ┆             ┆ DUNEDIN HOUSE ┆ \"DUNEDIN      ┆               ┆      │\n",
       "│            ┆ Street,        ┆             ┆ 45 PERCY      ┆ HOUSE 45      ┆               ┆      │\n",
       "│            ┆ Hull,          ┆             ┆ STREET,       ┆ PERCY         ┆               ┆      │\n",
       "│            ┆ East           ┆             ┆ HULL,         ┆ STREET\", …    ┆               ┆      │\n",
       "│            ┆ Yorkshire,     ┆             ┆ EAST          ┆ \"HU2 8HL\"]    ┆               ┆      │\n",
       "│            ┆ Hu2 8Hl        ┆             ┆ YORKSHIRE,    ┆               ┆               ┆      │\n",
       "│            ┆                ┆             ┆ HU2 8HL       ┆               ┆               ┆      │\n",
       "│ 95509      ┆ 295 WILLERBY   ┆ 3300        ┆ 295 WILLERBY  ┆ [\"295         ┆ 5             ┆ HULL │\n",
       "│            ┆ ROAD,          ┆             ┆ ROAD,         ┆ WILLERBY      ┆               ┆      │\n",
       "│            ┆ HULL,          ┆             ┆ HULL,         ┆ ROAD\",        ┆               ┆      │\n",
       "│            ┆ EAST           ┆             ┆ EAST          ┆ \"HULL\", …     ┆               ┆      │\n",
       "│            ┆ YORKSHIRE,     ┆             ┆ YORKSHIRE,    ┆ \"HU5 5HP\"]    ┆               ┆      │\n",
       "│            ┆ ENGLAND,       ┆             ┆ ENGLAND,      ┆               ┆               ┆      │\n",
       "│            ┆ HU5 5HP        ┆             ┆ HU5 5HP       ┆               ┆               ┆      │\n",
       "│ 96070      ┆ 121 WEST       ┆ 4100        ┆ 121 WEST      ┆ [\"121 WEST    ┆ 5             ┆ HULL │\n",
       "│            ┆ GROVE,         ┆             ┆ GROVE,        ┆ GROVE\",       ┆               ┆      │\n",
       "│            ┆ LAKESIDE,      ┆             ┆ LAKESIDE,     ┆ \"LAKESIDE\", … ┆               ┆      │\n",
       "│            ┆ HULL,          ┆             ┆ HULL,         ┆ \"HU4 6RH\"]    ┆               ┆      │\n",
       "│            ┆ UNITED         ┆             ┆ UNITED        ┆               ┆               ┆      │\n",
       "│            ┆ KINGDOM,       ┆             ┆ KINGDOM,      ┆               ┆               ┆      │\n",
       "│            ┆ HU4 6RH        ┆             ┆ HU4 6RH       ┆               ┆               ┆      │\n",
       "│ 96934      ┆ ONE HUMBER     ┆ 7400        ┆ ONE HUMBER    ┆ [\"ONE HUMBER  ┆ 5             ┆ HULL │\n",
       "│            ┆ QUAYS,         ┆             ┆ QUAYS,        ┆ QUAYS\",       ┆               ┆      │\n",
       "│            ┆ WELLINGTON     ┆             ┆ WELLINGTON    ┆ \"WELLINGTON   ┆               ┆      │\n",
       "│            ┆ STREET WEST,   ┆             ┆ STREET WEST,  ┆ STREET WEST\", ┆               ┆      │\n",
       "│            ┆ HULL,          ┆             ┆ HULL,         ┆ … \"HU1 2BN\"]  ┆               ┆      │\n",
       "│            ┆ EAST           ┆             ┆ EAST          ┆               ┆               ┆      │\n",
       "│            ┆ YORKSHIRE,     ┆             ┆ YORKSHIRE,    ┆               ┆               ┆      │\n",
       "│            ┆ HU1 2BN        ┆             ┆ HU1 2BN       ┆               ┆               ┆      │\n",
       "│ 96938      ┆ OAKLEIGH       ┆ 5700        ┆ OAKLEIGH      ┆ [\"OAKLEIGH    ┆ 5             ┆ HULL │\n",
       "│            ┆ GRANGE FARM    ┆             ┆ GRANGE FARM   ┆ GRANGE FARM   ┆               ┆      │\n",
       "│            ┆ MEWS,          ┆             ┆ MEWS,         ┆ MEWS\",        ┆               ┆      │\n",
       "│            ┆ WILLERBY,      ┆             ┆ WILLERBY,     ┆ \"WILLERBY\", … ┆               ┆      │\n",
       "│            ┆ HULL,          ┆             ┆ HULL,         ┆ \"HU10 6DY\"]   ┆               ┆      │\n",
       "│            ┆ ENGLAND,       ┆             ┆ ENGLAND,      ┆               ┆               ┆      │\n",
       "│            ┆ HU10 6DY       ┆             ┆ HU10 6DY      ┆               ┆               ┆      │\n",
       "│ 96969      ┆ 11 SAVILLE     ┆ 4700        ┆ 11 SAVILLE    ┆ [\"11 SAVILLE  ┆ 4             ┆ HULL │\n",
       "│            ┆ STREET,        ┆             ┆ STREET,       ┆ STREET\",      ┆               ┆      │\n",
       "│            ┆ HULL,          ┆             ┆ HULL,         ┆ \"HULL\", …     ┆               ┆      │\n",
       "│            ┆ UNITED         ┆             ┆ UNITED        ┆ \"HU1 3EF\"]    ┆               ┆      │\n",
       "│            ┆ KINGDOM,       ┆             ┆ KINGDOM,      ┆               ┆               ┆      │\n",
       "│            ┆ HU1 3EF        ┆             ┆ HU1 3EF       ┆               ┆               ┆      │\n",
       "│ 97106      ┆ 138            ┆ 5600        ┆ 138           ┆ [\"138         ┆ 4             ┆ HULL │\n",
       "│            ┆ SUMMERGANGS    ┆             ┆ SUMMERGANGS   ┆ SUMMERGANGS   ┆               ┆      │\n",
       "│            ┆ ROAD,          ┆             ┆ ROAD,         ┆ ROAD\",        ┆               ┆      │\n",
       "│            ┆ HULL,          ┆             ┆ HULL,         ┆ \"HULL\", …     ┆               ┆      │\n",
       "│            ┆ ENGLAND,       ┆             ┆ ENGLAND,      ┆ \"HU8 8LN\"]    ┆               ┆      │\n",
       "│            ┆ HU8 8LN        ┆             ┆ HU8 8LN       ┆               ┆               ┆      │\n",
       "│ 97481      ┆ 173 WINGFIELD  ┆ 5200        ┆ 173 WINGFIELD ┆ [\"173         ┆ 4             ┆ HULL │\n",
       "│            ┆ ROAD,          ┆             ┆ ROAD,         ┆ WINGFIELD     ┆               ┆      │\n",
       "│            ┆ HULL,          ┆             ┆ HULL,         ┆ ROAD\",        ┆               ┆      │\n",
       "│            ┆ ENGLAND,       ┆             ┆ ENGLAND,      ┆ \"HULL\", …     ┆               ┆      │\n",
       "│            ┆ HU9 4QE        ┆             ┆ HU9 4QE       ┆ \"HU9 4QE\"]    ┆               ┆      │\n",
       "│ 98002      ┆ 388 MAIN ROAD, ┆ 4100        ┆ 388 MAIN      ┆ [\"388 MAIN    ┆ 4             ┆ HULL │\n",
       "│            ┆ HULL,          ┆             ┆ ROAD,         ┆ ROAD\",        ┆               ┆      │\n",
       "│            ┆ ENGLAND,       ┆             ┆ HULL,         ┆ \"HULL\", …     ┆               ┆      │\n",
       "│            ┆ HU11 4DB       ┆             ┆ ENGLAND,      ┆ \"HU11 4DB\"]   ┆               ┆      │\n",
       "│            ┆                ┆             ┆ HU11 4DB      ┆               ┆               ┆      │\n",
       "│ 98287      ┆ 21 JAMESON     ┆ 5500        ┆ 21 JAMESON    ┆ [\"21 JAMESON  ┆ 4             ┆ HULL │\n",
       "│            ┆ STREET,        ┆             ┆ STREET,       ┆ STREET\",      ┆               ┆      │\n",
       "│            ┆ HULL,          ┆             ┆ HULL,         ┆ \"HULL\", …     ┆               ┆      │\n",
       "│            ┆ UNITED         ┆             ┆ UNITED        ┆ \"HU1 3HR\"]    ┆               ┆      │\n",
       "│            ┆ KINGDOM,       ┆             ┆ KINGDOM,      ┆               ┆               ┆      │\n",
       "│            ┆ HU1 3HR        ┆             ┆ HU1 3HR       ┆               ┆               ┆      │\n",
       "│ 98480      ┆ 31-38 QUEEN    ┆ 4500        ┆ 31-38 QUEEN   ┆ [\"31-38 QUEEN ┆ 4             ┆ HULL │\n",
       "│            ┆ STREET,        ┆             ┆ STREET,       ┆ STREET\",      ┆               ┆      │\n",
       "│            ┆ HULL,          ┆             ┆ HULL,         ┆ \"HULL\", …     ┆               ┆      │\n",
       "│            ┆ ENGLAND,       ┆             ┆ ENGLAND,      ┆ \"HU1 1UU\"]    ┆               ┆      │\n",
       "│            ┆ HU1 1UU        ┆             ┆ HU1 1UU       ┆               ┆               ┆      │\n",
       "│ 98887      ┆ 13 SALMON      ┆ 5000        ┆ 13 SALMON     ┆ [\"13 SALMON   ┆ 5             ┆ HULL │\n",
       "│            ┆ GROVE,         ┆             ┆ GROVE,        ┆ GROVE\",       ┆               ┆      │\n",
       "│            ┆ HULL,          ┆             ┆ HULL,         ┆ \"HULL\", …     ┆               ┆      │\n",
       "│            ┆ EAST           ┆             ┆ EAST          ┆ \"HU6 7SX\"]    ┆               ┆      │\n",
       "│            ┆ YORKSHIRE,     ┆             ┆ YORKSHIRE,    ┆               ┆               ┆      │\n",
       "│            ┆ ENGLAND,       ┆             ┆ ENGLAND,      ┆               ┆               ┆      │\n",
       "│            ┆ HU6 7SX        ┆             ┆ HU6 7SX       ┆               ┆               ┆      │\n",
       "│ 99197      ┆ 22 19TH        ┆ 5900        ┆ 22 19TH       ┆ [\"22 19TH     ┆ 4             ┆ HULL │\n",
       "│            ┆ AVENUE,        ┆             ┆ AVENUE,       ┆ AVENUE\",      ┆               ┆      │\n",
       "│            ┆ HULL,          ┆             ┆ HULL,         ┆ \"HULL\", …     ┆               ┆      │\n",
       "│            ┆ ENGLAND,       ┆             ┆ ENGLAND,      ┆ \"HU6 8HF\"]    ┆               ┆      │\n",
       "│            ┆ HU6 8HF        ┆             ┆ HU6 8HF       ┆               ┆               ┆      │\n",
       "│ 99435      ┆ F14 THE BLOC   ┆ 3100        ┆ F14 THE BLOC  ┆ [\"F14 THE     ┆ 6             ┆ HULL │\n",
       "│            ┆ SPRINGFIELD    ┆             ┆ SPRINGFIELD   ┆ BLOC          ┆               ┆      │\n",
       "│            ┆ WAY,           ┆             ┆ WAY,          ┆ SPRINGFIELD   ┆               ┆      │\n",
       "│            ┆ ANLABY,        ┆             ┆ ANLABY,       ┆ WAY\",         ┆               ┆      │\n",
       "│            ┆ HULL,          ┆             ┆ HULL,         ┆ \"ANLABY\", …   ┆               ┆      │\n",
       "│            ┆ EAST           ┆             ┆ EAST          ┆ \"HU10 6RJ\"]   ┆               ┆      │\n",
       "│            ┆ YORKSHIRE,     ┆             ┆ YORKSHIRE,    ┆               ┆               ┆      │\n",
       "│            ┆ ENGLAND,       ┆             ┆ ENGLAND,      ┆               ┆               ┆      │\n",
       "│            ┆ HU10 6RJ       ┆             ┆ HU10 6RJ      ┆               ┆               ┆      │\n",
       "│ 99660      ┆ 273 ANLABY     ┆ 6400        ┆ 273 ANLABY    ┆ [\"273 ANLABY  ┆ 5             ┆ HULL │\n",
       "│            ┆ ROAD,          ┆             ┆ ROAD,         ┆ ROAD\",        ┆               ┆      │\n",
       "│            ┆ HULL,          ┆             ┆ HULL,         ┆ \"HULL\", …     ┆               ┆      │\n",
       "│            ┆ EAST RIDING OF ┆             ┆ EAST RIDING   ┆ \"HU3 2SE\"]    ┆               ┆      │\n",
       "│            ┆ YORKSHIRE,     ┆             ┆ OF YORKSHIRE, ┆               ┆               ┆      │\n",
       "│            ┆ UNITED         ┆             ┆ UNITED        ┆               ┆               ┆      │\n",
       "│            ┆ KINGDOM,       ┆             ┆ KINGDOM,      ┆               ┆               ┆      │\n",
       "│            ┆ HU3 2SE        ┆             ┆ HU3 2SE       ┆               ┆               ┆      │\n",
       "└────────────┴────────────────┴─────────────┴───────────────┴───────────────┴───────────────┴──────┘"
      ]
     },
     "execution_count": 316,
     "metadata": {},
     "output_type": "execute_result"
    }
   ],
   "source": [
    "customers_df = customers_df.with_columns([\n",
    "    pl.when(pl.col(\"address_clean\").str.contains(\"\\nHULL,\"))\n",
    "      .then(pl.lit(\"HULL\"))\n",
    "      .otherwise(pl.col(\"city\"))\n",
    "      .alias(\"city\")\n",
    "])\n",
    "\n",
    "set(cities_df[\"city\"]) - set(customers_df[\"city\"])\n",
    "\n",
    "customers_df.filter(pl.col(\"address_clean\").str.contains(\"\\nHULL,\"))"
   ]
  },
  {
   "cell_type": "markdown",
   "metadata": {},
   "source": [
    "<!-- # Modeling -->"
   ]
  },
  {
   "cell_type": "markdown",
   "metadata": {},
   "source": [
    "# Evaluation\n"
   ]
  },
  {
   "cell_type": "code",
   "execution_count": 362,
   "metadata": {},
   "outputs": [
    {
     "data": {
      "application/vnd.plotly.v1+json": {
       "config": {
        "plotlyServerURL": "https://plot.ly"
       },
       "data": [
        {
         "alignmentgroup": "True",
         "hovertemplate": "total_spending=%{text}<br>city=%{y}<extra></extra>",
         "legendgroup": "",
         "marker": {
          "color": "#636efa",
          "pattern": {
           "shape": ""
          }
         },
         "name": "",
         "offsetgroup": "",
         "orientation": "h",
         "showlegend": false,
         "text": [
          2.04,
          2.06,
          2.06,
          2.26,
          2.38,
          2.49,
          2.68,
          3.5,
          3.97,
          4.16,
          4.2,
          4.43,
          5.09,
          5.17,
          5.73,
          6.29,
          9.32,
          9.34,
          103.09,
          267.86
         ],
         "textposition": "outside",
         "type": "bar",
         "x": [
          2.04,
          2.06,
          2.06,
          2.26,
          2.38,
          2.49,
          2.68,
          3.5,
          3.97,
          4.16,
          4.2,
          4.43,
          5.09,
          5.17,
          5.73,
          6.29,
          9.32,
          9.34,
          103.09,
          267.86
         ],
         "xaxis": "x",
         "y": [
          "PRESTON",
          "BRADFORD",
          "BELFAST",
          "NORWICH",
          "SOUTHAMPTON",
          "MILTON KEYNES",
          "COVENTRY",
          "SHEFFIELD",
          "CARDIFF",
          "LIVERPOOL",
          "NOTTINGHAM",
          "LEICESTER",
          "EDINBURGH",
          "LEEDS",
          "BRISTOL",
          "GLASGOW",
          "BIRMINGHAM",
          "MANCHESTER",
          "LONDON",
          "OTHER"
         ],
         "yaxis": "y"
        }
       ],
       "layout": {
        "annotations": [
         {
          "font": {
           "size": 12
          },
          "showarrow": false,
          "text": "Over 50% of customers are not in London or major cities.",
          "x": 1,
          "xref": "paper",
          "y": -0.2,
          "yref": "paper"
         }
        ],
        "autosize": true,
        "barmode": "relative",
        "height": 600,
        "legend": {
         "tracegroupgap": 0
        },
        "template": {
         "data": {
          "bar": [
           {
            "error_x": {
             "color": "#2a3f5f"
            },
            "error_y": {
             "color": "#2a3f5f"
            },
            "marker": {
             "line": {
              "color": "#E5ECF6",
              "width": 0.5
             },
             "pattern": {
              "fillmode": "overlay",
              "size": 10,
              "solidity": 0.2
             }
            },
            "type": "bar"
           }
          ],
          "barpolar": [
           {
            "marker": {
             "line": {
              "color": "#E5ECF6",
              "width": 0.5
             },
             "pattern": {
              "fillmode": "overlay",
              "size": 10,
              "solidity": 0.2
             }
            },
            "type": "barpolar"
           }
          ],
          "carpet": [
           {
            "aaxis": {
             "endlinecolor": "#2a3f5f",
             "gridcolor": "white",
             "linecolor": "white",
             "minorgridcolor": "white",
             "startlinecolor": "#2a3f5f"
            },
            "baxis": {
             "endlinecolor": "#2a3f5f",
             "gridcolor": "white",
             "linecolor": "white",
             "minorgridcolor": "white",
             "startlinecolor": "#2a3f5f"
            },
            "type": "carpet"
           }
          ],
          "choropleth": [
           {
            "colorbar": {
             "outlinewidth": 0,
             "ticks": ""
            },
            "type": "choropleth"
           }
          ],
          "contour": [
           {
            "colorbar": {
             "outlinewidth": 0,
             "ticks": ""
            },
            "colorscale": [
             [
              0,
              "#0d0887"
             ],
             [
              0.1111111111111111,
              "#46039f"
             ],
             [
              0.2222222222222222,
              "#7201a8"
             ],
             [
              0.3333333333333333,
              "#9c179e"
             ],
             [
              0.4444444444444444,
              "#bd3786"
             ],
             [
              0.5555555555555556,
              "#d8576b"
             ],
             [
              0.6666666666666666,
              "#ed7953"
             ],
             [
              0.7777777777777778,
              "#fb9f3a"
             ],
             [
              0.8888888888888888,
              "#fdca26"
             ],
             [
              1,
              "#f0f921"
             ]
            ],
            "type": "contour"
           }
          ],
          "contourcarpet": [
           {
            "colorbar": {
             "outlinewidth": 0,
             "ticks": ""
            },
            "type": "contourcarpet"
           }
          ],
          "heatmap": [
           {
            "colorbar": {
             "outlinewidth": 0,
             "ticks": ""
            },
            "colorscale": [
             [
              0,
              "#0d0887"
             ],
             [
              0.1111111111111111,
              "#46039f"
             ],
             [
              0.2222222222222222,
              "#7201a8"
             ],
             [
              0.3333333333333333,
              "#9c179e"
             ],
             [
              0.4444444444444444,
              "#bd3786"
             ],
             [
              0.5555555555555556,
              "#d8576b"
             ],
             [
              0.6666666666666666,
              "#ed7953"
             ],
             [
              0.7777777777777778,
              "#fb9f3a"
             ],
             [
              0.8888888888888888,
              "#fdca26"
             ],
             [
              1,
              "#f0f921"
             ]
            ],
            "type": "heatmap"
           }
          ],
          "heatmapgl": [
           {
            "colorbar": {
             "outlinewidth": 0,
             "ticks": ""
            },
            "colorscale": [
             [
              0,
              "#0d0887"
             ],
             [
              0.1111111111111111,
              "#46039f"
             ],
             [
              0.2222222222222222,
              "#7201a8"
             ],
             [
              0.3333333333333333,
              "#9c179e"
             ],
             [
              0.4444444444444444,
              "#bd3786"
             ],
             [
              0.5555555555555556,
              "#d8576b"
             ],
             [
              0.6666666666666666,
              "#ed7953"
             ],
             [
              0.7777777777777778,
              "#fb9f3a"
             ],
             [
              0.8888888888888888,
              "#fdca26"
             ],
             [
              1,
              "#f0f921"
             ]
            ],
            "type": "heatmapgl"
           }
          ],
          "histogram": [
           {
            "marker": {
             "pattern": {
              "fillmode": "overlay",
              "size": 10,
              "solidity": 0.2
             }
            },
            "type": "histogram"
           }
          ],
          "histogram2d": [
           {
            "colorbar": {
             "outlinewidth": 0,
             "ticks": ""
            },
            "colorscale": [
             [
              0,
              "#0d0887"
             ],
             [
              0.1111111111111111,
              "#46039f"
             ],
             [
              0.2222222222222222,
              "#7201a8"
             ],
             [
              0.3333333333333333,
              "#9c179e"
             ],
             [
              0.4444444444444444,
              "#bd3786"
             ],
             [
              0.5555555555555556,
              "#d8576b"
             ],
             [
              0.6666666666666666,
              "#ed7953"
             ],
             [
              0.7777777777777778,
              "#fb9f3a"
             ],
             [
              0.8888888888888888,
              "#fdca26"
             ],
             [
              1,
              "#f0f921"
             ]
            ],
            "type": "histogram2d"
           }
          ],
          "histogram2dcontour": [
           {
            "colorbar": {
             "outlinewidth": 0,
             "ticks": ""
            },
            "colorscale": [
             [
              0,
              "#0d0887"
             ],
             [
              0.1111111111111111,
              "#46039f"
             ],
             [
              0.2222222222222222,
              "#7201a8"
             ],
             [
              0.3333333333333333,
              "#9c179e"
             ],
             [
              0.4444444444444444,
              "#bd3786"
             ],
             [
              0.5555555555555556,
              "#d8576b"
             ],
             [
              0.6666666666666666,
              "#ed7953"
             ],
             [
              0.7777777777777778,
              "#fb9f3a"
             ],
             [
              0.8888888888888888,
              "#fdca26"
             ],
             [
              1,
              "#f0f921"
             ]
            ],
            "type": "histogram2dcontour"
           }
          ],
          "mesh3d": [
           {
            "colorbar": {
             "outlinewidth": 0,
             "ticks": ""
            },
            "type": "mesh3d"
           }
          ],
          "parcoords": [
           {
            "line": {
             "colorbar": {
              "outlinewidth": 0,
              "ticks": ""
             }
            },
            "type": "parcoords"
           }
          ],
          "pie": [
           {
            "automargin": true,
            "type": "pie"
           }
          ],
          "scatter": [
           {
            "fillpattern": {
             "fillmode": "overlay",
             "size": 10,
             "solidity": 0.2
            },
            "type": "scatter"
           }
          ],
          "scatter3d": [
           {
            "line": {
             "colorbar": {
              "outlinewidth": 0,
              "ticks": ""
             }
            },
            "marker": {
             "colorbar": {
              "outlinewidth": 0,
              "ticks": ""
             }
            },
            "type": "scatter3d"
           }
          ],
          "scattercarpet": [
           {
            "marker": {
             "colorbar": {
              "outlinewidth": 0,
              "ticks": ""
             }
            },
            "type": "scattercarpet"
           }
          ],
          "scattergeo": [
           {
            "marker": {
             "colorbar": {
              "outlinewidth": 0,
              "ticks": ""
             }
            },
            "type": "scattergeo"
           }
          ],
          "scattergl": [
           {
            "marker": {
             "colorbar": {
              "outlinewidth": 0,
              "ticks": ""
             }
            },
            "type": "scattergl"
           }
          ],
          "scattermapbox": [
           {
            "marker": {
             "colorbar": {
              "outlinewidth": 0,
              "ticks": ""
             }
            },
            "type": "scattermapbox"
           }
          ],
          "scatterpolar": [
           {
            "marker": {
             "colorbar": {
              "outlinewidth": 0,
              "ticks": ""
             }
            },
            "type": "scatterpolar"
           }
          ],
          "scatterpolargl": [
           {
            "marker": {
             "colorbar": {
              "outlinewidth": 0,
              "ticks": ""
             }
            },
            "type": "scatterpolargl"
           }
          ],
          "scatterternary": [
           {
            "marker": {
             "colorbar": {
              "outlinewidth": 0,
              "ticks": ""
             }
            },
            "type": "scatterternary"
           }
          ],
          "surface": [
           {
            "colorbar": {
             "outlinewidth": 0,
             "ticks": ""
            },
            "colorscale": [
             [
              0,
              "#0d0887"
             ],
             [
              0.1111111111111111,
              "#46039f"
             ],
             [
              0.2222222222222222,
              "#7201a8"
             ],
             [
              0.3333333333333333,
              "#9c179e"
             ],
             [
              0.4444444444444444,
              "#bd3786"
             ],
             [
              0.5555555555555556,
              "#d8576b"
             ],
             [
              0.6666666666666666,
              "#ed7953"
             ],
             [
              0.7777777777777778,
              "#fb9f3a"
             ],
             [
              0.8888888888888888,
              "#fdca26"
             ],
             [
              1,
              "#f0f921"
             ]
            ],
            "type": "surface"
           }
          ],
          "table": [
           {
            "cells": {
             "fill": {
              "color": "#EBF0F8"
             },
             "line": {
              "color": "white"
             }
            },
            "header": {
             "fill": {
              "color": "#C8D4E3"
             },
             "line": {
              "color": "white"
             }
            },
            "type": "table"
           }
          ]
         },
         "layout": {
          "annotationdefaults": {
           "arrowcolor": "#2a3f5f",
           "arrowhead": 0,
           "arrowwidth": 1
          },
          "autotypenumbers": "strict",
          "coloraxis": {
           "colorbar": {
            "outlinewidth": 0,
            "ticks": ""
           }
          },
          "colorscale": {
           "diverging": [
            [
             0,
             "#8e0152"
            ],
            [
             0.1,
             "#c51b7d"
            ],
            [
             0.2,
             "#de77ae"
            ],
            [
             0.3,
             "#f1b6da"
            ],
            [
             0.4,
             "#fde0ef"
            ],
            [
             0.5,
             "#f7f7f7"
            ],
            [
             0.6,
             "#e6f5d0"
            ],
            [
             0.7,
             "#b8e186"
            ],
            [
             0.8,
             "#7fbc41"
            ],
            [
             0.9,
             "#4d9221"
            ],
            [
             1,
             "#276419"
            ]
           ],
           "sequential": [
            [
             0,
             "#0d0887"
            ],
            [
             0.1111111111111111,
             "#46039f"
            ],
            [
             0.2222222222222222,
             "#7201a8"
            ],
            [
             0.3333333333333333,
             "#9c179e"
            ],
            [
             0.4444444444444444,
             "#bd3786"
            ],
            [
             0.5555555555555556,
             "#d8576b"
            ],
            [
             0.6666666666666666,
             "#ed7953"
            ],
            [
             0.7777777777777778,
             "#fb9f3a"
            ],
            [
             0.8888888888888888,
             "#fdca26"
            ],
            [
             1,
             "#f0f921"
            ]
           ],
           "sequentialminus": [
            [
             0,
             "#0d0887"
            ],
            [
             0.1111111111111111,
             "#46039f"
            ],
            [
             0.2222222222222222,
             "#7201a8"
            ],
            [
             0.3333333333333333,
             "#9c179e"
            ],
            [
             0.4444444444444444,
             "#bd3786"
            ],
            [
             0.5555555555555556,
             "#d8576b"
            ],
            [
             0.6666666666666666,
             "#ed7953"
            ],
            [
             0.7777777777777778,
             "#fb9f3a"
            ],
            [
             0.8888888888888888,
             "#fdca26"
            ],
            [
             1,
             "#f0f921"
            ]
           ]
          },
          "colorway": [
           "#636efa",
           "#EF553B",
           "#00cc96",
           "#ab63fa",
           "#FFA15A",
           "#19d3f3",
           "#FF6692",
           "#B6E880",
           "#FF97FF",
           "#FECB52"
          ],
          "font": {
           "color": "#2a3f5f"
          },
          "geo": {
           "bgcolor": "white",
           "lakecolor": "white",
           "landcolor": "#E5ECF6",
           "showlakes": true,
           "showland": true,
           "subunitcolor": "white"
          },
          "hoverlabel": {
           "align": "left"
          },
          "hovermode": "closest",
          "mapbox": {
           "style": "light"
          },
          "paper_bgcolor": "white",
          "plot_bgcolor": "#E5ECF6",
          "polar": {
           "angularaxis": {
            "gridcolor": "white",
            "linecolor": "white",
            "ticks": ""
           },
           "bgcolor": "#E5ECF6",
           "radialaxis": {
            "gridcolor": "white",
            "linecolor": "white",
            "ticks": ""
           }
          },
          "scene": {
           "xaxis": {
            "backgroundcolor": "#E5ECF6",
            "gridcolor": "white",
            "gridwidth": 2,
            "linecolor": "white",
            "showbackground": true,
            "ticks": "",
            "zerolinecolor": "white"
           },
           "yaxis": {
            "backgroundcolor": "#E5ECF6",
            "gridcolor": "white",
            "gridwidth": 2,
            "linecolor": "white",
            "showbackground": true,
            "ticks": "",
            "zerolinecolor": "white"
           },
           "zaxis": {
            "backgroundcolor": "#E5ECF6",
            "gridcolor": "white",
            "gridwidth": 2,
            "linecolor": "white",
            "showbackground": true,
            "ticks": "",
            "zerolinecolor": "white"
           }
          },
          "shapedefaults": {
           "line": {
            "color": "#2a3f5f"
           }
          },
          "ternary": {
           "aaxis": {
            "gridcolor": "white",
            "linecolor": "white",
            "ticks": ""
           },
           "baxis": {
            "gridcolor": "white",
            "linecolor": "white",
            "ticks": ""
           },
           "bgcolor": "#E5ECF6",
           "caxis": {
            "gridcolor": "white",
            "linecolor": "white",
            "ticks": ""
           }
          },
          "title": {
           "x": 0.05
          },
          "xaxis": {
           "automargin": true,
           "gridcolor": "white",
           "linecolor": "white",
           "ticks": "",
           "title": {
            "standoff": 15
           },
           "zerolinecolor": "white",
           "zerolinewidth": 2
          },
          "yaxis": {
           "automargin": true,
           "gridcolor": "white",
           "linecolor": "white",
           "ticks": "",
           "title": {
            "standoff": 15
           },
           "zerolinecolor": "white",
           "zerolinewidth": 2
          }
         }
        },
        "title": {
         "text": "Total Customer Spending by City"
        },
        "xaxis": {
         "anchor": "y",
         "domain": [
          0,
          1
         ],
         "tickformat": ",.2f",
         "tickprefix": "£",
         "ticksuffix": "M",
         "title": {
          "text": "total_spending"
         }
        },
        "yaxis": {
         "anchor": "x",
         "domain": [
          0,
          1
         ],
         "title": {
          "text": "Total Spending"
         }
        }
       }
      }
     },
     "metadata": {},
     "output_type": "display_data"
    }
   ],
   "source": [
    "customer_spending_by_city = customers_df.group_by(\"city\")\\\n",
    "    .agg((pl.col(\"total_spend\")/1_000_000)\\\n",
    "        .sum().round(2)\\\n",
    "        .alias(\"total_spending\"))\\\n",
    "    .top_k(20, by=\"total_spending\")\\\n",
    "    .sort(\"total_spending\", descending=False)\n",
    "\n",
    "customer_spending_fig = px.bar(customer_spending_by_city, y=\"city\", x=\"total_spending\", title=\"Total Customer Spending by City\", text=\"total_spending\")\n",
    "\n",
    "customer_spending_fig.update_layout(\n",
    "    height=600,\n",
    "    autosize=True,\n",
    "    yaxis=dict(\n",
    "        title='Total Spending'\n",
    "    ),\n",
    "    xaxis=dict(\n",
    "        tickformat=\",.2f\",\n",
    "        tickprefix=\"£\",\n",
    "        ticksuffix=\"M\"\n",
    "    ),\n",
    "    annotations=[\n",
    "        dict(\n",
    "            text=\"Over 50% of customers are not in London or major cities.\",\n",
    "            showarrow=False,\n",
    "            xref=\"paper\",\n",
    "            yref=\"paper\",\n",
    "            x=1,\n",
    "            y=-0.2,  # Further adjusted y position to move below the x-axis title\n",
    "            font=dict(size=12)\n",
    "        )\n",
    "    ],\n",
    ")\n",
    "\n",
    "customer_spending_fig.update_traces(textposition='outside')\n",
    "\n",
    "customer_spending_fig.show()\n"
   ]
  },
  {
   "cell_type": "markdown",
   "metadata": {},
   "source": [
    "## observations\n",
    "- Most of the customers don't reside in the 76 cities from the list\n",
    "- The cities with the most customers and the most spending are:\n",
    "    - London\n",
    "    - Manchester\n",
    "    - Birmingham\n",
    "- The top 10 cities in the customer count chart generally corresponds with the top cities in the customer spending chart\n",
    "- London customer spending is almost as much as the combined spending for larger cities — meaning customer base is focused around London\n"
   ]
  },
  {
   "cell_type": "code",
   "execution_count": 366,
   "metadata": {},
   "outputs": [
    {
     "data": {
      "application/vnd.plotly.v1+json": {
       "config": {
        "plotlyServerURL": "https://plot.ly"
       },
       "data": [
        {
         "alignmentgroup": "True",
         "hovertemplate": "city=%{x}<br>count=%{y}<extra></extra>",
         "legendgroup": "",
         "marker": {
          "color": "#636efa",
          "pattern": {
           "shape": ""
          }
         },
         "name": "",
         "offsetgroup": "",
         "orientation": "v",
         "showlegend": false,
         "textposition": "auto",
         "type": "bar",
         "x": [
          "OTHER",
          "LONDON",
          "MANCHESTER",
          "BIRMINGHAM",
          "GLASGOW",
          "BRISTOL",
          "LEEDS",
          "EDINBURGH",
          "LEICESTER",
          "LIVERPOOL"
         ],
         "xaxis": "x",
         "y": [
          54175,
          20772,
          1902,
          1866,
          1273,
          1150,
          1040,
          1038,
          905,
          838
         ],
         "yaxis": "y"
        }
       ],
       "layout": {
        "autosize": true,
        "barmode": "relative",
        "height": 600,
        "legend": {
         "tracegroupgap": 0
        },
        "template": {
         "data": {
          "bar": [
           {
            "error_x": {
             "color": "#2a3f5f"
            },
            "error_y": {
             "color": "#2a3f5f"
            },
            "marker": {
             "line": {
              "color": "#E5ECF6",
              "width": 0.5
             },
             "pattern": {
              "fillmode": "overlay",
              "size": 10,
              "solidity": 0.2
             }
            },
            "type": "bar"
           }
          ],
          "barpolar": [
           {
            "marker": {
             "line": {
              "color": "#E5ECF6",
              "width": 0.5
             },
             "pattern": {
              "fillmode": "overlay",
              "size": 10,
              "solidity": 0.2
             }
            },
            "type": "barpolar"
           }
          ],
          "carpet": [
           {
            "aaxis": {
             "endlinecolor": "#2a3f5f",
             "gridcolor": "white",
             "linecolor": "white",
             "minorgridcolor": "white",
             "startlinecolor": "#2a3f5f"
            },
            "baxis": {
             "endlinecolor": "#2a3f5f",
             "gridcolor": "white",
             "linecolor": "white",
             "minorgridcolor": "white",
             "startlinecolor": "#2a3f5f"
            },
            "type": "carpet"
           }
          ],
          "choropleth": [
           {
            "colorbar": {
             "outlinewidth": 0,
             "ticks": ""
            },
            "type": "choropleth"
           }
          ],
          "contour": [
           {
            "colorbar": {
             "outlinewidth": 0,
             "ticks": ""
            },
            "colorscale": [
             [
              0,
              "#0d0887"
             ],
             [
              0.1111111111111111,
              "#46039f"
             ],
             [
              0.2222222222222222,
              "#7201a8"
             ],
             [
              0.3333333333333333,
              "#9c179e"
             ],
             [
              0.4444444444444444,
              "#bd3786"
             ],
             [
              0.5555555555555556,
              "#d8576b"
             ],
             [
              0.6666666666666666,
              "#ed7953"
             ],
             [
              0.7777777777777778,
              "#fb9f3a"
             ],
             [
              0.8888888888888888,
              "#fdca26"
             ],
             [
              1,
              "#f0f921"
             ]
            ],
            "type": "contour"
           }
          ],
          "contourcarpet": [
           {
            "colorbar": {
             "outlinewidth": 0,
             "ticks": ""
            },
            "type": "contourcarpet"
           }
          ],
          "heatmap": [
           {
            "colorbar": {
             "outlinewidth": 0,
             "ticks": ""
            },
            "colorscale": [
             [
              0,
              "#0d0887"
             ],
             [
              0.1111111111111111,
              "#46039f"
             ],
             [
              0.2222222222222222,
              "#7201a8"
             ],
             [
              0.3333333333333333,
              "#9c179e"
             ],
             [
              0.4444444444444444,
              "#bd3786"
             ],
             [
              0.5555555555555556,
              "#d8576b"
             ],
             [
              0.6666666666666666,
              "#ed7953"
             ],
             [
              0.7777777777777778,
              "#fb9f3a"
             ],
             [
              0.8888888888888888,
              "#fdca26"
             ],
             [
              1,
              "#f0f921"
             ]
            ],
            "type": "heatmap"
           }
          ],
          "heatmapgl": [
           {
            "colorbar": {
             "outlinewidth": 0,
             "ticks": ""
            },
            "colorscale": [
             [
              0,
              "#0d0887"
             ],
             [
              0.1111111111111111,
              "#46039f"
             ],
             [
              0.2222222222222222,
              "#7201a8"
             ],
             [
              0.3333333333333333,
              "#9c179e"
             ],
             [
              0.4444444444444444,
              "#bd3786"
             ],
             [
              0.5555555555555556,
              "#d8576b"
             ],
             [
              0.6666666666666666,
              "#ed7953"
             ],
             [
              0.7777777777777778,
              "#fb9f3a"
             ],
             [
              0.8888888888888888,
              "#fdca26"
             ],
             [
              1,
              "#f0f921"
             ]
            ],
            "type": "heatmapgl"
           }
          ],
          "histogram": [
           {
            "marker": {
             "pattern": {
              "fillmode": "overlay",
              "size": 10,
              "solidity": 0.2
             }
            },
            "type": "histogram"
           }
          ],
          "histogram2d": [
           {
            "colorbar": {
             "outlinewidth": 0,
             "ticks": ""
            },
            "colorscale": [
             [
              0,
              "#0d0887"
             ],
             [
              0.1111111111111111,
              "#46039f"
             ],
             [
              0.2222222222222222,
              "#7201a8"
             ],
             [
              0.3333333333333333,
              "#9c179e"
             ],
             [
              0.4444444444444444,
              "#bd3786"
             ],
             [
              0.5555555555555556,
              "#d8576b"
             ],
             [
              0.6666666666666666,
              "#ed7953"
             ],
             [
              0.7777777777777778,
              "#fb9f3a"
             ],
             [
              0.8888888888888888,
              "#fdca26"
             ],
             [
              1,
              "#f0f921"
             ]
            ],
            "type": "histogram2d"
           }
          ],
          "histogram2dcontour": [
           {
            "colorbar": {
             "outlinewidth": 0,
             "ticks": ""
            },
            "colorscale": [
             [
              0,
              "#0d0887"
             ],
             [
              0.1111111111111111,
              "#46039f"
             ],
             [
              0.2222222222222222,
              "#7201a8"
             ],
             [
              0.3333333333333333,
              "#9c179e"
             ],
             [
              0.4444444444444444,
              "#bd3786"
             ],
             [
              0.5555555555555556,
              "#d8576b"
             ],
             [
              0.6666666666666666,
              "#ed7953"
             ],
             [
              0.7777777777777778,
              "#fb9f3a"
             ],
             [
              0.8888888888888888,
              "#fdca26"
             ],
             [
              1,
              "#f0f921"
             ]
            ],
            "type": "histogram2dcontour"
           }
          ],
          "mesh3d": [
           {
            "colorbar": {
             "outlinewidth": 0,
             "ticks": ""
            },
            "type": "mesh3d"
           }
          ],
          "parcoords": [
           {
            "line": {
             "colorbar": {
              "outlinewidth": 0,
              "ticks": ""
             }
            },
            "type": "parcoords"
           }
          ],
          "pie": [
           {
            "automargin": true,
            "type": "pie"
           }
          ],
          "scatter": [
           {
            "fillpattern": {
             "fillmode": "overlay",
             "size": 10,
             "solidity": 0.2
            },
            "type": "scatter"
           }
          ],
          "scatter3d": [
           {
            "line": {
             "colorbar": {
              "outlinewidth": 0,
              "ticks": ""
             }
            },
            "marker": {
             "colorbar": {
              "outlinewidth": 0,
              "ticks": ""
             }
            },
            "type": "scatter3d"
           }
          ],
          "scattercarpet": [
           {
            "marker": {
             "colorbar": {
              "outlinewidth": 0,
              "ticks": ""
             }
            },
            "type": "scattercarpet"
           }
          ],
          "scattergeo": [
           {
            "marker": {
             "colorbar": {
              "outlinewidth": 0,
              "ticks": ""
             }
            },
            "type": "scattergeo"
           }
          ],
          "scattergl": [
           {
            "marker": {
             "colorbar": {
              "outlinewidth": 0,
              "ticks": ""
             }
            },
            "type": "scattergl"
           }
          ],
          "scattermapbox": [
           {
            "marker": {
             "colorbar": {
              "outlinewidth": 0,
              "ticks": ""
             }
            },
            "type": "scattermapbox"
           }
          ],
          "scatterpolar": [
           {
            "marker": {
             "colorbar": {
              "outlinewidth": 0,
              "ticks": ""
             }
            },
            "type": "scatterpolar"
           }
          ],
          "scatterpolargl": [
           {
            "marker": {
             "colorbar": {
              "outlinewidth": 0,
              "ticks": ""
             }
            },
            "type": "scatterpolargl"
           }
          ],
          "scatterternary": [
           {
            "marker": {
             "colorbar": {
              "outlinewidth": 0,
              "ticks": ""
             }
            },
            "type": "scatterternary"
           }
          ],
          "surface": [
           {
            "colorbar": {
             "outlinewidth": 0,
             "ticks": ""
            },
            "colorscale": [
             [
              0,
              "#0d0887"
             ],
             [
              0.1111111111111111,
              "#46039f"
             ],
             [
              0.2222222222222222,
              "#7201a8"
             ],
             [
              0.3333333333333333,
              "#9c179e"
             ],
             [
              0.4444444444444444,
              "#bd3786"
             ],
             [
              0.5555555555555556,
              "#d8576b"
             ],
             [
              0.6666666666666666,
              "#ed7953"
             ],
             [
              0.7777777777777778,
              "#fb9f3a"
             ],
             [
              0.8888888888888888,
              "#fdca26"
             ],
             [
              1,
              "#f0f921"
             ]
            ],
            "type": "surface"
           }
          ],
          "table": [
           {
            "cells": {
             "fill": {
              "color": "#EBF0F8"
             },
             "line": {
              "color": "white"
             }
            },
            "header": {
             "fill": {
              "color": "#C8D4E3"
             },
             "line": {
              "color": "white"
             }
            },
            "type": "table"
           }
          ]
         },
         "layout": {
          "annotationdefaults": {
           "arrowcolor": "#2a3f5f",
           "arrowhead": 0,
           "arrowwidth": 1
          },
          "autotypenumbers": "strict",
          "coloraxis": {
           "colorbar": {
            "outlinewidth": 0,
            "ticks": ""
           }
          },
          "colorscale": {
           "diverging": [
            [
             0,
             "#8e0152"
            ],
            [
             0.1,
             "#c51b7d"
            ],
            [
             0.2,
             "#de77ae"
            ],
            [
             0.3,
             "#f1b6da"
            ],
            [
             0.4,
             "#fde0ef"
            ],
            [
             0.5,
             "#f7f7f7"
            ],
            [
             0.6,
             "#e6f5d0"
            ],
            [
             0.7,
             "#b8e186"
            ],
            [
             0.8,
             "#7fbc41"
            ],
            [
             0.9,
             "#4d9221"
            ],
            [
             1,
             "#276419"
            ]
           ],
           "sequential": [
            [
             0,
             "#0d0887"
            ],
            [
             0.1111111111111111,
             "#46039f"
            ],
            [
             0.2222222222222222,
             "#7201a8"
            ],
            [
             0.3333333333333333,
             "#9c179e"
            ],
            [
             0.4444444444444444,
             "#bd3786"
            ],
            [
             0.5555555555555556,
             "#d8576b"
            ],
            [
             0.6666666666666666,
             "#ed7953"
            ],
            [
             0.7777777777777778,
             "#fb9f3a"
            ],
            [
             0.8888888888888888,
             "#fdca26"
            ],
            [
             1,
             "#f0f921"
            ]
           ],
           "sequentialminus": [
            [
             0,
             "#0d0887"
            ],
            [
             0.1111111111111111,
             "#46039f"
            ],
            [
             0.2222222222222222,
             "#7201a8"
            ],
            [
             0.3333333333333333,
             "#9c179e"
            ],
            [
             0.4444444444444444,
             "#bd3786"
            ],
            [
             0.5555555555555556,
             "#d8576b"
            ],
            [
             0.6666666666666666,
             "#ed7953"
            ],
            [
             0.7777777777777778,
             "#fb9f3a"
            ],
            [
             0.8888888888888888,
             "#fdca26"
            ],
            [
             1,
             "#f0f921"
            ]
           ]
          },
          "colorway": [
           "#636efa",
           "#EF553B",
           "#00cc96",
           "#ab63fa",
           "#FFA15A",
           "#19d3f3",
           "#FF6692",
           "#B6E880",
           "#FF97FF",
           "#FECB52"
          ],
          "font": {
           "color": "#2a3f5f"
          },
          "geo": {
           "bgcolor": "white",
           "lakecolor": "white",
           "landcolor": "#E5ECF6",
           "showlakes": true,
           "showland": true,
           "subunitcolor": "white"
          },
          "hoverlabel": {
           "align": "left"
          },
          "hovermode": "closest",
          "mapbox": {
           "style": "light"
          },
          "paper_bgcolor": "white",
          "plot_bgcolor": "#E5ECF6",
          "polar": {
           "angularaxis": {
            "gridcolor": "white",
            "linecolor": "white",
            "ticks": ""
           },
           "bgcolor": "#E5ECF6",
           "radialaxis": {
            "gridcolor": "white",
            "linecolor": "white",
            "ticks": ""
           }
          },
          "scene": {
           "xaxis": {
            "backgroundcolor": "#E5ECF6",
            "gridcolor": "white",
            "gridwidth": 2,
            "linecolor": "white",
            "showbackground": true,
            "ticks": "",
            "zerolinecolor": "white"
           },
           "yaxis": {
            "backgroundcolor": "#E5ECF6",
            "gridcolor": "white",
            "gridwidth": 2,
            "linecolor": "white",
            "showbackground": true,
            "ticks": "",
            "zerolinecolor": "white"
           },
           "zaxis": {
            "backgroundcolor": "#E5ECF6",
            "gridcolor": "white",
            "gridwidth": 2,
            "linecolor": "white",
            "showbackground": true,
            "ticks": "",
            "zerolinecolor": "white"
           }
          },
          "shapedefaults": {
           "line": {
            "color": "#2a3f5f"
           }
          },
          "ternary": {
           "aaxis": {
            "gridcolor": "white",
            "linecolor": "white",
            "ticks": ""
           },
           "baxis": {
            "gridcolor": "white",
            "linecolor": "white",
            "ticks": ""
           },
           "bgcolor": "#E5ECF6",
           "caxis": {
            "gridcolor": "white",
            "linecolor": "white",
            "ticks": ""
           }
          },
          "title": {
           "x": 0.05
          },
          "xaxis": {
           "automargin": true,
           "gridcolor": "white",
           "linecolor": "white",
           "ticks": "",
           "title": {
            "standoff": 15
           },
           "zerolinecolor": "white",
           "zerolinewidth": 2
          },
          "yaxis": {
           "automargin": true,
           "gridcolor": "white",
           "linecolor": "white",
           "ticks": "",
           "title": {
            "standoff": 15
           },
           "zerolinecolor": "white",
           "zerolinewidth": 2
          }
         }
        },
        "title": {
         "text": "Top 10 Customer Cities (by count)"
        },
        "xaxis": {
         "anchor": "y",
         "domain": [
          0,
          1
         ],
         "title": {
          "text": "city"
         }
        },
        "yaxis": {
         "anchor": "x",
         "domain": [
          0,
          1
         ],
         "title": {
          "text": "Count"
         }
        }
       }
      }
     },
     "metadata": {},
     "output_type": "display_data"
    },
    {
     "data": {
      "application/vnd.plotly.v1+json": {
       "config": {
        "plotlyServerURL": "https://plot.ly"
       },
       "data": [
        {
         "alignmentgroup": "True",
         "hovertemplate": "total_spending=%{text}<br>city=%{y}<extra></extra>",
         "legendgroup": "",
         "marker": {
          "color": "#636efa",
          "pattern": {
           "shape": ""
          }
         },
         "name": "",
         "offsetgroup": "",
         "orientation": "h",
         "showlegend": false,
         "text": [
          2.04,
          2.06,
          2.06,
          2.26,
          2.38,
          2.49,
          2.68,
          3.5,
          3.97,
          4.16,
          4.2,
          4.43,
          5.09,
          5.17,
          5.73,
          6.29,
          9.32,
          9.34,
          103.09,
          267.86
         ],
         "textposition": "outside",
         "type": "bar",
         "x": [
          2.04,
          2.06,
          2.06,
          2.26,
          2.38,
          2.49,
          2.68,
          3.5,
          3.97,
          4.16,
          4.2,
          4.43,
          5.09,
          5.17,
          5.73,
          6.29,
          9.32,
          9.34,
          103.09,
          267.86
         ],
         "xaxis": "x",
         "y": [
          "PRESTON",
          "BRADFORD",
          "BELFAST",
          "NORWICH",
          "SOUTHAMPTON",
          "MILTON KEYNES",
          "COVENTRY",
          "SHEFFIELD",
          "CARDIFF",
          "LIVERPOOL",
          "NOTTINGHAM",
          "LEICESTER",
          "EDINBURGH",
          "LEEDS",
          "BRISTOL",
          "GLASGOW",
          "BIRMINGHAM",
          "MANCHESTER",
          "LONDON",
          "OTHER"
         ],
         "yaxis": "y"
        }
       ],
       "layout": {
        "annotations": [
         {
          "font": {
           "size": 12
          },
          "showarrow": false,
          "text": "Over 50% of customers are not in London or major cities.",
          "x": 1,
          "xref": "paper",
          "y": -0.2,
          "yref": "paper"
         }
        ],
        "autosize": true,
        "barmode": "relative",
        "height": 600,
        "legend": {
         "tracegroupgap": 0
        },
        "template": {
         "data": {
          "bar": [
           {
            "error_x": {
             "color": "#2a3f5f"
            },
            "error_y": {
             "color": "#2a3f5f"
            },
            "marker": {
             "line": {
              "color": "#E5ECF6",
              "width": 0.5
             },
             "pattern": {
              "fillmode": "overlay",
              "size": 10,
              "solidity": 0.2
             }
            },
            "type": "bar"
           }
          ],
          "barpolar": [
           {
            "marker": {
             "line": {
              "color": "#E5ECF6",
              "width": 0.5
             },
             "pattern": {
              "fillmode": "overlay",
              "size": 10,
              "solidity": 0.2
             }
            },
            "type": "barpolar"
           }
          ],
          "carpet": [
           {
            "aaxis": {
             "endlinecolor": "#2a3f5f",
             "gridcolor": "white",
             "linecolor": "white",
             "minorgridcolor": "white",
             "startlinecolor": "#2a3f5f"
            },
            "baxis": {
             "endlinecolor": "#2a3f5f",
             "gridcolor": "white",
             "linecolor": "white",
             "minorgridcolor": "white",
             "startlinecolor": "#2a3f5f"
            },
            "type": "carpet"
           }
          ],
          "choropleth": [
           {
            "colorbar": {
             "outlinewidth": 0,
             "ticks": ""
            },
            "type": "choropleth"
           }
          ],
          "contour": [
           {
            "colorbar": {
             "outlinewidth": 0,
             "ticks": ""
            },
            "colorscale": [
             [
              0,
              "#0d0887"
             ],
             [
              0.1111111111111111,
              "#46039f"
             ],
             [
              0.2222222222222222,
              "#7201a8"
             ],
             [
              0.3333333333333333,
              "#9c179e"
             ],
             [
              0.4444444444444444,
              "#bd3786"
             ],
             [
              0.5555555555555556,
              "#d8576b"
             ],
             [
              0.6666666666666666,
              "#ed7953"
             ],
             [
              0.7777777777777778,
              "#fb9f3a"
             ],
             [
              0.8888888888888888,
              "#fdca26"
             ],
             [
              1,
              "#f0f921"
             ]
            ],
            "type": "contour"
           }
          ],
          "contourcarpet": [
           {
            "colorbar": {
             "outlinewidth": 0,
             "ticks": ""
            },
            "type": "contourcarpet"
           }
          ],
          "heatmap": [
           {
            "colorbar": {
             "outlinewidth": 0,
             "ticks": ""
            },
            "colorscale": [
             [
              0,
              "#0d0887"
             ],
             [
              0.1111111111111111,
              "#46039f"
             ],
             [
              0.2222222222222222,
              "#7201a8"
             ],
             [
              0.3333333333333333,
              "#9c179e"
             ],
             [
              0.4444444444444444,
              "#bd3786"
             ],
             [
              0.5555555555555556,
              "#d8576b"
             ],
             [
              0.6666666666666666,
              "#ed7953"
             ],
             [
              0.7777777777777778,
              "#fb9f3a"
             ],
             [
              0.8888888888888888,
              "#fdca26"
             ],
             [
              1,
              "#f0f921"
             ]
            ],
            "type": "heatmap"
           }
          ],
          "heatmapgl": [
           {
            "colorbar": {
             "outlinewidth": 0,
             "ticks": ""
            },
            "colorscale": [
             [
              0,
              "#0d0887"
             ],
             [
              0.1111111111111111,
              "#46039f"
             ],
             [
              0.2222222222222222,
              "#7201a8"
             ],
             [
              0.3333333333333333,
              "#9c179e"
             ],
             [
              0.4444444444444444,
              "#bd3786"
             ],
             [
              0.5555555555555556,
              "#d8576b"
             ],
             [
              0.6666666666666666,
              "#ed7953"
             ],
             [
              0.7777777777777778,
              "#fb9f3a"
             ],
             [
              0.8888888888888888,
              "#fdca26"
             ],
             [
              1,
              "#f0f921"
             ]
            ],
            "type": "heatmapgl"
           }
          ],
          "histogram": [
           {
            "marker": {
             "pattern": {
              "fillmode": "overlay",
              "size": 10,
              "solidity": 0.2
             }
            },
            "type": "histogram"
           }
          ],
          "histogram2d": [
           {
            "colorbar": {
             "outlinewidth": 0,
             "ticks": ""
            },
            "colorscale": [
             [
              0,
              "#0d0887"
             ],
             [
              0.1111111111111111,
              "#46039f"
             ],
             [
              0.2222222222222222,
              "#7201a8"
             ],
             [
              0.3333333333333333,
              "#9c179e"
             ],
             [
              0.4444444444444444,
              "#bd3786"
             ],
             [
              0.5555555555555556,
              "#d8576b"
             ],
             [
              0.6666666666666666,
              "#ed7953"
             ],
             [
              0.7777777777777778,
              "#fb9f3a"
             ],
             [
              0.8888888888888888,
              "#fdca26"
             ],
             [
              1,
              "#f0f921"
             ]
            ],
            "type": "histogram2d"
           }
          ],
          "histogram2dcontour": [
           {
            "colorbar": {
             "outlinewidth": 0,
             "ticks": ""
            },
            "colorscale": [
             [
              0,
              "#0d0887"
             ],
             [
              0.1111111111111111,
              "#46039f"
             ],
             [
              0.2222222222222222,
              "#7201a8"
             ],
             [
              0.3333333333333333,
              "#9c179e"
             ],
             [
              0.4444444444444444,
              "#bd3786"
             ],
             [
              0.5555555555555556,
              "#d8576b"
             ],
             [
              0.6666666666666666,
              "#ed7953"
             ],
             [
              0.7777777777777778,
              "#fb9f3a"
             ],
             [
              0.8888888888888888,
              "#fdca26"
             ],
             [
              1,
              "#f0f921"
             ]
            ],
            "type": "histogram2dcontour"
           }
          ],
          "mesh3d": [
           {
            "colorbar": {
             "outlinewidth": 0,
             "ticks": ""
            },
            "type": "mesh3d"
           }
          ],
          "parcoords": [
           {
            "line": {
             "colorbar": {
              "outlinewidth": 0,
              "ticks": ""
             }
            },
            "type": "parcoords"
           }
          ],
          "pie": [
           {
            "automargin": true,
            "type": "pie"
           }
          ],
          "scatter": [
           {
            "fillpattern": {
             "fillmode": "overlay",
             "size": 10,
             "solidity": 0.2
            },
            "type": "scatter"
           }
          ],
          "scatter3d": [
           {
            "line": {
             "colorbar": {
              "outlinewidth": 0,
              "ticks": ""
             }
            },
            "marker": {
             "colorbar": {
              "outlinewidth": 0,
              "ticks": ""
             }
            },
            "type": "scatter3d"
           }
          ],
          "scattercarpet": [
           {
            "marker": {
             "colorbar": {
              "outlinewidth": 0,
              "ticks": ""
             }
            },
            "type": "scattercarpet"
           }
          ],
          "scattergeo": [
           {
            "marker": {
             "colorbar": {
              "outlinewidth": 0,
              "ticks": ""
             }
            },
            "type": "scattergeo"
           }
          ],
          "scattergl": [
           {
            "marker": {
             "colorbar": {
              "outlinewidth": 0,
              "ticks": ""
             }
            },
            "type": "scattergl"
           }
          ],
          "scattermapbox": [
           {
            "marker": {
             "colorbar": {
              "outlinewidth": 0,
              "ticks": ""
             }
            },
            "type": "scattermapbox"
           }
          ],
          "scatterpolar": [
           {
            "marker": {
             "colorbar": {
              "outlinewidth": 0,
              "ticks": ""
             }
            },
            "type": "scatterpolar"
           }
          ],
          "scatterpolargl": [
           {
            "marker": {
             "colorbar": {
              "outlinewidth": 0,
              "ticks": ""
             }
            },
            "type": "scatterpolargl"
           }
          ],
          "scatterternary": [
           {
            "marker": {
             "colorbar": {
              "outlinewidth": 0,
              "ticks": ""
             }
            },
            "type": "scatterternary"
           }
          ],
          "surface": [
           {
            "colorbar": {
             "outlinewidth": 0,
             "ticks": ""
            },
            "colorscale": [
             [
              0,
              "#0d0887"
             ],
             [
              0.1111111111111111,
              "#46039f"
             ],
             [
              0.2222222222222222,
              "#7201a8"
             ],
             [
              0.3333333333333333,
              "#9c179e"
             ],
             [
              0.4444444444444444,
              "#bd3786"
             ],
             [
              0.5555555555555556,
              "#d8576b"
             ],
             [
              0.6666666666666666,
              "#ed7953"
             ],
             [
              0.7777777777777778,
              "#fb9f3a"
             ],
             [
              0.8888888888888888,
              "#fdca26"
             ],
             [
              1,
              "#f0f921"
             ]
            ],
            "type": "surface"
           }
          ],
          "table": [
           {
            "cells": {
             "fill": {
              "color": "#EBF0F8"
             },
             "line": {
              "color": "white"
             }
            },
            "header": {
             "fill": {
              "color": "#C8D4E3"
             },
             "line": {
              "color": "white"
             }
            },
            "type": "table"
           }
          ]
         },
         "layout": {
          "annotationdefaults": {
           "arrowcolor": "#2a3f5f",
           "arrowhead": 0,
           "arrowwidth": 1
          },
          "autotypenumbers": "strict",
          "coloraxis": {
           "colorbar": {
            "outlinewidth": 0,
            "ticks": ""
           }
          },
          "colorscale": {
           "diverging": [
            [
             0,
             "#8e0152"
            ],
            [
             0.1,
             "#c51b7d"
            ],
            [
             0.2,
             "#de77ae"
            ],
            [
             0.3,
             "#f1b6da"
            ],
            [
             0.4,
             "#fde0ef"
            ],
            [
             0.5,
             "#f7f7f7"
            ],
            [
             0.6,
             "#e6f5d0"
            ],
            [
             0.7,
             "#b8e186"
            ],
            [
             0.8,
             "#7fbc41"
            ],
            [
             0.9,
             "#4d9221"
            ],
            [
             1,
             "#276419"
            ]
           ],
           "sequential": [
            [
             0,
             "#0d0887"
            ],
            [
             0.1111111111111111,
             "#46039f"
            ],
            [
             0.2222222222222222,
             "#7201a8"
            ],
            [
             0.3333333333333333,
             "#9c179e"
            ],
            [
             0.4444444444444444,
             "#bd3786"
            ],
            [
             0.5555555555555556,
             "#d8576b"
            ],
            [
             0.6666666666666666,
             "#ed7953"
            ],
            [
             0.7777777777777778,
             "#fb9f3a"
            ],
            [
             0.8888888888888888,
             "#fdca26"
            ],
            [
             1,
             "#f0f921"
            ]
           ],
           "sequentialminus": [
            [
             0,
             "#0d0887"
            ],
            [
             0.1111111111111111,
             "#46039f"
            ],
            [
             0.2222222222222222,
             "#7201a8"
            ],
            [
             0.3333333333333333,
             "#9c179e"
            ],
            [
             0.4444444444444444,
             "#bd3786"
            ],
            [
             0.5555555555555556,
             "#d8576b"
            ],
            [
             0.6666666666666666,
             "#ed7953"
            ],
            [
             0.7777777777777778,
             "#fb9f3a"
            ],
            [
             0.8888888888888888,
             "#fdca26"
            ],
            [
             1,
             "#f0f921"
            ]
           ]
          },
          "colorway": [
           "#636efa",
           "#EF553B",
           "#00cc96",
           "#ab63fa",
           "#FFA15A",
           "#19d3f3",
           "#FF6692",
           "#B6E880",
           "#FF97FF",
           "#FECB52"
          ],
          "font": {
           "color": "#2a3f5f"
          },
          "geo": {
           "bgcolor": "white",
           "lakecolor": "white",
           "landcolor": "#E5ECF6",
           "showlakes": true,
           "showland": true,
           "subunitcolor": "white"
          },
          "hoverlabel": {
           "align": "left"
          },
          "hovermode": "closest",
          "mapbox": {
           "style": "light"
          },
          "paper_bgcolor": "white",
          "plot_bgcolor": "#E5ECF6",
          "polar": {
           "angularaxis": {
            "gridcolor": "white",
            "linecolor": "white",
            "ticks": ""
           },
           "bgcolor": "#E5ECF6",
           "radialaxis": {
            "gridcolor": "white",
            "linecolor": "white",
            "ticks": ""
           }
          },
          "scene": {
           "xaxis": {
            "backgroundcolor": "#E5ECF6",
            "gridcolor": "white",
            "gridwidth": 2,
            "linecolor": "white",
            "showbackground": true,
            "ticks": "",
            "zerolinecolor": "white"
           },
           "yaxis": {
            "backgroundcolor": "#E5ECF6",
            "gridcolor": "white",
            "gridwidth": 2,
            "linecolor": "white",
            "showbackground": true,
            "ticks": "",
            "zerolinecolor": "white"
           },
           "zaxis": {
            "backgroundcolor": "#E5ECF6",
            "gridcolor": "white",
            "gridwidth": 2,
            "linecolor": "white",
            "showbackground": true,
            "ticks": "",
            "zerolinecolor": "white"
           }
          },
          "shapedefaults": {
           "line": {
            "color": "#2a3f5f"
           }
          },
          "ternary": {
           "aaxis": {
            "gridcolor": "white",
            "linecolor": "white",
            "ticks": ""
           },
           "baxis": {
            "gridcolor": "white",
            "linecolor": "white",
            "ticks": ""
           },
           "bgcolor": "#E5ECF6",
           "caxis": {
            "gridcolor": "white",
            "linecolor": "white",
            "ticks": ""
           }
          },
          "title": {
           "x": 0.05
          },
          "xaxis": {
           "automargin": true,
           "gridcolor": "white",
           "linecolor": "white",
           "ticks": "",
           "title": {
            "standoff": 15
           },
           "zerolinecolor": "white",
           "zerolinewidth": 2
          },
          "yaxis": {
           "automargin": true,
           "gridcolor": "white",
           "linecolor": "white",
           "ticks": "",
           "title": {
            "standoff": 15
           },
           "zerolinecolor": "white",
           "zerolinewidth": 2
          }
         }
        },
        "title": {
         "text": "Total Customer Spending by City"
        },
        "xaxis": {
         "anchor": "y",
         "domain": [
          0,
          1
         ],
         "tickformat": ",.2f",
         "tickprefix": "£",
         "ticksuffix": "M",
         "title": {
          "text": "total_spending"
         }
        },
        "yaxis": {
         "anchor": "x",
         "domain": [
          0,
          1
         ],
         "title": {
          "text": "Total Spending"
         }
        }
       }
      }
     },
     "metadata": {},
     "output_type": "display_data"
    }
   ],
   "source": [
    "total_customers_df_count_fig.show()\n",
    "customer_spending_fig.show()\n"
   ]
  },
  {
   "cell_type": "markdown",
   "metadata": {},
   "source": [
    "Our final inquiry is to compare London against the rest of the United Kingdom. We can take this to mean either “all of the United Kingdom that isn’t London” or “all major cities except London.” "
   ]
  },
  {
   "cell_type": "code",
   "execution_count": null,
   "metadata": {},
   "outputs": [
    {
     "name": "stdout",
     "output_type": "stream",
     "text": [
      "Total spend for all customers: £490.37M\n",
      "Total spend for London customers: £103.09M\n",
      "Total spend for non-London customers: £387.28M\n",
      "Total spend for non-London and non-Other customers: £119.42M\n"
     ]
    }
   ],
   "source": [
    "tot_spend = customers_df.select(pl.col(\"total_spend\").sum()).item()/1_000_000\n",
    "print(f\"Total spend for all customers: £{tot_spend:,.2f}M\")\n",
    "\n",
    "total_spend_london = customers_df.filter(pl.col(\"city\") == \"LONDON\").select(pl.col(\"total_spend\").sum()).item()/1_000_000\n",
    "print(f\"Total spend for London customers: £{total_spend_london:,.2f}M\")\n",
    "\n",
    "total_spend_non_london = tot_spend - total_spend_london\n",
    "print(f\"Total spend for non-London customers: £{total_spend_non_london:,.2f}M\")\n",
    "\n",
    "total_spend_non_london_non_other = customers_df.filter(~pl.col(\"city\").is_in([\"LONDON\", \"OTHER\"])).select(pl.col(\"total_spend\").sum()).item()/1_000_000\n",
    "print(f\"Total spend for non-London and non-Other customers: £{total_spend_non_london_non_other:,.2f}M\")"
   ]
  },
  {
   "cell_type": "markdown",
   "metadata": {},
   "source": [
    "# Technical Implementation Notes\n"
   ]
  },
  {
   "cell_type": "code",
   "execution_count": 13,
   "metadata": {},
   "outputs": [],
   "source": [
    "import polars"
   ]
  },
  {
   "cell_type": "markdown",
   "metadata": {},
   "source": [
    "<b>Caveats of our analysis</b>:\n",
    "\n",
    "1. Based on the method we've chosen, not all addresses are in a format that allows for the correct city extraction.\n",
    "1. We have used the government’s list of cities, which excludes larger towns that stakeholders may be interested in. It is possible to make our city-level figures more accurate and more granular.\n",
    "\n",
    "<b>Potential future analysis</b>:\n",
    "1. Augment our data with population statistics about each city or town. This could help us understand whether there are cities where customers are spending less than expected based on their city’s population and are, therefore, being underserved."
   ]
  },
  {
   "cell_type": "markdown",
   "metadata": {},
   "source": []
  }
 ],
 "metadata": {
  "kernelspec": {
   "display_name": "data_science",
   "language": "python",
   "name": "python3"
  },
  "language_info": {
   "codemirror_mode": {
    "name": "ipython",
    "version": 3
   },
   "file_extension": ".py",
   "mimetype": "text/x-python",
   "name": "python",
   "nbconvert_exporter": "python",
   "pygments_lexer": "ipython3",
   "version": "3.13.2"
  }
 },
 "nbformat": 4,
 "nbformat_minor": 2
}
