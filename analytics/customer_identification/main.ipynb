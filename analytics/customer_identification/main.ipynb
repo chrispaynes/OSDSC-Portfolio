{
 "cells": [
  {
   "cell_type": "markdown",
   "metadata": {},
   "source": [
    "# Customer Indentification"
   ]
  },
  {
   "cell_type": "markdown",
   "metadata": {},
   "source": [
    "## 1. Project Overview\n",
    "- Basic project information\n",
    "- Initial setup with common data science libraries\n"
   ]
  },
  {
   "cell_type": "code",
   "execution_count": 61,
   "metadata": {},
   "outputs": [],
   "source": [
    "import polars as pl\n",
    "import plotly.express as px\n",
    "from plotly.subplots import make_subplots\n",
    "import plotly.graph_objects as go"
   ]
  },
  {
   "cell_type": "code",
   "execution_count": null,
   "metadata": {},
   "outputs": [
    {
     "data": {
      "text/plain": [
       "polars.config.Config"
      ]
     },
     "execution_count": 18,
     "metadata": {},
     "output_type": "execute_result"
    }
   ],
   "source": [
    "pl.Config.set_tbl_rows(100)\n",
    "pl.Config.set_tbl_cols(100)\n",
    "pl.Config.set_fmt_str_lengths(500)\n",
    "pl.Config.set_tbl_width_chars(200)"
   ]
  },
  {
   "cell_type": "code",
   "execution_count": 13,
   "metadata": {},
   "outputs": [],
   "source": [
    "crm_eda_df = pl.read_csv(\"./data/crm_export.csv\")\n",
    "customers_eda_df = pl.read_csv(\"./data/customer_database.csv\")\n",
    "purchases_eda_df = pl.read_csv(\"./data/purchases.csv\")"
   ]
  },
  {
   "cell_type": "markdown",
   "metadata": {},
   "source": [
    "**Desired outcomes:**\n",
    "\n",
    "- The output of this project should be a single dataset representing your customer data model—your best estimate of the entire customer base the startup currently has.\n",
    "- Data will come from the three sources provided, and you will need to consolidate and deduplicate accordingly.\n",
    "- You will need to decide on the structure of the data model based on the columns available in the datasets.\n",
    "- This data model should be structured so that all the logic to define customers is already in place\n",
    "    - answering the question “How many customers do we have?” should be done as simply as counting the rows.\n"
   ]
  },
  {
   "cell_type": "markdown",
   "metadata": {},
   "source": [
    "## 2. Business Understanding\n",
    "**Goal:** Define the problem and business objectives.\n",
    "- What is the problem we’re solving?\n",
    "- What are the business goals and success criteria?\n",
    "- Who are the stakeholders?\n",
    "- Business objectives\n",
    "- Situation assessment\n",
    "- Data mining goals\n",
    "- Project plan"
   ]
  },
  {
   "cell_type": "markdown",
   "metadata": {},
   "source": [
    "You have been hired by **Ebuy Emporium**, a new e-commerce startup. They have been up and running for a month and have had unexpected success. They are starting to have an active interest in their customer base.\n",
    "\n",
    "**Questions:**\n",
    "1. Who are their customers?\n",
    "1. What do they buy?\n",
    "1. What drives their purchasing behavior?\n",
    "1. How many customers do they have?\n",
    "\n",
    "However, before they do any serious analysis, they need to be able to count their customers, which happens to be more difficult than anticipated. "
   ]
  },
  {
   "cell_type": "markdown",
   "metadata": {},
   "source": [
    "## 3. Data Understanding\n",
    "**Goal:** Explore and assess the data.\n",
    "- What data is available\n",
    "- Where does the come from?\n",
    "- Data collection, description, and quality verification\n",
    "- Initial data exploration (size, structure, missing values, distributions)\n",
    "- Placeholder code for basic EDA"
   ]
  },
  {
   "cell_type": "markdown",
   "metadata": {},
   "source": [
    "**One problem is there are multiple sources of customer data**:\n",
    "\n",
    "1. The e-commerce platform’s customer database\n",
    "    - where customer details are recorded when they sign up for an account online.\n",
    "    - This is where most of the customer details should be found.\n",
    "\n",
    "1. The in-house CRM (customer relationship management) system\n",
    "    - where customer details are recorded when they make a purchase over the phone or are otherwise onboarded as customers (except because of purchasing online with a registered account).\n",
    "\n",
    "1. The raw transaction data (sales/purchases)\n",
    "    - we'll refer to as “purchases” or “sales,”\n",
    "    - also contains purchases made “as a guest,” meaning customer records are not explicitly created at the time of purchase.\n",
    "\n",
    "\n",
    "**Another problem is that the existing data sources may not be mutually exclusive—there might be overlaps across them all.**\n",
    "- There is almost certainly some duplication either because:\n",
    "    - the same customer had their details entered into multiple systems\n",
    "    - or because they have made purchases both as a guest and with a registered account.\n",
    "- Duplicate accounts may not contain exactly the same information; there may be typos or misspellings. \n"
   ]
  },
  {
   "cell_type": "markdown",
   "metadata": {},
   "source": [
    "### data dictionaries"
   ]
  },
  {
   "cell_type": "markdown",
   "metadata": {},
   "source": [
    "#### “purchases” dataset\n",
    "| **Column** | Definition |\n",
    "| ------ | ---------- |\n",
    "| **event_time** | The exact date and time the purchase occurred. |\n",
    "| **product_id** | The unique identifier of the purchased product. |\n",
    "| **category_id** | The unique identifier of the purchased product's specific category. |\n",
    "| **category_code** | A broad category for the purchased product. In a hierarchy, category codes contain multiple category IDs, and one category_id should only be linked to one category_code. |\n",
    "| **brand** | The purchased item's brand (if applicable). |\n",
    "| **price** | The price the item was bought for (in USD). |\n",
    "| **session_id** | A unique identifier for a purchase session. If multiple items are purchased in a transaction, each item will have a row in the table, and the rows will share a session_id. |\n",
    "| **customer_id** | The unique identifier of the customer if they purchased using a registered account. For guest purchases, this value will be missing. |\n",
    "| **guest_first_name** | The first name that was supplied if a purchase was made as a guest. For purchases made using registered accounts, this value will be missing. |\n",
    "| **guest_surname** | The surname that was supplied if a purchase was made as a guest. For purchases made using registered accounts, this value will be missing. |\n",
    "| **guest_postcode** | The postcode that was supplied if a purchase was made as a guest. For purchases made using registered accounts, this value will be missing. |"
   ]
  },
  {
   "cell_type": "markdown",
   "metadata": {},
   "source": [
    "#### \"CRM\" and \"Customers\" datasets (share similar schema)\n",
    "| **Column** | Definition |\n",
    "| ------ | ---------- |\n",
    "| **customer_id** | The unique identifier of the customer in this system. |\n",
    "| **first_name** | The customer's first name. |\n",
    "| **surname** | The customer's surname. |\n",
    "| **postcode** | The customer's postal code. |\n",
    "| **age** | The customer's age, in years. |\n",
    "| **email** | The customer's email address. |\n",
    "| **phone** | The customer's contact phone number. |\n",
    "| **registration_date** | The date when the customer was registered in the system. |\n",
    "| **last_purchase_date** | The date of the customer's most recent purchase. |\n",
    "| **total_purchases** | The total number of purchases made by the customer. |\n",
    "| **loyalty_tier** | The customer's loyalty program tier (e.g., Bronze, Silver, Gold). |"
   ]
  },
  {
   "cell_type": "markdown",
   "metadata": {},
   "source": [
    "### CRM EDA\n",
    "- 7825 rows\n",
    "- 5 columns\n",
    "- no nulls\n",
    "- age range 0 - 100\n",
    "    - avg is 40"
   ]
  },
  {
   "cell_type": "code",
   "execution_count": 22,
   "metadata": {},
   "outputs": [
    {
     "data": {
      "text/html": [
       "<div><style>\n",
       ".dataframe > thead > tr,\n",
       ".dataframe > tbody > tr {\n",
       "  text-align: right;\n",
       "  white-space: pre-wrap;\n",
       "}\n",
       "</style>\n",
       "<small>shape: (5, 2)</small><table border=\"1\" class=\"dataframe\"><thead><tr><th>column_0</th><th>column_1</th></tr><tr><td>str</td><td>object</td></tr></thead><tbody><tr><td>&quot;customer_id&quot;</td><td>Int64</td></tr><tr><td>&quot;first_name&quot;</td><td>String</td></tr><tr><td>&quot;surname&quot;</td><td>String</td></tr><tr><td>&quot;postcode&quot;</td><td>String</td></tr><tr><td>&quot;age&quot;</td><td>Int64</td></tr></tbody></table></div>"
      ],
      "text/plain": [
       "shape: (5, 2)\n",
       "┌─────────────┬──────────┐\n",
       "│ column_0    ┆ column_1 │\n",
       "│ ---         ┆ ---      │\n",
       "│ str         ┆ object   │\n",
       "╞═════════════╪══════════╡\n",
       "│ customer_id ┆ Int64    │\n",
       "│ first_name  ┆ String   │\n",
       "│ surname     ┆ String   │\n",
       "│ postcode    ┆ String   │\n",
       "│ age         ┆ Int64    │\n",
       "└─────────────┴──────────┘"
      ]
     },
     "execution_count": 22,
     "metadata": {},
     "output_type": "execute_result"
    }
   ],
   "source": [
    "pl.DataFrame(zip(crm_eda_df.columns, crm_eda_df.dtypes))"
   ]
  },
  {
   "cell_type": "code",
   "execution_count": null,
   "metadata": {},
   "outputs": [
    {
     "data": {
      "text/html": [
       "<div><style>\n",
       ".dataframe > thead > tr,\n",
       ".dataframe > tbody > tr {\n",
       "  text-align: right;\n",
       "  white-space: pre-wrap;\n",
       "}\n",
       "</style>\n",
       "<small>shape: (5, 5)</small><table border=\"1\" class=\"dataframe\"><thead><tr><th>customer_id</th><th>first_name</th><th>surname</th><th>postcode</th><th>age</th></tr><tr><td>i64</td><td>str</td><td>str</td><td>str</td><td>i64</td></tr></thead><tbody><tr><td>29223</td><td>&quot;Holly&quot;</td><td>&quot;Rogers&quot;</td><td>&quot;LS475RT&quot;</td><td>12</td></tr><tr><td>27826</td><td>&quot;Daniel&quot;</td><td>&quot;Owen&quot;</td><td>&quot;M902XX&quot;</td><td>5</td></tr><tr><td>7432</td><td>&quot;Eleanor&quot;</td><td>&quot;Russell&quot;</td><td>&quot;HR904ZA&quot;</td><td>34</td></tr><tr><td>2569</td><td>&quot;Paige&quot;</td><td>&quot;Roberts&quot;</td><td>&quot;DE732EP&quot;</td><td>61</td></tr><tr><td>9195</td><td>&quot;Matilda&quot;</td><td>&quot;Young&quot;</td><td>&quot;LS670FU&quot;</td><td>78</td></tr></tbody></table></div>"
      ],
      "text/plain": [
       "shape: (5, 5)\n",
       "┌─────────────┬────────────┬─────────┬──────────┬─────┐\n",
       "│ customer_id ┆ first_name ┆ surname ┆ postcode ┆ age │\n",
       "│ ---         ┆ ---        ┆ ---     ┆ ---      ┆ --- │\n",
       "│ i64         ┆ str        ┆ str     ┆ str      ┆ i64 │\n",
       "╞═════════════╪════════════╪═════════╪══════════╪═════╡\n",
       "│ 29223       ┆ Holly      ┆ Rogers  ┆ LS475RT  ┆ 12  │\n",
       "│ 27826       ┆ Daniel     ┆ Owen    ┆ M902XX   ┆ 5   │\n",
       "│ 7432        ┆ Eleanor    ┆ Russell ┆ HR904ZA  ┆ 34  │\n",
       "│ 2569        ┆ Paige      ┆ Roberts ┆ DE732EP  ┆ 61  │\n",
       "│ 9195        ┆ Matilda    ┆ Young   ┆ LS670FU  ┆ 78  │\n",
       "└─────────────┴────────────┴─────────┴──────────┴─────┘"
      ]
     },
     "metadata": {},
     "output_type": "display_data"
    },
    {
     "data": {
      "text/html": [
       "<div><style>\n",
       ".dataframe > thead > tr,\n",
       ".dataframe > tbody > tr {\n",
       "  text-align: right;\n",
       "  white-space: pre-wrap;\n",
       "}\n",
       "</style>\n",
       "<small>shape: (9, 6)</small><table border=\"1\" class=\"dataframe\"><thead><tr><th>statistic</th><th>customer_id</th><th>first_name</th><th>surname</th><th>postcode</th><th>age</th></tr><tr><td>str</td><td>f64</td><td>str</td><td>str</td><td>str</td><td>f64</td></tr></thead><tbody><tr><td>&quot;count&quot;</td><td>7825.0</td><td>&quot;7825&quot;</td><td>&quot;7825&quot;</td><td>&quot;7825&quot;</td><td>7825.0</td></tr><tr><td>&quot;null_count&quot;</td><td>0.0</td><td>&quot;0&quot;</td><td>&quot;0&quot;</td><td>&quot;0&quot;</td><td>0.0</td></tr><tr><td>&quot;mean&quot;</td><td>17300.939936</td><td>null</td><td>null</td><td>null</td><td>40.009968</td></tr><tr><td>&quot;std&quot;</td><td>9705.910369</td><td>null</td><td>null</td><td>null</td><td>24.893072</td></tr><tr><td>&quot;min&quot;</td><td>5.0</td><td>&quot;Aachie&quot;</td><td>&quot;Accen&quot;</td><td>&quot;DE03US&quot;</td><td>0.0</td></tr><tr><td>&quot;25%&quot;</td><td>8797.0</td><td>null</td><td>null</td><td>null</td><td>21.0</td></tr><tr><td>&quot;50%&quot;</td><td>17584.0</td><td>null</td><td>null</td><td>null</td><td>38.0</td></tr><tr><td>&quot;75%&quot;</td><td>26096.0</td><td>null</td><td>null</td><td>null</td><td>56.0</td></tr><tr><td>&quot;max&quot;</td><td>33280.0</td><td>&quot;Zuzanna&quot;</td><td>&quot;Yuung&quot;</td><td>&quot;SW990JE&quot;</td><td>100.0</td></tr></tbody></table></div>"
      ],
      "text/plain": [
       "shape: (9, 6)\n",
       "┌────────────┬──────────────┬────────────┬─────────┬──────────┬───────────┐\n",
       "│ statistic  ┆ customer_id  ┆ first_name ┆ surname ┆ postcode ┆ age       │\n",
       "│ ---        ┆ ---          ┆ ---        ┆ ---     ┆ ---      ┆ ---       │\n",
       "│ str        ┆ f64          ┆ str        ┆ str     ┆ str      ┆ f64       │\n",
       "╞════════════╪══════════════╪════════════╪═════════╪══════════╪═══════════╡\n",
       "│ count      ┆ 7825.0       ┆ 7825       ┆ 7825    ┆ 7825     ┆ 7825.0    │\n",
       "│ null_count ┆ 0.0          ┆ 0          ┆ 0       ┆ 0        ┆ 0.0       │\n",
       "│ mean       ┆ 17300.939936 ┆ null       ┆ null    ┆ null     ┆ 40.009968 │\n",
       "│ std        ┆ 9705.910369  ┆ null       ┆ null    ┆ null     ┆ 24.893072 │\n",
       "│ min        ┆ 5.0          ┆ Aachie     ┆ Accen   ┆ DE03US   ┆ 0.0       │\n",
       "│ 25%        ┆ 8797.0       ┆ null       ┆ null    ┆ null     ┆ 21.0      │\n",
       "│ 50%        ┆ 17584.0      ┆ null       ┆ null    ┆ null     ┆ 38.0      │\n",
       "│ 75%        ┆ 26096.0      ┆ null       ┆ null    ┆ null     ┆ 56.0      │\n",
       "│ max        ┆ 33280.0      ┆ Zuzanna    ┆ Yuung   ┆ SW990JE  ┆ 100.0     │\n",
       "└────────────┴──────────────┴────────────┴─────────┴──────────┴───────────┘"
      ]
     },
     "metadata": {},
     "output_type": "display_data"
    },
    {
     "data": {
      "text/plain": [
       "(7825, 5)"
      ]
     },
     "metadata": {},
     "output_type": "display_data"
    }
   ],
   "source": [
    "display(crm_eda_df.head())\n",
    "display(crm_eda_df.describe())\n",
    "display(crm_eda_df.shape)\n"
   ]
  },
  {
   "cell_type": "markdown",
   "metadata": {},
   "source": [
    "### Customers EDA\n",
    "- 23,476 rows\n",
    "- 5 columns\n",
    "- no null values\n",
    "- age ranges from 0 to 101\n",
    "    - 0 could indicate null data\n",
    "    - avg age of 40"
   ]
  },
  {
   "cell_type": "code",
   "execution_count": 21,
   "metadata": {},
   "outputs": [
    {
     "data": {
      "text/html": [
       "<div><style>\n",
       ".dataframe > thead > tr,\n",
       ".dataframe > tbody > tr {\n",
       "  text-align: right;\n",
       "  white-space: pre-wrap;\n",
       "}\n",
       "</style>\n",
       "<small>shape: (5, 2)</small><table border=\"1\" class=\"dataframe\"><thead><tr><th>column_0</th><th>column_1</th></tr><tr><td>str</td><td>object</td></tr></thead><tbody><tr><td>&quot;customer_id&quot;</td><td>Int64</td></tr><tr><td>&quot;first_name&quot;</td><td>String</td></tr><tr><td>&quot;surname&quot;</td><td>String</td></tr><tr><td>&quot;postcode&quot;</td><td>String</td></tr><tr><td>&quot;age&quot;</td><td>Int64</td></tr></tbody></table></div>"
      ],
      "text/plain": [
       "shape: (5, 2)\n",
       "┌─────────────┬──────────┐\n",
       "│ column_0    ┆ column_1 │\n",
       "│ ---         ┆ ---      │\n",
       "│ str         ┆ object   │\n",
       "╞═════════════╪══════════╡\n",
       "│ customer_id ┆ Int64    │\n",
       "│ first_name  ┆ String   │\n",
       "│ surname     ┆ String   │\n",
       "│ postcode    ┆ String   │\n",
       "│ age         ┆ Int64    │\n",
       "└─────────────┴──────────┘"
      ]
     },
     "execution_count": 21,
     "metadata": {},
     "output_type": "execute_result"
    }
   ],
   "source": [
    "pl.DataFrame(zip(customers_eda_df.columns, customers_eda_df.dtypes))"
   ]
  },
  {
   "cell_type": "code",
   "execution_count": 15,
   "metadata": {},
   "outputs": [
    {
     "data": {
      "text/html": [
       "<div><style>\n",
       ".dataframe > thead > tr,\n",
       ".dataframe > tbody > tr {\n",
       "  text-align: right;\n",
       "  white-space: pre-wrap;\n",
       "}\n",
       "</style>\n",
       "<small>shape: (5, 5)</small><table border=\"1\" class=\"dataframe\"><thead><tr><th>customer_id</th><th>first_name</th><th>surname</th><th>postcode</th><th>age</th></tr><tr><td>i64</td><td>str</td><td>str</td><td>str</td><td>i64</td></tr></thead><tbody><tr><td>1641</td><td>&quot;Rhys&quot;</td><td>&quot;Richards&quot;</td><td>&quot;DE456EZ&quot;</td><td>45</td></tr><tr><td>24796</td><td>&quot;Maisie&quot;</td><td>&quot;Young&quot;</td><td>&quot;SW433XX&quot;</td><td>16</td></tr><tr><td>14358</td><td>&quot;Nathan&quot;</td><td>&quot;King&quot;</td><td>&quot;NW49TU&quot;</td><td>58</td></tr><tr><td>15306</td><td>&quot;Jack&quot;</td><td>&quot;Moore&quot;</td><td>&quot;NW908RR&quot;</td><td>26</td></tr><tr><td>24971</td><td>&quot;Alexander&quot;</td><td>&quot;Roberts&quot;</td><td>&quot;SW500HW&quot;</td><td>85</td></tr></tbody></table></div>"
      ],
      "text/plain": [
       "shape: (5, 5)\n",
       "┌─────────────┬────────────┬──────────┬──────────┬─────┐\n",
       "│ customer_id ┆ first_name ┆ surname  ┆ postcode ┆ age │\n",
       "│ ---         ┆ ---        ┆ ---      ┆ ---      ┆ --- │\n",
       "│ i64         ┆ str        ┆ str      ┆ str      ┆ i64 │\n",
       "╞═════════════╪════════════╪══════════╪══════════╪═════╡\n",
       "│ 1641        ┆ Rhys       ┆ Richards ┆ DE456EZ  ┆ 45  │\n",
       "│ 24796       ┆ Maisie     ┆ Young    ┆ SW433XX  ┆ 16  │\n",
       "│ 14358       ┆ Nathan     ┆ King     ┆ NW49TU   ┆ 58  │\n",
       "│ 15306       ┆ Jack       ┆ Moore    ┆ NW908RR  ┆ 26  │\n",
       "│ 24971       ┆ Alexander  ┆ Roberts  ┆ SW500HW  ┆ 85  │\n",
       "└─────────────┴────────────┴──────────┴──────────┴─────┘"
      ]
     },
     "metadata": {},
     "output_type": "display_data"
    },
    {
     "data": {
      "text/html": [
       "<div><style>\n",
       ".dataframe > thead > tr,\n",
       ".dataframe > tbody > tr {\n",
       "  text-align: right;\n",
       "  white-space: pre-wrap;\n",
       "}\n",
       "</style>\n",
       "<small>shape: (9, 6)</small><table border=\"1\" class=\"dataframe\"><thead><tr><th>statistic</th><th>customer_id</th><th>first_name</th><th>surname</th><th>postcode</th><th>age</th></tr><tr><td>str</td><td>f64</td><td>str</td><td>str</td><td>str</td><td>f64</td></tr></thead><tbody><tr><td>&quot;count&quot;</td><td>23476.0</td><td>&quot;23476&quot;</td><td>&quot;23476&quot;</td><td>&quot;23476&quot;</td><td>23476.0</td></tr><tr><td>&quot;null_count&quot;</td><td>0.0</td><td>&quot;0&quot;</td><td>&quot;0&quot;</td><td>&quot;0&quot;</td><td>0.0</td></tr><tr><td>&quot;mean&quot;</td><td>17195.245826</td><td>null</td><td>null</td><td>null</td><td>39.858281</td></tr><tr><td>&quot;std&quot;</td><td>9734.124201</td><td>null</td><td>null</td><td>null</td><td>24.814917</td></tr><tr><td>&quot;min&quot;</td><td>1.0</td><td>&quot;Aachie&quot;</td><td>&quot;Accen&quot;</td><td>&quot;DE03US&quot;</td><td>0.0</td></tr><tr><td>&quot;25%&quot;</td><td>8730.0</td><td>null</td><td>null</td><td>null</td><td>21.0</td></tr><tr><td>&quot;50%&quot;</td><td>17371.0</td><td>null</td><td>null</td><td>null</td><td>38.0</td></tr><tr><td>&quot;75%&quot;</td><td>25960.0</td><td>null</td><td>null</td><td>null</td><td>56.0</td></tr><tr><td>&quot;max&quot;</td><td>33281.0</td><td>&quot;Zuzanna&quot;</td><td>&quot;Yovng&quot;</td><td>&quot;SW990JE&quot;</td><td>101.0</td></tr></tbody></table></div>"
      ],
      "text/plain": [
       "shape: (9, 6)\n",
       "┌────────────┬──────────────┬────────────┬─────────┬──────────┬───────────┐\n",
       "│ statistic  ┆ customer_id  ┆ first_name ┆ surname ┆ postcode ┆ age       │\n",
       "│ ---        ┆ ---          ┆ ---        ┆ ---     ┆ ---      ┆ ---       │\n",
       "│ str        ┆ f64          ┆ str        ┆ str     ┆ str      ┆ f64       │\n",
       "╞════════════╪══════════════╪════════════╪═════════╪══════════╪═══════════╡\n",
       "│ count      ┆ 23476.0      ┆ 23476      ┆ 23476   ┆ 23476    ┆ 23476.0   │\n",
       "│ null_count ┆ 0.0          ┆ 0          ┆ 0       ┆ 0        ┆ 0.0       │\n",
       "│ mean       ┆ 17195.245826 ┆ null       ┆ null    ┆ null     ┆ 39.858281 │\n",
       "│ std        ┆ 9734.124201  ┆ null       ┆ null    ┆ null     ┆ 24.814917 │\n",
       "│ min        ┆ 1.0          ┆ Aachie     ┆ Accen   ┆ DE03US   ┆ 0.0       │\n",
       "│ 25%        ┆ 8730.0       ┆ null       ┆ null    ┆ null     ┆ 21.0      │\n",
       "│ 50%        ┆ 17371.0      ┆ null       ┆ null    ┆ null     ┆ 38.0      │\n",
       "│ 75%        ┆ 25960.0      ┆ null       ┆ null    ┆ null     ┆ 56.0      │\n",
       "│ max        ┆ 33281.0      ┆ Zuzanna    ┆ Yovng   ┆ SW990JE  ┆ 101.0     │\n",
       "└────────────┴──────────────┴────────────┴─────────┴──────────┴───────────┘"
      ]
     },
     "metadata": {},
     "output_type": "display_data"
    },
    {
     "data": {
      "text/plain": [
       "(23476, 5)"
      ]
     },
     "metadata": {},
     "output_type": "display_data"
    }
   ],
   "source": [
    "display(customers_eda_df.head())\n",
    "display(customers_eda_df.describe())\n",
    "display(customers_eda_df.shape)\n"
   ]
  },
  {
   "cell_type": "markdown",
   "metadata": {},
   "source": [
    "### Purchases EDA\n",
    "- 71,519 rows\n",
    "- 11 columns\n",
    "- several columns have null values\n",
    "- guest names seem to be UPPER CASE\n"
   ]
  },
  {
   "cell_type": "code",
   "execution_count": 20,
   "metadata": {},
   "outputs": [
    {
     "data": {
      "text/html": [
       "<div><style>\n",
       ".dataframe > thead > tr,\n",
       ".dataframe > tbody > tr {\n",
       "  text-align: right;\n",
       "  white-space: pre-wrap;\n",
       "}\n",
       "</style>\n",
       "<small>shape: (11, 2)</small><table border=\"1\" class=\"dataframe\"><thead><tr><th>column_0</th><th>column_1</th></tr><tr><td>str</td><td>object</td></tr></thead><tbody><tr><td>&quot;event_time&quot;</td><td>String</td></tr><tr><td>&quot;product_id&quot;</td><td>Int64</td></tr><tr><td>&quot;category_id&quot;</td><td>Int64</td></tr><tr><td>&quot;category_code&quot;</td><td>String</td></tr><tr><td>&quot;brand&quot;</td><td>String</td></tr><tr><td>&quot;price&quot;</td><td>Float64</td></tr><tr><td>&quot;session_id&quot;</td><td>String</td></tr><tr><td>&quot;customer_id&quot;</td><td>Float64</td></tr><tr><td>&quot;guest_first_name&quot;</td><td>String</td></tr><tr><td>&quot;guest_surname&quot;</td><td>String</td></tr><tr><td>&quot;guest_postcode&quot;</td><td>String</td></tr></tbody></table></div>"
      ],
      "text/plain": [
       "shape: (11, 2)\n",
       "┌──────────────────┬──────────┐\n",
       "│ column_0         ┆ column_1 │\n",
       "│ ---              ┆ ---      │\n",
       "│ str              ┆ object   │\n",
       "╞══════════════════╪══════════╡\n",
       "│ event_time       ┆ String   │\n",
       "│ product_id       ┆ Int64    │\n",
       "│ category_id      ┆ Int64    │\n",
       "│ category_code    ┆ String   │\n",
       "│ brand            ┆ String   │\n",
       "│ price            ┆ Float64  │\n",
       "│ session_id       ┆ String   │\n",
       "│ customer_id      ┆ Float64  │\n",
       "│ guest_first_name ┆ String   │\n",
       "│ guest_surname    ┆ String   │\n",
       "│ guest_postcode   ┆ String   │\n",
       "└──────────────────┴──────────┘"
      ]
     },
     "execution_count": 20,
     "metadata": {},
     "output_type": "execute_result"
    }
   ],
   "source": [
    "pl.DataFrame(zip(purchases_eda_df.columns, purchases_eda_df.dtypes))"
   ]
  },
  {
   "cell_type": "code",
   "execution_count": 23,
   "metadata": {},
   "outputs": [
    {
     "data": {
      "text/html": [
       "<div><style>\n",
       ".dataframe > thead > tr,\n",
       ".dataframe > tbody > tr {\n",
       "  text-align: right;\n",
       "  white-space: pre-wrap;\n",
       "}\n",
       "</style>\n",
       "<small>shape: (10, 11)</small><table border=\"1\" class=\"dataframe\"><thead><tr><th>event_time</th><th>product_id</th><th>category_id</th><th>category_code</th><th>brand</th><th>price</th><th>session_id</th><th>customer_id</th><th>guest_first_name</th><th>guest_surname</th><th>guest_postcode</th></tr><tr><td>str</td><td>i64</td><td>i64</td><td>str</td><td>str</td><td>f64</td><td>str</td><td>f64</td><td>str</td><td>str</td><td>str</td></tr></thead><tbody><tr><td>&quot;2022-10-01 02:26:08+00:00&quot;</td><td>32701106</td><td>2055156924466332447</td><td>null</td><td>&quot;shimano&quot;</td><td>95.21</td><td>&quot;64c68405-7002-4ce0-9604-a4c2e1f7384b&quot;</td><td>null</td><td>&quot;MICHAEL&quot;</td><td>&quot;MASON&quot;</td><td>&quot;RG497ZQ&quot;</td></tr><tr><td>&quot;2022-10-01 02:28:32+00:00&quot;</td><td>9400066</td><td>2053013566067311601</td><td>null</td><td>&quot;jaguar&quot;</td><td>164.2</td><td>&quot;3b7d6741-3c82-4c75-8015-6f54b52612e0&quot;</td><td>7466.0</td><td>null</td><td>null</td><td>null</td></tr><tr><td>&quot;2022-10-01 02:31:01+00:00&quot;</td><td>1004238</td><td>2053013555631882655</td><td>&quot;electronics.smartphone&quot;</td><td>&quot;apple&quot;</td><td>1206.4</td><td>&quot;38c6d3f7-6c32-4fed-bca6-ef98e1746386&quot;</td><td>null</td><td>&quot;COLE&quot;</td><td>&quot;WILKINSON&quot;</td><td>&quot;SW75TQ&quot;</td></tr><tr><td>&quot;2022-10-01 02:33:31+00:00&quot;</td><td>11300059</td><td>2053013555531219353</td><td>&quot;electronics.telephone&quot;</td><td>&quot;texet&quot;</td><td>17.48</td><td>&quot;3398c966-7846-4186-89be-323daad735b9&quot;</td><td>null</td><td>&quot;MOHAMMED&quot;</td><td>&quot;RICHARDS&quot;</td><td>&quot;RG150RE&quot;</td></tr><tr><td>&quot;2022-10-01 02:40:18+00:00&quot;</td><td>17300751</td><td>2053013553853497655</td><td>null</td><td>&quot;versace&quot;</td><td>77.22</td><td>&quot;11e3a573-01b9-4794-b513-e7d8a4fcac83&quot;</td><td>31266.0</td><td>null</td><td>null</td><td>null</td></tr><tr><td>&quot;2022-10-01 02:40:37+00:00&quot;</td><td>1004856</td><td>2053013555631882655</td><td>&quot;electronics.smartphone&quot;</td><td>&quot;samsung&quot;</td><td>130.76</td><td>&quot;d0132069-5827-4ebf-a1b3-b16496c9b396&quot;</td><td>5.34142828e8</td><td>null</td><td>null</td><td>null</td></tr><tr><td>&quot;2022-10-01 02:43:40+00:00&quot;</td><td>3601405</td><td>2053013563810775923</td><td>&quot;appliances.kitchen.washer&quot;</td><td>&quot;beko&quot;</td><td>187.88</td><td>&quot;ea7c3a44-0908-4ef6-b175-bf4075e2665a&quot;</td><td>1035.0</td><td>null</td><td>null</td><td>null</td></tr><tr><td>&quot;2022-10-01 02:44:11+00:00&quot;</td><td>1004720</td><td>2053013555631882655</td><td>&quot;electronics.smartphone&quot;</td><td>&quot;huawei&quot;</td><td>130.65</td><td>&quot;f8d45f96-6b2e-4886-8fb5-e59eab55cbe7&quot;</td><td>null</td><td>&quot;KIAN&quot;</td><td>&quot;MILLS&quot;</td><td>&quot;SW332TF&quot;</td></tr><tr><td>&quot;2022-10-01 02:45:39+00:00&quot;</td><td>41900000</td><td>2090971686529663114</td><td>&quot;appliances.environment.vacuum&quot;</td><td>null</td><td>23.6</td><td>&quot;87f507c9-8679-4b25-87f0-dc90e36b7b6d&quot;</td><td>6985.0</td><td>null</td><td>null</td><td>null</td></tr><tr><td>&quot;2022-10-01 02:46:26+00:00&quot;</td><td>22700067</td><td>2053013556168753601</td><td>null</td><td>&quot;force&quot;</td><td>86.23</td><td>&quot;465eef57-37b2-4ab1-b8ed-0f5315d55fb6&quot;</td><td>26434.0</td><td>null</td><td>null</td><td>null</td></tr></tbody></table></div>"
      ],
      "text/plain": [
       "shape: (10, 11)\n",
       "┌────────────────┬────────────┬─────────────────────┬──────────────────────────────┬─────────┬────────┬─────────────────────────────┬──────────────┬──────────────────┬───────────────┬────────────────┐\n",
       "│ event_time     ┆ product_id ┆ category_id         ┆ category_code                ┆ brand   ┆ price  ┆ session_id                  ┆ customer_id  ┆ guest_first_name ┆ guest_surname ┆ guest_postcode │\n",
       "│ ---            ┆ ---        ┆ ---                 ┆ ---                          ┆ ---     ┆ ---    ┆ ---                         ┆ ---          ┆ ---              ┆ ---           ┆ ---            │\n",
       "│ str            ┆ i64        ┆ i64                 ┆ str                          ┆ str     ┆ f64    ┆ str                         ┆ f64          ┆ str              ┆ str           ┆ str            │\n",
       "╞════════════════╪════════════╪═════════════════════╪══════════════════════════════╪═════════╪════════╪═════════════════════════════╪══════════════╪══════════════════╪═══════════════╪════════════════╡\n",
       "│ 2022-10-01     ┆ 32701106   ┆ 2055156924466332447 ┆ null                         ┆ shimano ┆ 95.21  ┆ 64c68405-7002-4ce0-9604-a4c ┆ null         ┆ MICHAEL          ┆ MASON         ┆ RG497ZQ        │\n",
       "│ 02:26:08+00:00 ┆            ┆                     ┆                              ┆         ┆        ┆ 2e1f7384b                   ┆              ┆                  ┆               ┆                │\n",
       "│ 2022-10-01     ┆ 9400066    ┆ 2053013566067311601 ┆ null                         ┆ jaguar  ┆ 164.2  ┆ 3b7d6741-3c82-4c75-8015-6f5 ┆ 7466.0       ┆ null             ┆ null          ┆ null           │\n",
       "│ 02:28:32+00:00 ┆            ┆                     ┆                              ┆         ┆        ┆ 4b52612e0                   ┆              ┆                  ┆               ┆                │\n",
       "│ 2022-10-01     ┆ 1004238    ┆ 2053013555631882655 ┆ electronics.smartphone       ┆ apple   ┆ 1206.4 ┆ 38c6d3f7-6c32-4fed-bca6-ef9 ┆ null         ┆ COLE             ┆ WILKINSON     ┆ SW75TQ         │\n",
       "│ 02:31:01+00:00 ┆            ┆                     ┆                              ┆         ┆        ┆ 8e1746386                   ┆              ┆                  ┆               ┆                │\n",
       "│ 2022-10-01     ┆ 11300059   ┆ 2053013555531219353 ┆ electronics.telephone        ┆ texet   ┆ 17.48  ┆ 3398c966-7846-4186-89be-323 ┆ null         ┆ MOHAMMED         ┆ RICHARDS      ┆ RG150RE        │\n",
       "│ 02:33:31+00:00 ┆            ┆                     ┆                              ┆         ┆        ┆ daad735b9                   ┆              ┆                  ┆               ┆                │\n",
       "│ 2022-10-01     ┆ 17300751   ┆ 2053013553853497655 ┆ null                         ┆ versace ┆ 77.22  ┆ 11e3a573-01b9-4794-b513-e7d ┆ 31266.0      ┆ null             ┆ null          ┆ null           │\n",
       "│ 02:40:18+00:00 ┆            ┆                     ┆                              ┆         ┆        ┆ 8a4fcac83                   ┆              ┆                  ┆               ┆                │\n",
       "│ 2022-10-01     ┆ 1004856    ┆ 2053013555631882655 ┆ electronics.smartphone       ┆ samsung ┆ 130.76 ┆ d0132069-5827-4ebf-a1b3-b16 ┆ 5.34142828e8 ┆ null             ┆ null          ┆ null           │\n",
       "│ 02:40:37+00:00 ┆            ┆                     ┆                              ┆         ┆        ┆ 496c9b396                   ┆              ┆                  ┆               ┆                │\n",
       "│ 2022-10-01     ┆ 3601405    ┆ 2053013563810775923 ┆ appliances.kitchen.washer    ┆ beko    ┆ 187.88 ┆ ea7c3a44-0908-4ef6-b175-bf4 ┆ 1035.0       ┆ null             ┆ null          ┆ null           │\n",
       "│ 02:43:40+00:00 ┆            ┆                     ┆                              ┆         ┆        ┆ 075e2665a                   ┆              ┆                  ┆               ┆                │\n",
       "│ 2022-10-01     ┆ 1004720    ┆ 2053013555631882655 ┆ electronics.smartphone       ┆ huawei  ┆ 130.65 ┆ f8d45f96-6b2e-4886-8fb5-e59 ┆ null         ┆ KIAN             ┆ MILLS         ┆ SW332TF        │\n",
       "│ 02:44:11+00:00 ┆            ┆                     ┆                              ┆         ┆        ┆ eab55cbe7                   ┆              ┆                  ┆               ┆                │\n",
       "│ 2022-10-01     ┆ 41900000   ┆ 2090971686529663114 ┆ appliances.environment.vacuu ┆ null    ┆ 23.6   ┆ 87f507c9-8679-4b25-87f0-dc9 ┆ 6985.0       ┆ null             ┆ null          ┆ null           │\n",
       "│ 02:45:39+00:00 ┆            ┆                     ┆ m                            ┆         ┆        ┆ 0e36b7b6d                   ┆              ┆                  ┆               ┆                │\n",
       "│ 2022-10-01     ┆ 22700067   ┆ 2053013556168753601 ┆ null                         ┆ force   ┆ 86.23  ┆ 465eef57-37b2-4ab1-b8ed-0f5 ┆ 26434.0      ┆ null             ┆ null          ┆ null           │\n",
       "│ 02:46:26+00:00 ┆            ┆                     ┆                              ┆         ┆        ┆ 315d55fb6                   ┆              ┆                  ┆               ┆                │\n",
       "└────────────────┴────────────┴─────────────────────┴──────────────────────────────┴─────────┴────────┴─────────────────────────────┴──────────────┴──────────────────┴───────────────┴────────────────┘"
      ]
     },
     "metadata": {},
     "output_type": "display_data"
    },
    {
     "data": {
      "text/html": [
       "<div><style>\n",
       ".dataframe > thead > tr,\n",
       ".dataframe > tbody > tr {\n",
       "  text-align: right;\n",
       "  white-space: pre-wrap;\n",
       "}\n",
       "</style>\n",
       "<small>shape: (9, 12)</small><table border=\"1\" class=\"dataframe\"><thead><tr><th>statistic</th><th>event_time</th><th>product_id</th><th>category_id</th><th>category_code</th><th>brand</th><th>price</th><th>session_id</th><th>customer_id</th><th>guest_first_name</th><th>guest_surname</th><th>guest_postcode</th></tr><tr><td>str</td><td>str</td><td>f64</td><td>f64</td><td>str</td><td>str</td><td>f64</td><td>str</td><td>f64</td><td>str</td><td>str</td><td>str</td></tr></thead><tbody><tr><td>&quot;count&quot;</td><td>&quot;71519&quot;</td><td>71519.0</td><td>71519.0</td><td>&quot;54780&quot;</td><td>&quot;65812&quot;</td><td>71519.0</td><td>&quot;71519&quot;</td><td>53071.0</td><td>&quot;18448&quot;</td><td>&quot;18448&quot;</td><td>&quot;18448&quot;</td></tr><tr><td>&quot;null_count&quot;</td><td>&quot;0&quot;</td><td>0.0</td><td>0.0</td><td>&quot;16739&quot;</td><td>&quot;5707&quot;</td><td>0.0</td><td>&quot;0&quot;</td><td>18448.0</td><td>&quot;53071&quot;</td><td>&quot;53071&quot;</td><td>&quot;53071&quot;</td></tr><tr><td>&quot;mean&quot;</td><td>null</td><td>6.4738e6</td><td>2.0551e18</td><td>null</td><td>null</td><td>303.220584</td><td>null</td><td>2.7289e7</td><td>null</td><td>null</td><td>null</td></tr><tr><td>&quot;std&quot;</td><td>null</td><td>8.7907e6</td><td>1.3835e16</td><td>null</td><td>null</td><td>339.22116</td><td>null</td><td>1.1791e8</td><td>null</td><td>null</td><td>null</td></tr><tr><td>&quot;min&quot;</td><td>&quot;2022-10-01 02:26:08+00:00&quot;</td><td>1.001588e6</td><td>2.0530e18</td><td>&quot;accessories.bag&quot;</td><td>&quot;a-mega&quot;</td><td>0.81</td><td>&quot;00007b3f-ec7a-4d2e-ac44-64dfec829806&quot;</td><td>1.0</td><td>&quot;AALIYAH&quot;</td><td>&quot;ADAMS&quot;</td><td>&quot;DE03US&quot;</td></tr><tr><td>&quot;25%&quot;</td><td>null</td><td>1.004856e6</td><td>2.0530e18</td><td>null</td><td>null</td><td>87.0</td><td>null</td><td>9403.0</td><td>null</td><td>null</td><td>null</td></tr><tr><td>&quot;50%&quot;</td><td>null</td><td>1.801805e6</td><td>2.0530e18</td><td>null</td><td>null</td><td>179.85</td><td>null</td><td>18847.0</td><td>null</td><td>null</td><td>null</td></tr><tr><td>&quot;75%&quot;</td><td>null</td><td>8.700289e6</td><td>2.0530e18</td><td>null</td><td>null</td><td>370.12</td><td>null</td><td>27618.0</td><td>null</td><td>null</td><td>null</td></tr><tr><td>&quot;max&quot;</td><td>&quot;2022-10-31 23:55:13+00:00&quot;</td><td>6.0500001e7</td><td>2.1724e18</td><td>&quot;stationery.cartrige&quot;</td><td>&quot;zte&quot;</td><td>2570.18</td><td>&quot;fffe2010-d084-4e54-b865-ed77a28633ea&quot;</td><td>5.66239774e8</td><td>&quot;ZUZANNA&quot;</td><td>&quot;YOUNG&quot;</td><td>&quot;SW990JE&quot;</td></tr></tbody></table></div>"
      ],
      "text/plain": [
       "shape: (9, 12)\n",
       "┌────────────┬────────────────┬─────────────┬─────────────┬─────────────────────┬────────┬────────────┬─────────────────────────────┬──────────────┬──────────────────┬───────────────┬────────────────┐\n",
       "│ statistic  ┆ event_time     ┆ product_id  ┆ category_id ┆ category_code       ┆ brand  ┆ price      ┆ session_id                  ┆ customer_id  ┆ guest_first_name ┆ guest_surname ┆ guest_postcode │\n",
       "│ ---        ┆ ---            ┆ ---         ┆ ---         ┆ ---                 ┆ ---    ┆ ---        ┆ ---                         ┆ ---          ┆ ---              ┆ ---           ┆ ---            │\n",
       "│ str        ┆ str            ┆ f64         ┆ f64         ┆ str                 ┆ str    ┆ f64        ┆ str                         ┆ f64          ┆ str              ┆ str           ┆ str            │\n",
       "╞════════════╪════════════════╪═════════════╪═════════════╪═════════════════════╪════════╪════════════╪═════════════════════════════╪══════════════╪══════════════════╪═══════════════╪════════════════╡\n",
       "│ count      ┆ 71519          ┆ 71519.0     ┆ 71519.0     ┆ 54780               ┆ 65812  ┆ 71519.0    ┆ 71519                       ┆ 53071.0      ┆ 18448            ┆ 18448         ┆ 18448          │\n",
       "│ null_count ┆ 0              ┆ 0.0         ┆ 0.0         ┆ 16739               ┆ 5707   ┆ 0.0        ┆ 0                           ┆ 18448.0      ┆ 53071            ┆ 53071         ┆ 53071          │\n",
       "│ mean       ┆ null           ┆ 6.4738e6    ┆ 2.0551e18   ┆ null                ┆ null   ┆ 303.220584 ┆ null                        ┆ 2.7289e7     ┆ null             ┆ null          ┆ null           │\n",
       "│ std        ┆ null           ┆ 8.7907e6    ┆ 1.3835e16   ┆ null                ┆ null   ┆ 339.22116  ┆ null                        ┆ 1.1791e8     ┆ null             ┆ null          ┆ null           │\n",
       "│ min        ┆ 2022-10-01     ┆ 1.001588e6  ┆ 2.0530e18   ┆ accessories.bag     ┆ a-mega ┆ 0.81       ┆ 00007b3f-ec7a-4d2e-ac44-64d ┆ 1.0          ┆ AALIYAH          ┆ ADAMS         ┆ DE03US         │\n",
       "│            ┆ 02:26:08+00:00 ┆             ┆             ┆                     ┆        ┆            ┆ fec829806                   ┆              ┆                  ┆               ┆                │\n",
       "│ 25%        ┆ null           ┆ 1.004856e6  ┆ 2.0530e18   ┆ null                ┆ null   ┆ 87.0       ┆ null                        ┆ 9403.0       ┆ null             ┆ null          ┆ null           │\n",
       "│ 50%        ┆ null           ┆ 1.801805e6  ┆ 2.0530e18   ┆ null                ┆ null   ┆ 179.85     ┆ null                        ┆ 18847.0      ┆ null             ┆ null          ┆ null           │\n",
       "│ 75%        ┆ null           ┆ 8.700289e6  ┆ 2.0530e18   ┆ null                ┆ null   ┆ 370.12     ┆ null                        ┆ 27618.0      ┆ null             ┆ null          ┆ null           │\n",
       "│ max        ┆ 2022-10-31     ┆ 6.0500001e7 ┆ 2.1724e18   ┆ stationery.cartrige ┆ zte    ┆ 2570.18    ┆ fffe2010-d084-4e54-b865-ed7 ┆ 5.66239774e8 ┆ ZUZANNA          ┆ YOUNG         ┆ SW990JE        │\n",
       "│            ┆ 23:55:13+00:00 ┆             ┆             ┆                     ┆        ┆            ┆ 7a28633ea                   ┆              ┆                  ┆               ┆                │\n",
       "└────────────┴────────────────┴─────────────┴─────────────┴─────────────────────┴────────┴────────────┴─────────────────────────────┴──────────────┴──────────────────┴───────────────┴────────────────┘"
      ]
     },
     "metadata": {},
     "output_type": "display_data"
    },
    {
     "data": {
      "text/plain": [
       "(71519, 11)"
      ]
     },
     "metadata": {},
     "output_type": "display_data"
    }
   ],
   "source": [
    "display(purchases_eda_df.head(10))\n",
    "display(purchases_eda_df.describe())\n",
    "display(purchases_eda_df.shape)\n"
   ]
  },
  {
   "cell_type": "code",
   "execution_count": null,
   "metadata": {},
   "outputs": [
    {
     "data": {
      "text/html": [
       "<div><style>\n",
       ".dataframe > thead > tr,\n",
       ".dataframe > tbody > tr {\n",
       "  text-align: right;\n",
       "  white-space: pre-wrap;\n",
       "}\n",
       "</style>\n",
       "<small>shape: (11, 2)</small><table border=\"1\" class=\"dataframe\"><thead><tr><th>column</th><th>unique_count</th></tr><tr><td>str</td><td>u32</td></tr></thead><tbody><tr><td>&quot;event_time&quot;</td><td>70143</td></tr><tr><td>&quot;session_id&quot;</td><td>60658</td></tr><tr><td>&quot;customer_id&quot;</td><td>24962</td></tr><tr><td>&quot;product_id&quot;</td><td>12294</td></tr><tr><td>&quot;price&quot;</td><td>10694</td></tr><tr><td>&quot;brand&quot;</td><td>1095</td></tr><tr><td>&quot;guest_postcode&quot;</td><td>606</td></tr><tr><td>&quot;guest_first_name&quot;</td><td>498</td></tr><tr><td>&quot;category_id&quot;</td><td>476</td></tr><tr><td>&quot;category_code&quot;</td><td>113</td></tr><tr><td>&quot;guest_surname&quot;</td><td>101</td></tr></tbody></table></div>"
      ],
      "text/plain": [
       "shape: (11, 2)\n",
       "┌──────────────────┬──────────────┐\n",
       "│ column           ┆ unique_count │\n",
       "│ ---              ┆ ---          │\n",
       "│ str              ┆ u32          │\n",
       "╞══════════════════╪══════════════╡\n",
       "│ event_time       ┆ 70143        │\n",
       "│ session_id       ┆ 60658        │\n",
       "│ customer_id      ┆ 24962        │\n",
       "│ product_id       ┆ 12294        │\n",
       "│ price            ┆ 10694        │\n",
       "│ brand            ┆ 1095         │\n",
       "│ guest_postcode   ┆ 606          │\n",
       "│ guest_first_name ┆ 498          │\n",
       "│ category_id      ┆ 476          │\n",
       "│ category_code    ┆ 113          │\n",
       "│ guest_surname    ┆ 101          │\n",
       "└──────────────────┴──────────────┘"
      ]
     },
     "execution_count": 99,
     "metadata": {},
     "output_type": "execute_result"
    }
   ],
   "source": [
    "# Display the number of unique values in each column\n",
    "purchases_eda_df.select([\n",
    "    pl.col(col_name).n_unique().alias(col_name)\n",
    "    for col_name in purchases_eda_df.columns\n",
    "]).transpose(include_header=True, header_name=\"column\", column_names=[\"unique_count\"])\\\n",
    "    .sort(\"unique_count\", descending=True)"
   ]
  },
  {
   "cell_type": "code",
   "execution_count": 104,
   "metadata": {},
   "outputs": [
    {
     "data": {
      "application/vnd.plotly.v1+json": {
       "config": {
        "plotlyServerURL": "https://plot.ly"
       },
       "data": [
        {
         "marker": {
          "color": [
           32065,
           4273,
           2941,
           2157,
           1597,
           1511,
           1246,
           1220,
           993,
           830
          ],
          "coloraxis": "coloraxis"
         },
         "type": "bar",
         "x": [
          "2053013555631882655",
          "2053013553559896355",
          "2053013554658804075",
          "2053013554415534427",
          "2053013563810775923",
          "2053013558920217191",
          "2053013565983425517",
          "2053013553341792533",
          "2053013563651392361",
          "2053013553375346967"
         ],
         "xaxis": "x",
         "y": [
          32065,
          4273,
          2941,
          2157,
          1597,
          1511,
          1246,
          1220,
          993,
          830
         ],
         "yaxis": "y"
        },
        {
         "marker": {
          "color": [
           32065,
           16739,
           2941,
           2160,
           1762,
           1597,
           1519,
           1264,
           1122,
           656
          ],
          "coloraxis": "coloraxis"
         },
         "type": "bar",
         "x": [
          "electronics.smartphone",
          null,
          "electronics.audio.headphone",
          "electronics.video.tv",
          "electronics.clocks",
          "appliances.kitchen.washer",
          "computers.notebook",
          "appliances.environment.vacuum",
          "appliances.kitchen.refrigerators",
          "electronics.tablet"
         ],
         "xaxis": "x2",
         "y": [
          32065,
          16739,
          2941,
          2160,
          1762,
          1597,
          1519,
          1264,
          1122,
          656
         ],
         "yaxis": "y2"
        },
        {
         "marker": {
          "color": [
           2707,
           2103,
           1219,
           1194,
           1165,
           1057,
           988,
           959,
           768,
           731
          ],
          "coloraxis": "coloraxis"
         },
         "type": "bar",
         "x": [
          "1004856",
          "1004767",
          "1005115",
          "1004833",
          "4804056",
          "1002544",
          "1004870",
          "1004249",
          "1004836",
          "5100816"
         ],
         "xaxis": "x3",
         "y": [
          2707,
          2103,
          1219,
          1194,
          1165,
          1057,
          988,
          959,
          768,
          731
         ],
         "yaxis": "y3"
        },
        {
         "marker": {
          "color": [
           16632,
           13333,
           5707,
           5552,
           2181,
           1062,
           1059,
           1032,
           872,
           698
          ],
          "coloraxis": "coloraxis"
         },
         "type": "bar",
         "x": [
          "samsung",
          "apple",
          null,
          "xiaomi",
          "huawei",
          "oppo",
          "cordiant",
          "lucente",
          "lg",
          "acer"
         ],
         "xaxis": "x4",
         "y": [
          16632,
          13333,
          5707,
          5552,
          2181,
          1062,
          1059,
          1032,
          872,
          698
         ],
         "yaxis": "y4"
        }
       ],
       "layout": {
        "annotations": [
         {
          "font": {
           "size": 16
          },
          "showarrow": false,
          "text": "Top Categories",
          "x": 0.225,
          "xanchor": "center",
          "xref": "paper",
          "y": 1,
          "yanchor": "bottom",
          "yref": "paper"
         },
         {
          "font": {
           "size": 16
          },
          "showarrow": false,
          "text": "Top Category Codes",
          "x": 0.775,
          "xanchor": "center",
          "xref": "paper",
          "y": 1,
          "yanchor": "bottom",
          "yref": "paper"
         },
         {
          "font": {
           "size": 16
          },
          "showarrow": false,
          "text": "Top Products",
          "x": 0.225,
          "xanchor": "center",
          "xref": "paper",
          "y": 0.375,
          "yanchor": "bottom",
          "yref": "paper"
         },
         {
          "font": {
           "size": 16
          },
          "showarrow": false,
          "text": "Top Brands",
          "x": 0.775,
          "xanchor": "center",
          "xref": "paper",
          "y": 0.375,
          "yanchor": "bottom",
          "yref": "paper"
         }
        ],
        "coloraxis": {
         "colorscale": [
          [
           0,
           "rgb(255,0,0)"
          ],
          [
           1,
           "rgb(0,0,255)"
          ]
         ]
        },
        "grid": {
         "columns": 2,
         "pattern": "independent",
         "roworder": "top to bottom",
         "rows": 2,
         "ygap": 0.3
        },
        "height": 700,
        "margin": {
         "b": 100,
         "t": 100
        },
        "showlegend": false,
        "template": {
         "data": {
          "bar": [
           {
            "error_x": {
             "color": "#2a3f5f"
            },
            "error_y": {
             "color": "#2a3f5f"
            },
            "marker": {
             "line": {
              "color": "#E5ECF6",
              "width": 0.5
             },
             "pattern": {
              "fillmode": "overlay",
              "size": 10,
              "solidity": 0.2
             }
            },
            "type": "bar"
           }
          ],
          "barpolar": [
           {
            "marker": {
             "line": {
              "color": "#E5ECF6",
              "width": 0.5
             },
             "pattern": {
              "fillmode": "overlay",
              "size": 10,
              "solidity": 0.2
             }
            },
            "type": "barpolar"
           }
          ],
          "carpet": [
           {
            "aaxis": {
             "endlinecolor": "#2a3f5f",
             "gridcolor": "white",
             "linecolor": "white",
             "minorgridcolor": "white",
             "startlinecolor": "#2a3f5f"
            },
            "baxis": {
             "endlinecolor": "#2a3f5f",
             "gridcolor": "white",
             "linecolor": "white",
             "minorgridcolor": "white",
             "startlinecolor": "#2a3f5f"
            },
            "type": "carpet"
           }
          ],
          "choropleth": [
           {
            "colorbar": {
             "outlinewidth": 0,
             "ticks": ""
            },
            "type": "choropleth"
           }
          ],
          "contour": [
           {
            "colorbar": {
             "outlinewidth": 0,
             "ticks": ""
            },
            "colorscale": [
             [
              0,
              "#0d0887"
             ],
             [
              0.1111111111111111,
              "#46039f"
             ],
             [
              0.2222222222222222,
              "#7201a8"
             ],
             [
              0.3333333333333333,
              "#9c179e"
             ],
             [
              0.4444444444444444,
              "#bd3786"
             ],
             [
              0.5555555555555556,
              "#d8576b"
             ],
             [
              0.6666666666666666,
              "#ed7953"
             ],
             [
              0.7777777777777778,
              "#fb9f3a"
             ],
             [
              0.8888888888888888,
              "#fdca26"
             ],
             [
              1,
              "#f0f921"
             ]
            ],
            "type": "contour"
           }
          ],
          "contourcarpet": [
           {
            "colorbar": {
             "outlinewidth": 0,
             "ticks": ""
            },
            "type": "contourcarpet"
           }
          ],
          "heatmap": [
           {
            "colorbar": {
             "outlinewidth": 0,
             "ticks": ""
            },
            "colorscale": [
             [
              0,
              "#0d0887"
             ],
             [
              0.1111111111111111,
              "#46039f"
             ],
             [
              0.2222222222222222,
              "#7201a8"
             ],
             [
              0.3333333333333333,
              "#9c179e"
             ],
             [
              0.4444444444444444,
              "#bd3786"
             ],
             [
              0.5555555555555556,
              "#d8576b"
             ],
             [
              0.6666666666666666,
              "#ed7953"
             ],
             [
              0.7777777777777778,
              "#fb9f3a"
             ],
             [
              0.8888888888888888,
              "#fdca26"
             ],
             [
              1,
              "#f0f921"
             ]
            ],
            "type": "heatmap"
           }
          ],
          "heatmapgl": [
           {
            "colorbar": {
             "outlinewidth": 0,
             "ticks": ""
            },
            "colorscale": [
             [
              0,
              "#0d0887"
             ],
             [
              0.1111111111111111,
              "#46039f"
             ],
             [
              0.2222222222222222,
              "#7201a8"
             ],
             [
              0.3333333333333333,
              "#9c179e"
             ],
             [
              0.4444444444444444,
              "#bd3786"
             ],
             [
              0.5555555555555556,
              "#d8576b"
             ],
             [
              0.6666666666666666,
              "#ed7953"
             ],
             [
              0.7777777777777778,
              "#fb9f3a"
             ],
             [
              0.8888888888888888,
              "#fdca26"
             ],
             [
              1,
              "#f0f921"
             ]
            ],
            "type": "heatmapgl"
           }
          ],
          "histogram": [
           {
            "marker": {
             "pattern": {
              "fillmode": "overlay",
              "size": 10,
              "solidity": 0.2
             }
            },
            "type": "histogram"
           }
          ],
          "histogram2d": [
           {
            "colorbar": {
             "outlinewidth": 0,
             "ticks": ""
            },
            "colorscale": [
             [
              0,
              "#0d0887"
             ],
             [
              0.1111111111111111,
              "#46039f"
             ],
             [
              0.2222222222222222,
              "#7201a8"
             ],
             [
              0.3333333333333333,
              "#9c179e"
             ],
             [
              0.4444444444444444,
              "#bd3786"
             ],
             [
              0.5555555555555556,
              "#d8576b"
             ],
             [
              0.6666666666666666,
              "#ed7953"
             ],
             [
              0.7777777777777778,
              "#fb9f3a"
             ],
             [
              0.8888888888888888,
              "#fdca26"
             ],
             [
              1,
              "#f0f921"
             ]
            ],
            "type": "histogram2d"
           }
          ],
          "histogram2dcontour": [
           {
            "colorbar": {
             "outlinewidth": 0,
             "ticks": ""
            },
            "colorscale": [
             [
              0,
              "#0d0887"
             ],
             [
              0.1111111111111111,
              "#46039f"
             ],
             [
              0.2222222222222222,
              "#7201a8"
             ],
             [
              0.3333333333333333,
              "#9c179e"
             ],
             [
              0.4444444444444444,
              "#bd3786"
             ],
             [
              0.5555555555555556,
              "#d8576b"
             ],
             [
              0.6666666666666666,
              "#ed7953"
             ],
             [
              0.7777777777777778,
              "#fb9f3a"
             ],
             [
              0.8888888888888888,
              "#fdca26"
             ],
             [
              1,
              "#f0f921"
             ]
            ],
            "type": "histogram2dcontour"
           }
          ],
          "mesh3d": [
           {
            "colorbar": {
             "outlinewidth": 0,
             "ticks": ""
            },
            "type": "mesh3d"
           }
          ],
          "parcoords": [
           {
            "line": {
             "colorbar": {
              "outlinewidth": 0,
              "ticks": ""
             }
            },
            "type": "parcoords"
           }
          ],
          "pie": [
           {
            "automargin": true,
            "type": "pie"
           }
          ],
          "scatter": [
           {
            "fillpattern": {
             "fillmode": "overlay",
             "size": 10,
             "solidity": 0.2
            },
            "type": "scatter"
           }
          ],
          "scatter3d": [
           {
            "line": {
             "colorbar": {
              "outlinewidth": 0,
              "ticks": ""
             }
            },
            "marker": {
             "colorbar": {
              "outlinewidth": 0,
              "ticks": ""
             }
            },
            "type": "scatter3d"
           }
          ],
          "scattercarpet": [
           {
            "marker": {
             "colorbar": {
              "outlinewidth": 0,
              "ticks": ""
             }
            },
            "type": "scattercarpet"
           }
          ],
          "scattergeo": [
           {
            "marker": {
             "colorbar": {
              "outlinewidth": 0,
              "ticks": ""
             }
            },
            "type": "scattergeo"
           }
          ],
          "scattergl": [
           {
            "marker": {
             "colorbar": {
              "outlinewidth": 0,
              "ticks": ""
             }
            },
            "type": "scattergl"
           }
          ],
          "scattermapbox": [
           {
            "marker": {
             "colorbar": {
              "outlinewidth": 0,
              "ticks": ""
             }
            },
            "type": "scattermapbox"
           }
          ],
          "scatterpolar": [
           {
            "marker": {
             "colorbar": {
              "outlinewidth": 0,
              "ticks": ""
             }
            },
            "type": "scatterpolar"
           }
          ],
          "scatterpolargl": [
           {
            "marker": {
             "colorbar": {
              "outlinewidth": 0,
              "ticks": ""
             }
            },
            "type": "scatterpolargl"
           }
          ],
          "scatterternary": [
           {
            "marker": {
             "colorbar": {
              "outlinewidth": 0,
              "ticks": ""
             }
            },
            "type": "scatterternary"
           }
          ],
          "surface": [
           {
            "colorbar": {
             "outlinewidth": 0,
             "ticks": ""
            },
            "colorscale": [
             [
              0,
              "#0d0887"
             ],
             [
              0.1111111111111111,
              "#46039f"
             ],
             [
              0.2222222222222222,
              "#7201a8"
             ],
             [
              0.3333333333333333,
              "#9c179e"
             ],
             [
              0.4444444444444444,
              "#bd3786"
             ],
             [
              0.5555555555555556,
              "#d8576b"
             ],
             [
              0.6666666666666666,
              "#ed7953"
             ],
             [
              0.7777777777777778,
              "#fb9f3a"
             ],
             [
              0.8888888888888888,
              "#fdca26"
             ],
             [
              1,
              "#f0f921"
             ]
            ],
            "type": "surface"
           }
          ],
          "table": [
           {
            "cells": {
             "fill": {
              "color": "#EBF0F8"
             },
             "line": {
              "color": "white"
             }
            },
            "header": {
             "fill": {
              "color": "#C8D4E3"
             },
             "line": {
              "color": "white"
             }
            },
            "type": "table"
           }
          ]
         },
         "layout": {
          "annotationdefaults": {
           "arrowcolor": "#2a3f5f",
           "arrowhead": 0,
           "arrowwidth": 1
          },
          "autotypenumbers": "strict",
          "coloraxis": {
           "colorbar": {
            "outlinewidth": 0,
            "ticks": ""
           }
          },
          "colorscale": {
           "diverging": [
            [
             0,
             "#8e0152"
            ],
            [
             0.1,
             "#c51b7d"
            ],
            [
             0.2,
             "#de77ae"
            ],
            [
             0.3,
             "#f1b6da"
            ],
            [
             0.4,
             "#fde0ef"
            ],
            [
             0.5,
             "#f7f7f7"
            ],
            [
             0.6,
             "#e6f5d0"
            ],
            [
             0.7,
             "#b8e186"
            ],
            [
             0.8,
             "#7fbc41"
            ],
            [
             0.9,
             "#4d9221"
            ],
            [
             1,
             "#276419"
            ]
           ],
           "sequential": [
            [
             0,
             "#0d0887"
            ],
            [
             0.1111111111111111,
             "#46039f"
            ],
            [
             0.2222222222222222,
             "#7201a8"
            ],
            [
             0.3333333333333333,
             "#9c179e"
            ],
            [
             0.4444444444444444,
             "#bd3786"
            ],
            [
             0.5555555555555556,
             "#d8576b"
            ],
            [
             0.6666666666666666,
             "#ed7953"
            ],
            [
             0.7777777777777778,
             "#fb9f3a"
            ],
            [
             0.8888888888888888,
             "#fdca26"
            ],
            [
             1,
             "#f0f921"
            ]
           ],
           "sequentialminus": [
            [
             0,
             "#0d0887"
            ],
            [
             0.1111111111111111,
             "#46039f"
            ],
            [
             0.2222222222222222,
             "#7201a8"
            ],
            [
             0.3333333333333333,
             "#9c179e"
            ],
            [
             0.4444444444444444,
             "#bd3786"
            ],
            [
             0.5555555555555556,
             "#d8576b"
            ],
            [
             0.6666666666666666,
             "#ed7953"
            ],
            [
             0.7777777777777778,
             "#fb9f3a"
            ],
            [
             0.8888888888888888,
             "#fdca26"
            ],
            [
             1,
             "#f0f921"
            ]
           ]
          },
          "colorway": [
           "#636efa",
           "#EF553B",
           "#00cc96",
           "#ab63fa",
           "#FFA15A",
           "#19d3f3",
           "#FF6692",
           "#B6E880",
           "#FF97FF",
           "#FECB52"
          ],
          "font": {
           "color": "#2a3f5f"
          },
          "geo": {
           "bgcolor": "white",
           "lakecolor": "white",
           "landcolor": "#E5ECF6",
           "showlakes": true,
           "showland": true,
           "subunitcolor": "white"
          },
          "hoverlabel": {
           "align": "left"
          },
          "hovermode": "closest",
          "mapbox": {
           "style": "light"
          },
          "paper_bgcolor": "white",
          "plot_bgcolor": "#E5ECF6",
          "polar": {
           "angularaxis": {
            "gridcolor": "white",
            "linecolor": "white",
            "ticks": ""
           },
           "bgcolor": "#E5ECF6",
           "radialaxis": {
            "gridcolor": "white",
            "linecolor": "white",
            "ticks": ""
           }
          },
          "scene": {
           "xaxis": {
            "backgroundcolor": "#E5ECF6",
            "gridcolor": "white",
            "gridwidth": 2,
            "linecolor": "white",
            "showbackground": true,
            "ticks": "",
            "zerolinecolor": "white"
           },
           "yaxis": {
            "backgroundcolor": "#E5ECF6",
            "gridcolor": "white",
            "gridwidth": 2,
            "linecolor": "white",
            "showbackground": true,
            "ticks": "",
            "zerolinecolor": "white"
           },
           "zaxis": {
            "backgroundcolor": "#E5ECF6",
            "gridcolor": "white",
            "gridwidth": 2,
            "linecolor": "white",
            "showbackground": true,
            "ticks": "",
            "zerolinecolor": "white"
           }
          },
          "shapedefaults": {
           "line": {
            "color": "#2a3f5f"
           }
          },
          "ternary": {
           "aaxis": {
            "gridcolor": "white",
            "linecolor": "white",
            "ticks": ""
           },
           "baxis": {
            "gridcolor": "white",
            "linecolor": "white",
            "ticks": ""
           },
           "bgcolor": "#E5ECF6",
           "caxis": {
            "gridcolor": "white",
            "linecolor": "white",
            "ticks": ""
           }
          },
          "title": {
           "x": 0.05
          },
          "xaxis": {
           "automargin": true,
           "gridcolor": "white",
           "linecolor": "white",
           "ticks": "",
           "title": {
            "standoff": 15
           },
           "zerolinecolor": "white",
           "zerolinewidth": 2
          },
          "yaxis": {
           "automargin": true,
           "gridcolor": "white",
           "linecolor": "white",
           "ticks": "",
           "title": {
            "standoff": 15
           },
           "zerolinecolor": "white",
           "zerolinewidth": 2
          }
         }
        },
        "title": {
         "text": "Top 10 Categories"
        },
        "xaxis": {
         "anchor": "y",
         "domain": [
          0,
          0.45
         ]
        },
        "xaxis2": {
         "anchor": "y2",
         "domain": [
          0.55,
          1
         ]
        },
        "xaxis3": {
         "anchor": "y3",
         "domain": [
          0,
          0.45
         ]
        },
        "xaxis4": {
         "anchor": "y4",
         "domain": [
          0.55,
          1
         ]
        },
        "yaxis": {
         "anchor": "x",
         "domain": [
          0.625,
          1
         ]
        },
        "yaxis2": {
         "anchor": "x2",
         "domain": [
          0.625,
          1
         ]
        },
        "yaxis3": {
         "anchor": "x3",
         "domain": [
          0,
          0.375
         ]
        },
        "yaxis4": {
         "anchor": "x4",
         "domain": [
          0,
          0.375
         ]
        }
       }
      }
     },
     "metadata": {},
     "output_type": "display_data"
    }
   ],
   "source": [
    "k = 10\n",
    "category_data = purchases_eda_df\\\n",
    "    .with_columns(pl.col(\"category_id\").cast(pl.Utf8).alias(\"category_id\"))\\\n",
    "    .group_by(\"category_id\")\\\n",
    "    .agg(pl.len().alias(\"count\"))\\\n",
    "    .sort(\"count\", descending=True)\\\n",
    "    .top_k(k, by=\"count\")\n",
    "\n",
    "category_code_data = purchases_eda_df\\\n",
    "    .with_columns(pl.col(\"category_code\").cast(pl.Utf8).alias(\"category_code\"))\\\n",
    "    .group_by(\"category_code\")\\\n",
    "    .agg(pl.len().alias(\"count\"))\\\n",
    "    .sort(\"count\", descending=True)\\\n",
    "    .top_k(k, by=\"count\")\n",
    "\n",
    "product_data = purchases_eda_df\\\n",
    "    .with_columns(pl.col(\"product_id\").cast(pl.Utf8).alias(\"product_id\"))\\\n",
    "    .group_by(\"product_id\")\\\n",
    "    .agg(pl.len().alias(\"count\"))\\\n",
    "    .sort(\"count\", descending=True)\\\n",
    "    .top_k(k, by=\"count\")\n",
    "\n",
    "brand_data = purchases_eda_df\\\n",
    "    .with_columns(pl.col(\"brand\").cast(pl.Utf8).alias(\"brand\"))\\\n",
    "    .group_by(\"brand\")\\\n",
    "    .agg(pl.len().alias(\"count\"))\\\n",
    "    .sort(\"count\", descending=True)\\\n",
    "    .top_k(k, by=\"count\")\n",
    "\n",
    "# Create subplot layout\n",
    "fig = make_subplots(rows=2, cols=2,\n",
    "                    subplot_titles=(\"Top Categories\", \"Top Category Codes\", \"Top Products\", \"Top Brands\"),\n",
    "                    shared_yaxes=False)\n",
    "\n",
    "# Add bar chart to first subplot\n",
    "fig.add_trace(\n",
    "    go.Bar(x=category_data[\"category_id\"],\n",
    "           y=category_data[\"count\"],\n",
    "           marker=dict(color=category_data[\"count\"],\n",
    "                      coloraxis=\"coloraxis\")),\n",
    "    row=1, col=1\n",
    ")\n",
    "\n",
    "fig.add_trace(\n",
    "    go.Bar(x=category_code_data[\"category_code\"],\n",
    "           y=category_code_data[\"count\"],\n",
    "           marker=dict(color=category_code_data[\"count\"],\n",
    "                      coloraxis=\"coloraxis\")),\n",
    "    row=1, col=2\n",
    ")\n",
    "\n",
    "# Add column chart to second subplot\n",
    "fig.add_trace(\n",
    "    go.Bar(x=product_data[\"product_id\"],\n",
    "           y=product_data[\"count\"],\n",
    "           marker=dict(color=product_data[\"count\"],\n",
    "                      coloraxis=\"coloraxis\")),\n",
    "    row=2, col=1\n",
    ")\n",
    "\n",
    "fig.add_trace(\n",
    "    go.Bar(x=brand_data[\"brand\"],\n",
    "           y=brand_data[\"count\"],\n",
    "           marker=dict(color=brand_data[\"count\"],\n",
    "                      coloraxis=\"coloraxis\")),\n",
    "    row=2, col=2)\n",
    "\n",
    "\n",
    "# Update layout\n",
    "fig.update_layout(\n",
    "    title=f\"Top {k} Categories\",\n",
    "    coloraxis=dict(colorscale='Bluered_r'),\n",
    "    showlegend=False,\n",
    "    height=700,  # Increased height for more vertical space\n",
    "    margin=dict(t=100, b=100),  # Add top and bottom margins\n",
    "    grid=dict(rows=2, columns=2, pattern='independent', roworder='top to bottom'),\n",
    "    grid_ygap=0.3  # Increase vertical gap between subplots (30% of the height)\n",
    ")\n",
    "\n",
    "fig.show()"
   ]
  },
  {
   "cell_type": "markdown",
   "metadata": {},
   "source": [
    "## 4. Data Preparation\n",
    "**Goal:** Clean, transform, and structure the data for modeling.\n",
    "- Handle missing values and duplicates\n",
    "- Engineer new features if necessary\n",
    "- Normalize, encode, or scale data as needed\n",
    "- Data cleaning\n",
    "- Feature engineering\n",
    "- Data transformation"
   ]
  },
  {
   "cell_type": "markdown",
   "metadata": {},
   "source": [
    "**Here are some key questions to consider:**\n",
    "\n",
    "- What are the possible ways in which customers can be represented across these datasets? It may be helpful to list all scenarios (customers in CRM, customers who made a purchase, guest checkouts, etc.) to hone in on exactly what you will need to code.\n",
    "\n",
    "- When you consider duplicates, how will linked accounts (i.e., a main account versus linked accounts) be represented?\n",
    "\n",
    "- When deduplicating records, what fields do you want to use for deduplication? Are two people with the same name living at the same postcode necessarily the same person? How much do two customers’ details need to differ before we consider them different people?"
   ]
  },
  {
   "cell_type": "markdown",
   "metadata": {},
   "source": [
    "## 5. Modeling\n",
    "**Goal:** Select and apply appropriate models.\n",
    "- What models will be tested?\n",
    "- Define the target variable and evaluation metrics.\n",
    "- Train, tune, and compare models.\n",
    "- Model selection\n",
    "- Model building\n",
    "- Model assessment"
   ]
  },
  {
   "cell_type": "markdown",
   "metadata": {},
   "source": [
    "First, we need to understand the question: “Who are our customers?” which would normally require some pushback for clarification. In this instance, whatever the actual analytical question about customers is, the data modeling step is fundamental to answering it. We must first consolidate the customer data from the three data sources.\n",
    "\n",
    "We could think about what additional data to augment it with to better fit the needs of the analytical questions. We know we want to end up with one row per customer, but we don’t yet know if a summary of the customer’s purchase history would be a useful addition. In this case, we don’t want to spend time preemptively adding information to our data model because we think someone might ask for it down the line.\n",
    "\n",
    "Our end product is quite well defined, but, specifically, starting from the end here means having an idea of the structure of the final data model, the existence of which will allow us to count customers to produce our minimum viable answer. We know that one of its most important properties should be that it contains one row per customer. That’s the level of granularity we’re aiming for. Any purchase data we augment it with would, therefore, need to be aggregated to the customer level; we couldn’t include individual products purchased by a customer but could include their total spending, the date they first signed up, the number of unique purchases they made, and so forth.\n",
    "\n",
    "Another aspect of looking ahead at our end result is to identify the schema of our final data model. What columns are common across our datasets? Are there columns we will have to drop before we combine the data sources, or are they important enough that we will accept some missing data in our final solution? In data modeling, these are all important aspects to think about up front, so we can keep them in mind while in the weeds of coding our solution, and we don’t spend time manipulating data that we cannot use in the final data model.\n"
   ]
  },
  {
   "cell_type": "markdown",
   "metadata": {},
   "source": [
    "## 6. Evaluation\n",
    "**Goal:** Assess model performance and business impact.\n",
    "- Review model accuracy, precision, recall, etc.\n",
    "- Compare results to business objectives.\n",
    "- Identify any risks or limitations.\n",
    "- Results evaluation\n",
    "- Process review\n",
    "- Next steps determination"
   ]
  },
  {
   "cell_type": "markdown",
   "metadata": {},
   "source": [
    "## 7. Deployment\n",
    "**Goal:** Implement the model in production.\n",
    "- Deployment plan: How will the model be deployed (batch, API, etc.)?\n",
    "- Monitoring and maintenance: What ongoing checks and updates are needed?\n",
    "- Final project report: Document outcomes, lessons learned, and future improvements."
   ]
  }
 ],
 "metadata": {
  "kernelspec": {
   "display_name": "data_science",
   "language": "python",
   "name": "python3"
  },
  "language_info": {
   "codemirror_mode": {
    "name": "ipython",
    "version": 3
   },
   "file_extension": ".py",
   "mimetype": "text/x-python",
   "name": "python",
   "nbconvert_exporter": "python",
   "pygments_lexer": "ipython3",
   "version": "3.13.2"
  }
 },
 "nbformat": 4,
 "nbformat_minor": 2
}
