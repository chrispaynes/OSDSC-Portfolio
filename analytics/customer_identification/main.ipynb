{
 "cells": [
  {
   "cell_type": "markdown",
   "metadata": {},
   "source": [
    "# Customer Indentification"
   ]
  },
  {
   "cell_type": "markdown",
   "metadata": {},
   "source": [
    "## 1. Project Overview\n",
    "- Basic project information\n",
    "- Initial setup with common data science libraries\n"
   ]
  },
  {
   "cell_type": "markdown",
   "metadata": {},
   "source": []
  },
  {
   "cell_type": "markdown",
   "metadata": {},
   "source": [
    "## 2. Business Understanding\n",
    "**Goal:** Define the problem and business objectives.\n",
    "- What is the problem we’re solving?\n",
    "- What are the business goals and success criteria?\n",
    "- Who are the stakeholders?\n",
    "- Business objectives\n",
    "- Situation assessment\n",
    "- Data mining goals\n",
    "- Project plan"
   ]
  },
  {
   "cell_type": "markdown",
   "metadata": {},
   "source": [
    "You have been hired by **Ebuy Emporium**, a new e-commerce startup. They have been up and running for a month and have had unexpected success. They are starting to have an active interest in their customer base.\n",
    "\n",
    "**Questions:**\n",
    "1. Who are their customers?\n",
    "1. What do they buy?\n",
    "1. What drives their purchasing behavior?\n",
    "1. How many customers do they have?\n",
    "\n",
    "However, before they do any serious analysis, they need to be able to count their customers, which happens to be more difficult than anticipated. "
   ]
  },
  {
   "cell_type": "markdown",
   "metadata": {},
   "source": [
    "## 3. Data Understanding\n",
    "**Goal:** Explore and assess the data.\n",
    "- What data is available\n",
    "- Where does the come from?\n",
    "- Data collection, description, and quality verification\n",
    "- Initial data exploration (size, structure, missing values, distributions)\n",
    "- Placeholder code for basic EDA"
   ]
  },
  {
   "cell_type": "markdown",
   "metadata": {},
   "source": [
    "**One problem is there are multiple sources of customer data**:\n",
    "\n",
    "1. The e-commerce platform’s customer database\n",
    "    - where customer details are recorded when they sign up for an account online.\n",
    "    - This is where most of the customer details should be found.\n",
    "\n",
    "1. The in-house CRM (customer relationship management) system\n",
    "    - where customer details are recorded when they make a purchase over the phone or are otherwise onboarded as customers (except because of purchasing online with a registered account).\n",
    "\n",
    "1. The raw transaction data (sales/purchases)\n",
    "    - we'll refer to as “purchases” or “sales,”\n",
    "    - also contains purchases made “as a guest,” meaning customer records are not explicitly created at the time of purchase.\n",
    "\n",
    "\n",
    "**Another problem is that the existing data sources may not be mutually exclusive—there might be overlaps across them all.**\n",
    "- There is almost certainly some duplication either because:\n",
    "    - the same customer had their details entered into multiple systems\n",
    "    - or because they have made purchases both as a guest and with a registered account.\n",
    "- Duplicate accounts may not contain exactly the same information; there may be typos or misspellings. \n"
   ]
  },
  {
   "cell_type": "markdown",
   "metadata": {},
   "source": [
    "| **Column** | Definition |\n",
    "| ------ | ---------- |\n",
    "| **event_time** | The exact date and time the purchase occurred. |\n",
    "| **product_id** | The unique identifier of the purchased product. |\n",
    "| **category_id** | The unique identifier of the purchased product's specific category. |\n",
    "| **category_code** | A broad category for the purchased product. In a hierarchy, category codes contain multiple category IDs, and one category_id should only be linked to one category_code. |\n",
    "| **brand** | The purchased item's brand (if applicable). |\n",
    "| **price** | The price the item was bought for (in USD). |\n",
    "| **session_id** | A unique identifier for a purchase session. If multiple items are purchased in a transaction, each item will have a row in the table, and the rows will share a session_id. |\n",
    "| **customer_id** | The unique identifier of the customer if they purchased using a registered account. For guest purchases, this value will be missing. |\n",
    "| **guest_first_name** | The first name that was supplied if a purchase was made as a guest. For purchases made using registered accounts, this value will be missing. |\n",
    "| **guest_surname** | The surname that was supplied if a purchase was made as a guest. For purchases made using registered accounts, this value will be missing. |\n",
    "| **guest_postcode** | The postcode that was supplied if a purchase was made as a guest. For purchases made using registered accounts, this value will be missing. |"
   ]
  },
  {
   "cell_type": "markdown",
   "metadata": {},
   "source": [
    "## 4. Data Preparation\n",
    "**Goal:** Clean, transform, and structure the data for modeling.\n",
    "- Handle missing values and duplicates\n",
    "- Engineer new features if necessary\n",
    "- Normalize, encode, or scale data as needed\n",
    "- Data cleaning\n",
    "- Feature engineering\n",
    "- Data transformation"
   ]
  },
  {
   "cell_type": "markdown",
   "metadata": {},
   "source": [
    "## 5. Modeling\n",
    "**Goal:** Select and apply appropriate models.\n",
    "- What models will be tested?\n",
    "- Define the target variable and evaluation metrics.\n",
    "- Train, tune, and compare models.\n",
    "- Model selection\n",
    "- Model building\n",
    "- Model assessment"
   ]
  },
  {
   "cell_type": "markdown",
   "metadata": {},
   "source": [
    "## 6. Evaluation\n",
    "**Goal:** Assess model performance and business impact.\n",
    "- Review model accuracy, precision, recall, etc.\n",
    "- Compare results to business objectives.\n",
    "- Identify any risks or limitations.\n",
    "- Results evaluation\n",
    "- Process review\n",
    "- Next steps determination"
   ]
  },
  {
   "cell_type": "markdown",
   "metadata": {},
   "source": [
    "## 7. Deployment\n",
    "**Goal:** Implement the model in production.\n",
    "- Deployment plan: How will the model be deployed (batch, API, etc.)?\n",
    "- Monitoring and maintenance: What ongoing checks and updates are needed?\n",
    "- Final project report: Document outcomes, lessons learned, and future improvements."
   ]
  }
 ],
 "metadata": {
  "language_info": {
   "name": "python"
  }
 },
 "nbformat": 4,
 "nbformat_minor": 2
}
