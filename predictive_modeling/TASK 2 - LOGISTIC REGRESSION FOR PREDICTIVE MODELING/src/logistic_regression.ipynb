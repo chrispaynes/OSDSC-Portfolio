{
 "cells": [
  {
   "cell_type": "code",
   "execution_count": 1,
   "id": "f69c829b-6624-4abe-b50d-179d1c84ff09",
   "metadata": {},
   "outputs": [],
   "source": [
    "import pandas as pd\n",
    "import seaborn as sns\n",
    "import matplotlib.pyplot as plt\n",
    "from statsmodels.formula.api import ols\n",
    "from statsmodels.api import qqplot\n",
    "from itertools import product\n",
    "import numpy as np\n",
    "from scipy.optimize import minimize\n",
    "from scipy import optimize\n",
    "from scipy.stats import logistic\n",
    "from statsmodels.formula.api import logit\n",
    "from sklearn.metrics import roc_auc_score\n",
    "from sklearn.model_selection import train_test_split\n",
    "import scikitplot as skplt"
   ]
  },
  {
   "cell_type": "markdown",
   "id": "7c534b49",
   "metadata": {},
   "source": [
    "NBM2 — NBM2 TASK 2: LOGISTIC REGRESSION FOR PREDICTIVE MODELING\n"
   ]
  },
  {
   "cell_type": "markdown",
   "id": "a63af269-0536-493c-9dcd-cb77aa28bc6f",
   "metadata": {},
   "source": [
    "# Part I: Research Question \n",
    "---"
   ]
  },
  {
   "cell_type": "markdown",
   "id": "732bed58-92c9-4e91-bc57-14a2e2b16424",
   "metadata": {
    "tags": []
   },
   "source": [
    "## A.  Describe the purpose of this data analysis by doing the following:\n",
    "\n"
   ]
  },
  {
   "cell_type": "markdown",
   "id": "b73e2c52-9ec0-4b2a-979e-becb876c7148",
   "metadata": {},
   "source": [
    "### 1.    Summarize one research question that is relevant to a real-world organizational situation captured in the data set you have selected and that you will answer using logistic regression.\n",
    "*The summary includes 1 research question that is relevant to a realistic organizational situation and can be addressed using the selected data set and logistic regression.*"
   ]
  },
  {
   "cell_type": "markdown",
   "id": "56cc2dc8-d884-421b-a1a4-c4960ba00e90",
   "metadata": {},
   "source": [
    "- relationship between readmission with initial days and initial admin\n",
    "- relationship between age, gender and readmission\n",
    "- relationship between age, marital status and readmission\n",
    "- relationship between income, doc visits and readmission\n",
    "- relationship between inpatient care doc visits, vitD levels, full meals, vitd_supp, initial admin complication risk, services and readmission\n",
    "- relationship between prexisting conditions, highblood, stroke, complication risk, overweight, arthritis, diabetes, hyperliidemia, backpain, anxiety, rhinitis, reflux, asthma and readmission\n"
   ]
  },
  {
   "cell_type": "markdown",
   "id": "5f6ff59e-a7ed-46b7-8ca5-4fb2537baf91",
   "metadata": {},
   "source": [
    "### 2.  Define the objectives or goals of the data analysis. Ensure that your objectives or goals are reasonable within the scope of the data dictionary and are represented in the available data.\n",
    "*The submission clearly defines the objectives or goals of the data analysis, and the objectives or goals are reasonable for the scope of the scenario and are represented in the available data.*"
   ]
  },
  {
   "cell_type": "markdown",
   "id": "e89b8e29-780a-4a77-b60d-8bcae1f399c9",
   "metadata": {},
   "source": []
  },
  {
   "cell_type": "markdown",
   "id": "4984d80c-96f1-471c-89d0-8ff03d44f2db",
   "metadata": {},
   "source": []
  },
  {
   "cell_type": "markdown",
   "id": "15571339-1a86-49c8-b0a9-588d4dcbd254",
   "metadata": {},
   "source": [
    "# Part II: Method Justification\n",
    "---"
   ]
  },
  {
   "cell_type": "markdown",
   "id": "996cc5be-13c9-4a81-86dc-c4fd000ad85f",
   "metadata": {},
   "source": [
    "## B.  Describe logistic regression methods by doing the following:\n",
    "\n",
    "\n"
   ]
  },
  {
   "cell_type": "markdown",
   "id": "d5e37646-4da1-40ee-a016-0a1d7ac335e7",
   "metadata": {},
   "source": [
    "### 1.  Summarize the assumptions of a logistic regression model.\n",
    "\n",
    "\n",
    "*The submission accurately summarizes the assumptions of a logistic regression model.*\n",
    "\n"
   ]
  },
  {
   "cell_type": "markdown",
   "id": "d379bf13-eb7c-427b-9799-d2dceb585a00",
   "metadata": {},
   "source": [
    "### 2.  Describe the benefits of using the tool(s) you have chosen (i.e., Python, R, or both) in support of various phases of the analysis.\n",
    "*The submission describes the benefits of using the tool(s) chosen in support of the various phases of the logistic regression analysis, and the benefits logically align with the goal of the analysis.*\n",
    "\n"
   ]
  },
  {
   "cell_type": "markdown",
   "id": "a39e8ca9-466c-40c8-a2fa-900a498c8296",
   "metadata": {},
   "source": [
    "### 3.  Explain why logistic regression is an appropriate technique to analyze the research question summarized in Part I.\n",
    "\n",
    "\n",
    "*The submission accurately explains why logistic regression is an appropriate technique to analyze the research question from Part I.*\n"
   ]
  },
  {
   "cell_type": "markdown",
   "id": "5f0d2626-5ecd-4eb6-b9fa-d0ce013ba08b",
   "metadata": {},
   "source": [
    "# Part III: Data Preparation\n",
    "---"
   ]
  },
  {
   "cell_type": "markdown",
   "id": "257dce33-d57a-4b9e-978b-232e425b25e0",
   "metadata": {},
   "source": [
    "## C.  Summarize the data preparation process for logistic regression by doing the following:\n",
    "\n",
    "\n",
    "\n"
   ]
  },
  {
   "cell_type": "markdown",
   "id": "75ebb7ff-f39e-4551-b71d-7c7a68be0cb1",
   "metadata": {},
   "source": [
    "### 1.  Describe your data preparation goals and the data manipulations that will be used to achieve the goals.\n",
    "*The submission describes the data preparation goals and the data manipulations that will be used to achieve the goals. The goals and manipulations align with each other and with logistic regression analysis and the research question.*\n"
   ]
  },
  {
   "cell_type": "markdown",
   "id": "9e2252d3-d93c-4361-a56d-99cf7a6559ef",
   "metadata": {},
   "source": [
    "- train/test split\n",
    "    - \"In order to properly evaluate a model, one can partition the data in a train and test set. The train set contains the data the model is built on, and the test data is used to evaluate the model. This division is done randomly, but when the target incidence is low, it could be necessary to stratify, that is, to make sure that the train and test data contain an equal percentage of targets.\"\n"
   ]
  },
  {
   "cell_type": "markdown",
   "id": "60673e07-85cb-4000-907c-abc6fdd4bee1",
   "metadata": {},
   "source": [
    "### 2.  Discuss the summary statistics, including the target variable and all predictor variables that you will need to gather from the data set to answer the research question.\n",
    "*The submission accurately discusses the summary statistics and discusses the target variable and all predictor variables that need to be gathered from the data set to answer the selected research question.*\n",
    "\n"
   ]
  },
  {
   "cell_type": "markdown",
   "id": "011b810d-dd20-42ea-a7fd-6c12b8526802",
   "metadata": {},
   "source": [
    "### 3.  Explain the steps used to prepare the data for the analysis, including the annotated code.\n",
    "*The submission explains all necessary steps used to prepare the data for the analysis. The steps include the annotated code and relate to preparing for a logistic regression analysis.*\n",
    "\n"
   ]
  },
  {
   "cell_type": "markdown",
   "id": "9069ef57-fbb2-492c-85b1-580915d2784f",
   "metadata": {},
   "source": [
    "### 4.  Generate univariate and bivariate visualizations of the distributions of variables in the cleaned data set. Include the target variable in your bivariate visualizations.\n",
    "*The submission accurately generates both univariate and bivariate visualizations of the distributions of variables in the cleaned data set. The bivariate visualizations include the target variable.*\n"
   ]
  },
  {
   "cell_type": "markdown",
   "id": "c81c67ce-e9bc-41ba-a5e1-3be5643b46b5",
   "metadata": {},
   "source": [
    "### 5.  Provide a copy of the prepared data set.\n",
    "*The submission provides a copy of the fully prepared data set.*\n",
    "\n"
   ]
  },
  {
   "cell_type": "markdown",
   "id": "dc39d0cd-7416-4209-a449-69f12b838e13",
   "metadata": {
    "jupyter": {
     "source_hidden": true
    },
    "tags": []
   },
   "source": []
  },
  {
   "cell_type": "markdown",
   "id": "38698a2a-7b83-4505-a4fb-133a5bfa9c8c",
   "metadata": {
    "tags": []
   },
   "source": [
    "# Part IV: Model Comparison and Analysis\n",
    "---"
   ]
  },
  {
   "cell_type": "markdown",
   "id": "2d11b327-1a0f-42fb-a029-4d3bdcddbdcf",
   "metadata": {},
   "source": [
    "## D.  Compare an initial and a reduced logistic regression model by doing the following:\n",
    "\n",
    "\n",
    "\n"
   ]
  },
  {
   "cell_type": "markdown",
   "id": "37d98ea6-018f-4da6-a94d-4450e1ba9309",
   "metadata": {},
   "source": [
    "### 1.  Construct an initial logistic regression model from all predictors that were identified in Part C2\n",
    "\n",
    "\n",
    "*The submission provides an accurate initial logistic regression model from all predictors identified in Part C2.*\n"
   ]
  },
  {
   "cell_type": "markdown",
   "id": "2885bc0e-f63f-4a67-81df-b10addd45818",
   "metadata": {},
   "source": [
    "### 2.  Justify a statistically based variable selection procedure and a model evaluation metric to reduce the initial model in a way that aligns with the research question.\n",
    "\n",
    "\n",
    "*The submission justifies a statistically based variable selection procedure and a model evaluation metric to reduce the initial model. The justification is in alignment with the research question.*\n",
    "\n"
   ]
  },
  {
   "cell_type": "markdown",
   "id": "64d5de2b-4812-4cd7-a583-d440aec30863",
   "metadata": {},
   "source": [
    "### 3.  Provide a reduced logistic regression model. (Note: The output should include a screenshot of each model.)\n",
    "*The submission provides a reduced logistic regression model, and the model is in alignment with the justification from part D2.*\n",
    "\n"
   ]
  },
  {
   "cell_type": "markdown",
   "id": "ef186f14-de7f-4e31-b28f-94114f398f27",
   "metadata": {},
   "source": [
    "## E.  Analyze the data set using your reduced logistic regression model by doing the following:\n",
    "\n",
    "\n",
    "\n"
   ]
  },
  {
   "cell_type": "markdown",
   "id": "319c6bc5-5e64-429b-8859-46ce27457b4a",
   "metadata": {},
   "source": [
    "### 1.  Explain your data analysis process by comparing the initial and reduced logistic regression models, including the following elements:\n",
    "\n",
    "\n",
    "*The submission accurately explains the data analysis process by comparing the initial and reduced logistic regression models, including all of the given elements.*\n",
    "\n",
    "- the logic of the variable selection technique\n",
    "\n",
    "- the model evaluation metric"
   ]
  },
  {
   "cell_type": "markdown",
   "id": "60d61482-77d0-4ea7-81d0-140d137f157d",
   "metadata": {},
   "source": [
    "### 2.  Provide the output and any calculations of the analysis you performed, including a confusion matrix. (Note: The output should include the predictions from the refined model you used to perform the analysis.)\n",
    "*The submission provides the accurate output and calculations of the analysis performed, including a confusion matrix. The submissions includes all necessary output and calculations.*\n",
    "\n"
   ]
  },
  {
   "cell_type": "markdown",
   "id": "81b5bc2a-26d1-43fc-85d0-6967680f397c",
   "metadata": {},
   "source": [
    "### 3.  Provide the code used to support the implementation of the logistic regression models.\n",
    "\n",
    "*The submission provides the code used to support the implementation of the logistic regression models, and the code is complete and accurate.*\n"
   ]
  },
  {
   "cell_type": "markdown",
   "id": "ab92e065-5b61-481f-8603-3572a9260ed0",
   "metadata": {},
   "source": []
  },
  {
   "cell_type": "markdown",
   "id": "727049c7-0fa3-4684-9d13-202c0fff2201",
   "metadata": {},
   "source": [
    "# Part V: Data Summary and Implications\n",
    "---\n"
   ]
  },
  {
   "cell_type": "markdown",
   "id": "9660f5b7-6600-481d-8f22-91e4f3a621c8",
   "metadata": {},
   "source": [
    "## F.  Summarize your findings and assumptions by doing the following:\n",
    "\n"
   ]
  },
  {
   "cell_type": "markdown",
   "id": "de7bcb69-0ede-4c14-873c-c7af69c07585",
   "metadata": {},
   "source": [
    "### 1.  Discuss the results of your data analysis, including the following elements:\n",
    "*The submission accurately discusses the results of the data analysis, and the discussion addresses all of the given elements and is in alignment with the research question and the data analysis.*\n",
    "- a regression equation for the reduced model\n",
    "\n",
    "- an interpretation of coefficients of the statistically significant variables of the model\n",
    "\n",
    "- the statistical and practical significance of the model\n",
    "\n",
    "- the limitations of the data analysis\n"
   ]
  },
  {
   "cell_type": "markdown",
   "id": "8cefa40e-ce16-4462-aaaa-777730ca792b",
   "metadata": {},
   "source": [
    "## 2.  Recommend a course of action based on your results.\n",
    "*The submission recommends an appropriate course of action based on the results as they relate to the research question.*\n"
   ]
  },
  {
   "cell_type": "markdown",
   "id": "dc458c4f-1c01-44d8-8fc2-e89b58de0735",
   "metadata": {},
   "source": []
  },
  {
   "cell_type": "markdown",
   "id": "67b50cd3-2796-4d61-8eec-3f9c653490dd",
   "metadata": {},
   "source": []
  },
  {
   "cell_type": "markdown",
   "id": "f2add410-4617-42d8-86db-feeefe269915",
   "metadata": {},
   "source": [
    "# Part VI: Demonstration\n",
    "---"
   ]
  },
  {
   "cell_type": "markdown",
   "id": "1b2c7275-2ddc-4f9b-aa47-1c1d1b9049bd",
   "metadata": {},
   "source": [
    "## H.  List the web sources used to acquire data or segments of third-party code to support the application. Ensure the web sources are reliable.\n",
    "*The submission lists all web sources used to acquire data or segments of third-party code, and the web sources are reliable.*\n",
    "\n"
   ]
  },
  {
   "cell_type": "markdown",
   "id": "d3f4ec24-21e5-4738-a66d-6b6a275b956c",
   "metadata": {},
   "source": [
    "## I.  Acknowledge sources, using in-text citations and references, for content that is quoted, paraphrased, or summarized.\n",
    "*The submission includes in-text citations for sources that are properly quoted, paraphrased, or summarized and a reference list that accurately identifies the author, date, title, and source location as available.*\n",
    "\n"
   ]
  },
  {
   "cell_type": "markdown",
   "id": "1db6ffc2-6d15-4d66-a5ae-9e376fc9343f",
   "metadata": {},
   "source": []
  },
  {
   "cell_type": "markdown",
   "id": "d1f51e1a-3939-48ed-9e19-684c80b243c3",
   "metadata": {},
   "source": []
  },
  {
   "cell_type": "markdown",
   "id": "05e68d3f-75f2-4e84-b03c-68f2f11b2acc",
   "metadata": {},
   "source": []
  },
  {
   "cell_type": "markdown",
   "id": "2ec7fa4d-3376-4356-9322-c4ee7299c9ac",
   "metadata": {},
   "source": []
  },
  {
   "cell_type": "markdown",
   "id": "64c3fca9-1a43-4fc4-9af3-cdf389b14c74",
   "metadata": {},
   "source": []
  },
  {
   "cell_type": "markdown",
   "id": "f8e80f13-cf2c-4d66-b1c7-d42e3b485f72",
   "metadata": {},
   "source": []
  }
 ],
 "metadata": {
  "kernelspec": {
   "display_name": "Python 3 (ipykernel)",
   "language": "python",
   "name": "python3"
  },
  "language_info": {
   "codemirror_mode": {
    "name": "ipython",
    "version": 3
   },
   "file_extension": ".py",
   "mimetype": "text/x-python",
   "name": "python",
   "nbconvert_exporter": "python",
   "pygments_lexer": "ipython3",
   "version": "3.9.7"
  }
 },
 "nbformat": 4,
 "nbformat_minor": 5
}
