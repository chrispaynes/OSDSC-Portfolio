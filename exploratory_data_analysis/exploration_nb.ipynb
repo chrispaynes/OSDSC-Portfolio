{
 "cells": [
  {
   "cell_type": "markdown",
   "metadata": {},
   "source": [
    "# COMPETENCIES\n",
    "**4030.04.01 : Data Interpretation**<br> \n",
    "The graduate interprets central tendency, correlations, and variations to inform organizational decisions.\n",
    "\n",
    "**4030.04.02 : Conducting Parametric Testing**<br />\n",
    "The graduate conducts parametric hypothesis testing."
   ]
  },
  {
   "cell_type": "markdown",
   "metadata": {},
   "source": [
    "# INTRODUCTION\n",
    "An organization has collected raw data to analyze its operations and support its decision-making processes. The raw data files from the Data Cleaning course have been cleaned and prepared for exploratory analysis.\n",
    "\n",
    "To compete this assessment, you will access a data dictionary file and its corresponding data flat file. You will analyze the data set using specific techniques, create visualizations, and deliver the results of your analysis."
   ]
  },
  {
   "cell_type": "markdown",
   "metadata": {},
   "source": [
    "# SCENARIO\n",
    "For this task, you will select one of the Data Dictionary and the matching Data Set files from the following link:\n",
    "\n",
    "You will review the Data Dictionary to understand the needs of the company and to prepare to analyze the data. In this assessment, you will analyze the .csv data file, also referred to as the data set."
   ]
  },
  {
   "cell_type": "markdown",
   "metadata": {},
   "source": [
    "# Requirements Summary\n",
    "  A. Describe a real-world organizational situation or issue in the Data Dictionary you chose\n",
    "  \n",
    "  B.  Describe the data analysis\n",
    "\n",
    "  C.  Identify the distribution of two continuous variables and two categorical variables using univariate statistics from your cleaned and prepared data.  \n",
    "\n",
    "  D.  Identify the distribution of two continuous variables and two categorical variables using bivariate statistics from your cleaned and prepared data.\n",
    "\n",
    "  E.  Summarize the implications of your data analysis \n",
    "  \n",
    "  F.  Provide a Panopto video recording that includes a demonstration of the functionality of the code used for the analysis and a summary of the tool(s) used. \n",
    "\n",
    "  G.  Reference the web sources used to acquire segments of third-party code to support the analysis.\n",
    "\n",
    "  H.  Acknowledge sources, using in-text citations and references, for content that is quoted, paraphrased, or summarized."
   ]
  },
  {
   "cell_type": "code",
   "execution_count": 186,
   "metadata": {},
   "outputs": [],
   "source": [
    "import pandas as pd\n",
    "import matplotlib.pyplot as plt\n",
    "import numpy as np\n",
    "from scipy import stats\n",
    "from scipy.stats import uniform\n",
    "from scipy.stats import binom\n",
    "from scipy.stats import norm\n",
    "from scipy.stats import poisson\n",
    "from scipy.stats import expon\n",
    "import seaborn as sns\n",
    "\n",
    "pd.set_option(\"display.max_columns\", 100)\n",
    "pd.set_option(\"display.max_rows\", 100)"
   ]
  },
  {
   "cell_type": "code",
   "execution_count": 4,
   "metadata": {},
   "outputs": [],
   "source": [
    "df = pd.read_csv(\"./src/Medical Data and Dictionary Files/medical_clean.csv\")"
   ]
  },
  {
   "cell_type": "code",
   "execution_count": 7,
   "metadata": {},
   "outputs": [
    {
     "data": {
      "text/html": [
       "<div>\n",
       "<style scoped>\n",
       "    .dataframe tbody tr th:only-of-type {\n",
       "        vertical-align: middle;\n",
       "    }\n",
       "\n",
       "    .dataframe tbody tr th {\n",
       "        vertical-align: top;\n",
       "    }\n",
       "\n",
       "    .dataframe thead th {\n",
       "        text-align: right;\n",
       "    }\n",
       "</style>\n",
       "<table border=\"1\" class=\"dataframe\">\n",
       "  <thead>\n",
       "    <tr style=\"text-align: right;\">\n",
       "      <th></th>\n",
       "      <th>CaseOrder</th>\n",
       "      <th>Customer_id</th>\n",
       "      <th>Interaction</th>\n",
       "      <th>UID</th>\n",
       "      <th>City</th>\n",
       "      <th>State</th>\n",
       "      <th>County</th>\n",
       "      <th>Zip</th>\n",
       "      <th>Lat</th>\n",
       "      <th>Lng</th>\n",
       "      <th>...</th>\n",
       "      <th>TotalCharge</th>\n",
       "      <th>Additional_charges</th>\n",
       "      <th>Item1</th>\n",
       "      <th>Item2</th>\n",
       "      <th>Item3</th>\n",
       "      <th>Item4</th>\n",
       "      <th>Item5</th>\n",
       "      <th>Item6</th>\n",
       "      <th>Item7</th>\n",
       "      <th>Item8</th>\n",
       "    </tr>\n",
       "  </thead>\n",
       "  <tbody>\n",
       "    <tr>\n",
       "      <th>0</th>\n",
       "      <td>1</td>\n",
       "      <td>C412403</td>\n",
       "      <td>8cd49b13-f45a-4b47-a2bd-173ffa932c2f</td>\n",
       "      <td>3a83ddb66e2ae73798bdf1d705dc0932</td>\n",
       "      <td>Eva</td>\n",
       "      <td>AL</td>\n",
       "      <td>Morgan</td>\n",
       "      <td>35621</td>\n",
       "      <td>34.34960</td>\n",
       "      <td>-86.72508</td>\n",
       "      <td>...</td>\n",
       "      <td>3726.702860</td>\n",
       "      <td>17939.403420</td>\n",
       "      <td>3</td>\n",
       "      <td>3</td>\n",
       "      <td>2</td>\n",
       "      <td>2</td>\n",
       "      <td>4</td>\n",
       "      <td>3</td>\n",
       "      <td>3</td>\n",
       "      <td>4</td>\n",
       "    </tr>\n",
       "    <tr>\n",
       "      <th>1</th>\n",
       "      <td>2</td>\n",
       "      <td>Z919181</td>\n",
       "      <td>d2450b70-0337-4406-bdbb-bc1037f1734c</td>\n",
       "      <td>176354c5eef714957d486009feabf195</td>\n",
       "      <td>Marianna</td>\n",
       "      <td>FL</td>\n",
       "      <td>Jackson</td>\n",
       "      <td>32446</td>\n",
       "      <td>30.84513</td>\n",
       "      <td>-85.22907</td>\n",
       "      <td>...</td>\n",
       "      <td>4193.190458</td>\n",
       "      <td>17612.998120</td>\n",
       "      <td>3</td>\n",
       "      <td>4</td>\n",
       "      <td>3</td>\n",
       "      <td>4</td>\n",
       "      <td>4</td>\n",
       "      <td>4</td>\n",
       "      <td>3</td>\n",
       "      <td>3</td>\n",
       "    </tr>\n",
       "    <tr>\n",
       "      <th>2</th>\n",
       "      <td>3</td>\n",
       "      <td>F995323</td>\n",
       "      <td>a2057123-abf5-4a2c-abad-8ffe33512562</td>\n",
       "      <td>e19a0fa00aeda885b8a436757e889bc9</td>\n",
       "      <td>Sioux Falls</td>\n",
       "      <td>SD</td>\n",
       "      <td>Minnehaha</td>\n",
       "      <td>57110</td>\n",
       "      <td>43.54321</td>\n",
       "      <td>-96.63772</td>\n",
       "      <td>...</td>\n",
       "      <td>2434.234222</td>\n",
       "      <td>17505.192460</td>\n",
       "      <td>2</td>\n",
       "      <td>4</td>\n",
       "      <td>4</td>\n",
       "      <td>4</td>\n",
       "      <td>3</td>\n",
       "      <td>4</td>\n",
       "      <td>3</td>\n",
       "      <td>3</td>\n",
       "    </tr>\n",
       "    <tr>\n",
       "      <th>3</th>\n",
       "      <td>4</td>\n",
       "      <td>A879973</td>\n",
       "      <td>1dec528d-eb34-4079-adce-0d7a40e82205</td>\n",
       "      <td>cd17d7b6d152cb6f23957346d11c3f07</td>\n",
       "      <td>New Richland</td>\n",
       "      <td>MN</td>\n",
       "      <td>Waseca</td>\n",
       "      <td>56072</td>\n",
       "      <td>43.89744</td>\n",
       "      <td>-93.51479</td>\n",
       "      <td>...</td>\n",
       "      <td>2127.830423</td>\n",
       "      <td>12993.437350</td>\n",
       "      <td>3</td>\n",
       "      <td>5</td>\n",
       "      <td>5</td>\n",
       "      <td>3</td>\n",
       "      <td>4</td>\n",
       "      <td>5</td>\n",
       "      <td>5</td>\n",
       "      <td>5</td>\n",
       "    </tr>\n",
       "    <tr>\n",
       "      <th>4</th>\n",
       "      <td>5</td>\n",
       "      <td>C544523</td>\n",
       "      <td>5885f56b-d6da-43a3-8760-83583af94266</td>\n",
       "      <td>d2f0425877b10ed6bb381f3e2579424a</td>\n",
       "      <td>West Point</td>\n",
       "      <td>VA</td>\n",
       "      <td>King William</td>\n",
       "      <td>23181</td>\n",
       "      <td>37.59894</td>\n",
       "      <td>-76.88958</td>\n",
       "      <td>...</td>\n",
       "      <td>2113.073274</td>\n",
       "      <td>3716.525786</td>\n",
       "      <td>2</td>\n",
       "      <td>1</td>\n",
       "      <td>3</td>\n",
       "      <td>3</td>\n",
       "      <td>5</td>\n",
       "      <td>3</td>\n",
       "      <td>4</td>\n",
       "      <td>3</td>\n",
       "    </tr>\n",
       "  </tbody>\n",
       "</table>\n",
       "<p>5 rows × 50 columns</p>\n",
       "</div>"
      ],
      "text/plain": [
       "   CaseOrder Customer_id                           Interaction  \\\n",
       "0          1     C412403  8cd49b13-f45a-4b47-a2bd-173ffa932c2f   \n",
       "1          2     Z919181  d2450b70-0337-4406-bdbb-bc1037f1734c   \n",
       "2          3     F995323  a2057123-abf5-4a2c-abad-8ffe33512562   \n",
       "3          4     A879973  1dec528d-eb34-4079-adce-0d7a40e82205   \n",
       "4          5     C544523  5885f56b-d6da-43a3-8760-83583af94266   \n",
       "\n",
       "                                UID          City State        County    Zip  \\\n",
       "0  3a83ddb66e2ae73798bdf1d705dc0932           Eva    AL        Morgan  35621   \n",
       "1  176354c5eef714957d486009feabf195      Marianna    FL       Jackson  32446   \n",
       "2  e19a0fa00aeda885b8a436757e889bc9   Sioux Falls    SD     Minnehaha  57110   \n",
       "3  cd17d7b6d152cb6f23957346d11c3f07  New Richland    MN        Waseca  56072   \n",
       "4  d2f0425877b10ed6bb381f3e2579424a    West Point    VA  King William  23181   \n",
       "\n",
       "        Lat       Lng  ...  TotalCharge Additional_charges Item1 Item2  Item3  \\\n",
       "0  34.34960 -86.72508  ...  3726.702860       17939.403420     3     3      2   \n",
       "1  30.84513 -85.22907  ...  4193.190458       17612.998120     3     4      3   \n",
       "2  43.54321 -96.63772  ...  2434.234222       17505.192460     2     4      4   \n",
       "3  43.89744 -93.51479  ...  2127.830423       12993.437350     3     5      5   \n",
       "4  37.59894 -76.88958  ...  2113.073274        3716.525786     2     1      3   \n",
       "\n",
       "   Item4  Item5 Item6 Item7 Item8  \n",
       "0      2      4     3     3     4  \n",
       "1      4      4     4     3     3  \n",
       "2      4      3     4     3     3  \n",
       "3      3      4     5     5     5  \n",
       "4      3      5     3     4     3  \n",
       "\n",
       "[5 rows x 50 columns]"
      ]
     },
     "execution_count": 7,
     "metadata": {},
     "output_type": "execute_result"
    }
   ],
   "source": [
    "df.head(5)"
   ]
  },
  {
   "cell_type": "code",
   "execution_count": 44,
   "metadata": {},
   "outputs": [
    {
     "name": "stdout",
     "output_type": "stream",
     "text": [
      "POPULATION\n"
     ]
    },
    {
     "data": {
      "text/plain": [
       "count    10000.000000\n",
       "mean        34.455299\n",
       "std         26.309341\n",
       "min          1.001981\n",
       "25%          7.896215\n",
       "50%         35.836244\n",
       "75%         61.161020\n",
       "max         71.981490\n",
       "Name: Initial_days, dtype: float64"
      ]
     },
     "metadata": {},
     "output_type": "display_data"
    },
    {
     "name": "stdout",
     "output_type": "stream",
     "text": [
      "REGION: ['AK']\n"
     ]
    },
    {
     "data": {
      "text/plain": [
       "count    70.000000\n",
       "mean     36.500051\n",
       "std      25.704678\n",
       "min       1.849924\n",
       "25%       9.434709\n",
       "50%      45.888600\n",
       "75%      59.280270\n",
       "max      71.245750\n",
       "Name: Initial_days, dtype: float64"
      ]
     },
     "metadata": {},
     "output_type": "display_data"
    },
    {
     "name": "stdout",
     "output_type": "stream",
     "text": [
      "REGION: ['CT', 'DC', 'DE', 'FL', 'GA', 'IN', 'KY', 'MA', 'MD', 'ME', 'NC', 'NH', 'NJ', 'NY', 'OH', 'PA', 'PR', 'RI', 'SC', 'VA', 'VT', 'WV', 'WY']\n"
     ]
    },
    {
     "data": {
      "text/plain": [
       "count    4211.000000\n",
       "mean       33.967240\n",
       "std        26.176232\n",
       "min         1.001981\n",
       "25%         7.911326\n",
       "50%        24.677664\n",
       "75%        60.644230\n",
       "max        71.968690\n",
       "Name: Initial_days, dtype: float64"
      ]
     },
     "metadata": {},
     "output_type": "display_data"
    },
    {
     "name": "stdout",
     "output_type": "stream",
     "text": [
      "REGION: ['AR', 'IA', 'IL', 'KS', 'LA', 'MI', 'MN', 'MO', 'MS', 'ND', 'NE', 'OK', 'SD', 'TN', 'TX', 'WI']\n"
     ]
    },
    {
     "data": {
      "text/plain": [
       "count    3887.000000\n",
       "mean       34.981794\n",
       "std        26.511168\n",
       "min         1.009143\n",
       "25%         7.720069\n",
       "50%        40.850660\n",
       "75%        61.708510\n",
       "max        71.964150\n",
       "Name: Initial_days, dtype: float64"
      ]
     },
     "metadata": {},
     "output_type": "display_data"
    },
    {
     "name": "stdout",
     "output_type": "stream",
     "text": [
      "REGION: ['AZ', 'CO', 'ID', 'MT', 'NM', 'UT']\n"
     ]
    },
    {
     "data": {
      "text/plain": [
       "count    690.000000\n",
       "mean      32.662387\n",
       "std       26.166228\n",
       "min        1.035656\n",
       "25%        7.558800\n",
       "50%       19.502032\n",
       "75%       60.216828\n",
       "max       71.981490\n",
       "Name: Initial_days, dtype: float64"
      ]
     },
     "metadata": {},
     "output_type": "display_data"
    },
    {
     "name": "stdout",
     "output_type": "stream",
     "text": [
      "REGION: ['CA', 'NV', 'OR', 'WA']\n"
     ]
    },
    {
     "data": {
      "text/plain": [
       "count    914.000000\n",
       "mean      35.466417\n",
       "std       26.099618\n",
       "min        1.012481\n",
       "25%        8.486896\n",
       "50%       42.463185\n",
       "75%       61.490075\n",
       "max       71.965460\n",
       "Name: Initial_days, dtype: float64"
      ]
     },
     "metadata": {},
     "output_type": "display_data"
    },
    {
     "name": "stdout",
     "output_type": "stream",
     "text": [
      "REGION: ['HI']\n"
     ]
    },
    {
     "data": {
      "text/plain": [
       "count    34.000000\n",
       "mean     35.862036\n",
       "std      25.897401\n",
       "min       1.235558\n",
       "25%       8.947236\n",
       "50%      40.841560\n",
       "75%      58.800088\n",
       "max      69.954140\n",
       "Name: Initial_days, dtype: float64"
      ]
     },
     "metadata": {},
     "output_type": "display_data"
    }
   ],
   "source": [
    "# print(df.TimeZone.unique())\n",
    "# print(sorted(list(df.State.unique())))\n",
    "\n",
    "\n",
    "alaskan = [\n",
    "    \"AK\",\n",
    "]\n",
    "\n",
    "eastern = [\n",
    "    \"CT\",\n",
    "    \"DC\",\n",
    "    \"DE\",\n",
    "    \"FL\",\n",
    "    \"GA\",\n",
    "    \"IN\",\n",
    "    \"KY\",\n",
    "    \"MA\",\n",
    "    \"MD\",\n",
    "    \"ME\",\n",
    "    \"NC\",\n",
    "    \"NH\",\n",
    "    \"NJ\",\n",
    "    \"NY\",\n",
    "    \"OH\",\n",
    "    \"PA\",\n",
    "    \"PR\",\n",
    "    \"RI\",\n",
    "    \"SC\",\n",
    "    \"VA\",\n",
    "    \"VT\",\n",
    "    \"WV\",\n",
    "    \"WY\",\n",
    "]\n",
    "\n",
    "central = [\n",
    "    \"AR\",\n",
    "    \"IA\",\n",
    "    \"IL\",\n",
    "    \"KS\",\n",
    "    \"LA\",\n",
    "    \"MI\",\n",
    "    \"MN\",\n",
    "    \"MO\",\n",
    "    \"MS\",\n",
    "    \"ND\",\n",
    "    \"NE\",\n",
    "    \"OK\",\n",
    "    \"SD\",\n",
    "    \"TN\",\n",
    "    \"TX\",\n",
    "    \"WI\",\n",
    "]\n",
    "\n",
    "mountain = [\n",
    "    \"AZ\",\n",
    "    \"CO\",\n",
    "    \"ID\",\n",
    "    \"MT\",\n",
    "    \"NM\",\n",
    "    \"UT\",\n",
    "]\n",
    "\n",
    "pacific = [\n",
    "    \"CA\",\n",
    "    \"NV\",\n",
    "    \"OR\",\n",
    "    \"WA\",\n",
    "]\n",
    "\n",
    "\n",
    "hawaii_aleutian = [\"HI\"]\n",
    "\n",
    "print(\"POPULATION\")\n",
    "# display(df.Doc_visits.describe())\n",
    "display(df.Initial_days.describe())\n",
    "\n",
    "for r in [alaskan, eastern, central, mountain, pacific, hawaii_aleutian]:\n",
    "    print(\"REGION:\", str(r))\n",
    "    display(df[df.State.isin(r)].Initial_days.describe())\n",
    "    # display(df[df.State.isin(r)].Doc_visits.describe())"
   ]
  },
  {
   "cell_type": "code",
   "execution_count": 249,
   "metadata": {},
   "outputs": [
    {
     "data": {
      "text/html": [
       "<div>\n",
       "<style scoped>\n",
       "    .dataframe tbody tr th:only-of-type {\n",
       "        vertical-align: middle;\n",
       "    }\n",
       "\n",
       "    .dataframe tbody tr th {\n",
       "        vertical-align: top;\n",
       "    }\n",
       "\n",
       "    .dataframe thead tr th {\n",
       "        text-align: left;\n",
       "    }\n",
       "\n",
       "    .dataframe thead tr:last-of-type th {\n",
       "        text-align: right;\n",
       "    }\n",
       "</style>\n",
       "<table border=\"1\" class=\"dataframe\">\n",
       "  <thead>\n",
       "    <tr>\n",
       "      <th></th>\n",
       "      <th colspan=\"8\" halign=\"left\">Age</th>\n",
       "    </tr>\n",
       "    <tr>\n",
       "      <th></th>\n",
       "      <th>count</th>\n",
       "      <th>mean</th>\n",
       "      <th>std</th>\n",
       "      <th>min</th>\n",
       "      <th>25%</th>\n",
       "      <th>50%</th>\n",
       "      <th>75%</th>\n",
       "      <th>max</th>\n",
       "    </tr>\n",
       "    <tr>\n",
       "      <th>Marital</th>\n",
       "      <th></th>\n",
       "      <th></th>\n",
       "      <th></th>\n",
       "      <th></th>\n",
       "      <th></th>\n",
       "      <th></th>\n",
       "      <th></th>\n",
       "      <th></th>\n",
       "    </tr>\n",
       "  </thead>\n",
       "  <tbody>\n",
       "    <tr>\n",
       "      <th>Divorced</th>\n",
       "      <td>678.0</td>\n",
       "      <td>54.616519</td>\n",
       "      <td>20.613998</td>\n",
       "      <td>18.0</td>\n",
       "      <td>36.0</td>\n",
       "      <td>55.5</td>\n",
       "      <td>72.0</td>\n",
       "      <td>89.0</td>\n",
       "    </tr>\n",
       "    <tr>\n",
       "      <th>Married</th>\n",
       "      <td>755.0</td>\n",
       "      <td>54.185430</td>\n",
       "      <td>20.355724</td>\n",
       "      <td>18.0</td>\n",
       "      <td>38.0</td>\n",
       "      <td>54.0</td>\n",
       "      <td>72.0</td>\n",
       "      <td>89.0</td>\n",
       "    </tr>\n",
       "    <tr>\n",
       "      <th>Never Married</th>\n",
       "      <td>741.0</td>\n",
       "      <td>52.577598</td>\n",
       "      <td>20.881803</td>\n",
       "      <td>18.0</td>\n",
       "      <td>35.0</td>\n",
       "      <td>52.0</td>\n",
       "      <td>70.0</td>\n",
       "      <td>89.0</td>\n",
       "    </tr>\n",
       "    <tr>\n",
       "      <th>Separated</th>\n",
       "      <td>728.0</td>\n",
       "      <td>54.523352</td>\n",
       "      <td>20.371502</td>\n",
       "      <td>18.0</td>\n",
       "      <td>37.0</td>\n",
       "      <td>54.0</td>\n",
       "      <td>72.0</td>\n",
       "      <td>89.0</td>\n",
       "    </tr>\n",
       "    <tr>\n",
       "      <th>Widowed</th>\n",
       "      <td>767.0</td>\n",
       "      <td>53.864407</td>\n",
       "      <td>20.541047</td>\n",
       "      <td>18.0</td>\n",
       "      <td>36.0</td>\n",
       "      <td>53.0</td>\n",
       "      <td>72.5</td>\n",
       "      <td>89.0</td>\n",
       "    </tr>\n",
       "  </tbody>\n",
       "</table>\n",
       "</div>"
      ],
      "text/plain": [
       "                 Age                                                    \n",
       "               count       mean        std   min   25%   50%   75%   max\n",
       "Marital                                                                 \n",
       "Divorced       678.0  54.616519  20.613998  18.0  36.0  55.5  72.0  89.0\n",
       "Married        755.0  54.185430  20.355724  18.0  38.0  54.0  72.0  89.0\n",
       "Never Married  741.0  52.577598  20.881803  18.0  35.0  52.0  70.0  89.0\n",
       "Separated      728.0  54.523352  20.371502  18.0  37.0  54.0  72.0  89.0\n",
       "Widowed        767.0  53.864407  20.541047  18.0  36.0  53.0  72.5  89.0"
      ]
     },
     "execution_count": 249,
     "metadata": {},
     "output_type": "execute_result"
    }
   ],
   "source": [
    "readmis_df = df[df.ReAdmis == \"Yes\"]\n",
    "non_readmis_df = df[df.ReAdmis != \"Yes\"]\n",
    "\n",
    "readmis_df.reset_index()\n",
    "\n",
    "df.groupby(\"Area\").describe().Initial_days.T\n",
    "readmis_df.groupby(\"Area\").describe().Initial_days.T\n",
    "df.groupby(\"Area\").describe().Doc_visits.T\n",
    "readmis_df.groupby(\"Area\").describe().Doc_visits.T\n",
    "\n",
    "df.groupby(\"Gender\").describe().Initial_days.T  # some diff\n",
    "readmis_df.groupby(\"Gender\").describe().Initial_days.T  # some diff\n",
    "df.groupby(\"Gender\").describe().Doc_visits.T\n",
    "readmis_df.groupby(\"Gender\").describe().Doc_visits.T\n",
    "\n",
    "df.groupby(\"Marital\").describe().Initial_days.T  # some difference\n",
    "readmis_df.groupby(\"Marital\").describe().Initial_days.T  # some difference\n",
    "# df.groupby(\"Marital\").describe().Doc_visits.T\n",
    "# readmis_df.groupby(\"Marital\").describe().Doc_visits.T\n",
    "\n",
    "df[\"Age10\"] = (df.Age // 20) * 10\n",
    "\n",
    "# df.groupby(\"Age10\").describe().Initial_days.T # some difference\n",
    "# readmis_df.groupby(\"Age10\").describe().Initial_days.T # some difference\n",
    "# readmis_df.groupby(\"Age10\").describe().Doc_visits.T # some difference\n",
    "# # df.groupby(\"Age\").describe().Doc_visits.T\n",
    "# # (60 // 10) * 10\n",
    "\n",
    "# # readmis_df.head(5).ReAdmis\n",
    "\n",
    "# readmis_df.groupby(\"ReAdmis\").describe().T\n",
    "\n",
    "# df[\"VitD_levels_rounded\"] = df[\"VitD_levels\"].round()\n",
    "\n",
    "# readmis_df.groupby(\"VitD_levels_rounded\").describe().T\n",
    "\n",
    "# df.hist(\"VitD_levels_rounded\")\n",
    "\n",
    "# _ = df.hist(figsize=(15,15))\n",
    "\n",
    "# df[df.dtypes.isin([\"int64\", \"float64\"]).index].head()\n",
    "\n",
    "df.select_dtypes([\"int64\", \"float64\"]).head()\n",
    "\n",
    "cols = [\n",
    "    \"Age\",\n",
    "    \"Children\",\n",
    "    \"VitD_levels\",\n",
    "    \"Doc_visits\",\n",
    "    \"Full_meals_eaten\",\n",
    "    \"vitD_supp\",\n",
    "    \"Initial_days\",\n",
    "]\n",
    "\n",
    "# df[cols].head()\n",
    "\n",
    "# df[cols].hist(figsize=(15, 15))\n",
    "\n",
    "# non_readmis_df[[\"VitD_levels\"]].describe()\n",
    "readmis_df.groupby(\"Marital\")[[\"VitD_levels\"]].describe()\n",
    "readmis_df.groupby(\"Marital\")[[\"Initial_days\"]].describe()\n",
    "readmis_df.groupby(\"Marital\")[[\"vitD_supp\"]].describe()\n",
    "readmis_df.groupby(\"Marital\")[[\"Full_meals_eaten\"]].describe()  # difference in mean\n",
    "readmis_df.groupby(\"Marital\")[[\"Doc_visits\"]].describe()\n",
    "readmis_df.groupby(\"Marital\")[[\"Children\"]].describe()\n",
    "readmis_df.groupby(\"Marital\")[[\"Age\"]].describe()\n",
    "\n",
    "# readmis_df.groupby(\"Area\")[[\"Initial_days\"]].describe()\n",
    "# readmis_df.groupby(\"Area\")[[\"vitD_supp\"]].describe() # difference in mean\n",
    "# readmis_df.groupby(\"Area\")[[\"Full_meals_eaten\"]].describe()\n",
    "# readmis_df.groupby(\"Area\")[[\"Doc_visits\"]].describe()\n",
    "# readmis_df.groupby(\"Area\")[[\"Children\"]].describe()\n",
    "# readmis_df.groupby(\"Area\")[[\"Age\"]].describe()"
   ]
  },
  {
   "cell_type": "code",
   "execution_count": 403,
   "metadata": {},
   "outputs": [
    {
     "name": "stdout",
     "output_type": "stream",
     "text": [
      "Power_divergenceResult(statistic=0.6662, pvalue=0.7166985207200149) Rural       3369\n",
      "Suburban    3328\n",
      "Urban       3303\n",
      "Name: Area, dtype: int64\n"
     ]
    },
    {
     "data": {
      "image/png": "[encoded data removed]",
      "text/plain": [
       "<Figure size 412x360 with 1 Axes>"
      ]
     },
     "metadata": {
      "needs_background": "light"
     },
     "output_type": "display_data"
    }
   ],
   "source": [
    "# Chi Square Test\n",
    "# readmis_df = df.loc[df.ReAdmis == 'Yes', [\"ReAdmis\", \"Area\"]]\n",
    "\n",
    "# visualize the differences in ReAdmission and area\n",
    "sns.displot(df[[\"ReAdmis\", \"Area\"]], x=\"Area\", hue=\"ReAdmis\")\n",
    "\n",
    "c = df.Area.value_counts()\n",
    "\n",
    "# shows the likelihood of observation this distribution when we expect an equal distribution of outcomes\n",
    "# we expect equal distribution of areas, this shows the likelihood of seeing the observed outcomes\n",
    "chi = stats.chisquare(f_obs=c)\n",
    "\n",
    "print(chi, c)\n",
    "\n",
    "# frame.loc[frame['DESIGN_VALUE'] > 20,['mycol3', 'mycol6']]\n",
    "\n",
    "\n",
    "# readmis_df.head()\n",
    "# non_readmis_df = df[df.ReAdmis != 'Yes'].Area\n",
    "\n",
    "\n",
    "# admis_df = df[[\"ReAdmis\", \"Area\"]]\n",
    "\n",
    "# sns.displot(df[[\"ReAdmis\", \"Area\"]], x=\"Area\")\n",
    "# sns.displot(df[[\"ReAdmis\", \"Area\"]], x=\"Area\")\n",
    "# sns.displot(admis_df, x=\"Area\")\n",
    "\n",
    "# non_readmis_df.hist()\n",
    "# readmis_df.hist()\n",
    "# admis_df.hist(by=\"ReAdmis\")\n",
    "# admis_df.head()\n",
    "\n",
    "# admis_df.value_counts().hist(by=\"Area\")"
   ]
  },
  {
   "cell_type": "code",
   "execution_count": 347,
   "metadata": {},
   "outputs": [
    {
     "data": {
      "text/plain": [
       "<seaborn.axisgrid.FacetGrid at 0x7fc21442fa30>"
      ]
     },
     "execution_count": 347,
     "metadata": {},
     "output_type": "execute_result"
    },
    {
     "data": {
      "image/png": "[encoded data removed]",
      "text/plain": [
       "<Figure size 412x360 with 1 Axes>"
      ]
     },
     "metadata": {
      "needs_background": "light"
     },
     "output_type": "display_data"
    }
   ],
   "source": [
    "# Fisher Exact Test\n",
    "df2 = df.copy()\n",
    "\n",
    "# df_urban = df.loc[df.Area == \"Urban\", [\"ReAdmis\", \"Area\"]]\n",
    "# df_non_urban = df.loc[df.Area != \"Urban\", [\"ReAdmis\", \"Area\"]]\n",
    "# df_non_urban.Area = \"NonUrban\"\n",
    "# df_non_urban\n",
    "\n",
    "# df2.Area = df.loc[df.Area != \"Urban\"]\n",
    "\n",
    "df2.loc[df2.Area != \"Urban\", \"Area\"] = \"NonUrban\"\n",
    "df2.Area.head()\n",
    "\n",
    "# summarize the occurrence of each possible combination\n",
    "table = pd.crosstab(df2.Area, df.ReAdmis)\n",
    "\n",
    "stats.fisher_exact(table, alternative=\"two-sided\")\n",
    "\n",
    "sns.displot(df2[[\"ReAdmis\", \"Area\"]], x=\"Area\", hue=\"ReAdmis\")"
   ]
  },
  {
   "cell_type": "code",
   "execution_count": 402,
   "metadata": {},
   "outputs": [
    {
     "data": {
      "text/plain": [
       "(0.7168536181504468, 0.0)"
      ]
     },
     "execution_count": 402,
     "metadata": {},
     "output_type": "execute_result"
    }
   ],
   "source": [
    "# Pearson Test for Correlation\n",
    "stats.pearsonr(df.Income, df.VitD_levels)\n",
    "stats.pearsonr(df.Doc_visits, df.VitD_levels)\n",
    "stats.pearsonr(df.Initial_days, df.VitD_levels)\n",
    "stats.pearsonr(df.TotalCharge, df.VitD_levels)\n",
    "stats.pearsonr(df.Additional_charges, df.VitD_levels)\n",
    "stats.pearsonr(df.TotalCharge, df.Income)\n",
    "stats.pearsonr(df.Additional_charges, df.Income)\n",
    "stats.pearsonr(df.TotalCharge, df.Age)\n",
    "stats.pearsonr(df.Initial_days, df.Age)\n",
    "stats.pearsonr(df.VitD_levels, df.Age)\n",
    "stats.pearsonr(df.Doc_visits, df.Age)\n",
    "stats.pearsonr(\n",
    "    df.Additional_charges, df.Age\n",
    ")  # very high correlation (0.7168536181504468, 0.0)\n",
    "stats.pearsonr(df.Doc_visits, df.Lat)\n",
    "stats.pearsonr(df.Doc_visits, df.Lng)\n",
    "stats.pearsonr(df.TotalCharge, df.Lng)\n",
    "stats.pearsonr(df.VitD_levels, df.Lng)\n",
    "stats.pearsonr(df.Additional_charges, df.Lng)\n",
    "stats.pearsonr(df.Initial_days, df.Lng)\n",
    "stats.pearsonr(df.Initial_days, df.Population)\n",
    "stats.pearsonr(df.TotalCharge, df.Population)\n",
    "stats.pearsonr(df.Doc_visits, df.Population)\n",
    "stats.pearsonr(df.VitD_levels, df.Population)\n",
    "stats.pearsonr(df.Full_meals_eaten, df.Population)\n",
    "stats.pearsonr(df.vitD_supp, df.Population)\n",
    "stats.pearsonr(df.Additional_charges, df.Population)"
   ]
  },
  {
   "cell_type": "code",
   "execution_count": 248,
   "metadata": {},
   "outputs": [
    {
     "name": "stdout",
     "output_type": "stream",
     "text": [
      "Ttest_1sampResult(statistic=2.6106318005792866, pvalue=0.009147640677389435)\n",
      "reject the null: 0.009147640677389435\n"
     ]
    },
    {
     "data": {
      "text/plain": [
       "<seaborn.axisgrid.FacetGrid at 0x7fc213b44820>"
      ]
     },
     "execution_count": 248,
     "metadata": {},
     "output_type": "execute_result"
    },
    {
     "data": {
      "image/png": "[encoded data removed]",
      "text/plain": [
       "<Figure size 444.125x360 with 1 Axes>"
      ]
     },
     "metadata": {
      "needs_background": "light"
     },
     "output_type": "display_data"
    },
    {
     "data": {
      "image/png": "[encoded data removed]",
      "text/plain": [
       "<Figure size 444.125x360 with 1 Axes>"
      ]
     },
     "metadata": {
      "needs_background": "light"
     },
     "output_type": "display_data"
    }
   ],
   "source": [
    "# # One Sample T-Test (Vitamin D)\n",
    "# does the urban population that was re-admitted have a ss difference in VitD_levels compared to non-readmitted?\n",
    "# does the urban population that was re-admitted have lower VitD_levels compared to non-readmitted?\n",
    "\n",
    "readmis_df = df[df.ReAdmis == \"Yes\"]\n",
    "non_readmis_df = df[df.ReAdmis != \"Yes\"]\n",
    "# r = df[df.Area.isin([\"Rural\", \"Suburban\"])].VitD_levels\n",
    "u = readmis_df[readmis_df.Area == \"Rural\"].VitD_levels\n",
    "\n",
    "t_result = stats.ttest_1samp(a=u, popmean=non_readmis_df.VitD_levels.mean())\n",
    "print(t_result)\n",
    "\n",
    "alpha = 0.05\n",
    "\n",
    "if t_result.pvalue < alpha:\n",
    "    print(\"reject the null:\", t_result.pvalue)\n",
    "\n",
    "# sns.displot()\n",
    "#\n",
    "# sns.displot(non_readmis_df.VitD_levels, kind=\"kde\", fill=True)\n",
    "# sns.displot(u, kind=\"kde\", fill=True)\n",
    "\n",
    "sns.displot(non_readmis_df, x=\"VitD_levels\", hue=\"Area\", kind=\"kde\", fill=True)\n",
    "sns.displot(readmis_df, x=\"VitD_levels\", hue=\"Area\", kind=\"kde\", fill=True)\n",
    "\n",
    "\n",
    "# plt.hist(readmis_df.VitD_levels.mean())\n",
    "# plt.hist(u.mean())\n",
    "# plt.show()\n",
    "\n",
    "# stats.ttest_ind(r, u)"
   ]
  },
  {
   "cell_type": "code",
   "execution_count": 214,
   "metadata": {},
   "outputs": [
    {
     "data": {
      "text/plain": [
       "Ttest_indResult(statistic=-3.3626479612688183, pvalue=0.000776332292523848)"
      ]
     },
     "execution_count": 214,
     "metadata": {},
     "output_type": "execute_result"
    }
   ],
   "source": [
    "# Two Sample T-Test (Vitamin D)\n",
    "r = df[df.Area.isin([\"Rural\", \"Suburban\"])].VitD_levels\n",
    "u = df[df.Area == \"Urban\"].VitD_levels\n",
    "\n",
    "stats.ttest_ind(r, u)"
   ]
  },
  {
   "cell_type": "code",
   "execution_count": 206,
   "metadata": {},
   "outputs": [
    {
     "name": "stdout",
     "output_type": "stream",
     "text": [
      "0.0026057323200173593\n"
     ]
    }
   ],
   "source": [
    "# ONE WAY ANOVA (Vitamin D)\n",
    "r = df[df.Area == \"Rural\"].VitD_levels\n",
    "s = df[df.Area == \"Suburban\"].VitD_levels\n",
    "u = df[df.Area == \"Urban\"].VitD_levels\n",
    "\n",
    "anova = stats.f_oneway(r, s, u)\n",
    "\n",
    "print(anova[1])"
   ]
  },
  {
   "cell_type": "code",
   "execution_count": 207,
   "metadata": {},
   "outputs": [
    {
     "name": "stdout",
     "output_type": "stream",
     "text": [
      "0.3199068140433983\n"
     ]
    }
   ],
   "source": [
    "# ONE WAY ANOVA (Doctor Visits)\n",
    "r = df[df.Area == \"Rural\"].Doc_visits\n",
    "s = df[df.Area == \"Suburban\"].Doc_visits\n",
    "u = df[df.Area == \"Urban\"].Doc_visits\n",
    "\n",
    "anova = stats.f_oneway(r, s, u)\n",
    "\n",
    "print(anova[1])"
   ]
  },
  {
   "cell_type": "code",
   "execution_count": 204,
   "metadata": {},
   "outputs": [
    {
     "data": {
      "text/html": [
       "<div>\n",
       "<style scoped>\n",
       "    .dataframe tbody tr th:only-of-type {\n",
       "        vertical-align: middle;\n",
       "    }\n",
       "\n",
       "    .dataframe tbody tr th {\n",
       "        vertical-align: top;\n",
       "    }\n",
       "\n",
       "    .dataframe thead th {\n",
       "        text-align: right;\n",
       "    }\n",
       "</style>\n",
       "<table border=\"1\" class=\"dataframe\">\n",
       "  <thead>\n",
       "    <tr style=\"text-align: right;\">\n",
       "      <th></th>\n",
       "      <th>sum_sq</th>\n",
       "      <th>df</th>\n",
       "      <th>F</th>\n",
       "      <th>PR(&gt;F)</th>\n",
       "    </tr>\n",
       "  </thead>\n",
       "  <tbody>\n",
       "    <tr>\n",
       "      <th>Area</th>\n",
       "      <td>33.454614</td>\n",
       "      <td>2.0</td>\n",
       "      <td>4.065585</td>\n",
       "      <td>0.017230</td>\n",
       "    </tr>\n",
       "    <tr>\n",
       "      <th>Doc_visits</th>\n",
       "      <td>0.007246</td>\n",
       "      <td>1.0</td>\n",
       "      <td>0.001761</td>\n",
       "      <td>0.966527</td>\n",
       "    </tr>\n",
       "    <tr>\n",
       "      <th>Residual</th>\n",
       "      <td>15079.151832</td>\n",
       "      <td>3665.0</td>\n",
       "      <td>NaN</td>\n",
       "      <td>NaN</td>\n",
       "    </tr>\n",
       "  </tbody>\n",
       "</table>\n",
       "</div>"
      ],
      "text/plain": [
       "                  sum_sq      df         F    PR(>F)\n",
       "Area           33.454614     2.0  4.065585  0.017230\n",
       "Doc_visits      0.007246     1.0  0.001761  0.966527\n",
       "Residual    15079.151832  3665.0       NaN       NaN"
      ]
     },
     "metadata": {},
     "output_type": "display_data"
    }
   ],
   "source": [
    "import statsmodels.api as sm\n",
    "\n",
    "# \"[dependent var] ~ [factor 1] + [factor 2]\"\n",
    "formula = \"VitD_levels ~ Doc_visits + Area\"\n",
    "\n",
    "# sm.formula\n",
    "\n",
    "model = sm.formula.ols(formula, data=readmis_df).fit()\n",
    "aov_table = sm.stats.anova_lm(model, typ=2)\n",
    "# last column is P Value\n",
    "display(aov_table)"
   ]
  },
  {
   "cell_type": "code",
   "execution_count": 202,
   "metadata": {},
   "outputs": [
    {
     "data": {
      "text/html": [
       "<div>\n",
       "<style scoped>\n",
       "    .dataframe tbody tr th:only-of-type {\n",
       "        vertical-align: middle;\n",
       "    }\n",
       "\n",
       "    .dataframe tbody tr th {\n",
       "        vertical-align: top;\n",
       "    }\n",
       "\n",
       "    .dataframe thead tr th {\n",
       "        text-align: left;\n",
       "    }\n",
       "\n",
       "    .dataframe thead tr:last-of-type th {\n",
       "        text-align: right;\n",
       "    }\n",
       "</style>\n",
       "<table border=\"1\" class=\"dataframe\">\n",
       "  <thead>\n",
       "    <tr>\n",
       "      <th></th>\n",
       "      <th colspan=\"8\" halign=\"left\">CaseOrder</th>\n",
       "      <th colspan=\"8\" halign=\"left\">Zip</th>\n",
       "      <th colspan=\"8\" halign=\"left\">Lat</th>\n",
       "      <th colspan=\"8\" halign=\"left\">Lng</th>\n",
       "      <th colspan=\"8\" halign=\"left\">Population</th>\n",
       "      <th colspan=\"8\" halign=\"left\">Children</th>\n",
       "      <th colspan=\"2\" halign=\"left\">Age</th>\n",
       "      <th>...</th>\n",
       "      <th colspan=\"2\" halign=\"left\">Item5</th>\n",
       "      <th colspan=\"8\" halign=\"left\">Item6</th>\n",
       "      <th colspan=\"8\" halign=\"left\">Item7</th>\n",
       "      <th colspan=\"8\" halign=\"left\">Item8</th>\n",
       "      <th colspan=\"8\" halign=\"left\">Age2</th>\n",
       "      <th colspan=\"8\" halign=\"left\">Age10</th>\n",
       "      <th colspan=\"8\" halign=\"left\">VitD_levels_rounded</th>\n",
       "    </tr>\n",
       "    <tr>\n",
       "      <th></th>\n",
       "      <th>count</th>\n",
       "      <th>mean</th>\n",
       "      <th>std</th>\n",
       "      <th>min</th>\n",
       "      <th>25%</th>\n",
       "      <th>50%</th>\n",
       "      <th>75%</th>\n",
       "      <th>max</th>\n",
       "      <th>count</th>\n",
       "      <th>mean</th>\n",
       "      <th>std</th>\n",
       "      <th>min</th>\n",
       "      <th>25%</th>\n",
       "      <th>50%</th>\n",
       "      <th>75%</th>\n",
       "      <th>max</th>\n",
       "      <th>count</th>\n",
       "      <th>mean</th>\n",
       "      <th>std</th>\n",
       "      <th>min</th>\n",
       "      <th>25%</th>\n",
       "      <th>50%</th>\n",
       "      <th>75%</th>\n",
       "      <th>max</th>\n",
       "      <th>count</th>\n",
       "      <th>mean</th>\n",
       "      <th>std</th>\n",
       "      <th>min</th>\n",
       "      <th>25%</th>\n",
       "      <th>50%</th>\n",
       "      <th>75%</th>\n",
       "      <th>max</th>\n",
       "      <th>count</th>\n",
       "      <th>mean</th>\n",
       "      <th>std</th>\n",
       "      <th>min</th>\n",
       "      <th>25%</th>\n",
       "      <th>50%</th>\n",
       "      <th>75%</th>\n",
       "      <th>max</th>\n",
       "      <th>count</th>\n",
       "      <th>mean</th>\n",
       "      <th>std</th>\n",
       "      <th>min</th>\n",
       "      <th>25%</th>\n",
       "      <th>50%</th>\n",
       "      <th>75%</th>\n",
       "      <th>max</th>\n",
       "      <th>count</th>\n",
       "      <th>mean</th>\n",
       "      <th>...</th>\n",
       "      <th>75%</th>\n",
       "      <th>max</th>\n",
       "      <th>count</th>\n",
       "      <th>mean</th>\n",
       "      <th>std</th>\n",
       "      <th>min</th>\n",
       "      <th>25%</th>\n",
       "      <th>50%</th>\n",
       "      <th>75%</th>\n",
       "      <th>max</th>\n",
       "      <th>count</th>\n",
       "      <th>mean</th>\n",
       "      <th>std</th>\n",
       "      <th>min</th>\n",
       "      <th>25%</th>\n",
       "      <th>50%</th>\n",
       "      <th>75%</th>\n",
       "      <th>max</th>\n",
       "      <th>count</th>\n",
       "      <th>mean</th>\n",
       "      <th>std</th>\n",
       "      <th>min</th>\n",
       "      <th>25%</th>\n",
       "      <th>50%</th>\n",
       "      <th>75%</th>\n",
       "      <th>max</th>\n",
       "      <th>count</th>\n",
       "      <th>mean</th>\n",
       "      <th>std</th>\n",
       "      <th>min</th>\n",
       "      <th>25%</th>\n",
       "      <th>50%</th>\n",
       "      <th>75%</th>\n",
       "      <th>max</th>\n",
       "      <th>count</th>\n",
       "      <th>mean</th>\n",
       "      <th>std</th>\n",
       "      <th>min</th>\n",
       "      <th>25%</th>\n",
       "      <th>50%</th>\n",
       "      <th>75%</th>\n",
       "      <th>max</th>\n",
       "      <th>count</th>\n",
       "      <th>mean</th>\n",
       "      <th>std</th>\n",
       "      <th>min</th>\n",
       "      <th>25%</th>\n",
       "      <th>50%</th>\n",
       "      <th>75%</th>\n",
       "      <th>max</th>\n",
       "    </tr>\n",
       "    <tr>\n",
       "      <th>ReAdmis</th>\n",
       "      <th></th>\n",
       "      <th></th>\n",
       "      <th></th>\n",
       "      <th></th>\n",
       "      <th></th>\n",
       "      <th></th>\n",
       "      <th></th>\n",
       "      <th></th>\n",
       "      <th></th>\n",
       "      <th></th>\n",
       "      <th></th>\n",
       "      <th></th>\n",
       "      <th></th>\n",
       "      <th></th>\n",
       "      <th></th>\n",
       "      <th></th>\n",
       "      <th></th>\n",
       "      <th></th>\n",
       "      <th></th>\n",
       "      <th></th>\n",
       "      <th></th>\n",
       "      <th></th>\n",
       "      <th></th>\n",
       "      <th></th>\n",
       "      <th></th>\n",
       "      <th></th>\n",
       "      <th></th>\n",
       "      <th></th>\n",
       "      <th></th>\n",
       "      <th></th>\n",
       "      <th></th>\n",
       "      <th></th>\n",
       "      <th></th>\n",
       "      <th></th>\n",
       "      <th></th>\n",
       "      <th></th>\n",
       "      <th></th>\n",
       "      <th></th>\n",
       "      <th></th>\n",
       "      <th></th>\n",
       "      <th></th>\n",
       "      <th></th>\n",
       "      <th></th>\n",
       "      <th></th>\n",
       "      <th></th>\n",
       "      <th></th>\n",
       "      <th></th>\n",
       "      <th></th>\n",
       "      <th></th>\n",
       "      <th></th>\n",
       "      <th></th>\n",
       "      <th></th>\n",
       "      <th></th>\n",
       "      <th></th>\n",
       "      <th></th>\n",
       "      <th></th>\n",
       "      <th></th>\n",
       "      <th></th>\n",
       "      <th></th>\n",
       "      <th></th>\n",
       "      <th></th>\n",
       "      <th></th>\n",
       "      <th></th>\n",
       "      <th></th>\n",
       "      <th></th>\n",
       "      <th></th>\n",
       "      <th></th>\n",
       "      <th></th>\n",
       "      <th></th>\n",
       "      <th></th>\n",
       "      <th></th>\n",
       "      <th></th>\n",
       "      <th></th>\n",
       "      <th></th>\n",
       "      <th></th>\n",
       "      <th></th>\n",
       "      <th></th>\n",
       "      <th></th>\n",
       "      <th></th>\n",
       "      <th></th>\n",
       "      <th></th>\n",
       "      <th></th>\n",
       "      <th></th>\n",
       "      <th></th>\n",
       "      <th></th>\n",
       "      <th></th>\n",
       "      <th></th>\n",
       "      <th></th>\n",
       "      <th></th>\n",
       "      <th></th>\n",
       "      <th></th>\n",
       "      <th></th>\n",
       "      <th></th>\n",
       "      <th></th>\n",
       "      <th></th>\n",
       "      <th></th>\n",
       "      <th></th>\n",
       "      <th></th>\n",
       "      <th></th>\n",
       "      <th></th>\n",
       "      <th></th>\n",
       "    </tr>\n",
       "  </thead>\n",
       "  <tbody>\n",
       "    <tr>\n",
       "      <th>No</th>\n",
       "      <td>6331.0</td>\n",
       "      <td>3550.541779</td>\n",
       "      <td>2493.404215</td>\n",
       "      <td>1.0</td>\n",
       "      <td>1583.5</td>\n",
       "      <td>3166.0</td>\n",
       "      <td>4748.5</td>\n",
       "      <td>9996.0</td>\n",
       "      <td>6331.0</td>\n",
       "      <td>49987.470700</td>\n",
       "      <td>27574.892612</td>\n",
       "      <td>617.0</td>\n",
       "      <td>27078.0</td>\n",
       "      <td>50028.0</td>\n",
       "      <td>72210.5</td>\n",
       "      <td>99925.0</td>\n",
       "      <td>6331.0</td>\n",
       "      <td>38.810183</td>\n",
       "      <td>5.412269</td>\n",
       "      <td>17.96719</td>\n",
       "      <td>35.433005</td>\n",
       "      <td>39.45329</td>\n",
       "      <td>42.04972</td>\n",
       "      <td>70.56099</td>\n",
       "      <td>6331.0</td>\n",
       "      <td>-91.228998</td>\n",
       "      <td>15.303666</td>\n",
       "      <td>-171.68815</td>\n",
       "      <td>-97.36849</td>\n",
       "      <td>-88.33790</td>\n",
       "      <td>-80.328615</td>\n",
       "      <td>-65.72740</td>\n",
       "      <td>6331.0</td>\n",
       "      <td>9739.104249</td>\n",
       "      <td>14477.51424</td>\n",
       "      <td>0.0</td>\n",
       "      <td>679.5</td>\n",
       "      <td>2669.0</td>\n",
       "      <td>13230.0</td>\n",
       "      <td>122814.0</td>\n",
       "      <td>6331.0</td>\n",
       "      <td>2.058443</td>\n",
       "      <td>2.134438</td>\n",
       "      <td>0.0</td>\n",
       "      <td>0.0</td>\n",
       "      <td>1.0</td>\n",
       "      <td>3.0</td>\n",
       "      <td>10.0</td>\n",
       "      <td>6331.0</td>\n",
       "      <td>53.263308</td>\n",
       "      <td>...</td>\n",
       "      <td>4.0</td>\n",
       "      <td>7.0</td>\n",
       "      <td>6331.0</td>\n",
       "      <td>3.535776</td>\n",
       "      <td>1.038337</td>\n",
       "      <td>1.0</td>\n",
       "      <td>3.0</td>\n",
       "      <td>4.0</td>\n",
       "      <td>4.0</td>\n",
       "      <td>7.0</td>\n",
       "      <td>6331.0</td>\n",
       "      <td>3.497868</td>\n",
       "      <td>1.012147</td>\n",
       "      <td>1.0</td>\n",
       "      <td>3.0</td>\n",
       "      <td>4.0</td>\n",
       "      <td>4.0</td>\n",
       "      <td>7.0</td>\n",
       "      <td>6331.0</td>\n",
       "      <td>3.522982</td>\n",
       "      <td>1.048237</td>\n",
       "      <td>1.0</td>\n",
       "      <td>3.0</td>\n",
       "      <td>4.0</td>\n",
       "      <td>4.0</td>\n",
       "      <td>7.0</td>\n",
       "      <td>6331.0</td>\n",
       "      <td>48.617912</td>\n",
       "      <td>20.614596</td>\n",
       "      <td>10.0</td>\n",
       "      <td>30.0</td>\n",
       "      <td>50.0</td>\n",
       "      <td>70.0</td>\n",
       "      <td>80.0</td>\n",
       "      <td>6331.0</td>\n",
       "      <td>22.042331</td>\n",
       "      <td>10.720436</td>\n",
       "      <td>0.0</td>\n",
       "      <td>10.0</td>\n",
       "      <td>20.0</td>\n",
       "      <td>30.0</td>\n",
       "      <td>40.0</td>\n",
       "      <td>6331.0</td>\n",
       "      <td>17.956721</td>\n",
       "      <td>2.026762</td>\n",
       "      <td>10.0</td>\n",
       "      <td>17.0</td>\n",
       "      <td>18.0</td>\n",
       "      <td>19.0</td>\n",
       "      <td>26.0</td>\n",
       "    </tr>\n",
       "    <tr>\n",
       "      <th>Yes</th>\n",
       "      <td>3669.0</td>\n",
       "      <td>7502.458436</td>\n",
       "      <td>1449.058814</td>\n",
       "      <td>5001.0</td>\n",
       "      <td>6255.0</td>\n",
       "      <td>7484.0</td>\n",
       "      <td>8768.0</td>\n",
       "      <td>10000.0</td>\n",
       "      <td>3669.0</td>\n",
       "      <td>50455.863178</td>\n",
       "      <td>27288.128535</td>\n",
       "      <td>610.0</td>\n",
       "      <td>28339.0</td>\n",
       "      <td>50701.0</td>\n",
       "      <td>72554.0</td>\n",
       "      <td>99929.0</td>\n",
       "      <td>3669.0</td>\n",
       "      <td>38.649146</td>\n",
       "      <td>5.386415</td>\n",
       "      <td>17.99174</td>\n",
       "      <td>35.002860</td>\n",
       "      <td>39.38119</td>\n",
       "      <td>42.03524</td>\n",
       "      <td>66.97844</td>\n",
       "      <td>3669.0</td>\n",
       "      <td>-91.267379</td>\n",
       "      <td>15.038022</td>\n",
       "      <td>-174.20970</td>\n",
       "      <td>-97.31078</td>\n",
       "      <td>-88.52769</td>\n",
       "      <td>-80.608100</td>\n",
       "      <td>-65.29017</td>\n",
       "      <td>3669.0</td>\n",
       "      <td>10355.483510</td>\n",
       "      <td>15399.74803</td>\n",
       "      <td>0.0</td>\n",
       "      <td>722.0</td>\n",
       "      <td>2985.0</td>\n",
       "      <td>14850.0</td>\n",
       "      <td>122814.0</td>\n",
       "      <td>3669.0</td>\n",
       "      <td>2.164077</td>\n",
       "      <td>2.211871</td>\n",
       "      <td>0.0</td>\n",
       "      <td>0.0</td>\n",
       "      <td>2.0</td>\n",
       "      <td>3.0</td>\n",
       "      <td>10.0</td>\n",
       "      <td>3669.0</td>\n",
       "      <td>53.940311</td>\n",
       "      <td>...</td>\n",
       "      <td>4.0</td>\n",
       "      <td>7.0</td>\n",
       "      <td>3669.0</td>\n",
       "      <td>3.499591</td>\n",
       "      <td>1.021744</td>\n",
       "      <td>1.0</td>\n",
       "      <td>3.0</td>\n",
       "      <td>4.0</td>\n",
       "      <td>4.0</td>\n",
       "      <td>7.0</td>\n",
       "      <td>3669.0</td>\n",
       "      <td>3.487326</td>\n",
       "      <td>1.037290</td>\n",
       "      <td>1.0</td>\n",
       "      <td>3.0</td>\n",
       "      <td>3.0</td>\n",
       "      <td>4.0</td>\n",
       "      <td>7.0</td>\n",
       "      <td>3669.0</td>\n",
       "      <td>3.486781</td>\n",
       "      <td>1.031749</td>\n",
       "      <td>1.0</td>\n",
       "      <td>3.0</td>\n",
       "      <td>3.0</td>\n",
       "      <td>4.0</td>\n",
       "      <td>7.0</td>\n",
       "      <td>3669.0</td>\n",
       "      <td>49.345871</td>\n",
       "      <td>20.556795</td>\n",
       "      <td>10.0</td>\n",
       "      <td>30.0</td>\n",
       "      <td>50.0</td>\n",
       "      <td>70.0</td>\n",
       "      <td>80.0</td>\n",
       "      <td>3669.0</td>\n",
       "      <td>22.420278</td>\n",
       "      <td>10.732546</td>\n",
       "      <td>0.0</td>\n",
       "      <td>10.0</td>\n",
       "      <td>20.0</td>\n",
       "      <td>30.0</td>\n",
       "      <td>40.0</td>\n",
       "      <td>3669.0</td>\n",
       "      <td>17.981194</td>\n",
       "      <td>2.046468</td>\n",
       "      <td>10.0</td>\n",
       "      <td>17.0</td>\n",
       "      <td>18.0</td>\n",
       "      <td>19.0</td>\n",
       "      <td>25.0</td>\n",
       "    </tr>\n",
       "  </tbody>\n",
       "</table>\n",
       "<p>2 rows × 208 columns</p>\n",
       "</div>"
      ],
      "text/plain": [
       "        CaseOrder                                                            \\\n",
       "            count         mean          std     min     25%     50%     75%   \n",
       "ReAdmis                                                                       \n",
       "No         6331.0  3550.541779  2493.404215     1.0  1583.5  3166.0  4748.5   \n",
       "Yes        3669.0  7502.458436  1449.058814  5001.0  6255.0  7484.0  8768.0   \n",
       "\n",
       "                     Zip                                                       \\\n",
       "             max   count          mean           std    min      25%      50%   \n",
       "ReAdmis                                                                         \n",
       "No        9996.0  6331.0  49987.470700  27574.892612  617.0  27078.0  50028.0   \n",
       "Yes      10000.0  3669.0  50455.863178  27288.128535  610.0  28339.0  50701.0   \n",
       "\n",
       "                              Lat                                            \\\n",
       "             75%      max   count       mean       std       min        25%   \n",
       "ReAdmis                                                                       \n",
       "No       72210.5  99925.0  6331.0  38.810183  5.412269  17.96719  35.433005   \n",
       "Yes      72554.0  99929.0  3669.0  38.649146  5.386415  17.99174  35.002860   \n",
       "\n",
       "                                          Lng                        \\\n",
       "              50%       75%       max   count       mean        std   \n",
       "ReAdmis                                                               \n",
       "No       39.45329  42.04972  70.56099  6331.0 -91.228998  15.303666   \n",
       "Yes      39.38119  42.03524  66.97844  3669.0 -91.267379  15.038022   \n",
       "\n",
       "                                                            Population  \\\n",
       "               min       25%       50%        75%       max      count   \n",
       "ReAdmis                                                                  \n",
       "No      -171.68815 -97.36849 -88.33790 -80.328615 -65.72740     6331.0   \n",
       "Yes     -174.20970 -97.31078 -88.52769 -80.608100 -65.29017     3669.0   \n",
       "\n",
       "                                                                           \\\n",
       "                 mean          std  min    25%     50%      75%       max   \n",
       "ReAdmis                                                                     \n",
       "No        9739.104249  14477.51424  0.0  679.5  2669.0  13230.0  122814.0   \n",
       "Yes      10355.483510  15399.74803  0.0  722.0  2985.0  14850.0  122814.0   \n",
       "\n",
       "        Children                                                   Age  \\\n",
       "           count      mean       std  min  25%  50%  75%   max   count   \n",
       "ReAdmis                                                                  \n",
       "No        6331.0  2.058443  2.134438  0.0  0.0  1.0  3.0  10.0  6331.0   \n",
       "Yes       3669.0  2.164077  2.211871  0.0  0.0  2.0  3.0  10.0  3669.0   \n",
       "\n",
       "                    ... Item5        Item6                                     \\\n",
       "              mean  ...   75%  max   count      mean       std  min  25%  50%   \n",
       "ReAdmis             ...                                                         \n",
       "No       53.263308  ...   4.0  7.0  6331.0  3.535776  1.038337  1.0  3.0  4.0   \n",
       "Yes      53.940311  ...   4.0  7.0  3669.0  3.499591  1.021744  1.0  3.0  4.0   \n",
       "\n",
       "                    Item7                                               \\\n",
       "         75%  max   count      mean       std  min  25%  50%  75%  max   \n",
       "ReAdmis                                                                  \n",
       "No       4.0  7.0  6331.0  3.497868  1.012147  1.0  3.0  4.0  4.0  7.0   \n",
       "Yes      4.0  7.0  3669.0  3.487326  1.037290  1.0  3.0  3.0  4.0  7.0   \n",
       "\n",
       "          Item8                                                 Age2  \\\n",
       "          count      mean       std  min  25%  50%  75%  max   count   \n",
       "ReAdmis                                                                \n",
       "No       6331.0  3.522982  1.048237  1.0  3.0  4.0  4.0  7.0  6331.0   \n",
       "Yes      3669.0  3.486781  1.031749  1.0  3.0  3.0  4.0  7.0  3669.0   \n",
       "\n",
       "                                                              Age10  \\\n",
       "              mean        std   min   25%   50%   75%   max   count   \n",
       "ReAdmis                                                               \n",
       "No       48.617912  20.614596  10.0  30.0  50.0  70.0  80.0  6331.0   \n",
       "Yes      49.345871  20.556795  10.0  30.0  50.0  70.0  80.0  3669.0   \n",
       "\n",
       "                                                            \\\n",
       "              mean        std  min   25%   50%   75%   max   \n",
       "ReAdmis                                                      \n",
       "No       22.042331  10.720436  0.0  10.0  20.0  30.0  40.0   \n",
       "Yes      22.420278  10.732546  0.0  10.0  20.0  30.0  40.0   \n",
       "\n",
       "        VitD_levels_rounded                                                     \n",
       "                      count       mean       std   min   25%   50%   75%   max  \n",
       "ReAdmis                                                                         \n",
       "No                   6331.0  17.956721  2.026762  10.0  17.0  18.0  19.0  26.0  \n",
       "Yes                  3669.0  17.981194  2.046468  10.0  17.0  18.0  19.0  25.0  \n",
       "\n",
       "[2 rows x 208 columns]"
      ]
     },
     "execution_count": 202,
     "metadata": {},
     "output_type": "execute_result"
    }
   ],
   "source": [
    "df.groupby(\"ReAdmis\").describe()"
   ]
  },
  {
   "cell_type": "markdown",
   "metadata": {},
   "source": [
    "# A1:QUESTION FOR ANALYSIS\n",
    "---\n",
    "The submission provides a specific question to be addressed through the analysis of the data set using one of the listed analysis techniques. The question is relevant to the chosen data set. "
   ]
  },
  {
   "cell_type": "markdown",
   "metadata": {},
   "source": [
    "### 1.  Provide one question that is relevant to your chosen data set. You will answer this question later in the task through an analysis of the cleaned data, using one of the following techniques: chi-square, t-test, or analysis of variance (ANOVA)."
   ]
  },
  {
   "cell_type": "markdown",
   "metadata": {},
   "source": [
    "- Is there a remission difference between timezones?\n",
    "- Is there a doc visits difference between timezones?\n",
    "    - between this and the entire population?\n",
    "- Is there a initial days difference between timezones?\n",
    "    - between this and the entire population?\n",
    "- Is there a remission difference between Geographic Area (Urban, Suburban, Rural)? (ANOVA)\n",
    "    - between this and the entire population?\n",
    "- Is there a remission difference between top 5 largest states New York, California, Texas, Florida, Pennsylvania\n",
    "    - between this and the entire population?\n",
    "- Is there a remission difference between Gender?\n",
    "- Is there a remission difference between Gender + Urban or Suburban/Rural?\n",
    "- \n",
    "- of the patients that were re-admitted:\n",
    "    - is there a difference doc visits\n",
    "        - by age range (25 year brackets), gender, area, marital status\n",
    "    - is there a difference in initial days\n",
    "        - by age range (25 year brackets), gender, area, marital status\n",
    "    - is there a difference in vit D levels\n",
    "        - by age range (25 year brackets), gender, area, marital status\n"
   ]
  },
  {
   "cell_type": "markdown",
   "metadata": {},
   "source": [
    "of the patients that were re-admitted, \n",
    "\n",
    "There is no significant difference between the population VitD supplement mean and that of different geographic group that were re-admitted\n",
    "\n",
    "Combine rural + suburban and use urban to compare that both groups receive a similar number of doc visits or suplements\n",
    "\n",
    "assert that readmitted area groups received the same doc visits, suppliments compared to non-re-admitted individuals"
   ]
  },
  {
   "cell_type": "markdown",
   "metadata": {},
   "source": [
    "#### Chi-Square Test Options (proportion vs proportion)\n",
    "- <b>EXAMPLE</b>: test if flipping a coin gives biased results (the expected results should be 50/50). If we flip a coin 30 times and get heads 24 times, is that statistically significant when we expect 15 heads and 15 tails?\n",
    "- Does the distribution of asthmatic patients differ between admission groups\n",
    "- Does the distribution of overweight patients differ between admission groups\n",
    "- Does the distribution of diabetic patients differ between admission groups\n",
    "- Does the distribution of Geographic Areas in non-readmission data set differ from the re-admission data set (fisher exact)\n",
    "    - Benefits: see if there are more appropriate geographic areas to focus on\n",
    "- Does the distribution of Gender in non-readmission data set differ from the re-admission data set (fisher exact)\n",
    "    - Benefits: see if there are more appropriate gender to focus on\n",
    "        "
   ]
  },
  {
   "cell_type": "markdown",
   "metadata": {},
   "source": [
    "#### T-Test Test Options (sample mean vs sample mean)\n",
    "- <b>EXAMPLE</b>: Have 2 sets of sample data that hold weights for each group. Want to test if the sample groups are different. Testing to see if the observed difference is real or random variation.\n",
    "- Does the mean  Vit D levels differ between Urban vs Suburban + Rural?\n",
    "    - Benefits:\n",
    "- Does the mean Vit D levels differ between Readmitted and non-readmitted?\n",
    "    - Benefits: \n",
    "- Does the mean Income level differ between admitted/non patients?\n",
    "- Does the mean initial_days differ between admitted/non patients?\n",
    "- Does the mean doc_visits differ between admitted/non patients?       "
   ]
  },
  {
   "cell_type": "markdown",
   "metadata": {},
   "source": [
    "#### T-Test Test Options\n",
    "- If the average age of machine parts for injection molding machines is expected to be 9.5 years (µ0 ), run a one sample two tailed t test.\n",
    "- If a delivery company claims they deliver their packages in 2 days on average. The null hypothesis is µ = 2 and the alternative hypothesis is µ > 2. To test this claim, a researcher takes a random sample of 10 packages and recorded their delivery times. The sample mean is 2.3 days and sample std dev is 0.35\n",
    "- Sample Problem: The heart rate for six patients Is recorded before and after exercise. Alternative Hypothesis is µ > 0.\n",
    "- home problem. A university researcher wants to test the effectiveness of classroom teaching vs. self paced modular instruction. Twenty students are randomly selected to Reading level, age, IQ to either attend classroom training or study self paced.\n",
    "- Is there a significant difference in average delivery time to deliver pizzas comparing Pizza Company A with Pizza Company B in the same area.\n",
    "- Is there a significant difference between these unpaired two groups of\n",
    "data?\n",
    "- Two Sample t test\n",
    "    - Two brands of automobiles were tested for actual fuel mileage in comparison to each other\n",
    "for 30 different cars each. The mean fuel mileage for Brand A was 24.5 and for Brand B it was\n",
    "29.2. The standard deviation was 2.9 and 3.6 respectively as shown below.\n",
    "Is there a significant difference? Does Brand B have better overall fuel mileage as they contend?"
   ]
  },
  {
   "cell_type": "markdown",
   "metadata": {},
   "source": []
  },
  {
   "cell_type": "markdown",
   "metadata": {},
   "source": [
    "#### Analysis of Variance (ANOVA) Test Options (sample mean vs sample mean vs sample mean vs ...)\n",
    "- <b>EXAMPLE</b>: Does potato production differ between 3 fertilizers\n",
    "- Does the mean Vit D level differ between 3 Areas?\n",
    "    - Benefits:\n",
    "- \n",
    "- Does the mean # of Doc_visits differ based on income levels\n",
    "- Does the mean # of Doc_visits differ based on the 3 geographic area\n",
    "    - Benefits:    "
   ]
  },
  {
   "cell_type": "markdown",
   "metadata": {},
   "source": [
    "#### Analysis of Variance (ANOVA) Test Options\n",
    "- In a Rifle company, we took six soldiers from each platoon (4 platoons total) and\n",
    "Measured their scores on the firing range to determine training\n",
    "Effectiveness. With ANOVA, we want to find out if there is a significant difference\n",
    "Among all groups. If there is, then we can t\n",
    "test individually between\n",
    "The groups.\n",
    "\n",
    "- ?\n",
    "- ?"
   ]
  },
  {
   "cell_type": "markdown",
   "metadata": {},
   "source": []
  },
  {
   "cell_type": "markdown",
   "metadata": {},
   "source": []
  },
  {
   "cell_type": "markdown",
   "metadata": {},
   "source": []
  },
  {
   "cell_type": "markdown",
   "metadata": {},
   "source": [
    "# A2:BENEFIT FROM ANALYSIS\n",
    "---\n",
    "The explanation correctly addresses how stakeholders in the organization could benefit from the data analysis."
   ]
  },
  {
   "cell_type": "markdown",
   "metadata": {},
   "source": [
    "### 2.  Explain how stakeholders in the organization could benefit from an analysis of the data.\n",
    "\n"
   ]
  },
  {
   "cell_type": "markdown",
   "metadata": {},
   "source": [
    "- Is there a remission difference between timezones?\n",
    "    - between this and the entire population?\n",
    "    - is a specific geographic region the experiences more re-admissions compared to the population?\n",
    "    - is a specific geographic region the experiences more re-admissions compared to other regions?\n",
    "- Is there a remission difference between Geographic Area (Urban, Suburban, Rural)? (ANOVA)\n",
    "    - between this and the entire population?\n",
    "    - does a specific geographic area experiences more re-admissions compared to other areas\n",
    "    - does a specific geographic area experiences more re-admissions compared to other areas\n",
    "    - this finding can help determine if it makes sense to explore re-admission in a specific geographic area\n",
    "- Is there a remission difference between coasts New York state vs California\n",
    "    - between this and the entire population?\n",
    "- Is there a remission difference between top 5 largest states New York, California, Texas, Florida, Pennsylvania\n",
    "    - between this and the entire population?\n",
    "    - this finding can help determine if it makes sense to explore re-admission in a specific state area\n",
    "- Is there a remission difference between Gender?\n",
    "    - this finding can help determine if it makes sense to explore re-admission in a genders\n",
    "    - provide additional steps to reduce re-admission\n",
    "- Is there a remission difference between Gender + Urban or Suburban/Rural?\n",
    "    - this finding can help determine if it makes sense to explore re-admission in a genders within specific regions"
   ]
  },
  {
   "cell_type": "markdown",
   "metadata": {},
   "source": []
  },
  {
   "cell_type": "markdown",
   "metadata": {},
   "source": []
  },
  {
   "cell_type": "markdown",
   "metadata": {},
   "source": []
  },
  {
   "cell_type": "markdown",
   "metadata": {},
   "source": []
  },
  {
   "cell_type": "markdown",
   "metadata": {},
   "source": [
    "# A3:DATA IDENTIFICATION\n",
    "---\n",
    "The submission correctly identifies the specific data within the data set that are relevant to addressing the question from part A1."
   ]
  },
  {
   "cell_type": "markdown",
   "metadata": {},
   "source": [
    "### 3.  Identify all of the data in your data set that are relevant to answering your question in part A1.\n",
    "\n"
   ]
  },
  {
   "cell_type": "markdown",
   "metadata": {},
   "source": [
    "- ReAdmis\n",
    "- Area\n",
    "- State\n",
    "- TimeZone\n",
    "- Gender"
   ]
  },
  {
   "cell_type": "markdown",
   "metadata": {},
   "source": []
  },
  {
   "cell_type": "markdown",
   "metadata": {},
   "source": []
  },
  {
   "cell_type": "markdown",
   "metadata": {},
   "source": []
  },
  {
   "cell_type": "markdown",
   "metadata": {},
   "source": []
  },
  {
   "cell_type": "markdown",
   "metadata": {},
   "source": [
    "# B1:CODE\n",
    "---\n",
    "The submission includes a warning- and error-free code to accurately analyze the data set using 1 of the given techniques."
   ]
  },
  {
   "cell_type": "markdown",
   "metadata": {},
   "source": [
    "### 1.  Using one of the following techniques, write code (in either Python or R) to run the analysis of the data set:\n",
    "\n",
    "•   chi-square\n",
    "\n",
    "•   t-test\n",
    "\n",
    "•   ANOVA"
   ]
  },
  {
   "cell_type": "markdown",
   "metadata": {},
   "source": []
  },
  {
   "cell_type": "markdown",
   "metadata": {},
   "source": []
  },
  {
   "cell_type": "markdown",
   "metadata": {},
   "source": [
    "# B2:OUTPUT\n",
    "---\n",
    "The submission includes the output from running the code and the results of all calculations performed."
   ]
  },
  {
   "cell_type": "markdown",
   "metadata": {},
   "source": [
    "### 2.  Provide the output and the results of any calculations from the analysis you performed.\n",
    "\n"
   ]
  },
  {
   "cell_type": "markdown",
   "metadata": {},
   "source": []
  },
  {
   "cell_type": "markdown",
   "metadata": {},
   "source": []
  },
  {
   "cell_type": "markdown",
   "metadata": {},
   "source": []
  },
  {
   "cell_type": "markdown",
   "metadata": {},
   "source": []
  },
  {
   "cell_type": "markdown",
   "metadata": {},
   "source": []
  },
  {
   "cell_type": "markdown",
   "metadata": {},
   "source": []
  },
  {
   "cell_type": "markdown",
   "metadata": {},
   "source": [
    "# B3:JUSTIFICATION\n",
    "---\n",
    "The justification addresses why the chosen method of analysis was selected. The justified technique is one of the three listed in part B1. The technique is sufficient and appropriate for the chosen data set and addresses the question in part A1. "
   ]
  },
  {
   "cell_type": "markdown",
   "metadata": {},
   "source": [
    "### 3.  Justify why you chose this analysis technique.\n",
    "\n"
   ]
  },
  {
   "cell_type": "markdown",
   "metadata": {},
   "source": []
  },
  {
   "cell_type": "markdown",
   "metadata": {},
   "source": []
  },
  {
   "cell_type": "markdown",
   "metadata": {},
   "source": []
  },
  {
   "cell_type": "markdown",
   "metadata": {},
   "source": []
  },
  {
   "cell_type": "markdown",
   "metadata": {},
   "source": []
  },
  {
   "cell_type": "markdown",
   "metadata": {},
   "source": []
  },
  {
   "cell_type": "markdown",
   "metadata": {},
   "source": []
  },
  {
   "cell_type": "markdown",
   "metadata": {},
   "source": [
    "# C:UNIVARIATE STATISTICS\n",
    "---\n",
    "The submission accurately identifies the distribution of 2 continuous and 2 categorical variables using univariate statistics.\n",
    "\n",
    " Identify the distribution of two continuous variables and two categorical variables using univariate statistics from your cleaned and prepared data. "
   ]
  },
  {
   "cell_type": "markdown",
   "metadata": {},
   "source": [
    "Write a small paragraph describing your variables. I listed my as skewed, uniform, binomial etc. I also included the counts of the categorical variables and info like the mean, standard deviation, the min, and max for the continuous variables. It must have worked because they passed me.\n",
    "\n",
    "You may use any of the variables you choose.\n",
    "\n"
   ]
  },
  {
   "cell_type": "markdown",
   "metadata": {},
   "source": []
  },
  {
   "cell_type": "markdown",
   "metadata": {},
   "source": []
  },
  {
   "cell_type": "markdown",
   "metadata": {},
   "source": []
  },
  {
   "cell_type": "markdown",
   "metadata": {},
   "source": []
  },
  {
   "cell_type": "markdown",
   "metadata": {},
   "source": [
    "# C1:VISUAL OF FINDINGS\n",
    "---\n",
    "The submission accurately represents the distribution of the variables in part C."
   ]
  },
  {
   "cell_type": "markdown",
   "metadata": {},
   "source": [
    "### 1. Represent your findings in Part C, visually as part of your submission.\n",
    " \n",
    "\n",
    "Note: To draw a graph or visualization, you may use one or a combination of the following:\n",
    "\n",
    "- A spreadsheet program, such as Excel (*.xls)\n",
    "\n",
    "- A graphics program, such as Paint (*.jpeg, *.gif)\n",
    "\n",
    "- A word-processing program, such as Word (*.rtf) \n",
    "\n",
    "- A scanned hand-drawn graph (*.jpeg, *.gif)\n",
    "\n"
   ]
  },
  {
   "cell_type": "markdown",
   "metadata": {},
   "source": []
  },
  {
   "cell_type": "markdown",
   "metadata": {},
   "source": []
  },
  {
   "cell_type": "markdown",
   "metadata": {},
   "source": []
  },
  {
   "cell_type": "markdown",
   "metadata": {},
   "source": []
  },
  {
   "cell_type": "markdown",
   "metadata": {},
   "source": []
  },
  {
   "cell_type": "markdown",
   "metadata": {},
   "source": []
  },
  {
   "cell_type": "markdown",
   "metadata": {},
   "source": [
    "# D:BIVARIATE STATISTICS\n",
    "---\n",
    "The submission accurately identifies the distribution of 2 continuous and 2 categorical variables using bivariate statistics.\n",
    "\n",
    "Identify the distribution of two continuous variables and two categorical variables using bivariate statistics from your cleaned and prepared data."
   ]
  },
  {
   "cell_type": "markdown",
   "metadata": {},
   "source": [
    "So after reading Ch. 1 of the Practical Statistics book I think I understand better what it's asking for. In this case, the bivariate statistic would be a contingency table.\n",
    "\n",
    "You found your answer, but just to add a few things. Univariate = 1 variable, Bivariate = 2 variables, Multivariate = 3 or more variables. That's all that means. So bivariate statistics would be the stats of 2 variables: Michael and Richard. The distribution would be: 1 Michael and 1 Richard. The next step would be the relationship between Michael and Richard. That's correlation.\n",
    "\n",
    "This is the same as Part C except that you are explaining the relationship between the two variables.\n",
    "\n",
    "Write a small paragraph describing your variables. I listed my as skewed, uniform, binomial etc. I also included the counts of the categorical variables and info like the mean, standard deviation, the min, and max for the continuous variables. It must have worked because they passed me.\n",
    "\n",
    "You may use any of the variables you choose."
   ]
  },
  {
   "cell_type": "markdown",
   "metadata": {},
   "source": []
  },
  {
   "cell_type": "markdown",
   "metadata": {},
   "source": []
  },
  {
   "cell_type": "markdown",
   "metadata": {},
   "source": []
  },
  {
   "cell_type": "markdown",
   "metadata": {},
   "source": []
  },
  {
   "cell_type": "markdown",
   "metadata": {},
   "source": []
  },
  {
   "cell_type": "markdown",
   "metadata": {},
   "source": [
    "# D1:VISUAL OF FINDINGS\n",
    "---\n",
    "The submission accurately represents the distribution of the variables in part D."
   ]
  },
  {
   "cell_type": "markdown",
   "metadata": {},
   "source": [
    "### 1. Represent your findings in Part D, visually as part of your submission.\n",
    " \n",
    "\n",
    "Note: To draw a graph or visualization, you may use one or a combination of the following:\n",
    "\n",
    "- A spreadsheet program, such as Excel (*.xls)\n",
    "\n",
    "- A graphics program, such as Paint (*.jpeg, *.gif)\n",
    "\n",
    "- A word-processing program, such as Word (*.rtf) \n",
    "\n",
    "- A scanned hand-drawn graph (*.jpeg, *.gif)"
   ]
  },
  {
   "cell_type": "markdown",
   "metadata": {},
   "source": []
  },
  {
   "cell_type": "markdown",
   "metadata": {},
   "source": []
  },
  {
   "cell_type": "markdown",
   "metadata": {},
   "source": []
  },
  {
   "cell_type": "markdown",
   "metadata": {},
   "source": []
  },
  {
   "cell_type": "markdown",
   "metadata": {},
   "source": []
  },
  {
   "cell_type": "markdown",
   "metadata": {},
   "source": [
    "# E1:RESULTS OF ANALYSIS\n",
    "---\n",
    "The discussion includes accurate and complete results of the hypothesis test.\n",
    "\n",
    "Summarize the implications of your data analysis by doing the following:"
   ]
  },
  {
   "cell_type": "markdown",
   "metadata": {},
   "source": [
    "### 1.  Discuss the results of the hypothesis test."
   ]
  },
  {
   "cell_type": "markdown",
   "metadata": {},
   "source": []
  },
  {
   "cell_type": "markdown",
   "metadata": {},
   "source": []
  },
  {
   "cell_type": "markdown",
   "metadata": {},
   "source": []
  },
  {
   "cell_type": "markdown",
   "metadata": {},
   "source": []
  },
  {
   "cell_type": "markdown",
   "metadata": {},
   "source": []
  },
  {
   "cell_type": "markdown",
   "metadata": {},
   "source": [
    "# E2:LIMITATIONS OF ANALYSIS\n",
    "---\n",
    "The explanation includes the limitations of the data analysis and does not include limitations that do not apply to the analysis.\n",
    "\n",
    "Summarize the implications of your data analysis by doing the following:"
   ]
  },
  {
   "cell_type": "markdown",
   "metadata": {},
   "source": [
    "### 2.  Discuss the limitations of your data analysis.\n",
    "\n"
   ]
  },
  {
   "cell_type": "markdown",
   "metadata": {},
   "source": []
  },
  {
   "cell_type": "markdown",
   "metadata": {},
   "source": []
  },
  {
   "cell_type": "markdown",
   "metadata": {},
   "source": []
  },
  {
   "cell_type": "markdown",
   "metadata": {},
   "source": []
  },
  {
   "cell_type": "markdown",
   "metadata": {},
   "source": []
  },
  {
   "cell_type": "markdown",
   "metadata": {},
   "source": [
    "# E3:RECOMMENDED COURSE OF ACTION\n",
    "---\n",
    "The recommendation includes both a response to the question from part A1 and specific actions that could be taken in response to the analysis. The recommendation is relevant to the situation and question and would plausibly address the situation and question.\n",
    "\n",
    "Summarize the implications of your data analysis by doing the following:"
   ]
  },
  {
   "cell_type": "markdown",
   "metadata": {},
   "source": [
    "### 3.  Recommend a course of action based on your results.\n"
   ]
  },
  {
   "cell_type": "markdown",
   "metadata": {},
   "source": []
  },
  {
   "cell_type": "markdown",
   "metadata": {},
   "source": []
  },
  {
   "cell_type": "markdown",
   "metadata": {},
   "source": []
  },
  {
   "cell_type": "markdown",
   "metadata": {},
   "source": []
  },
  {
   "cell_type": "markdown",
   "metadata": {},
   "source": []
  },
  {
   "cell_type": "markdown",
   "metadata": {},
   "source": [
    "# F:VIDEO\n",
    "---\n",
    "The submission provides a Panopto video recording that accurately demonstrates the functionality of the code and summarizes the tools used."
   ]
  },
  {
   "cell_type": "markdown",
   "metadata": {},
   "source": [
    "# G:SOURCES FOR THIRD-PARTY CODE\n",
    "---\n",
    "The submission lists all web sources used to acquire third-party code, and the referenced web sources are reliable.\n",
    "\n",
    "Reference the web sources used to acquire segments of third-party code to support the analysis. "
   ]
  },
  {
   "cell_type": "markdown",
   "metadata": {},
   "source": [
    "https://app.datacamp.com/learn/custom-tracks/custom-d207-exploratory-data-analysis"
   ]
  },
  {
   "cell_type": "markdown",
   "metadata": {},
   "source": [
    "# H:SOURCES\n",
    "---\n",
    "The submission includes in-text citations for sources that are properly quoted, paraphrased, or summarized and a reference list that accurately identifies the author, date, title, and source location as available.\n",
    "\n",
    "Acknowledge sources, using in-text citations and references, for content that is quoted, paraphrased, or summarized."
   ]
  },
  {
   "cell_type": "markdown",
   "metadata": {},
   "source": []
  }
 ],
 "metadata": {
  "interpreter": {
   "hash": "56941cacf15e8b05765996006082865469347c2b4cdce983108d1335de8b4245"
  },
  "kernelspec": {
   "display_name": "Python 3.9.7 ('base')",
   "language": "python",
   "name": "python3"
  },
  "language_info": {
   "codemirror_mode": {
    "name": "ipython",
    "version": 3
   },
   "file_extension": ".py",
   "mimetype": "text/x-python",
   "name": "python",
   "nbconvert_exporter": "python",
   "pygments_lexer": "ipython3",
   "version": "3.9.7"
  },
  "orig_nbformat": 4
 },
 "nbformat": 4,
 "nbformat_minor": 2
}
